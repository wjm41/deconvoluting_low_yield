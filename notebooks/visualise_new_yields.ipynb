{
 "cells": [
  {
   "cell_type": "markdown",
   "metadata": {},
   "source": [
    "This notebook is for examining the correlation between ML model predictions and the estimated assay yield"
   ]
  },
  {
   "cell_type": "code",
   "execution_count": 30,
   "metadata": {},
   "outputs": [],
   "source": [
    "import pandas as pd\n",
    "from tqdm import tqdm\n",
    "\n",
    "from rdkit import Chem\n",
    "from rdkit import DataStructs\n",
    "from rdkit.Chem import AllChem\n",
    "\n",
    "import useful_rdkit_utils\n",
    "\n",
    "from IPython.display import display\n",
    "\n",
    "import plotly.express as px"
   ]
  },
  {
   "cell_type": "markdown",
   "metadata": {},
   "source": [
    "Load spreadsheets"
   ]
  },
  {
   "cell_type": "code",
   "execution_count": 31,
   "metadata": {},
   "outputs": [
    {
     "data": {
      "text/html": [
       "<div>\n",
       "<style scoped>\n",
       "    .dataframe tbody tr th:only-of-type {\n",
       "        vertical-align: middle;\n",
       "    }\n",
       "\n",
       "    .dataframe tbody tr th {\n",
       "        vertical-align: top;\n",
       "    }\n",
       "\n",
       "    .dataframe thead th {\n",
       "        text-align: right;\n",
       "    }\n",
       "</style>\n",
       "<table border=\"1\" class=\"dataframe\">\n",
       "  <thead>\n",
       "    <tr style=\"text-align: right;\">\n",
       "      <th></th>\n",
       "      <th>smiles</th>\n",
       "      <th>activity</th>\n",
       "    </tr>\n",
       "  </thead>\n",
       "  <tbody>\n",
       "    <tr>\n",
       "      <th>0</th>\n",
       "      <td>O=C(CN(CC1C(Nc2cncc3ccccc23)=O)Cc(cc2)c1cc2Cl)...</td>\n",
       "      <td>51.8</td>\n",
       "    </tr>\n",
       "    <tr>\n",
       "      <th>1</th>\n",
       "      <td>O=C(CN(CC1C(Nc2cncc3ccccc23)=O)Cc(cc2)c1cc2Cl)...</td>\n",
       "      <td>9.9</td>\n",
       "    </tr>\n",
       "    <tr>\n",
       "      <th>2</th>\n",
       "      <td>O=C(CN(CC1C(Nc2cncc3ccccc23)=O)Cc(cc2)c1cc2Cl)...</td>\n",
       "      <td>9.5</td>\n",
       "    </tr>\n",
       "    <tr>\n",
       "      <th>3</th>\n",
       "      <td>[O-][N+](c(cc1)ccc1NC(CN(CC1C(Nc2cncc3ccccc23)...</td>\n",
       "      <td>83.6</td>\n",
       "    </tr>\n",
       "    <tr>\n",
       "      <th>4</th>\n",
       "      <td>CNC(c(cccc1)c1NC(CN(CC1C(Nc2cncc3ccccc23)=O)Cc...</td>\n",
       "      <td>71.1</td>\n",
       "    </tr>\n",
       "    <tr>\n",
       "      <th>...</th>\n",
       "      <td>...</td>\n",
       "      <td>...</td>\n",
       "    </tr>\n",
       "    <tr>\n",
       "      <th>295</th>\n",
       "      <td>N#Cc(cc1)cc(I)c1NC(CN(CC1C(Nc2cncc3ccccc23)=O)...</td>\n",
       "      <td>84.5</td>\n",
       "    </tr>\n",
       "    <tr>\n",
       "      <th>296</th>\n",
       "      <td>O=C(CN(CC1C(Nc2cncc3ccccc23)=O)Cc(cc2)c1cc2Cl)...</td>\n",
       "      <td>76.5</td>\n",
       "    </tr>\n",
       "    <tr>\n",
       "      <th>297</th>\n",
       "      <td>O=C(CN(CC1C(Nc2cncc3ccccc23)=O)Cc(cc2)c1cc2Cl)...</td>\n",
       "      <td>24.6</td>\n",
       "    </tr>\n",
       "    <tr>\n",
       "      <th>298</th>\n",
       "      <td>Cc1cccc(C)c1NC(CN(CC1)CCN1C(CN(CC1C(Nc2cncc3cc...</td>\n",
       "      <td>65.5</td>\n",
       "    </tr>\n",
       "    <tr>\n",
       "      <th>299</th>\n",
       "      <td>O=C(CN(CC1C(Nc2cncc3ccccc23)=O)Cc(cc2)c1cc2Cl)...</td>\n",
       "      <td>72.3</td>\n",
       "    </tr>\n",
       "  </tbody>\n",
       "</table>\n",
       "<p>300 rows × 2 columns</p>\n",
       "</div>"
      ],
      "text/plain": [
       "                                                smiles  activity\n",
       "0    O=C(CN(CC1C(Nc2cncc3ccccc23)=O)Cc(cc2)c1cc2Cl)...      51.8\n",
       "1    O=C(CN(CC1C(Nc2cncc3ccccc23)=O)Cc(cc2)c1cc2Cl)...       9.9\n",
       "2    O=C(CN(CC1C(Nc2cncc3ccccc23)=O)Cc(cc2)c1cc2Cl)...       9.5\n",
       "3    [O-][N+](c(cc1)ccc1NC(CN(CC1C(Nc2cncc3ccccc23)...      83.6\n",
       "4    CNC(c(cccc1)c1NC(CN(CC1C(Nc2cncc3ccccc23)=O)Cc...      71.1\n",
       "..                                                 ...       ...\n",
       "295  N#Cc(cc1)cc(I)c1NC(CN(CC1C(Nc2cncc3ccccc23)=O)...      84.5\n",
       "296  O=C(CN(CC1C(Nc2cncc3ccccc23)=O)Cc(cc2)c1cc2Cl)...      76.5\n",
       "297  O=C(CN(CC1C(Nc2cncc3ccccc23)=O)Cc(cc2)c1cc2Cl)...      24.6\n",
       "298  Cc1cccc(C)c1NC(CN(CC1)CCN1C(CN(CC1C(Nc2cncc3cc...      65.5\n",
       "299  O=C(CN(CC1C(Nc2cncc3ccccc23)=O)Cc(cc2)c1cc2Cl)...      72.3\n",
       "\n",
       "[300 rows x 2 columns]"
      ]
     },
     "metadata": {},
     "output_type": "display_data"
    },
    {
     "data": {
      "text/html": [
       "<div>\n",
       "<style scoped>\n",
       "    .dataframe tbody tr th:only-of-type {\n",
       "        vertical-align: middle;\n",
       "    }\n",
       "\n",
       "    .dataframe tbody tr th {\n",
       "        vertical-align: top;\n",
       "    }\n",
       "\n",
       "    .dataframe thead th {\n",
       "        text-align: right;\n",
       "    }\n",
       "</style>\n",
       "<table border=\"1\" class=\"dataframe\">\n",
       "  <thead>\n",
       "    <tr style=\"text-align: right;\">\n",
       "      <th></th>\n",
       "      <th>Well</th>\n",
       "      <th>HOAt</th>\n",
       "      <th>Acid</th>\n",
       "      <th>P</th>\n",
       "      <th>random stuff</th>\n",
       "      <th>comment</th>\n",
       "      <th>yield</th>\n",
       "      <th>Plate Well</th>\n",
       "      <th>smiles</th>\n",
       "    </tr>\n",
       "  </thead>\n",
       "  <tbody>\n",
       "    <tr>\n",
       "      <th>0</th>\n",
       "      <td>A1</td>\n",
       "      <td>36</td>\n",
       "      <td>35.0</td>\n",
       "      <td>0.0</td>\n",
       "      <td>29</td>\n",
       "      <td>NaN</td>\n",
       "      <td>0%</td>\n",
       "      <td>A1</td>\n",
       "      <td>O=C(CN(CC1C(Nc2cncc3ccccc23)=O)Cc(cc2)c1cc2Cl)...</td>\n",
       "    </tr>\n",
       "    <tr>\n",
       "      <th>1</th>\n",
       "      <td>A2</td>\n",
       "      <td>45</td>\n",
       "      <td>17.0</td>\n",
       "      <td>20.0</td>\n",
       "      <td>18</td>\n",
       "      <td>NaN</td>\n",
       "      <td>36%</td>\n",
       "      <td>A10</td>\n",
       "      <td>O=C(CN(CC1C(Nc2cncc3ccccc23)=O)Cc(cc2)c1cc2Cl)...</td>\n",
       "    </tr>\n",
       "    <tr>\n",
       "      <th>2</th>\n",
       "      <td>A3</td>\n",
       "      <td>45</td>\n",
       "      <td>42.0</td>\n",
       "      <td>0.0</td>\n",
       "      <td>13</td>\n",
       "      <td>NaN</td>\n",
       "      <td>0%</td>\n",
       "      <td>A11</td>\n",
       "      <td>N#Cc(ccc(NC(CN(CC1C(Nc2cncc3ccccc23)=O)Cc(cc2)...</td>\n",
       "    </tr>\n",
       "    <tr>\n",
       "      <th>3</th>\n",
       "      <td>A4</td>\n",
       "      <td>35</td>\n",
       "      <td>29.0</td>\n",
       "      <td>32.0</td>\n",
       "      <td>4</td>\n",
       "      <td>NaN</td>\n",
       "      <td>49%</td>\n",
       "      <td>A12</td>\n",
       "      <td>CCN(CC1)CCN1c(cc1)ccc1NC(CN(CC1C(Nc2cncc3ccccc...</td>\n",
       "    </tr>\n",
       "    <tr>\n",
       "      <th>4</th>\n",
       "      <td>A5</td>\n",
       "      <td>46</td>\n",
       "      <td>0.0</td>\n",
       "      <td>49.0</td>\n",
       "      <td>5</td>\n",
       "      <td>NaN</td>\n",
       "      <td>91%</td>\n",
       "      <td>A13</td>\n",
       "      <td>CCN(CC)S(c(cc1)ccc1NC(CN(CC1C(Nc2cncc3ccccc23)...</td>\n",
       "    </tr>\n",
       "    <tr>\n",
       "      <th>...</th>\n",
       "      <td>...</td>\n",
       "      <td>...</td>\n",
       "      <td>...</td>\n",
       "      <td>...</td>\n",
       "      <td>...</td>\n",
       "      <td>...</td>\n",
       "      <td>...</td>\n",
       "      <td>...</td>\n",
       "      <td>...</td>\n",
       "    </tr>\n",
       "    <tr>\n",
       "      <th>295</th>\n",
       "      <td>P14</td>\n",
       "      <td>40</td>\n",
       "      <td>36.0</td>\n",
       "      <td>0.0</td>\n",
       "      <td>24</td>\n",
       "      <td>NaN</td>\n",
       "      <td>0%</td>\n",
       "      <td>P5</td>\n",
       "      <td>COc1cccc(CCNC(CN(CC2C(Nc3cncc4ccccc34)=O)Cc(cc...</td>\n",
       "    </tr>\n",
       "    <tr>\n",
       "      <th>296</th>\n",
       "      <td>P15</td>\n",
       "      <td>42</td>\n",
       "      <td>38.0</td>\n",
       "      <td>1.0</td>\n",
       "      <td>19</td>\n",
       "      <td>amine</td>\n",
       "      <td>2%</td>\n",
       "      <td>P6</td>\n",
       "      <td>O=C(CN(CC1C(Nc2cncc3ccccc23)=O)Cc(cc2)c1cc2Cl)...</td>\n",
       "    </tr>\n",
       "    <tr>\n",
       "      <th>297</th>\n",
       "      <td>P16</td>\n",
       "      <td>27</td>\n",
       "      <td>2.0</td>\n",
       "      <td>0.0</td>\n",
       "      <td>71</td>\n",
       "      <td>amine</td>\n",
       "      <td>0%</td>\n",
       "      <td>P7</td>\n",
       "      <td>O=C(CN(CC1C(Nc2cncc3ccccc23)=O)Cc(cc2)c1cc2Cl)...</td>\n",
       "    </tr>\n",
       "    <tr>\n",
       "      <th>298</th>\n",
       "      <td>P17</td>\n",
       "      <td>56</td>\n",
       "      <td>0.0</td>\n",
       "      <td>41.0</td>\n",
       "      <td>3</td>\n",
       "      <td>NaN</td>\n",
       "      <td>93%</td>\n",
       "      <td>P8</td>\n",
       "      <td>O=C(CN(CC1C(Nc2cncc3ccccc23)=O)Cc(cc2)c1cc2Cl)...</td>\n",
       "    </tr>\n",
       "    <tr>\n",
       "      <th>299</th>\n",
       "      <td>P18</td>\n",
       "      <td>42</td>\n",
       "      <td>37.0</td>\n",
       "      <td>1.0</td>\n",
       "      <td>20</td>\n",
       "      <td>amine</td>\n",
       "      <td>2%</td>\n",
       "      <td>P9</td>\n",
       "      <td>O=C(CN(CC1C(Nc2cncc3ccccc23)=O)Cc(cc2)c1cc2Cl)...</td>\n",
       "    </tr>\n",
       "  </tbody>\n",
       "</table>\n",
       "<p>300 rows × 9 columns</p>\n",
       "</div>"
      ],
      "text/plain": [
       "    Well  HOAt  Acid     P  random stuff comment yield Plate Well  \\\n",
       "0     A1    36  35.0   0.0            29     NaN    0%         A1   \n",
       "1     A2    45  17.0  20.0            18     NaN   36%        A10   \n",
       "2     A3    45  42.0   0.0            13     NaN    0%        A11   \n",
       "3     A4    35  29.0  32.0             4     NaN   49%        A12   \n",
       "4     A5    46   0.0  49.0             5     NaN   91%        A13   \n",
       "..   ...   ...   ...   ...           ...     ...   ...        ...   \n",
       "295  P14    40  36.0   0.0            24     NaN    0%         P5   \n",
       "296  P15    42  38.0   1.0            19   amine    2%         P6   \n",
       "297  P16    27   2.0   0.0            71   amine    0%         P7   \n",
       "298  P17    56   0.0  41.0             3     NaN   93%         P8   \n",
       "299  P18    42  37.0   1.0            20   amine    2%         P9   \n",
       "\n",
       "                                                smiles  \n",
       "0    O=C(CN(CC1C(Nc2cncc3ccccc23)=O)Cc(cc2)c1cc2Cl)...  \n",
       "1    O=C(CN(CC1C(Nc2cncc3ccccc23)=O)Cc(cc2)c1cc2Cl)...  \n",
       "2    N#Cc(ccc(NC(CN(CC1C(Nc2cncc3ccccc23)=O)Cc(cc2)...  \n",
       "3    CCN(CC1)CCN1c(cc1)ccc1NC(CN(CC1C(Nc2cncc3ccccc...  \n",
       "4    CCN(CC)S(c(cc1)ccc1NC(CN(CC1C(Nc2cncc3ccccc23)...  \n",
       "..                                                 ...  \n",
       "295  COc1cccc(CCNC(CN(CC2C(Nc3cncc4ccccc34)=O)Cc(cc...  \n",
       "296  O=C(CN(CC1C(Nc2cncc3ccccc23)=O)Cc(cc2)c1cc2Cl)...  \n",
       "297  O=C(CN(CC1C(Nc2cncc3ccccc23)=O)Cc(cc2)c1cc2Cl)...  \n",
       "298  O=C(CN(CC1C(Nc2cncc3ccccc23)=O)Cc(cc2)c1cc2Cl)...  \n",
       "299  O=C(CN(CC1C(Nc2cncc3ccccc23)=O)Cc(cc2)c1cc2Cl)...  \n",
       "\n",
       "[300 rows x 9 columns]"
      ]
     },
     "metadata": {},
     "output_type": "display_data"
    }
   ],
   "source": [
    "activity_df = pd.read_csv(\n",
    "    '../data/raw/activity.csv', usecols=['SMILES y', 'mean_corr_activity']).rename(columns={'SMILES y': 'smiles', 'mean_corr_activity': 'activity'})\n",
    "\n",
    "yield_df = pd.read_csv('../data/raw/yield.csv').rename(columns={'SMILES': 'smiles'})\n",
    "# added column titles by hand - comment, yield and Plate Well instead of Well\n",
    "\n",
    "display(activity_df)\n",
    "display(yield_df)"
   ]
  },
  {
   "cell_type": "markdown",
   "metadata": {},
   "source": [
    "Check SMILES merge"
   ]
  },
  {
   "cell_type": "markdown",
   "metadata": {},
   "source": [
    "Merge dataframes and align plate well values"
   ]
  },
  {
   "cell_type": "code",
   "execution_count": 32,
   "metadata": {},
   "outputs": [
    {
     "name": "stderr",
     "output_type": "stream",
     "text": [
      "/var/folders/f3/214cr8kd1_n76ygj86svh4nh0000gn/T/ipykernel_65489/2816453509.py:6: SettingWithCopyWarning:\n",
      "\n",
      "\n",
      "A value is trying to be set on a copy of a slice from a DataFrame.\n",
      "Try using .loc[row_indexer,col_indexer] = value instead\n",
      "\n",
      "See the caveats in the documentation: https://pandas.pydata.org/pandas-docs/stable/user_guide/indexing.html#returning-a-view-versus-a-copy\n",
      "\n"
     ]
    },
    {
     "name": "stderr",
     "output_type": "stream",
     "text": [
      "/var/folders/f3/214cr8kd1_n76ygj86svh4nh0000gn/T/ipykernel_65489/2816453509.py:8: SettingWithCopyWarning:\n",
      "\n",
      "\n",
      "A value is trying to be set on a copy of a slice from a DataFrame.\n",
      "Try using .loc[row_indexer,col_indexer] = value instead\n",
      "\n",
      "See the caveats in the documentation: https://pandas.pydata.org/pandas-docs/stable/user_guide/indexing.html#returning-a-view-versus-a-copy\n",
      "\n"
     ]
    },
    {
     "data": {
      "text/html": [
       "<div>\n",
       "<style scoped>\n",
       "    .dataframe tbody tr th:only-of-type {\n",
       "        vertical-align: middle;\n",
       "    }\n",
       "\n",
       "    .dataframe tbody tr th {\n",
       "        vertical-align: top;\n",
       "    }\n",
       "\n",
       "    .dataframe thead th {\n",
       "        text-align: right;\n",
       "    }\n",
       "</style>\n",
       "<table border=\"1\" class=\"dataframe\">\n",
       "  <thead>\n",
       "    <tr style=\"text-align: right;\">\n",
       "      <th></th>\n",
       "      <th>smiles</th>\n",
       "      <th>Plate Well</th>\n",
       "      <th>activity</th>\n",
       "      <th>yield (%)</th>\n",
       "      <th>Inhibition (%)</th>\n",
       "    </tr>\n",
       "  </thead>\n",
       "  <tbody>\n",
       "    <tr>\n",
       "      <th>0</th>\n",
       "      <td>O=C(CN(CC1C(Nc2cncc3ccccc23)=O)Cc(cc2)c1cc2Cl)...</td>\n",
       "      <td>K19</td>\n",
       "      <td>51.8</td>\n",
       "      <td>96.0</td>\n",
       "      <td>48.2</td>\n",
       "    </tr>\n",
       "    <tr>\n",
       "      <th>1</th>\n",
       "      <td>O=C(CN(CC1C(Nc2cncc3ccccc23)=O)Cc(cc2)c1cc2Cl)...</td>\n",
       "      <td>J19</td>\n",
       "      <td>9.9</td>\n",
       "      <td>100.0</td>\n",
       "      <td>90.1</td>\n",
       "    </tr>\n",
       "    <tr>\n",
       "      <th>2</th>\n",
       "      <td>O=C(CN(CC1C(Nc2cncc3ccccc23)=O)Cc(cc2)c1cc2Cl)...</td>\n",
       "      <td>I19</td>\n",
       "      <td>9.5</td>\n",
       "      <td>93.0</td>\n",
       "      <td>90.5</td>\n",
       "    </tr>\n",
       "    <tr>\n",
       "      <th>3</th>\n",
       "      <td>[O-][N+](c(cc1)ccc1NC(CN(CC1C(Nc2cncc3ccccc23)...</td>\n",
       "      <td>L19</td>\n",
       "      <td>83.6</td>\n",
       "      <td>0.0</td>\n",
       "      <td>16.4</td>\n",
       "    </tr>\n",
       "    <tr>\n",
       "      <th>4</th>\n",
       "      <td>CNC(c(cccc1)c1NC(CN(CC1C(Nc2cncc3ccccc23)=O)Cc...</td>\n",
       "      <td>P11</td>\n",
       "      <td>71.1</td>\n",
       "      <td>0.0</td>\n",
       "      <td>28.9</td>\n",
       "    </tr>\n",
       "    <tr>\n",
       "      <th>...</th>\n",
       "      <td>...</td>\n",
       "      <td>...</td>\n",
       "      <td>...</td>\n",
       "      <td>...</td>\n",
       "      <td>...</td>\n",
       "    </tr>\n",
       "    <tr>\n",
       "      <th>295</th>\n",
       "      <td>N#Cc(cc1)cc(I)c1NC(CN(CC1C(Nc2cncc3ccccc23)=O)...</td>\n",
       "      <td>L11</td>\n",
       "      <td>84.5</td>\n",
       "      <td>0.0</td>\n",
       "      <td>15.5</td>\n",
       "    </tr>\n",
       "    <tr>\n",
       "      <th>296</th>\n",
       "      <td>O=C(CN(CC1C(Nc2cncc3ccccc23)=O)Cc(cc2)c1cc2Cl)...</td>\n",
       "      <td>P7</td>\n",
       "      <td>76.5</td>\n",
       "      <td>100.0</td>\n",
       "      <td>23.5</td>\n",
       "    </tr>\n",
       "    <tr>\n",
       "      <th>297</th>\n",
       "      <td>O=C(CN(CC1C(Nc2cncc3ccccc23)=O)Cc(cc2)c1cc2Cl)...</td>\n",
       "      <td>H10</td>\n",
       "      <td>24.6</td>\n",
       "      <td>98.0</td>\n",
       "      <td>75.4</td>\n",
       "    </tr>\n",
       "    <tr>\n",
       "      <th>298</th>\n",
       "      <td>Cc1cccc(C)c1NC(CN(CC1)CCN1C(CN(CC1C(Nc2cncc3cc...</td>\n",
       "      <td>H6</td>\n",
       "      <td>65.5</td>\n",
       "      <td>100.0</td>\n",
       "      <td>34.5</td>\n",
       "    </tr>\n",
       "    <tr>\n",
       "      <th>299</th>\n",
       "      <td>O=C(CN(CC1C(Nc2cncc3ccccc23)=O)Cc(cc2)c1cc2Cl)...</td>\n",
       "      <td>A7</td>\n",
       "      <td>72.3</td>\n",
       "      <td>88.0</td>\n",
       "      <td>27.7</td>\n",
       "    </tr>\n",
       "  </tbody>\n",
       "</table>\n",
       "<p>300 rows × 5 columns</p>\n",
       "</div>"
      ],
      "text/plain": [
       "                                                smiles Plate Well  activity  \\\n",
       "0    O=C(CN(CC1C(Nc2cncc3ccccc23)=O)Cc(cc2)c1cc2Cl)...        K19      51.8   \n",
       "1    O=C(CN(CC1C(Nc2cncc3ccccc23)=O)Cc(cc2)c1cc2Cl)...        J19       9.9   \n",
       "2    O=C(CN(CC1C(Nc2cncc3ccccc23)=O)Cc(cc2)c1cc2Cl)...        I19       9.5   \n",
       "3    [O-][N+](c(cc1)ccc1NC(CN(CC1C(Nc2cncc3ccccc23)...        L19      83.6   \n",
       "4    CNC(c(cccc1)c1NC(CN(CC1C(Nc2cncc3ccccc23)=O)Cc...        P11      71.1   \n",
       "..                                                 ...        ...       ...   \n",
       "295  N#Cc(cc1)cc(I)c1NC(CN(CC1C(Nc2cncc3ccccc23)=O)...        L11      84.5   \n",
       "296  O=C(CN(CC1C(Nc2cncc3ccccc23)=O)Cc(cc2)c1cc2Cl)...         P7      76.5   \n",
       "297  O=C(CN(CC1C(Nc2cncc3ccccc23)=O)Cc(cc2)c1cc2Cl)...        H10      24.6   \n",
       "298  Cc1cccc(C)c1NC(CN(CC1)CCN1C(CN(CC1C(Nc2cncc3cc...         H6      65.5   \n",
       "299  O=C(CN(CC1C(Nc2cncc3ccccc23)=O)Cc(cc2)c1cc2Cl)...         A7      72.3   \n",
       "\n",
       "     yield (%)  Inhibition (%)  \n",
       "0         96.0            48.2  \n",
       "1        100.0            90.1  \n",
       "2         93.0            90.5  \n",
       "3          0.0            16.4  \n",
       "4          0.0            28.9  \n",
       "..         ...             ...  \n",
       "295        0.0            15.5  \n",
       "296      100.0            23.5  \n",
       "297       98.0            75.4  \n",
       "298      100.0            34.5  \n",
       "299       88.0            27.7  \n",
       "\n",
       "[300 rows x 5 columns]"
      ]
     },
     "metadata": {},
     "output_type": "display_data"
    }
   ],
   "source": [
    "merged_df = activity_df.merge(yield_df, on='smiles')\n",
    "\n",
    "df_with_yield = merged_df[['smiles', 'Plate Well', 'activity']]\n",
    "for i, row in df_with_yield.iterrows():\n",
    "    yield_slice = merged_df.query(\"Well == @row['Plate Well']\").copy()\n",
    "    df_with_yield.loc[i, 'yield (%)'] = yield_slice['yield'].str.rstrip('%').astype(float).values[0]\n",
    "\n",
    "df_with_yield['Inhibition (%)'] = 100 - df_with_yield['activity']\n",
    "display(df_with_yield)"
   ]
  },
  {
   "cell_type": "markdown",
   "metadata": {},
   "source": [
    "Visualise Yields"
   ]
  },
  {
   "cell_type": "code",
   "execution_count": 33,
   "metadata": {},
   "outputs": [
    {
     "data": {
      "application/vnd.plotly.v1+json": {
       "config": {
        "plotlyServerURL": "https://plot.ly"
       },
       "data": [
        {
         "hovertemplate": "Measured Inihibition (%)=%{x}<br>Measured Yield (%)=%{y}<extra></extra>",
         "legendgroup": "",
         "marker": {
          "color": "#1F77B4",
          "symbol": "circle"
         },
         "mode": "markers",
         "name": "",
         "orientation": "v",
         "showlegend": false,
         "type": "scatter",
         "x": [
          48.2,
          90.1,
          90.5,
          16.400000000000006,
          28.900000000000006,
          95.2,
          84.8,
          20.799999999999997,
          74.4,
          85.4,
          75.4,
          73.8,
          84.2,
          76.4,
          86.2,
          75.2,
          15.400000000000006,
          87.3,
          16.799999999999997,
          20.5,
          17.400000000000006,
          20.900000000000006,
          18.299999999999997,
          55.9,
          84.1,
          94.4,
          17.099999999999994,
          60.8,
          26.599999999999994,
          27.799999999999997,
          35.5,
          15.700000000000003,
          41.4,
          12.299999999999997,
          19.099999999999994,
          66.3,
          58.9,
          26.5,
          18.5,
          21.799999999999997,
          75.4,
          72.5,
          54.9,
          80.6,
          80.3,
          30.299999999999997,
          17.900000000000006,
          82.4,
          64.9,
          23.099999999999994,
          19.099999999999994,
          78.4,
          40.5,
          16.400000000000006,
          15,
          16.200000000000003,
          20.200000000000003,
          86.7,
          52.6,
          16.099999999999994,
          16.900000000000006,
          15.5,
          18.400000000000006,
          19.299999999999997,
          17.599999999999994,
          17.700000000000003,
          22.200000000000003,
          17.799999999999997,
          20,
          31.200000000000003,
          21.5,
          38.1,
          81.3,
          18.799999999999997,
          66.4,
          90.5,
          80.9,
          96.4,
          19.5,
          19.400000000000006,
          54,
          20.200000000000003,
          28.5,
          20,
          34.2,
          28,
          69.5,
          50.3,
          59.2,
          52.8,
          58.7,
          88,
          33.5,
          14.099999999999994,
          40.3,
          37.3,
          27.900000000000006,
          22.299999999999997,
          19.599999999999994,
          34.900000000000006,
          21.299999999999997,
          14.299999999999997,
          17.799999999999997,
          20.599999999999994,
          17.700000000000003,
          38,
          83.5,
          13.5,
          18.900000000000006,
          90.1,
          31.299999999999997,
          22.400000000000006,
          36.7,
          33.8,
          88.3,
          15.900000000000006,
          71.7,
          25.5,
          28.599999999999994,
          28.5,
          61.5,
          55.3,
          68.8,
          16.400000000000006,
          36.3,
          79.5,
          25.900000000000006,
          75.2,
          27,
          18,
          13.799999999999997,
          53.8,
          16,
          62.2,
          19.400000000000006,
          16.299999999999997,
          26,
          83,
          58.7,
          20.700000000000003,
          80.2,
          45.6,
          68.7,
          85,
          78.4,
          20.900000000000006,
          17.599999999999994,
          16,
          60.1,
          92,
          49.7,
          41.1,
          24.200000000000003,
          88.3,
          27.5,
          79.8,
          25.599999999999994,
          28.599999999999994,
          17.799999999999997,
          20.299999999999997,
          58.4,
          53,
          22.400000000000006,
          19,
          46.4,
          82.1,
          87.3,
          33.5,
          38.5,
          16.900000000000006,
          77.1,
          20.200000000000003,
          87.6,
          84.7,
          76.2,
          64.9,
          51.6,
          13.5,
          16.700000000000003,
          56.5,
          74.9,
          36.2,
          24.5,
          22.599999999999994,
          35.5,
          91.4,
          20.299999999999997,
          80.2,
          41.2,
          27.599999999999994,
          33.599999999999994,
          19.099999999999994,
          55.7,
          16.5,
          17.400000000000006,
          65.9,
          34.599999999999994,
          15,
          39.2,
          58,
          30.5,
          40.5,
          14.099999999999994,
          52.6,
          94.8,
          21.099999999999994,
          41.1,
          32.2,
          35.400000000000006,
          76.1,
          19.700000000000003,
          32.900000000000006,
          29.900000000000006,
          45.2,
          21.299999999999997,
          79.3,
          15.099999999999994,
          18,
          83.4,
          81.3,
          22.700000000000003,
          29.299999999999997,
          97.4,
          17,
          17.5,
          19.799999999999997,
          17.5,
          23,
          32.5,
          65.1,
          18.5,
          18.099999999999994,
          16.400000000000006,
          20.400000000000006,
          16.200000000000003,
          14.799999999999997,
          19.5,
          19,
          22.299999999999997,
          33.7,
          15.299999999999997,
          91.6,
          33.2,
          65.9,
          21.700000000000003,
          14.799999999999997,
          12.200000000000003,
          14.799999999999997,
          22.900000000000006,
          24.200000000000003,
          22.200000000000003,
          86.8,
          25.900000000000006,
          15.5,
          16.599999999999994,
          18.900000000000006,
          15.200000000000003,
          63.9,
          49.1,
          36.8,
          18.400000000000006,
          20.200000000000003,
          12,
          15.599999999999994,
          20.900000000000006,
          13.799999999999997,
          12.5,
          17.599999999999994,
          16.700000000000003,
          21.799999999999997,
          49.2,
          26.700000000000003,
          22.200000000000003,
          13,
          16.5,
          24.799999999999997,
          15.5,
          28.900000000000006,
          65.2,
          35.599999999999994,
          83.8,
          15.200000000000003,
          19.400000000000006,
          20.299999999999997,
          24.700000000000003,
          31.700000000000003,
          19.299999999999997,
          21,
          21.099999999999994,
          19.900000000000006,
          20.299999999999997,
          18.799999999999997,
          20.200000000000003,
          12.599999999999994,
          24.299999999999997,
          15.5,
          23.5,
          75.4,
          34.5,
          27.700000000000003
         ],
         "xaxis": "x",
         "y": [
          96,
          100,
          93,
          0,
          0,
          82,
          85,
          0,
          70,
          98,
          96,
          98,
          100,
          94,
          98,
          14,
          100,
          0,
          0,
          0,
          0,
          0,
          0,
          100,
          0,
          100,
          96,
          100,
          0,
          45,
          92,
          0,
          89,
          0,
          0,
          100,
          0,
          0,
          0,
          22,
          94,
          18,
          0,
          93,
          72,
          100,
          0,
          0,
          0,
          94,
          85,
          2,
          90,
          0,
          0,
          100,
          0,
          0,
          0,
          0,
          0,
          0,
          0,
          0,
          31,
          0,
          95,
          1,
          0,
          89,
          0,
          93,
          100,
          0,
          77,
          89,
          92,
          73,
          41,
          0,
          76,
          2,
          66,
          67,
          54,
          0,
          64,
          100,
          0,
          100,
          83,
          52,
          65,
          0,
          22,
          100,
          100,
          0,
          0,
          5,
          0,
          0,
          0,
          0,
          0,
          49,
          36,
          0,
          0,
          81,
          0,
          84,
          61,
          100,
          100,
          0,
          46,
          10,
          25,
          100,
          0,
          0,
          18,
          0,
          0,
          100,
          4,
          98,
          0,
          0,
          0,
          88,
          24,
          36,
          0,
          0,
          100,
          93,
          59,
          0,
          25,
          61,
          43,
          94,
          100,
          0,
          0,
          0,
          49,
          100,
          61,
          36,
          0,
          94,
          21,
          30,
          0,
          36,
          7,
          45,
          86,
          67,
          0,
          68,
          43,
          100,
          91,
          39,
          32,
          32,
          76,
          35,
          95,
          100,
          100,
          50,
          67,
          0,
          0,
          90,
          80,
          18,
          11,
          64,
          93,
          88,
          100,
          100,
          22,
          96,
          71,
          0,
          0,
          0,
          41,
          100,
          42,
          0,
          88,
          66,
          0,
          96,
          75,
          39,
          96,
          0,
          93,
          97,
          97,
          98,
          0,
          37,
          20,
          43,
          0,
          71,
          0,
          0,
          100,
          35,
          0,
          100,
          100,
          0,
          0,
          0,
          0,
          96,
          98,
          100,
          0,
          0,
          0,
          32,
          0,
          0,
          0,
          0,
          0,
          0,
          10,
          91,
          100,
          6,
          63,
          75,
          0,
          0,
          93,
          33,
          5,
          42,
          100,
          0,
          0,
          0,
          0,
          77,
          42,
          24,
          0,
          76,
          85,
          77,
          0,
          0,
          74,
          0,
          34,
          0,
          0,
          0,
          18,
          0,
          0,
          0,
          0,
          0,
          95,
          66,
          68,
          79,
          0,
          5,
          0,
          32,
          4,
          0,
          42,
          3,
          0,
          0,
          0,
          0,
          87,
          0,
          100,
          98,
          100,
          88
         ],
         "yaxis": "y"
        },
        {
         "alignmentgroup": "True",
         "bingroup": "x",
         "hovertemplate": "Measured Inihibition (%)=%{x}<br>count=%{y}<extra></extra>",
         "legendgroup": "",
         "marker": {
          "color": "#1F77B4"
         },
         "name": "",
         "offsetgroup": "",
         "opacity": 0.5,
         "showlegend": false,
         "type": "histogram",
         "x": [
          48.2,
          90.1,
          90.5,
          16.400000000000006,
          28.900000000000006,
          95.2,
          84.8,
          20.799999999999997,
          74.4,
          85.4,
          75.4,
          73.8,
          84.2,
          76.4,
          86.2,
          75.2,
          15.400000000000006,
          87.3,
          16.799999999999997,
          20.5,
          17.400000000000006,
          20.900000000000006,
          18.299999999999997,
          55.9,
          84.1,
          94.4,
          17.099999999999994,
          60.8,
          26.599999999999994,
          27.799999999999997,
          35.5,
          15.700000000000003,
          41.4,
          12.299999999999997,
          19.099999999999994,
          66.3,
          58.9,
          26.5,
          18.5,
          21.799999999999997,
          75.4,
          72.5,
          54.9,
          80.6,
          80.3,
          30.299999999999997,
          17.900000000000006,
          82.4,
          64.9,
          23.099999999999994,
          19.099999999999994,
          78.4,
          40.5,
          16.400000000000006,
          15,
          16.200000000000003,
          20.200000000000003,
          86.7,
          52.6,
          16.099999999999994,
          16.900000000000006,
          15.5,
          18.400000000000006,
          19.299999999999997,
          17.599999999999994,
          17.700000000000003,
          22.200000000000003,
          17.799999999999997,
          20,
          31.200000000000003,
          21.5,
          38.1,
          81.3,
          18.799999999999997,
          66.4,
          90.5,
          80.9,
          96.4,
          19.5,
          19.400000000000006,
          54,
          20.200000000000003,
          28.5,
          20,
          34.2,
          28,
          69.5,
          50.3,
          59.2,
          52.8,
          58.7,
          88,
          33.5,
          14.099999999999994,
          40.3,
          37.3,
          27.900000000000006,
          22.299999999999997,
          19.599999999999994,
          34.900000000000006,
          21.299999999999997,
          14.299999999999997,
          17.799999999999997,
          20.599999999999994,
          17.700000000000003,
          38,
          83.5,
          13.5,
          18.900000000000006,
          90.1,
          31.299999999999997,
          22.400000000000006,
          36.7,
          33.8,
          88.3,
          15.900000000000006,
          71.7,
          25.5,
          28.599999999999994,
          28.5,
          61.5,
          55.3,
          68.8,
          16.400000000000006,
          36.3,
          79.5,
          25.900000000000006,
          75.2,
          27,
          18,
          13.799999999999997,
          53.8,
          16,
          62.2,
          19.400000000000006,
          16.299999999999997,
          26,
          83,
          58.7,
          20.700000000000003,
          80.2,
          45.6,
          68.7,
          85,
          78.4,
          20.900000000000006,
          17.599999999999994,
          16,
          60.1,
          92,
          49.7,
          41.1,
          24.200000000000003,
          88.3,
          27.5,
          79.8,
          25.599999999999994,
          28.599999999999994,
          17.799999999999997,
          20.299999999999997,
          58.4,
          53,
          22.400000000000006,
          19,
          46.4,
          82.1,
          87.3,
          33.5,
          38.5,
          16.900000000000006,
          77.1,
          20.200000000000003,
          87.6,
          84.7,
          76.2,
          64.9,
          51.6,
          13.5,
          16.700000000000003,
          56.5,
          74.9,
          36.2,
          24.5,
          22.599999999999994,
          35.5,
          91.4,
          20.299999999999997,
          80.2,
          41.2,
          27.599999999999994,
          33.599999999999994,
          19.099999999999994,
          55.7,
          16.5,
          17.400000000000006,
          65.9,
          34.599999999999994,
          15,
          39.2,
          58,
          30.5,
          40.5,
          14.099999999999994,
          52.6,
          94.8,
          21.099999999999994,
          41.1,
          32.2,
          35.400000000000006,
          76.1,
          19.700000000000003,
          32.900000000000006,
          29.900000000000006,
          45.2,
          21.299999999999997,
          79.3,
          15.099999999999994,
          18,
          83.4,
          81.3,
          22.700000000000003,
          29.299999999999997,
          97.4,
          17,
          17.5,
          19.799999999999997,
          17.5,
          23,
          32.5,
          65.1,
          18.5,
          18.099999999999994,
          16.400000000000006,
          20.400000000000006,
          16.200000000000003,
          14.799999999999997,
          19.5,
          19,
          22.299999999999997,
          33.7,
          15.299999999999997,
          91.6,
          33.2,
          65.9,
          21.700000000000003,
          14.799999999999997,
          12.200000000000003,
          14.799999999999997,
          22.900000000000006,
          24.200000000000003,
          22.200000000000003,
          86.8,
          25.900000000000006,
          15.5,
          16.599999999999994,
          18.900000000000006,
          15.200000000000003,
          63.9,
          49.1,
          36.8,
          18.400000000000006,
          20.200000000000003,
          12,
          15.599999999999994,
          20.900000000000006,
          13.799999999999997,
          12.5,
          17.599999999999994,
          16.700000000000003,
          21.799999999999997,
          49.2,
          26.700000000000003,
          22.200000000000003,
          13,
          16.5,
          24.799999999999997,
          15.5,
          28.900000000000006,
          65.2,
          35.599999999999994,
          83.8,
          15.200000000000003,
          19.400000000000006,
          20.299999999999997,
          24.700000000000003,
          31.700000000000003,
          19.299999999999997,
          21,
          21.099999999999994,
          19.900000000000006,
          20.299999999999997,
          18.799999999999997,
          20.200000000000003,
          12.599999999999994,
          24.299999999999997,
          15.5,
          23.5,
          75.4,
          34.5,
          27.700000000000003
         ],
         "xaxis": "x3",
         "yaxis": "y3"
        },
        {
         "alignmentgroup": "True",
         "bingroup": "y",
         "hovertemplate": "Measured Yield (%)=%{y}<br>count=%{x}<extra></extra>",
         "legendgroup": "",
         "marker": {
          "color": "#1F77B4"
         },
         "name": "",
         "offsetgroup": "",
         "opacity": 0.5,
         "showlegend": false,
         "type": "histogram",
         "xaxis": "x2",
         "y": [
          96,
          100,
          93,
          0,
          0,
          82,
          85,
          0,
          70,
          98,
          96,
          98,
          100,
          94,
          98,
          14,
          100,
          0,
          0,
          0,
          0,
          0,
          0,
          100,
          0,
          100,
          96,
          100,
          0,
          45,
          92,
          0,
          89,
          0,
          0,
          100,
          0,
          0,
          0,
          22,
          94,
          18,
          0,
          93,
          72,
          100,
          0,
          0,
          0,
          94,
          85,
          2,
          90,
          0,
          0,
          100,
          0,
          0,
          0,
          0,
          0,
          0,
          0,
          0,
          31,
          0,
          95,
          1,
          0,
          89,
          0,
          93,
          100,
          0,
          77,
          89,
          92,
          73,
          41,
          0,
          76,
          2,
          66,
          67,
          54,
          0,
          64,
          100,
          0,
          100,
          83,
          52,
          65,
          0,
          22,
          100,
          100,
          0,
          0,
          5,
          0,
          0,
          0,
          0,
          0,
          49,
          36,
          0,
          0,
          81,
          0,
          84,
          61,
          100,
          100,
          0,
          46,
          10,
          25,
          100,
          0,
          0,
          18,
          0,
          0,
          100,
          4,
          98,
          0,
          0,
          0,
          88,
          24,
          36,
          0,
          0,
          100,
          93,
          59,
          0,
          25,
          61,
          43,
          94,
          100,
          0,
          0,
          0,
          49,
          100,
          61,
          36,
          0,
          94,
          21,
          30,
          0,
          36,
          7,
          45,
          86,
          67,
          0,
          68,
          43,
          100,
          91,
          39,
          32,
          32,
          76,
          35,
          95,
          100,
          100,
          50,
          67,
          0,
          0,
          90,
          80,
          18,
          11,
          64,
          93,
          88,
          100,
          100,
          22,
          96,
          71,
          0,
          0,
          0,
          41,
          100,
          42,
          0,
          88,
          66,
          0,
          96,
          75,
          39,
          96,
          0,
          93,
          97,
          97,
          98,
          0,
          37,
          20,
          43,
          0,
          71,
          0,
          0,
          100,
          35,
          0,
          100,
          100,
          0,
          0,
          0,
          0,
          96,
          98,
          100,
          0,
          0,
          0,
          32,
          0,
          0,
          0,
          0,
          0,
          0,
          10,
          91,
          100,
          6,
          63,
          75,
          0,
          0,
          93,
          33,
          5,
          42,
          100,
          0,
          0,
          0,
          0,
          77,
          42,
          24,
          0,
          76,
          85,
          77,
          0,
          0,
          74,
          0,
          34,
          0,
          0,
          0,
          18,
          0,
          0,
          0,
          0,
          0,
          95,
          66,
          68,
          79,
          0,
          5,
          0,
          32,
          4,
          0,
          42,
          3,
          0,
          0,
          0,
          0,
          87,
          0,
          100,
          98,
          100,
          88
         ],
         "yaxis": "y2"
        }
       ],
       "layout": {
        "barmode": "overlay",
        "height": 800,
        "legend": {
         "tracegroupgap": 0
        },
        "template": {
         "data": {
          "bar": [
           {
            "error_x": {
             "color": "rgb(36,36,36)"
            },
            "error_y": {
             "color": "rgb(36,36,36)"
            },
            "marker": {
             "line": {
              "color": "white",
              "width": 0.5
             },
             "pattern": {
              "fillmode": "overlay",
              "size": 10,
              "solidity": 0.2
             }
            },
            "type": "bar"
           }
          ],
          "barpolar": [
           {
            "marker": {
             "line": {
              "color": "white",
              "width": 0.5
             },
             "pattern": {
              "fillmode": "overlay",
              "size": 10,
              "solidity": 0.2
             }
            },
            "type": "barpolar"
           }
          ],
          "carpet": [
           {
            "aaxis": {
             "endlinecolor": "rgb(36,36,36)",
             "gridcolor": "white",
             "linecolor": "white",
             "minorgridcolor": "white",
             "startlinecolor": "rgb(36,36,36)"
            },
            "baxis": {
             "endlinecolor": "rgb(36,36,36)",
             "gridcolor": "white",
             "linecolor": "white",
             "minorgridcolor": "white",
             "startlinecolor": "rgb(36,36,36)"
            },
            "type": "carpet"
           }
          ],
          "choropleth": [
           {
            "colorbar": {
             "outlinewidth": 1,
             "tickcolor": "rgb(36,36,36)",
             "ticks": "outside"
            },
            "type": "choropleth"
           }
          ],
          "contour": [
           {
            "colorbar": {
             "outlinewidth": 1,
             "tickcolor": "rgb(36,36,36)",
             "ticks": "outside"
            },
            "colorscale": [
             [
              0,
              "#440154"
             ],
             [
              0.1111111111111111,
              "#482878"
             ],
             [
              0.2222222222222222,
              "#3e4989"
             ],
             [
              0.3333333333333333,
              "#31688e"
             ],
             [
              0.4444444444444444,
              "#26828e"
             ],
             [
              0.5555555555555556,
              "#1f9e89"
             ],
             [
              0.6666666666666666,
              "#35b779"
             ],
             [
              0.7777777777777778,
              "#6ece58"
             ],
             [
              0.8888888888888888,
              "#b5de2b"
             ],
             [
              1,
              "#fde725"
             ]
            ],
            "type": "contour"
           }
          ],
          "contourcarpet": [
           {
            "colorbar": {
             "outlinewidth": 1,
             "tickcolor": "rgb(36,36,36)",
             "ticks": "outside"
            },
            "type": "contourcarpet"
           }
          ],
          "heatmap": [
           {
            "colorbar": {
             "outlinewidth": 1,
             "tickcolor": "rgb(36,36,36)",
             "ticks": "outside"
            },
            "colorscale": [
             [
              0,
              "#440154"
             ],
             [
              0.1111111111111111,
              "#482878"
             ],
             [
              0.2222222222222222,
              "#3e4989"
             ],
             [
              0.3333333333333333,
              "#31688e"
             ],
             [
              0.4444444444444444,
              "#26828e"
             ],
             [
              0.5555555555555556,
              "#1f9e89"
             ],
             [
              0.6666666666666666,
              "#35b779"
             ],
             [
              0.7777777777777778,
              "#6ece58"
             ],
             [
              0.8888888888888888,
              "#b5de2b"
             ],
             [
              1,
              "#fde725"
             ]
            ],
            "type": "heatmap"
           }
          ],
          "heatmapgl": [
           {
            "colorbar": {
             "outlinewidth": 1,
             "tickcolor": "rgb(36,36,36)",
             "ticks": "outside"
            },
            "colorscale": [
             [
              0,
              "#440154"
             ],
             [
              0.1111111111111111,
              "#482878"
             ],
             [
              0.2222222222222222,
              "#3e4989"
             ],
             [
              0.3333333333333333,
              "#31688e"
             ],
             [
              0.4444444444444444,
              "#26828e"
             ],
             [
              0.5555555555555556,
              "#1f9e89"
             ],
             [
              0.6666666666666666,
              "#35b779"
             ],
             [
              0.7777777777777778,
              "#6ece58"
             ],
             [
              0.8888888888888888,
              "#b5de2b"
             ],
             [
              1,
              "#fde725"
             ]
            ],
            "type": "heatmapgl"
           }
          ],
          "histogram": [
           {
            "marker": {
             "line": {
              "color": "white",
              "width": 0.6
             }
            },
            "type": "histogram"
           }
          ],
          "histogram2d": [
           {
            "colorbar": {
             "outlinewidth": 1,
             "tickcolor": "rgb(36,36,36)",
             "ticks": "outside"
            },
            "colorscale": [
             [
              0,
              "#440154"
             ],
             [
              0.1111111111111111,
              "#482878"
             ],
             [
              0.2222222222222222,
              "#3e4989"
             ],
             [
              0.3333333333333333,
              "#31688e"
             ],
             [
              0.4444444444444444,
              "#26828e"
             ],
             [
              0.5555555555555556,
              "#1f9e89"
             ],
             [
              0.6666666666666666,
              "#35b779"
             ],
             [
              0.7777777777777778,
              "#6ece58"
             ],
             [
              0.8888888888888888,
              "#b5de2b"
             ],
             [
              1,
              "#fde725"
             ]
            ],
            "type": "histogram2d"
           }
          ],
          "histogram2dcontour": [
           {
            "colorbar": {
             "outlinewidth": 1,
             "tickcolor": "rgb(36,36,36)",
             "ticks": "outside"
            },
            "colorscale": [
             [
              0,
              "#440154"
             ],
             [
              0.1111111111111111,
              "#482878"
             ],
             [
              0.2222222222222222,
              "#3e4989"
             ],
             [
              0.3333333333333333,
              "#31688e"
             ],
             [
              0.4444444444444444,
              "#26828e"
             ],
             [
              0.5555555555555556,
              "#1f9e89"
             ],
             [
              0.6666666666666666,
              "#35b779"
             ],
             [
              0.7777777777777778,
              "#6ece58"
             ],
             [
              0.8888888888888888,
              "#b5de2b"
             ],
             [
              1,
              "#fde725"
             ]
            ],
            "type": "histogram2dcontour"
           }
          ],
          "mesh3d": [
           {
            "colorbar": {
             "outlinewidth": 1,
             "tickcolor": "rgb(36,36,36)",
             "ticks": "outside"
            },
            "type": "mesh3d"
           }
          ],
          "parcoords": [
           {
            "line": {
             "colorbar": {
              "outlinewidth": 1,
              "tickcolor": "rgb(36,36,36)",
              "ticks": "outside"
             }
            },
            "type": "parcoords"
           }
          ],
          "pie": [
           {
            "automargin": true,
            "type": "pie"
           }
          ],
          "scatter": [
           {
            "fillpattern": {
             "fillmode": "overlay",
             "size": 10,
             "solidity": 0.2
            },
            "type": "scatter"
           }
          ],
          "scatter3d": [
           {
            "line": {
             "colorbar": {
              "outlinewidth": 1,
              "tickcolor": "rgb(36,36,36)",
              "ticks": "outside"
             }
            },
            "marker": {
             "colorbar": {
              "outlinewidth": 1,
              "tickcolor": "rgb(36,36,36)",
              "ticks": "outside"
             }
            },
            "type": "scatter3d"
           }
          ],
          "scattercarpet": [
           {
            "marker": {
             "colorbar": {
              "outlinewidth": 1,
              "tickcolor": "rgb(36,36,36)",
              "ticks": "outside"
             }
            },
            "type": "scattercarpet"
           }
          ],
          "scattergeo": [
           {
            "marker": {
             "colorbar": {
              "outlinewidth": 1,
              "tickcolor": "rgb(36,36,36)",
              "ticks": "outside"
             }
            },
            "type": "scattergeo"
           }
          ],
          "scattergl": [
           {
            "marker": {
             "colorbar": {
              "outlinewidth": 1,
              "tickcolor": "rgb(36,36,36)",
              "ticks": "outside"
             }
            },
            "type": "scattergl"
           }
          ],
          "scattermapbox": [
           {
            "marker": {
             "colorbar": {
              "outlinewidth": 1,
              "tickcolor": "rgb(36,36,36)",
              "ticks": "outside"
             }
            },
            "type": "scattermapbox"
           }
          ],
          "scatterpolar": [
           {
            "marker": {
             "colorbar": {
              "outlinewidth": 1,
              "tickcolor": "rgb(36,36,36)",
              "ticks": "outside"
             }
            },
            "type": "scatterpolar"
           }
          ],
          "scatterpolargl": [
           {
            "marker": {
             "colorbar": {
              "outlinewidth": 1,
              "tickcolor": "rgb(36,36,36)",
              "ticks": "outside"
             }
            },
            "type": "scatterpolargl"
           }
          ],
          "scatterternary": [
           {
            "marker": {
             "colorbar": {
              "outlinewidth": 1,
              "tickcolor": "rgb(36,36,36)",
              "ticks": "outside"
             }
            },
            "type": "scatterternary"
           }
          ],
          "surface": [
           {
            "colorbar": {
             "outlinewidth": 1,
             "tickcolor": "rgb(36,36,36)",
             "ticks": "outside"
            },
            "colorscale": [
             [
              0,
              "#440154"
             ],
             [
              0.1111111111111111,
              "#482878"
             ],
             [
              0.2222222222222222,
              "#3e4989"
             ],
             [
              0.3333333333333333,
              "#31688e"
             ],
             [
              0.4444444444444444,
              "#26828e"
             ],
             [
              0.5555555555555556,
              "#1f9e89"
             ],
             [
              0.6666666666666666,
              "#35b779"
             ],
             [
              0.7777777777777778,
              "#6ece58"
             ],
             [
              0.8888888888888888,
              "#b5de2b"
             ],
             [
              1,
              "#fde725"
             ]
            ],
            "type": "surface"
           }
          ],
          "table": [
           {
            "cells": {
             "fill": {
              "color": "rgb(237,237,237)"
             },
             "line": {
              "color": "white"
             }
            },
            "header": {
             "fill": {
              "color": "rgb(217,217,217)"
             },
             "line": {
              "color": "white"
             }
            },
            "type": "table"
           }
          ]
         },
         "layout": {
          "annotationdefaults": {
           "arrowhead": 0,
           "arrowwidth": 1
          },
          "autotypenumbers": "strict",
          "coloraxis": {
           "colorbar": {
            "outlinewidth": 1,
            "tickcolor": "rgb(36,36,36)",
            "ticks": "outside"
           }
          },
          "colorscale": {
           "diverging": [
            [
             0,
             "rgb(103,0,31)"
            ],
            [
             0.1,
             "rgb(178,24,43)"
            ],
            [
             0.2,
             "rgb(214,96,77)"
            ],
            [
             0.3,
             "rgb(244,165,130)"
            ],
            [
             0.4,
             "rgb(253,219,199)"
            ],
            [
             0.5,
             "rgb(247,247,247)"
            ],
            [
             0.6,
             "rgb(209,229,240)"
            ],
            [
             0.7,
             "rgb(146,197,222)"
            ],
            [
             0.8,
             "rgb(67,147,195)"
            ],
            [
             0.9,
             "rgb(33,102,172)"
            ],
            [
             1,
             "rgb(5,48,97)"
            ]
           ],
           "sequential": [
            [
             0,
             "#440154"
            ],
            [
             0.1111111111111111,
             "#482878"
            ],
            [
             0.2222222222222222,
             "#3e4989"
            ],
            [
             0.3333333333333333,
             "#31688e"
            ],
            [
             0.4444444444444444,
             "#26828e"
            ],
            [
             0.5555555555555556,
             "#1f9e89"
            ],
            [
             0.6666666666666666,
             "#35b779"
            ],
            [
             0.7777777777777778,
             "#6ece58"
            ],
            [
             0.8888888888888888,
             "#b5de2b"
            ],
            [
             1,
             "#fde725"
            ]
           ],
           "sequentialminus": [
            [
             0,
             "#440154"
            ],
            [
             0.1111111111111111,
             "#482878"
            ],
            [
             0.2222222222222222,
             "#3e4989"
            ],
            [
             0.3333333333333333,
             "#31688e"
            ],
            [
             0.4444444444444444,
             "#26828e"
            ],
            [
             0.5555555555555556,
             "#1f9e89"
            ],
            [
             0.6666666666666666,
             "#35b779"
            ],
            [
             0.7777777777777778,
             "#6ece58"
            ],
            [
             0.8888888888888888,
             "#b5de2b"
            ],
            [
             1,
             "#fde725"
            ]
           ]
          },
          "colorway": [
           "#1F77B4",
           "#FF7F0E",
           "#2CA02C",
           "#D62728",
           "#9467BD",
           "#8C564B",
           "#E377C2",
           "#7F7F7F",
           "#BCBD22",
           "#17BECF"
          ],
          "font": {
           "color": "rgb(36,36,36)"
          },
          "geo": {
           "bgcolor": "white",
           "lakecolor": "white",
           "landcolor": "white",
           "showlakes": true,
           "showland": true,
           "subunitcolor": "white"
          },
          "hoverlabel": {
           "align": "left"
          },
          "hovermode": "closest",
          "mapbox": {
           "style": "light"
          },
          "paper_bgcolor": "white",
          "plot_bgcolor": "white",
          "polar": {
           "angularaxis": {
            "gridcolor": "rgb(232,232,232)",
            "linecolor": "rgb(36,36,36)",
            "showgrid": false,
            "showline": true,
            "ticks": "outside"
           },
           "bgcolor": "white",
           "radialaxis": {
            "gridcolor": "rgb(232,232,232)",
            "linecolor": "rgb(36,36,36)",
            "showgrid": false,
            "showline": true,
            "ticks": "outside"
           }
          },
          "scene": {
           "xaxis": {
            "backgroundcolor": "white",
            "gridcolor": "rgb(232,232,232)",
            "gridwidth": 2,
            "linecolor": "rgb(36,36,36)",
            "showbackground": true,
            "showgrid": false,
            "showline": true,
            "ticks": "outside",
            "zeroline": false,
            "zerolinecolor": "rgb(36,36,36)"
           },
           "yaxis": {
            "backgroundcolor": "white",
            "gridcolor": "rgb(232,232,232)",
            "gridwidth": 2,
            "linecolor": "rgb(36,36,36)",
            "showbackground": true,
            "showgrid": false,
            "showline": true,
            "ticks": "outside",
            "zeroline": false,
            "zerolinecolor": "rgb(36,36,36)"
           },
           "zaxis": {
            "backgroundcolor": "white",
            "gridcolor": "rgb(232,232,232)",
            "gridwidth": 2,
            "linecolor": "rgb(36,36,36)",
            "showbackground": true,
            "showgrid": false,
            "showline": true,
            "ticks": "outside",
            "zeroline": false,
            "zerolinecolor": "rgb(36,36,36)"
           }
          },
          "shapedefaults": {
           "fillcolor": "black",
           "line": {
            "width": 0
           },
           "opacity": 0.3
          },
          "ternary": {
           "aaxis": {
            "gridcolor": "rgb(232,232,232)",
            "linecolor": "rgb(36,36,36)",
            "showgrid": false,
            "showline": true,
            "ticks": "outside"
           },
           "baxis": {
            "gridcolor": "rgb(232,232,232)",
            "linecolor": "rgb(36,36,36)",
            "showgrid": false,
            "showline": true,
            "ticks": "outside"
           },
           "bgcolor": "white",
           "caxis": {
            "gridcolor": "rgb(232,232,232)",
            "linecolor": "rgb(36,36,36)",
            "showgrid": false,
            "showline": true,
            "ticks": "outside"
           }
          },
          "title": {
           "x": 0.05
          },
          "xaxis": {
           "automargin": true,
           "gridcolor": "rgb(232,232,232)",
           "linecolor": "rgb(36,36,36)",
           "showgrid": false,
           "showline": true,
           "ticks": "outside",
           "title": {
            "standoff": 15
           },
           "zeroline": false,
           "zerolinecolor": "rgb(36,36,36)"
          },
          "yaxis": {
           "automargin": true,
           "gridcolor": "rgb(232,232,232)",
           "linecolor": "rgb(36,36,36)",
           "showgrid": false,
           "showline": true,
           "ticks": "outside",
           "title": {
            "standoff": 15
           },
           "zeroline": false,
           "zerolinecolor": "rgb(36,36,36)"
          }
         }
        },
        "title": {
         "text": "Measured Yield vs Measured Inhibition"
        },
        "width": 1000,
        "xaxis": {
         "anchor": "y",
         "domain": [
          0,
          0.7363
         ],
         "title": {
          "text": "Measured Inihibition (%)"
         }
        },
        "xaxis2": {
         "anchor": "y2",
         "domain": [
          0.7413,
          1
         ],
         "matches": "x2",
         "showline": false,
         "showticklabels": false,
         "ticks": ""
        },
        "xaxis3": {
         "anchor": "y3",
         "domain": [
          0,
          0.7363
         ],
         "matches": "x",
         "showticklabels": false
        },
        "xaxis4": {
         "anchor": "y4",
         "domain": [
          0.7413,
          1
         ],
         "matches": "x2",
         "showline": false,
         "showticklabels": false,
         "ticks": ""
        },
        "yaxis": {
         "anchor": "x",
         "domain": [
          0,
          0.7326
         ],
         "title": {
          "text": "Measured Yield (%)"
         }
        },
        "yaxis2": {
         "anchor": "x2",
         "domain": [
          0,
          0.7326
         ],
         "matches": "y",
         "showticklabels": false
        },
        "yaxis3": {
         "anchor": "x3",
         "domain": [
          0.7426,
          1
         ],
         "matches": "y3",
         "showline": false,
         "showticklabels": false,
         "ticks": ""
        },
        "yaxis4": {
         "anchor": "x4",
         "domain": [
          0.7426,
          1
         ],
         "matches": "y3",
         "showline": false,
         "showticklabels": false,
         "ticks": ""
        }
       }
      },
      "text/html": [
       "<div>                            <div id=\"9c50b768-539c-4e2b-86a2-ae78bce87ee1\" class=\"plotly-graph-div\" style=\"height:800px; width:1000px;\"></div>            <script type=\"text/javascript\">                require([\"plotly\"], function(Plotly) {                    window.PLOTLYENV=window.PLOTLYENV || {};                                    if (document.getElementById(\"9c50b768-539c-4e2b-86a2-ae78bce87ee1\")) {                    Plotly.newPlot(                        \"9c50b768-539c-4e2b-86a2-ae78bce87ee1\",                        [{\"hovertemplate\":\"Measured Inihibition (%)=%{x}\\u003cbr\\u003eMeasured Yield (%)=%{y}\\u003cextra\\u003e\\u003c\\u002fextra\\u003e\",\"legendgroup\":\"\",\"marker\":{\"color\":\"#1F77B4\",\"symbol\":\"circle\"},\"mode\":\"markers\",\"name\":\"\",\"orientation\":\"v\",\"showlegend\":false,\"x\":[48.2,90.1,90.5,16.400000000000006,28.900000000000006,95.2,84.8,20.799999999999997,74.4,85.4,75.4,73.8,84.2,76.4,86.2,75.2,15.400000000000006,87.3,16.799999999999997,20.5,17.400000000000006,20.900000000000006,18.299999999999997,55.9,84.1,94.4,17.099999999999994,60.8,26.599999999999994,27.799999999999997,35.5,15.700000000000003,41.4,12.299999999999997,19.099999999999994,66.3,58.9,26.5,18.5,21.799999999999997,75.4,72.5,54.9,80.6,80.3,30.299999999999997,17.900000000000006,82.4,64.9,23.099999999999994,19.099999999999994,78.4,40.5,16.400000000000006,15.0,16.200000000000003,20.200000000000003,86.7,52.6,16.099999999999994,16.900000000000006,15.5,18.400000000000006,19.299999999999997,17.599999999999994,17.700000000000003,22.200000000000003,17.799999999999997,20.0,31.200000000000003,21.5,38.1,81.3,18.799999999999997,66.4,90.5,80.9,96.4,19.5,19.400000000000006,54.0,20.200000000000003,28.5,20.0,34.2,28.0,69.5,50.3,59.2,52.8,58.7,88.0,33.5,14.099999999999994,40.3,37.3,27.900000000000006,22.299999999999997,19.599999999999994,34.900000000000006,21.299999999999997,14.299999999999997,17.799999999999997,20.599999999999994,17.700000000000003,38.0,83.5,13.5,18.900000000000006,90.1,31.299999999999997,22.400000000000006,36.7,33.8,88.3,15.900000000000006,71.7,25.5,28.599999999999994,28.5,61.5,55.3,68.8,16.400000000000006,36.3,79.5,25.900000000000006,75.2,27.0,18.0,13.799999999999997,53.8,16.0,62.2,19.400000000000006,16.299999999999997,26.0,83.0,58.7,20.700000000000003,80.2,45.6,68.7,85.0,78.4,20.900000000000006,17.599999999999994,16.0,60.1,92.0,49.7,41.1,24.200000000000003,88.3,27.5,79.8,25.599999999999994,28.599999999999994,17.799999999999997,20.299999999999997,58.4,53.0,22.400000000000006,19.0,46.4,82.1,87.3,33.5,38.5,16.900000000000006,77.1,20.200000000000003,87.6,84.7,76.2,64.9,51.6,13.5,16.700000000000003,56.5,74.9,36.2,24.5,22.599999999999994,35.5,91.4,20.299999999999997,80.2,41.2,27.599999999999994,33.599999999999994,19.099999999999994,55.7,16.5,17.400000000000006,65.9,34.599999999999994,15.0,39.2,58.0,30.5,40.5,14.099999999999994,52.6,94.8,21.099999999999994,41.1,32.2,35.400000000000006,76.1,19.700000000000003,32.900000000000006,29.900000000000006,45.2,21.299999999999997,79.3,15.099999999999994,18.0,83.4,81.3,22.700000000000003,29.299999999999997,97.4,17.0,17.5,19.799999999999997,17.5,23.0,32.5,65.1,18.5,18.099999999999994,16.400000000000006,20.400000000000006,16.200000000000003,14.799999999999997,19.5,19.0,22.299999999999997,33.7,15.299999999999997,91.6,33.2,65.9,21.700000000000003,14.799999999999997,12.200000000000003,14.799999999999997,22.900000000000006,24.200000000000003,22.200000000000003,86.8,25.900000000000006,15.5,16.599999999999994,18.900000000000006,15.200000000000003,63.9,49.1,36.8,18.400000000000006,20.200000000000003,12.0,15.599999999999994,20.900000000000006,13.799999999999997,12.5,17.599999999999994,16.700000000000003,21.799999999999997,49.2,26.700000000000003,22.200000000000003,13.0,16.5,24.799999999999997,15.5,28.900000000000006,65.2,35.599999999999994,83.8,15.200000000000003,19.400000000000006,20.299999999999997,24.700000000000003,31.700000000000003,19.299999999999997,21.0,21.099999999999994,19.900000000000006,20.299999999999997,18.799999999999997,20.200000000000003,12.599999999999994,24.299999999999997,15.5,23.5,75.4,34.5,27.700000000000003],\"xaxis\":\"x\",\"y\":[96.0,100.0,93.0,0.0,0.0,82.0,85.0,0.0,70.0,98.0,96.0,98.0,100.0,94.0,98.0,14.0,100.0,0.0,0.0,0.0,0.0,0.0,0.0,100.0,0.0,100.0,96.0,100.0,0.0,45.0,92.0,0.0,89.0,0.0,0.0,100.0,0.0,0.0,0.0,22.0,94.0,18.0,0.0,93.0,72.0,100.0,0.0,0.0,0.0,94.0,85.0,2.0,90.0,0.0,0.0,100.0,0.0,0.0,0.0,0.0,0.0,0.0,0.0,0.0,31.0,0.0,95.0,1.0,0.0,89.0,0.0,93.0,100.0,0.0,77.0,89.0,92.0,73.0,41.0,0.0,76.0,2.0,66.0,67.0,54.0,0.0,64.0,100.0,0.0,100.0,83.0,52.0,65.0,0.0,22.0,100.0,100.0,0.0,0.0,5.0,0.0,0.0,0.0,0.0,0.0,49.0,36.0,0.0,0.0,81.0,0.0,84.0,61.0,100.0,100.0,0.0,46.0,10.0,25.0,100.0,0.0,0.0,18.0,0.0,0.0,100.0,4.0,98.0,0.0,0.0,0.0,88.0,24.0,36.0,0.0,0.0,100.0,93.0,59.0,0.0,25.0,61.0,43.0,94.0,100.0,0.0,0.0,0.0,49.0,100.0,61.0,36.0,0.0,94.0,21.0,30.0,0.0,36.0,7.0,45.0,86.0,67.0,0.0,68.0,43.0,100.0,91.0,39.0,32.0,32.0,76.0,35.0,95.0,100.0,100.0,50.0,67.0,0.0,0.0,90.0,80.0,18.0,11.0,64.0,93.0,88.0,100.0,100.0,22.0,96.0,71.0,0.0,0.0,0.0,41.0,100.0,42.0,0.0,88.0,66.0,0.0,96.0,75.0,39.0,96.0,0.0,93.0,97.0,97.0,98.0,0.0,37.0,20.0,43.0,0.0,71.0,0.0,0.0,100.0,35.0,0.0,100.0,100.0,0.0,0.0,0.0,0.0,96.0,98.0,100.0,0.0,0.0,0.0,32.0,0.0,0.0,0.0,0.0,0.0,0.0,10.0,91.0,100.0,6.0,63.0,75.0,0.0,0.0,93.0,33.0,5.0,42.0,100.0,0.0,0.0,0.0,0.0,77.0,42.0,24.0,0.0,76.0,85.0,77.0,0.0,0.0,74.0,0.0,34.0,0.0,0.0,0.0,18.0,0.0,0.0,0.0,0.0,0.0,95.0,66.0,68.0,79.0,0.0,5.0,0.0,32.0,4.0,0.0,42.0,3.0,0.0,0.0,0.0,0.0,87.0,0.0,100.0,98.0,100.0,88.0],\"yaxis\":\"y\",\"type\":\"scatter\"},{\"alignmentgroup\":\"True\",\"bingroup\":\"x\",\"hovertemplate\":\"Measured Inihibition (%)=%{x}\\u003cbr\\u003ecount=%{y}\\u003cextra\\u003e\\u003c\\u002fextra\\u003e\",\"legendgroup\":\"\",\"marker\":{\"color\":\"#1F77B4\"},\"name\":\"\",\"offsetgroup\":\"\",\"opacity\":0.5,\"showlegend\":false,\"x\":[48.2,90.1,90.5,16.400000000000006,28.900000000000006,95.2,84.8,20.799999999999997,74.4,85.4,75.4,73.8,84.2,76.4,86.2,75.2,15.400000000000006,87.3,16.799999999999997,20.5,17.400000000000006,20.900000000000006,18.299999999999997,55.9,84.1,94.4,17.099999999999994,60.8,26.599999999999994,27.799999999999997,35.5,15.700000000000003,41.4,12.299999999999997,19.099999999999994,66.3,58.9,26.5,18.5,21.799999999999997,75.4,72.5,54.9,80.6,80.3,30.299999999999997,17.900000000000006,82.4,64.9,23.099999999999994,19.099999999999994,78.4,40.5,16.400000000000006,15.0,16.200000000000003,20.200000000000003,86.7,52.6,16.099999999999994,16.900000000000006,15.5,18.400000000000006,19.299999999999997,17.599999999999994,17.700000000000003,22.200000000000003,17.799999999999997,20.0,31.200000000000003,21.5,38.1,81.3,18.799999999999997,66.4,90.5,80.9,96.4,19.5,19.400000000000006,54.0,20.200000000000003,28.5,20.0,34.2,28.0,69.5,50.3,59.2,52.8,58.7,88.0,33.5,14.099999999999994,40.3,37.3,27.900000000000006,22.299999999999997,19.599999999999994,34.900000000000006,21.299999999999997,14.299999999999997,17.799999999999997,20.599999999999994,17.700000000000003,38.0,83.5,13.5,18.900000000000006,90.1,31.299999999999997,22.400000000000006,36.7,33.8,88.3,15.900000000000006,71.7,25.5,28.599999999999994,28.5,61.5,55.3,68.8,16.400000000000006,36.3,79.5,25.900000000000006,75.2,27.0,18.0,13.799999999999997,53.8,16.0,62.2,19.400000000000006,16.299999999999997,26.0,83.0,58.7,20.700000000000003,80.2,45.6,68.7,85.0,78.4,20.900000000000006,17.599999999999994,16.0,60.1,92.0,49.7,41.1,24.200000000000003,88.3,27.5,79.8,25.599999999999994,28.599999999999994,17.799999999999997,20.299999999999997,58.4,53.0,22.400000000000006,19.0,46.4,82.1,87.3,33.5,38.5,16.900000000000006,77.1,20.200000000000003,87.6,84.7,76.2,64.9,51.6,13.5,16.700000000000003,56.5,74.9,36.2,24.5,22.599999999999994,35.5,91.4,20.299999999999997,80.2,41.2,27.599999999999994,33.599999999999994,19.099999999999994,55.7,16.5,17.400000000000006,65.9,34.599999999999994,15.0,39.2,58.0,30.5,40.5,14.099999999999994,52.6,94.8,21.099999999999994,41.1,32.2,35.400000000000006,76.1,19.700000000000003,32.900000000000006,29.900000000000006,45.2,21.299999999999997,79.3,15.099999999999994,18.0,83.4,81.3,22.700000000000003,29.299999999999997,97.4,17.0,17.5,19.799999999999997,17.5,23.0,32.5,65.1,18.5,18.099999999999994,16.400000000000006,20.400000000000006,16.200000000000003,14.799999999999997,19.5,19.0,22.299999999999997,33.7,15.299999999999997,91.6,33.2,65.9,21.700000000000003,14.799999999999997,12.200000000000003,14.799999999999997,22.900000000000006,24.200000000000003,22.200000000000003,86.8,25.900000000000006,15.5,16.599999999999994,18.900000000000006,15.200000000000003,63.9,49.1,36.8,18.400000000000006,20.200000000000003,12.0,15.599999999999994,20.900000000000006,13.799999999999997,12.5,17.599999999999994,16.700000000000003,21.799999999999997,49.2,26.700000000000003,22.200000000000003,13.0,16.5,24.799999999999997,15.5,28.900000000000006,65.2,35.599999999999994,83.8,15.200000000000003,19.400000000000006,20.299999999999997,24.700000000000003,31.700000000000003,19.299999999999997,21.0,21.099999999999994,19.900000000000006,20.299999999999997,18.799999999999997,20.200000000000003,12.599999999999994,24.299999999999997,15.5,23.5,75.4,34.5,27.700000000000003],\"xaxis\":\"x3\",\"yaxis\":\"y3\",\"type\":\"histogram\"},{\"alignmentgroup\":\"True\",\"bingroup\":\"y\",\"hovertemplate\":\"Measured Yield (%)=%{y}\\u003cbr\\u003ecount=%{x}\\u003cextra\\u003e\\u003c\\u002fextra\\u003e\",\"legendgroup\":\"\",\"marker\":{\"color\":\"#1F77B4\"},\"name\":\"\",\"offsetgroup\":\"\",\"opacity\":0.5,\"showlegend\":false,\"xaxis\":\"x2\",\"y\":[96.0,100.0,93.0,0.0,0.0,82.0,85.0,0.0,70.0,98.0,96.0,98.0,100.0,94.0,98.0,14.0,100.0,0.0,0.0,0.0,0.0,0.0,0.0,100.0,0.0,100.0,96.0,100.0,0.0,45.0,92.0,0.0,89.0,0.0,0.0,100.0,0.0,0.0,0.0,22.0,94.0,18.0,0.0,93.0,72.0,100.0,0.0,0.0,0.0,94.0,85.0,2.0,90.0,0.0,0.0,100.0,0.0,0.0,0.0,0.0,0.0,0.0,0.0,0.0,31.0,0.0,95.0,1.0,0.0,89.0,0.0,93.0,100.0,0.0,77.0,89.0,92.0,73.0,41.0,0.0,76.0,2.0,66.0,67.0,54.0,0.0,64.0,100.0,0.0,100.0,83.0,52.0,65.0,0.0,22.0,100.0,100.0,0.0,0.0,5.0,0.0,0.0,0.0,0.0,0.0,49.0,36.0,0.0,0.0,81.0,0.0,84.0,61.0,100.0,100.0,0.0,46.0,10.0,25.0,100.0,0.0,0.0,18.0,0.0,0.0,100.0,4.0,98.0,0.0,0.0,0.0,88.0,24.0,36.0,0.0,0.0,100.0,93.0,59.0,0.0,25.0,61.0,43.0,94.0,100.0,0.0,0.0,0.0,49.0,100.0,61.0,36.0,0.0,94.0,21.0,30.0,0.0,36.0,7.0,45.0,86.0,67.0,0.0,68.0,43.0,100.0,91.0,39.0,32.0,32.0,76.0,35.0,95.0,100.0,100.0,50.0,67.0,0.0,0.0,90.0,80.0,18.0,11.0,64.0,93.0,88.0,100.0,100.0,22.0,96.0,71.0,0.0,0.0,0.0,41.0,100.0,42.0,0.0,88.0,66.0,0.0,96.0,75.0,39.0,96.0,0.0,93.0,97.0,97.0,98.0,0.0,37.0,20.0,43.0,0.0,71.0,0.0,0.0,100.0,35.0,0.0,100.0,100.0,0.0,0.0,0.0,0.0,96.0,98.0,100.0,0.0,0.0,0.0,32.0,0.0,0.0,0.0,0.0,0.0,0.0,10.0,91.0,100.0,6.0,63.0,75.0,0.0,0.0,93.0,33.0,5.0,42.0,100.0,0.0,0.0,0.0,0.0,77.0,42.0,24.0,0.0,76.0,85.0,77.0,0.0,0.0,74.0,0.0,34.0,0.0,0.0,0.0,18.0,0.0,0.0,0.0,0.0,0.0,95.0,66.0,68.0,79.0,0.0,5.0,0.0,32.0,4.0,0.0,42.0,3.0,0.0,0.0,0.0,0.0,87.0,0.0,100.0,98.0,100.0,88.0],\"yaxis\":\"y2\",\"type\":\"histogram\"}],                        {\"template\":{\"data\":{\"barpolar\":[{\"marker\":{\"line\":{\"color\":\"white\",\"width\":0.5},\"pattern\":{\"fillmode\":\"overlay\",\"size\":10,\"solidity\":0.2}},\"type\":\"barpolar\"}],\"bar\":[{\"error_x\":{\"color\":\"rgb(36,36,36)\"},\"error_y\":{\"color\":\"rgb(36,36,36)\"},\"marker\":{\"line\":{\"color\":\"white\",\"width\":0.5},\"pattern\":{\"fillmode\":\"overlay\",\"size\":10,\"solidity\":0.2}},\"type\":\"bar\"}],\"carpet\":[{\"aaxis\":{\"endlinecolor\":\"rgb(36,36,36)\",\"gridcolor\":\"white\",\"linecolor\":\"white\",\"minorgridcolor\":\"white\",\"startlinecolor\":\"rgb(36,36,36)\"},\"baxis\":{\"endlinecolor\":\"rgb(36,36,36)\",\"gridcolor\":\"white\",\"linecolor\":\"white\",\"minorgridcolor\":\"white\",\"startlinecolor\":\"rgb(36,36,36)\"},\"type\":\"carpet\"}],\"choropleth\":[{\"colorbar\":{\"outlinewidth\":1,\"tickcolor\":\"rgb(36,36,36)\",\"ticks\":\"outside\"},\"type\":\"choropleth\"}],\"contourcarpet\":[{\"colorbar\":{\"outlinewidth\":1,\"tickcolor\":\"rgb(36,36,36)\",\"ticks\":\"outside\"},\"type\":\"contourcarpet\"}],\"contour\":[{\"colorbar\":{\"outlinewidth\":1,\"tickcolor\":\"rgb(36,36,36)\",\"ticks\":\"outside\"},\"colorscale\":[[0.0,\"#440154\"],[0.1111111111111111,\"#482878\"],[0.2222222222222222,\"#3e4989\"],[0.3333333333333333,\"#31688e\"],[0.4444444444444444,\"#26828e\"],[0.5555555555555556,\"#1f9e89\"],[0.6666666666666666,\"#35b779\"],[0.7777777777777778,\"#6ece58\"],[0.8888888888888888,\"#b5de2b\"],[1.0,\"#fde725\"]],\"type\":\"contour\"}],\"heatmapgl\":[{\"colorbar\":{\"outlinewidth\":1,\"tickcolor\":\"rgb(36,36,36)\",\"ticks\":\"outside\"},\"colorscale\":[[0.0,\"#440154\"],[0.1111111111111111,\"#482878\"],[0.2222222222222222,\"#3e4989\"],[0.3333333333333333,\"#31688e\"],[0.4444444444444444,\"#26828e\"],[0.5555555555555556,\"#1f9e89\"],[0.6666666666666666,\"#35b779\"],[0.7777777777777778,\"#6ece58\"],[0.8888888888888888,\"#b5de2b\"],[1.0,\"#fde725\"]],\"type\":\"heatmapgl\"}],\"heatmap\":[{\"colorbar\":{\"outlinewidth\":1,\"tickcolor\":\"rgb(36,36,36)\",\"ticks\":\"outside\"},\"colorscale\":[[0.0,\"#440154\"],[0.1111111111111111,\"#482878\"],[0.2222222222222222,\"#3e4989\"],[0.3333333333333333,\"#31688e\"],[0.4444444444444444,\"#26828e\"],[0.5555555555555556,\"#1f9e89\"],[0.6666666666666666,\"#35b779\"],[0.7777777777777778,\"#6ece58\"],[0.8888888888888888,\"#b5de2b\"],[1.0,\"#fde725\"]],\"type\":\"heatmap\"}],\"histogram2dcontour\":[{\"colorbar\":{\"outlinewidth\":1,\"tickcolor\":\"rgb(36,36,36)\",\"ticks\":\"outside\"},\"colorscale\":[[0.0,\"#440154\"],[0.1111111111111111,\"#482878\"],[0.2222222222222222,\"#3e4989\"],[0.3333333333333333,\"#31688e\"],[0.4444444444444444,\"#26828e\"],[0.5555555555555556,\"#1f9e89\"],[0.6666666666666666,\"#35b779\"],[0.7777777777777778,\"#6ece58\"],[0.8888888888888888,\"#b5de2b\"],[1.0,\"#fde725\"]],\"type\":\"histogram2dcontour\"}],\"histogram2d\":[{\"colorbar\":{\"outlinewidth\":1,\"tickcolor\":\"rgb(36,36,36)\",\"ticks\":\"outside\"},\"colorscale\":[[0.0,\"#440154\"],[0.1111111111111111,\"#482878\"],[0.2222222222222222,\"#3e4989\"],[0.3333333333333333,\"#31688e\"],[0.4444444444444444,\"#26828e\"],[0.5555555555555556,\"#1f9e89\"],[0.6666666666666666,\"#35b779\"],[0.7777777777777778,\"#6ece58\"],[0.8888888888888888,\"#b5de2b\"],[1.0,\"#fde725\"]],\"type\":\"histogram2d\"}],\"histogram\":[{\"marker\":{\"line\":{\"color\":\"white\",\"width\":0.6}},\"type\":\"histogram\"}],\"mesh3d\":[{\"colorbar\":{\"outlinewidth\":1,\"tickcolor\":\"rgb(36,36,36)\",\"ticks\":\"outside\"},\"type\":\"mesh3d\"}],\"parcoords\":[{\"line\":{\"colorbar\":{\"outlinewidth\":1,\"tickcolor\":\"rgb(36,36,36)\",\"ticks\":\"outside\"}},\"type\":\"parcoords\"}],\"pie\":[{\"automargin\":true,\"type\":\"pie\"}],\"scatter3d\":[{\"line\":{\"colorbar\":{\"outlinewidth\":1,\"tickcolor\":\"rgb(36,36,36)\",\"ticks\":\"outside\"}},\"marker\":{\"colorbar\":{\"outlinewidth\":1,\"tickcolor\":\"rgb(36,36,36)\",\"ticks\":\"outside\"}},\"type\":\"scatter3d\"}],\"scattercarpet\":[{\"marker\":{\"colorbar\":{\"outlinewidth\":1,\"tickcolor\":\"rgb(36,36,36)\",\"ticks\":\"outside\"}},\"type\":\"scattercarpet\"}],\"scattergeo\":[{\"marker\":{\"colorbar\":{\"outlinewidth\":1,\"tickcolor\":\"rgb(36,36,36)\",\"ticks\":\"outside\"}},\"type\":\"scattergeo\"}],\"scattergl\":[{\"marker\":{\"colorbar\":{\"outlinewidth\":1,\"tickcolor\":\"rgb(36,36,36)\",\"ticks\":\"outside\"}},\"type\":\"scattergl\"}],\"scattermapbox\":[{\"marker\":{\"colorbar\":{\"outlinewidth\":1,\"tickcolor\":\"rgb(36,36,36)\",\"ticks\":\"outside\"}},\"type\":\"scattermapbox\"}],\"scatterpolargl\":[{\"marker\":{\"colorbar\":{\"outlinewidth\":1,\"tickcolor\":\"rgb(36,36,36)\",\"ticks\":\"outside\"}},\"type\":\"scatterpolargl\"}],\"scatterpolar\":[{\"marker\":{\"colorbar\":{\"outlinewidth\":1,\"tickcolor\":\"rgb(36,36,36)\",\"ticks\":\"outside\"}},\"type\":\"scatterpolar\"}],\"scatter\":[{\"fillpattern\":{\"fillmode\":\"overlay\",\"size\":10,\"solidity\":0.2},\"type\":\"scatter\"}],\"scatterternary\":[{\"marker\":{\"colorbar\":{\"outlinewidth\":1,\"tickcolor\":\"rgb(36,36,36)\",\"ticks\":\"outside\"}},\"type\":\"scatterternary\"}],\"surface\":[{\"colorbar\":{\"outlinewidth\":1,\"tickcolor\":\"rgb(36,36,36)\",\"ticks\":\"outside\"},\"colorscale\":[[0.0,\"#440154\"],[0.1111111111111111,\"#482878\"],[0.2222222222222222,\"#3e4989\"],[0.3333333333333333,\"#31688e\"],[0.4444444444444444,\"#26828e\"],[0.5555555555555556,\"#1f9e89\"],[0.6666666666666666,\"#35b779\"],[0.7777777777777778,\"#6ece58\"],[0.8888888888888888,\"#b5de2b\"],[1.0,\"#fde725\"]],\"type\":\"surface\"}],\"table\":[{\"cells\":{\"fill\":{\"color\":\"rgb(237,237,237)\"},\"line\":{\"color\":\"white\"}},\"header\":{\"fill\":{\"color\":\"rgb(217,217,217)\"},\"line\":{\"color\":\"white\"}},\"type\":\"table\"}]},\"layout\":{\"annotationdefaults\":{\"arrowhead\":0,\"arrowwidth\":1},\"autotypenumbers\":\"strict\",\"coloraxis\":{\"colorbar\":{\"outlinewidth\":1,\"tickcolor\":\"rgb(36,36,36)\",\"ticks\":\"outside\"}},\"colorscale\":{\"diverging\":[[0.0,\"rgb(103,0,31)\"],[0.1,\"rgb(178,24,43)\"],[0.2,\"rgb(214,96,77)\"],[0.3,\"rgb(244,165,130)\"],[0.4,\"rgb(253,219,199)\"],[0.5,\"rgb(247,247,247)\"],[0.6,\"rgb(209,229,240)\"],[0.7,\"rgb(146,197,222)\"],[0.8,\"rgb(67,147,195)\"],[0.9,\"rgb(33,102,172)\"],[1.0,\"rgb(5,48,97)\"]],\"sequential\":[[0.0,\"#440154\"],[0.1111111111111111,\"#482878\"],[0.2222222222222222,\"#3e4989\"],[0.3333333333333333,\"#31688e\"],[0.4444444444444444,\"#26828e\"],[0.5555555555555556,\"#1f9e89\"],[0.6666666666666666,\"#35b779\"],[0.7777777777777778,\"#6ece58\"],[0.8888888888888888,\"#b5de2b\"],[1.0,\"#fde725\"]],\"sequentialminus\":[[0.0,\"#440154\"],[0.1111111111111111,\"#482878\"],[0.2222222222222222,\"#3e4989\"],[0.3333333333333333,\"#31688e\"],[0.4444444444444444,\"#26828e\"],[0.5555555555555556,\"#1f9e89\"],[0.6666666666666666,\"#35b779\"],[0.7777777777777778,\"#6ece58\"],[0.8888888888888888,\"#b5de2b\"],[1.0,\"#fde725\"]]},\"colorway\":[\"#1F77B4\",\"#FF7F0E\",\"#2CA02C\",\"#D62728\",\"#9467BD\",\"#8C564B\",\"#E377C2\",\"#7F7F7F\",\"#BCBD22\",\"#17BECF\"],\"font\":{\"color\":\"rgb(36,36,36)\"},\"geo\":{\"bgcolor\":\"white\",\"lakecolor\":\"white\",\"landcolor\":\"white\",\"showlakes\":true,\"showland\":true,\"subunitcolor\":\"white\"},\"hoverlabel\":{\"align\":\"left\"},\"hovermode\":\"closest\",\"mapbox\":{\"style\":\"light\"},\"paper_bgcolor\":\"white\",\"plot_bgcolor\":\"white\",\"polar\":{\"angularaxis\":{\"gridcolor\":\"rgb(232,232,232)\",\"linecolor\":\"rgb(36,36,36)\",\"showgrid\":false,\"showline\":true,\"ticks\":\"outside\"},\"bgcolor\":\"white\",\"radialaxis\":{\"gridcolor\":\"rgb(232,232,232)\",\"linecolor\":\"rgb(36,36,36)\",\"showgrid\":false,\"showline\":true,\"ticks\":\"outside\"}},\"scene\":{\"xaxis\":{\"backgroundcolor\":\"white\",\"gridcolor\":\"rgb(232,232,232)\",\"gridwidth\":2,\"linecolor\":\"rgb(36,36,36)\",\"showbackground\":true,\"showgrid\":false,\"showline\":true,\"ticks\":\"outside\",\"zeroline\":false,\"zerolinecolor\":\"rgb(36,36,36)\"},\"yaxis\":{\"backgroundcolor\":\"white\",\"gridcolor\":\"rgb(232,232,232)\",\"gridwidth\":2,\"linecolor\":\"rgb(36,36,36)\",\"showbackground\":true,\"showgrid\":false,\"showline\":true,\"ticks\":\"outside\",\"zeroline\":false,\"zerolinecolor\":\"rgb(36,36,36)\"},\"zaxis\":{\"backgroundcolor\":\"white\",\"gridcolor\":\"rgb(232,232,232)\",\"gridwidth\":2,\"linecolor\":\"rgb(36,36,36)\",\"showbackground\":true,\"showgrid\":false,\"showline\":true,\"ticks\":\"outside\",\"zeroline\":false,\"zerolinecolor\":\"rgb(36,36,36)\"}},\"shapedefaults\":{\"fillcolor\":\"black\",\"line\":{\"width\":0},\"opacity\":0.3},\"ternary\":{\"aaxis\":{\"gridcolor\":\"rgb(232,232,232)\",\"linecolor\":\"rgb(36,36,36)\",\"showgrid\":false,\"showline\":true,\"ticks\":\"outside\"},\"baxis\":{\"gridcolor\":\"rgb(232,232,232)\",\"linecolor\":\"rgb(36,36,36)\",\"showgrid\":false,\"showline\":true,\"ticks\":\"outside\"},\"bgcolor\":\"white\",\"caxis\":{\"gridcolor\":\"rgb(232,232,232)\",\"linecolor\":\"rgb(36,36,36)\",\"showgrid\":false,\"showline\":true,\"ticks\":\"outside\"}},\"title\":{\"x\":0.05},\"xaxis\":{\"automargin\":true,\"gridcolor\":\"rgb(232,232,232)\",\"linecolor\":\"rgb(36,36,36)\",\"showgrid\":false,\"showline\":true,\"ticks\":\"outside\",\"title\":{\"standoff\":15},\"zeroline\":false,\"zerolinecolor\":\"rgb(36,36,36)\"},\"yaxis\":{\"automargin\":true,\"gridcolor\":\"rgb(232,232,232)\",\"linecolor\":\"rgb(36,36,36)\",\"showgrid\":false,\"showline\":true,\"ticks\":\"outside\",\"title\":{\"standoff\":15},\"zeroline\":false,\"zerolinecolor\":\"rgb(36,36,36)\"}}},\"xaxis\":{\"anchor\":\"y\",\"domain\":[0.0,0.7363],\"title\":{\"text\":\"Measured Inihibition (%)\"}},\"yaxis\":{\"anchor\":\"x\",\"domain\":[0.0,0.7326],\"title\":{\"text\":\"Measured Yield (%)\"}},\"xaxis2\":{\"anchor\":\"y2\",\"domain\":[0.7413,1.0],\"matches\":\"x2\",\"showticklabels\":false,\"showline\":false,\"ticks\":\"\"},\"yaxis2\":{\"anchor\":\"x2\",\"domain\":[0.0,0.7326],\"matches\":\"y\",\"showticklabels\":false},\"xaxis3\":{\"anchor\":\"y3\",\"domain\":[0.0,0.7363],\"matches\":\"x\",\"showticklabels\":false},\"yaxis3\":{\"anchor\":\"x3\",\"domain\":[0.7426,1.0],\"matches\":\"y3\",\"showticklabels\":false,\"showline\":false,\"ticks\":\"\"},\"xaxis4\":{\"anchor\":\"y4\",\"domain\":[0.7413,1.0],\"matches\":\"x2\",\"showticklabels\":false,\"showline\":false,\"ticks\":\"\"},\"yaxis4\":{\"anchor\":\"x4\",\"domain\":[0.7426,1.0],\"matches\":\"y3\",\"showticklabels\":false,\"showline\":false,\"ticks\":\"\"},\"legend\":{\"tracegroupgap\":0},\"title\":{\"text\":\"Measured Yield vs Measured Inhibition\"},\"height\":800,\"width\":1000,\"barmode\":\"overlay\"},                        {\"responsive\": true}                    ).then(function(){\n",
       "                            \n",
       "var gd = document.getElementById('9c50b768-539c-4e2b-86a2-ae78bce87ee1');\n",
       "var x = new MutationObserver(function (mutations, observer) {{\n",
       "        var display = window.getComputedStyle(gd).display;\n",
       "        if (!display || display === 'none') {{\n",
       "            console.log([gd, 'removed!']);\n",
       "            Plotly.purge(gd);\n",
       "            observer.disconnect();\n",
       "        }}\n",
       "}});\n",
       "\n",
       "// Listen for the removal of the full notebook cells\n",
       "var notebookContainer = gd.closest('#notebook-container');\n",
       "if (notebookContainer) {{\n",
       "    x.observe(notebookContainer, {childList: true});\n",
       "}}\n",
       "\n",
       "// Listen for the clearing of the current output cell\n",
       "var outputEl = gd.closest('.output');\n",
       "if (outputEl) {{\n",
       "    x.observe(outputEl, {childList: true});\n",
       "}}\n",
       "\n",
       "                        })                };                });            </script>        </div>"
      ]
     },
     "metadata": {},
     "output_type": "display_data"
    }
   ],
   "source": [
    "import time\n",
    "\n",
    "px.scatter(df_with_yield,\n",
    "            x='Inhibition (%)',\n",
    "            y='yield (%)',\n",
    "            width=1000,\n",
    "            height=800,\n",
    "            title='Measured Yield vs Measured Inhibition',\n",
    "        labels={\n",
    "            \"yield (%)\": \"Measured Yield (%)\",\n",
    "            \"Inhibition (%)\": \"Measured Inihibition (%)\",\n",
    "        },\n",
    "            marginal_x='histogram',\n",
    "            marginal_y='histogram',\n",
    "            template='simple_white',)"
   ]
  },
  {
   "cell_type": "code",
   "execution_count": 35,
   "metadata": {},
   "outputs": [
    {
     "name": "stdout",
     "output_type": "stream",
     "text": [
      "Spearman correlation between inhibition and yield: 0.572\n"
     ]
    }
   ],
   "source": [
    "from scipy.stats import spearmanr\n",
    "print(f\"Spearman correlation between inhibition and yield: {spearmanr(df_with_yield['Inhibition (%)'], df_with_yield['yield (%)'])[0]:.3f}\")\n"
   ]
  },
  {
   "cell_type": "markdown",
   "metadata": {},
   "source": [
    "Load model predictions"
   ]
  },
  {
   "cell_type": "code",
   "execution_count": 43,
   "metadata": {},
   "outputs": [
    {
     "data": {
      "text/html": [
       "<div>\n",
       "<style scoped>\n",
       "    .dataframe tbody tr th:only-of-type {\n",
       "        vertical-align: middle;\n",
       "    }\n",
       "\n",
       "    .dataframe tbody tr th {\n",
       "        vertical-align: top;\n",
       "    }\n",
       "\n",
       "    .dataframe thead th {\n",
       "        text-align: right;\n",
       "    }\n",
       "</style>\n",
       "<table border=\"1\" class=\"dataframe\">\n",
       "  <thead>\n",
       "    <tr style=\"text-align: right;\">\n",
       "      <th></th>\n",
       "      <th>Molecule Name</th>\n",
       "      <th>SMILES</th>\n",
       "      <th>Measured Inhibition (%)</th>\n",
       "      <th>RF Predicted Inhibition (%)</th>\n",
       "      <th>index</th>\n",
       "      <th>Mean activity (%)</th>\n",
       "      <th>Standard Deviation</th>\n",
       "      <th>Inhibition</th>\n",
       "      <th>amine_rbf_pred</th>\n",
       "      <th>amine_matern_pred</th>\n",
       "      <th>gp_pred</th>\n",
       "      <th>mean_pred</th>\n",
       "    </tr>\n",
       "  </thead>\n",
       "  <tbody>\n",
       "    <tr>\n",
       "      <th>0</th>\n",
       "      <td>PCM-0223662</td>\n",
       "      <td>O=C(CN1Cc2ccc(Cl)cc2C(C(=O)Nc2cncc3ccccc23)C1)...</td>\n",
       "      <td>20.3</td>\n",
       "      <td>20.8332</td>\n",
       "      <td>0</td>\n",
       "      <td>79.7</td>\n",
       "      <td>0.3</td>\n",
       "      <td>20.3</td>\n",
       "      <td>14.775625</td>\n",
       "      <td>20.996022</td>\n",
       "      <td>17.885823</td>\n",
       "      <td>19.359512</td>\n",
       "    </tr>\n",
       "    <tr>\n",
       "      <th>1</th>\n",
       "      <td>PCM-0223661</td>\n",
       "      <td>O=C(CN1Cc2ccc(Cl)cc2C(C(=O)Nc2cncc3ccccc23)C1)...</td>\n",
       "      <td>20.9</td>\n",
       "      <td>20.1806</td>\n",
       "      <td>1</td>\n",
       "      <td>79.1</td>\n",
       "      <td>0.1</td>\n",
       "      <td>20.9</td>\n",
       "      <td>13.198525</td>\n",
       "      <td>20.127207</td>\n",
       "      <td>16.662866</td>\n",
       "      <td>18.421733</td>\n",
       "    </tr>\n",
       "    <tr>\n",
       "      <th>2</th>\n",
       "      <td>PCM-0223659</td>\n",
       "      <td>O=C(NC1CCN(C(=O)CN2Cc3ccc(Cl)cc3C(C(=O)Nc3cncc...</td>\n",
       "      <td>29.3</td>\n",
       "      <td>46.6270</td>\n",
       "      <td>3</td>\n",
       "      <td>70.7</td>\n",
       "      <td>0.3</td>\n",
       "      <td>29.3</td>\n",
       "      <td>33.456602</td>\n",
       "      <td>42.255552</td>\n",
       "      <td>37.856077</td>\n",
       "      <td>42.241538</td>\n",
       "    </tr>\n",
       "    <tr>\n",
       "      <th>3</th>\n",
       "      <td>PCM-0223658</td>\n",
       "      <td>COc1cccc(CCNC(=O)CN2Cc3ccc(Cl)cc3C(C(=O)Nc3cnc...</td>\n",
       "      <td>75.4</td>\n",
       "      <td>85.5704</td>\n",
       "      <td>4</td>\n",
       "      <td>24.6</td>\n",
       "      <td>0.5</td>\n",
       "      <td>75.4</td>\n",
       "      <td>76.218501</td>\n",
       "      <td>71.724706</td>\n",
       "      <td>73.971604</td>\n",
       "      <td>79.771002</td>\n",
       "    </tr>\n",
       "    <tr>\n",
       "      <th>4</th>\n",
       "      <td>PCM-0223657</td>\n",
       "      <td>Cc1nccn1-c1ccc(NC(=O)CN2Cc3ccc(Cl)cc3C(C(=O)Nc...</td>\n",
       "      <td>83.5</td>\n",
       "      <td>61.7364</td>\n",
       "      <td>5</td>\n",
       "      <td>16.5</td>\n",
       "      <td>0.3</td>\n",
       "      <td>83.5</td>\n",
       "      <td>43.946251</td>\n",
       "      <td>43.805654</td>\n",
       "      <td>43.875952</td>\n",
       "      <td>52.806176</td>\n",
       "    </tr>\n",
       "    <tr>\n",
       "      <th>...</th>\n",
       "      <td>...</td>\n",
       "      <td>...</td>\n",
       "      <td>...</td>\n",
       "      <td>...</td>\n",
       "      <td>...</td>\n",
       "      <td>...</td>\n",
       "      <td>...</td>\n",
       "      <td>...</td>\n",
       "      <td>...</td>\n",
       "      <td>...</td>\n",
       "      <td>...</td>\n",
       "      <td>...</td>\n",
       "    </tr>\n",
       "    <tr>\n",
       "      <th>290</th>\n",
       "      <td>PCM-0223367</td>\n",
       "      <td>CCN(CC)S(=O)(=O)c1ccc(NC(=O)CN2Cc3ccc(Cl)cc3C(...</td>\n",
       "      <td>13.0</td>\n",
       "      <td>58.6100</td>\n",
       "      <td>295</td>\n",
       "      <td>87.0</td>\n",
       "      <td>1.3</td>\n",
       "      <td>13.0</td>\n",
       "      <td>21.056010</td>\n",
       "      <td>28.420729</td>\n",
       "      <td>24.738369</td>\n",
       "      <td>41.674185</td>\n",
       "    </tr>\n",
       "    <tr>\n",
       "      <th>291</th>\n",
       "      <td>PCM-0223366</td>\n",
       "      <td>CCN1CCN(c2ccc(NC(=O)CN3Cc4ccc(Cl)cc4C(C(=O)Nc4...</td>\n",
       "      <td>97.4</td>\n",
       "      <td>63.3732</td>\n",
       "      <td>296</td>\n",
       "      <td>2.6</td>\n",
       "      <td>0.0</td>\n",
       "      <td>97.4</td>\n",
       "      <td>52.123949</td>\n",
       "      <td>48.901551</td>\n",
       "      <td>50.512750</td>\n",
       "      <td>56.942975</td>\n",
       "    </tr>\n",
       "    <tr>\n",
       "      <th>292</th>\n",
       "      <td>PCM-0223365</td>\n",
       "      <td>N#Cc1ccc(NC(=O)CN2Cc3ccc(Cl)cc3C(C(=O)Nc3cncc4...</td>\n",
       "      <td>17.4</td>\n",
       "      <td>31.6198</td>\n",
       "      <td>297</td>\n",
       "      <td>82.6</td>\n",
       "      <td>0.7</td>\n",
       "      <td>17.4</td>\n",
       "      <td>39.623642</td>\n",
       "      <td>37.806144</td>\n",
       "      <td>38.714893</td>\n",
       "      <td>35.167346</td>\n",
       "    </tr>\n",
       "    <tr>\n",
       "      <th>293</th>\n",
       "      <td>PCM-0223364</td>\n",
       "      <td>O=C(CN1Cc2ccc(Cl)cc2C(C(=O)Nc2cncc3ccccc23)C1)...</td>\n",
       "      <td>86.7</td>\n",
       "      <td>19.4728</td>\n",
       "      <td>298</td>\n",
       "      <td>13.3</td>\n",
       "      <td>0.2</td>\n",
       "      <td>86.7</td>\n",
       "      <td>19.741368</td>\n",
       "      <td>22.250994</td>\n",
       "      <td>20.996181</td>\n",
       "      <td>20.234490</td>\n",
       "    </tr>\n",
       "    <tr>\n",
       "      <th>294</th>\n",
       "      <td>PCM-0223363</td>\n",
       "      <td>O=C(CN1Cc2ccc(Cl)cc2C(C(=O)Nc2cncc3ccccc23)C1)...</td>\n",
       "      <td>13.8</td>\n",
       "      <td>27.9360</td>\n",
       "      <td>299</td>\n",
       "      <td>86.2</td>\n",
       "      <td>0.1</td>\n",
       "      <td>13.8</td>\n",
       "      <td>21.210317</td>\n",
       "      <td>27.367584</td>\n",
       "      <td>24.288951</td>\n",
       "      <td>26.112475</td>\n",
       "    </tr>\n",
       "  </tbody>\n",
       "</table>\n",
       "<p>295 rows × 12 columns</p>\n",
       "</div>"
      ],
      "text/plain": [
       "    Molecule Name                                             SMILES  \\\n",
       "0     PCM-0223662  O=C(CN1Cc2ccc(Cl)cc2C(C(=O)Nc2cncc3ccccc23)C1)...   \n",
       "1     PCM-0223661  O=C(CN1Cc2ccc(Cl)cc2C(C(=O)Nc2cncc3ccccc23)C1)...   \n",
       "2     PCM-0223659  O=C(NC1CCN(C(=O)CN2Cc3ccc(Cl)cc3C(C(=O)Nc3cncc...   \n",
       "3     PCM-0223658  COc1cccc(CCNC(=O)CN2Cc3ccc(Cl)cc3C(C(=O)Nc3cnc...   \n",
       "4     PCM-0223657  Cc1nccn1-c1ccc(NC(=O)CN2Cc3ccc(Cl)cc3C(C(=O)Nc...   \n",
       "..            ...                                                ...   \n",
       "290   PCM-0223367  CCN(CC)S(=O)(=O)c1ccc(NC(=O)CN2Cc3ccc(Cl)cc3C(...   \n",
       "291   PCM-0223366  CCN1CCN(c2ccc(NC(=O)CN3Cc4ccc(Cl)cc4C(C(=O)Nc4...   \n",
       "292   PCM-0223365  N#Cc1ccc(NC(=O)CN2Cc3ccc(Cl)cc3C(C(=O)Nc3cncc4...   \n",
       "293   PCM-0223364  O=C(CN1Cc2ccc(Cl)cc2C(C(=O)Nc2cncc3ccccc23)C1)...   \n",
       "294   PCM-0223363  O=C(CN1Cc2ccc(Cl)cc2C(C(=O)Nc2cncc3ccccc23)C1)...   \n",
       "\n",
       "     Measured Inhibition (%)  RF Predicted Inhibition (%)  index  \\\n",
       "0                       20.3                      20.8332      0   \n",
       "1                       20.9                      20.1806      1   \n",
       "2                       29.3                      46.6270      3   \n",
       "3                       75.4                      85.5704      4   \n",
       "4                       83.5                      61.7364      5   \n",
       "..                       ...                          ...    ...   \n",
       "290                     13.0                      58.6100    295   \n",
       "291                     97.4                      63.3732    296   \n",
       "292                     17.4                      31.6198    297   \n",
       "293                     86.7                      19.4728    298   \n",
       "294                     13.8                      27.9360    299   \n",
       "\n",
       "     Mean activity (%)  Standard Deviation  Inhibition  amine_rbf_pred  \\\n",
       "0                 79.7                 0.3        20.3       14.775625   \n",
       "1                 79.1                 0.1        20.9       13.198525   \n",
       "2                 70.7                 0.3        29.3       33.456602   \n",
       "3                 24.6                 0.5        75.4       76.218501   \n",
       "4                 16.5                 0.3        83.5       43.946251   \n",
       "..                 ...                 ...         ...             ...   \n",
       "290               87.0                 1.3        13.0       21.056010   \n",
       "291                2.6                 0.0        97.4       52.123949   \n",
       "292               82.6                 0.7        17.4       39.623642   \n",
       "293               13.3                 0.2        86.7       19.741368   \n",
       "294               86.2                 0.1        13.8       21.210317   \n",
       "\n",
       "     amine_matern_pred    gp_pred  mean_pred  \n",
       "0            20.996022  17.885823  19.359512  \n",
       "1            20.127207  16.662866  18.421733  \n",
       "2            42.255552  37.856077  42.241538  \n",
       "3            71.724706  73.971604  79.771002  \n",
       "4            43.805654  43.875952  52.806176  \n",
       "..                 ...        ...        ...  \n",
       "290          28.420729  24.738369  41.674185  \n",
       "291          48.901551  50.512750  56.942975  \n",
       "292          37.806144  38.714893  35.167346  \n",
       "293          22.250994  20.996181  20.234490  \n",
       "294          27.367584  24.288951  26.112475  \n",
       "\n",
       "[295 rows x 12 columns]"
      ]
     },
     "execution_count": 43,
     "metadata": {},
     "output_type": "execute_result"
    }
   ],
   "source": [
    "rf_df = pd.read_csv('../data/predictions/rf_predictions.csv')\n",
    "gp_df = pd.read_csv('../data/predictions/gp_predictions.csv')\n",
    "ml_df = rf_df.merge(gp_df, on=['Molecule Name', 'SMILES'])\n",
    "ml_df['mean_pred'] = ml_df[['RF Predicted Inhibition (%)', 'gp_pred']].mean(axis=1)\n",
    "ml_df"
   ]
  },
  {
   "cell_type": "markdown",
   "metadata": {},
   "source": [
    "Canonicalise SMILES and merge predictions with experimental measurements"
   ]
  },
  {
   "cell_type": "code",
   "execution_count": 45,
   "metadata": {},
   "outputs": [
    {
     "name": "stderr",
     "output_type": "stream",
     "text": [
      "/var/folders/f3/214cr8kd1_n76ygj86svh4nh0000gn/T/ipykernel_65489/1285273804.py:13: SettingWithCopyWarning:\n",
      "\n",
      "\n",
      "A value is trying to be set on a copy of a slice from a DataFrame.\n",
      "Try using .loc[row_indexer,col_indexer] = value instead\n",
      "\n",
      "See the caveats in the documentation: https://pandas.pydata.org/pandas-docs/stable/user_guide/indexing.html#returning-a-view-versus-a-copy\n",
      "\n"
     ]
    },
    {
     "data": {
      "text/html": [
       "<div>\n",
       "<style scoped>\n",
       "    .dataframe tbody tr th:only-of-type {\n",
       "        vertical-align: middle;\n",
       "    }\n",
       "\n",
       "    .dataframe tbody tr th {\n",
       "        vertical-align: top;\n",
       "    }\n",
       "\n",
       "    .dataframe thead th {\n",
       "        text-align: right;\n",
       "    }\n",
       "</style>\n",
       "<table border=\"1\" class=\"dataframe\">\n",
       "  <thead>\n",
       "    <tr style=\"text-align: right;\">\n",
       "      <th></th>\n",
       "      <th>smiles</th>\n",
       "      <th>Plate Well</th>\n",
       "      <th>activity</th>\n",
       "      <th>yield (%)</th>\n",
       "      <th>Inhibition (%)</th>\n",
       "      <th>Molecule Name</th>\n",
       "      <th>SMILES</th>\n",
       "      <th>Measured Inhibition (%)</th>\n",
       "      <th>RF Predicted Inhibition (%)</th>\n",
       "      <th>index</th>\n",
       "      <th>Mean activity (%)</th>\n",
       "      <th>Standard Deviation</th>\n",
       "      <th>Inhibition</th>\n",
       "      <th>amine_rbf_pred</th>\n",
       "      <th>amine_matern_pred</th>\n",
       "      <th>gp_pred</th>\n",
       "      <th>mean_pred</th>\n",
       "    </tr>\n",
       "  </thead>\n",
       "  <tbody>\n",
       "    <tr>\n",
       "      <th>0</th>\n",
       "      <td>O=C(Nc1cncc2ccccc12)C1CN(CC(=O)N2CCOCC2)Cc2ccc...</td>\n",
       "      <td>K19</td>\n",
       "      <td>51.8</td>\n",
       "      <td>96.0</td>\n",
       "      <td>48.2</td>\n",
       "      <td>PCM-0223563</td>\n",
       "      <td>O=C(Nc1cncc2ccccc12)C1CN(CC(=O)N2CCOCC2)Cc2ccc...</td>\n",
       "      <td>48.2</td>\n",
       "      <td>51.8978</td>\n",
       "      <td>99</td>\n",
       "      <td>51.8</td>\n",
       "      <td>0.5</td>\n",
       "      <td>48.2</td>\n",
       "      <td>67.405052</td>\n",
       "      <td>60.902176</td>\n",
       "      <td>64.153614</td>\n",
       "      <td>58.025707</td>\n",
       "    </tr>\n",
       "    <tr>\n",
       "      <th>1</th>\n",
       "      <td>O=C(CN1Cc2ccc(Cl)cc2C(C(=O)Nc2cncc3ccccc23)C1)...</td>\n",
       "      <td>J19</td>\n",
       "      <td>9.9</td>\n",
       "      <td>100.0</td>\n",
       "      <td>90.1</td>\n",
       "      <td>PCM-0223544</td>\n",
       "      <td>O=C(CN1Cc2ccc(Cl)cc2C(C(=O)Nc2cncc3ccccc23)C1)...</td>\n",
       "      <td>90.1</td>\n",
       "      <td>28.6458</td>\n",
       "      <td>118</td>\n",
       "      <td>9.9</td>\n",
       "      <td>0.1</td>\n",
       "      <td>90.1</td>\n",
       "      <td>45.529967</td>\n",
       "      <td>44.014798</td>\n",
       "      <td>44.772382</td>\n",
       "      <td>36.709091</td>\n",
       "    </tr>\n",
       "    <tr>\n",
       "      <th>2</th>\n",
       "      <td>O=C(CN1Cc2ccc(Cl)cc2C(C(=O)Nc2cncc3ccccc23)C1)...</td>\n",
       "      <td>I19</td>\n",
       "      <td>9.5</td>\n",
       "      <td>93.0</td>\n",
       "      <td>90.5</td>\n",
       "      <td>PCM-0223525</td>\n",
       "      <td>O=C(CN1Cc2ccc(Cl)cc2C(C(=O)Nc2cncc3ccccc23)C1)...</td>\n",
       "      <td>90.5</td>\n",
       "      <td>68.7526</td>\n",
       "      <td>137</td>\n",
       "      <td>9.5</td>\n",
       "      <td>0.4</td>\n",
       "      <td>90.5</td>\n",
       "      <td>104.069056</td>\n",
       "      <td>91.929904</td>\n",
       "      <td>97.999480</td>\n",
       "      <td>83.376040</td>\n",
       "    </tr>\n",
       "    <tr>\n",
       "      <th>3</th>\n",
       "      <td>O=C(CN1Cc2ccc(Cl)cc2C(C(=O)Nc2cncc3ccccc23)C1)...</td>\n",
       "      <td>L19</td>\n",
       "      <td>83.6</td>\n",
       "      <td>0.0</td>\n",
       "      <td>16.4</td>\n",
       "      <td>PCM-0223582</td>\n",
       "      <td>O=C(CN1Cc2ccc(Cl)cc2C(C(=O)Nc2cncc3ccccc23)C1)...</td>\n",
       "      <td>16.4</td>\n",
       "      <td>39.3330</td>\n",
       "      <td>80</td>\n",
       "      <td>83.6</td>\n",
       "      <td>0.6</td>\n",
       "      <td>16.4</td>\n",
       "      <td>61.633923</td>\n",
       "      <td>48.743634</td>\n",
       "      <td>55.188778</td>\n",
       "      <td>47.260889</td>\n",
       "    </tr>\n",
       "    <tr>\n",
       "      <th>4</th>\n",
       "      <td>CNC(=O)c1ccccc1NC(=O)CN1Cc2ccc(Cl)cc2C(C(=O)Nc...</td>\n",
       "      <td>P11</td>\n",
       "      <td>71.1</td>\n",
       "      <td>0.0</td>\n",
       "      <td>28.9</td>\n",
       "      <td>PCM-0223647</td>\n",
       "      <td>CNC(=O)c1ccccc1NC(=O)CN1Cc2ccc(Cl)cc2C(C(=O)Nc...</td>\n",
       "      <td>28.9</td>\n",
       "      <td>20.6552</td>\n",
       "      <td>15</td>\n",
       "      <td>71.1</td>\n",
       "      <td>0.5</td>\n",
       "      <td>28.9</td>\n",
       "      <td>42.575240</td>\n",
       "      <td>43.663796</td>\n",
       "      <td>43.119518</td>\n",
       "      <td>31.887359</td>\n",
       "    </tr>\n",
       "    <tr>\n",
       "      <th>...</th>\n",
       "      <td>...</td>\n",
       "      <td>...</td>\n",
       "      <td>...</td>\n",
       "      <td>...</td>\n",
       "      <td>...</td>\n",
       "      <td>...</td>\n",
       "      <td>...</td>\n",
       "      <td>...</td>\n",
       "      <td>...</td>\n",
       "      <td>...</td>\n",
       "      <td>...</td>\n",
       "      <td>...</td>\n",
       "      <td>...</td>\n",
       "      <td>...</td>\n",
       "      <td>...</td>\n",
       "      <td>...</td>\n",
       "      <td>...</td>\n",
       "    </tr>\n",
       "    <tr>\n",
       "      <th>290</th>\n",
       "      <td>O=C(Nc1cncc2ccccc12)C1CN(CC(=O)N2CCN(c3ccc(Br)...</td>\n",
       "      <td>F3</td>\n",
       "      <td>75.7</td>\n",
       "      <td>87.0</td>\n",
       "      <td>24.3</td>\n",
       "      <td>PCM-0223470</td>\n",
       "      <td>O=C(Nc1cncc2ccccc12)C1CN(CC(=O)N2CCN(c3ccc(Br)...</td>\n",
       "      <td>24.3</td>\n",
       "      <td>23.0316</td>\n",
       "      <td>192</td>\n",
       "      <td>75.7</td>\n",
       "      <td>0.9</td>\n",
       "      <td>24.3</td>\n",
       "      <td>19.924737</td>\n",
       "      <td>27.465185</td>\n",
       "      <td>23.694961</td>\n",
       "      <td>23.363280</td>\n",
       "    </tr>\n",
       "    <tr>\n",
       "      <th>291</th>\n",
       "      <td>N#Cc1ccc(NC(=O)CN2Cc3ccc(Cl)cc3C(C(=O)Nc3cncc4...</td>\n",
       "      <td>L11</td>\n",
       "      <td>84.5</td>\n",
       "      <td>0.0</td>\n",
       "      <td>15.5</td>\n",
       "      <td>PCM-0223574</td>\n",
       "      <td>N#Cc1ccc(NC(=O)CN2Cc3ccc(Cl)cc3C(C(=O)Nc3cncc4...</td>\n",
       "      <td>15.5</td>\n",
       "      <td>21.6562</td>\n",
       "      <td>88</td>\n",
       "      <td>84.5</td>\n",
       "      <td>0.0</td>\n",
       "      <td>15.5</td>\n",
       "      <td>7.765679</td>\n",
       "      <td>22.544502</td>\n",
       "      <td>15.155091</td>\n",
       "      <td>18.405645</td>\n",
       "    </tr>\n",
       "    <tr>\n",
       "      <th>292</th>\n",
       "      <td>O=C(CN1Cc2ccc(Cl)cc2C(C(=O)Nc2cncc3ccccc23)C1)...</td>\n",
       "      <td>H10</td>\n",
       "      <td>24.6</td>\n",
       "      <td>98.0</td>\n",
       "      <td>75.4</td>\n",
       "      <td>PCM-0223497</td>\n",
       "      <td>O=C(CN1Cc2ccc(Cl)cc2C(C(=O)Nc2cncc3ccccc23)C1)...</td>\n",
       "      <td>75.4</td>\n",
       "      <td>41.1426</td>\n",
       "      <td>165</td>\n",
       "      <td>24.6</td>\n",
       "      <td>0.0</td>\n",
       "      <td>75.4</td>\n",
       "      <td>14.206393</td>\n",
       "      <td>21.256396</td>\n",
       "      <td>17.731394</td>\n",
       "      <td>29.436997</td>\n",
       "    </tr>\n",
       "    <tr>\n",
       "      <th>293</th>\n",
       "      <td>Cc1cccc(C)c1NC(=O)CN1CCN(C(=O)CN2Cc3ccc(Cl)cc3...</td>\n",
       "      <td>H6</td>\n",
       "      <td>65.5</td>\n",
       "      <td>100.0</td>\n",
       "      <td>34.5</td>\n",
       "      <td>PCM-0223511</td>\n",
       "      <td>Cc1cccc(C)c1NC(=O)CN1CCN(C(=O)CN2Cc3ccc(Cl)cc3...</td>\n",
       "      <td>34.5</td>\n",
       "      <td>28.2744</td>\n",
       "      <td>151</td>\n",
       "      <td>65.5</td>\n",
       "      <td>12.1</td>\n",
       "      <td>34.5</td>\n",
       "      <td>28.479242</td>\n",
       "      <td>35.603238</td>\n",
       "      <td>32.041240</td>\n",
       "      <td>30.157820</td>\n",
       "    </tr>\n",
       "    <tr>\n",
       "      <th>294</th>\n",
       "      <td>O=C(Nc1cncc2ccccc12)C1CN(CC(=O)N2CCN(C(=O)C3CO...</td>\n",
       "      <td>A7</td>\n",
       "      <td>72.3</td>\n",
       "      <td>88.0</td>\n",
       "      <td>27.7</td>\n",
       "      <td>PCM-0223379</td>\n",
       "      <td>O=C(Nc1cncc2ccccc12)C1CN(CC(=O)N2CCN(C(=O)C3CO...</td>\n",
       "      <td>27.7</td>\n",
       "      <td>32.7064</td>\n",
       "      <td>283</td>\n",
       "      <td>72.3</td>\n",
       "      <td>0.1</td>\n",
       "      <td>27.7</td>\n",
       "      <td>10.238656</td>\n",
       "      <td>21.684263</td>\n",
       "      <td>15.961460</td>\n",
       "      <td>24.333930</td>\n",
       "    </tr>\n",
       "  </tbody>\n",
       "</table>\n",
       "<p>295 rows × 17 columns</p>\n",
       "</div>"
      ],
      "text/plain": [
       "                                                smiles Plate Well  activity  \\\n",
       "0    O=C(Nc1cncc2ccccc12)C1CN(CC(=O)N2CCOCC2)Cc2ccc...        K19      51.8   \n",
       "1    O=C(CN1Cc2ccc(Cl)cc2C(C(=O)Nc2cncc3ccccc23)C1)...        J19       9.9   \n",
       "2    O=C(CN1Cc2ccc(Cl)cc2C(C(=O)Nc2cncc3ccccc23)C1)...        I19       9.5   \n",
       "3    O=C(CN1Cc2ccc(Cl)cc2C(C(=O)Nc2cncc3ccccc23)C1)...        L19      83.6   \n",
       "4    CNC(=O)c1ccccc1NC(=O)CN1Cc2ccc(Cl)cc2C(C(=O)Nc...        P11      71.1   \n",
       "..                                                 ...        ...       ...   \n",
       "290  O=C(Nc1cncc2ccccc12)C1CN(CC(=O)N2CCN(c3ccc(Br)...         F3      75.7   \n",
       "291  N#Cc1ccc(NC(=O)CN2Cc3ccc(Cl)cc3C(C(=O)Nc3cncc4...        L11      84.5   \n",
       "292  O=C(CN1Cc2ccc(Cl)cc2C(C(=O)Nc2cncc3ccccc23)C1)...        H10      24.6   \n",
       "293  Cc1cccc(C)c1NC(=O)CN1CCN(C(=O)CN2Cc3ccc(Cl)cc3...         H6      65.5   \n",
       "294  O=C(Nc1cncc2ccccc12)C1CN(CC(=O)N2CCN(C(=O)C3CO...         A7      72.3   \n",
       "\n",
       "     yield (%)  Inhibition (%) Molecule Name  \\\n",
       "0         96.0            48.2   PCM-0223563   \n",
       "1        100.0            90.1   PCM-0223544   \n",
       "2         93.0            90.5   PCM-0223525   \n",
       "3          0.0            16.4   PCM-0223582   \n",
       "4          0.0            28.9   PCM-0223647   \n",
       "..         ...             ...           ...   \n",
       "290       87.0            24.3   PCM-0223470   \n",
       "291        0.0            15.5   PCM-0223574   \n",
       "292       98.0            75.4   PCM-0223497   \n",
       "293      100.0            34.5   PCM-0223511   \n",
       "294       88.0            27.7   PCM-0223379   \n",
       "\n",
       "                                                SMILES  \\\n",
       "0    O=C(Nc1cncc2ccccc12)C1CN(CC(=O)N2CCOCC2)Cc2ccc...   \n",
       "1    O=C(CN1Cc2ccc(Cl)cc2C(C(=O)Nc2cncc3ccccc23)C1)...   \n",
       "2    O=C(CN1Cc2ccc(Cl)cc2C(C(=O)Nc2cncc3ccccc23)C1)...   \n",
       "3    O=C(CN1Cc2ccc(Cl)cc2C(C(=O)Nc2cncc3ccccc23)C1)...   \n",
       "4    CNC(=O)c1ccccc1NC(=O)CN1Cc2ccc(Cl)cc2C(C(=O)Nc...   \n",
       "..                                                 ...   \n",
       "290  O=C(Nc1cncc2ccccc12)C1CN(CC(=O)N2CCN(c3ccc(Br)...   \n",
       "291  N#Cc1ccc(NC(=O)CN2Cc3ccc(Cl)cc3C(C(=O)Nc3cncc4...   \n",
       "292  O=C(CN1Cc2ccc(Cl)cc2C(C(=O)Nc2cncc3ccccc23)C1)...   \n",
       "293  Cc1cccc(C)c1NC(=O)CN1CCN(C(=O)CN2Cc3ccc(Cl)cc3...   \n",
       "294  O=C(Nc1cncc2ccccc12)C1CN(CC(=O)N2CCN(C(=O)C3CO...   \n",
       "\n",
       "     Measured Inhibition (%)  RF Predicted Inhibition (%)  index  \\\n",
       "0                       48.2                      51.8978     99   \n",
       "1                       90.1                      28.6458    118   \n",
       "2                       90.5                      68.7526    137   \n",
       "3                       16.4                      39.3330     80   \n",
       "4                       28.9                      20.6552     15   \n",
       "..                       ...                          ...    ...   \n",
       "290                     24.3                      23.0316    192   \n",
       "291                     15.5                      21.6562     88   \n",
       "292                     75.4                      41.1426    165   \n",
       "293                     34.5                      28.2744    151   \n",
       "294                     27.7                      32.7064    283   \n",
       "\n",
       "     Mean activity (%)  Standard Deviation  Inhibition  amine_rbf_pred  \\\n",
       "0                 51.8                 0.5        48.2       67.405052   \n",
       "1                  9.9                 0.1        90.1       45.529967   \n",
       "2                  9.5                 0.4        90.5      104.069056   \n",
       "3                 83.6                 0.6        16.4       61.633923   \n",
       "4                 71.1                 0.5        28.9       42.575240   \n",
       "..                 ...                 ...         ...             ...   \n",
       "290               75.7                 0.9        24.3       19.924737   \n",
       "291               84.5                 0.0        15.5        7.765679   \n",
       "292               24.6                 0.0        75.4       14.206393   \n",
       "293               65.5                12.1        34.5       28.479242   \n",
       "294               72.3                 0.1        27.7       10.238656   \n",
       "\n",
       "     amine_matern_pred    gp_pred  mean_pred  \n",
       "0            60.902176  64.153614  58.025707  \n",
       "1            44.014798  44.772382  36.709091  \n",
       "2            91.929904  97.999480  83.376040  \n",
       "3            48.743634  55.188778  47.260889  \n",
       "4            43.663796  43.119518  31.887359  \n",
       "..                 ...        ...        ...  \n",
       "290          27.465185  23.694961  23.363280  \n",
       "291          22.544502  15.155091  18.405645  \n",
       "292          21.256396  17.731394  29.436997  \n",
       "293          35.603238  32.041240  30.157820  \n",
       "294          21.684263  15.961460  24.333930  \n",
       "\n",
       "[295 rows x 17 columns]"
      ]
     },
     "execution_count": 45,
     "metadata": {},
     "output_type": "execute_result"
    }
   ],
   "source": [
    "def canonicalise_and_remove_stereo(smi):\n",
    "    try:\n",
    "        mol = Chem.MolFromSmiles(smi)\n",
    "    except TypeError:\n",
    "        print(f'{smi} is invalid, returning Nan')\n",
    "        return None\n",
    "    Chem.rdmolops.RemoveStereochemistry(mol)\n",
    "    return Chem.MolToSmiles(mol)\n",
    "\n",
    "ml_df['smiles'] = ml_df['SMILES'].apply(\n",
    "    canonicalise_and_remove_stereo)\n",
    "\n",
    "df_with_yield['smiles'] = df_with_yield['smiles'].apply(\n",
    "    canonicalise_and_remove_stereo)\n",
    "\n",
    "merged_df = df_with_yield.merge(ml_df, on='smiles')\n",
    "merged_df"
   ]
  },
  {
   "cell_type": "markdown",
   "metadata": {},
   "source": [
    "Plot predictions against yield"
   ]
  },
  {
   "cell_type": "code",
   "execution_count": 56,
   "metadata": {},
   "outputs": [
    {
     "data": {
      "application/vnd.plotly.v1+json": {
       "config": {
        "plotlyServerURL": "https://plot.ly"
       },
       "data": [
        {
         "customdata": [
          [
           48.2
          ],
          [
           90.1
          ],
          [
           90.5
          ],
          [
           16.400000000000006
          ],
          [
           95.2
          ],
          [
           84.8
          ],
          [
           16.799999999999997
          ],
          [
           17.400000000000006
          ],
          [
           55.9
          ],
          [
           94.4
          ],
          [
           60.8
          ],
          [
           26.599999999999994
          ],
          [
           35.5
          ],
          [
           41.4
          ],
          [
           19.099999999999994
          ],
          [
           66.3
          ],
          [
           58.9
          ],
          [
           75.4
          ],
          [
           17.900000000000006
          ],
          [
           64.9
          ],
          [
           40.5
          ],
          [
           16.400000000000006
          ],
          [
           15
          ],
          [
           16.099999999999994
          ],
          [
           15.5
          ],
          [
           22.200000000000003
          ],
          [
           17.799999999999997
          ],
          [
           20
          ],
          [
           31.200000000000003
          ],
          [
           21.5
          ],
          [
           38.1
          ],
          [
           81.3
          ],
          [
           66.4
          ],
          [
           90.5
          ],
          [
           80.9
          ],
          [
           96.4
          ],
          [
           54
          ],
          [
           20.200000000000003
          ],
          [
           28.5
          ],
          [
           20
          ],
          [
           34.2
          ],
          [
           28
          ],
          [
           69.5
          ],
          [
           50.3
          ],
          [
           59.2
          ],
          [
           52.8
          ],
          [
           58.7
          ],
          [
           88
          ],
          [
           33.5
          ],
          [
           14.099999999999994
          ],
          [
           40.3
          ],
          [
           37.3
          ],
          [
           19.599999999999994
          ],
          [
           34.900000000000006
          ],
          [
           17.799999999999997
          ],
          [
           20.599999999999994
          ],
          [
           17.700000000000003
          ],
          [
           38
          ],
          [
           83.5
          ],
          [
           13.5
          ],
          [
           90.1
          ],
          [
           36.7
          ],
          [
           33.8
          ],
          [
           88.3
          ],
          [
           71.7
          ],
          [
           25.5
          ],
          [
           28.599999999999994
          ],
          [
           28.5
          ],
          [
           61.5
          ],
          [
           55.3
          ],
          [
           68.8
          ],
          [
           16.400000000000006
          ],
          [
           36.3
          ],
          [
           79.5
          ],
          [
           75.2
          ],
          [
           27
          ],
          [
           18
          ],
          [
           53.8
          ],
          [
           16
          ],
          [
           62.2
          ],
          [
           16.299999999999997
          ],
          [
           26
          ],
          [
           83
          ],
          [
           58.7
          ],
          [
           20.700000000000003
          ],
          [
           80.2
          ],
          [
           45.6
          ],
          [
           68.7
          ],
          [
           85
          ],
          [
           78.4
          ],
          [
           17.599999999999994
          ],
          [
           16
          ],
          [
           60.1
          ],
          [
           92
          ],
          [
           49.7
          ],
          [
           41.1
          ],
          [
           88.3
          ],
          [
           27.5
          ],
          [
           79.8
          ],
          [
           25.599999999999994
          ],
          [
           28.599999999999994
          ],
          [
           17.799999999999997
          ],
          [
           58.4
          ],
          [
           53
          ],
          [
           19
          ],
          [
           46.4
          ],
          [
           82.1
          ],
          [
           87.3
          ],
          [
           33.5
          ],
          [
           38.5
          ],
          [
           16.900000000000006
          ],
          [
           77.1
          ],
          [
           20.200000000000003
          ],
          [
           87.6
          ],
          [
           84.7
          ],
          [
           76.2
          ],
          [
           64.9
          ],
          [
           51.6
          ],
          [
           13.5
          ],
          [
           16.700000000000003
          ],
          [
           56.5
          ],
          [
           74.9
          ],
          [
           36.2
          ],
          [
           24.5
          ],
          [
           22.599999999999994
          ],
          [
           35.5
          ],
          [
           91.4
          ],
          [
           80.2
          ],
          [
           41.2
          ],
          [
           27.599999999999994
          ],
          [
           33.599999999999994
          ],
          [
           19.099999999999994
          ],
          [
           55.7
          ],
          [
           16.5
          ],
          [
           17.400000000000006
          ],
          [
           65.9
          ],
          [
           34.599999999999994
          ],
          [
           15
          ],
          [
           39.2
          ],
          [
           58
          ],
          [
           30.5
          ],
          [
           40.5
          ],
          [
           14.099999999999994
          ],
          [
           52.6
          ],
          [
           94.8
          ],
          [
           21.099999999999994
          ],
          [
           41.1
          ],
          [
           32.2
          ],
          [
           35.400000000000006
          ],
          [
           76.1
          ],
          [
           19.700000000000003
          ],
          [
           32.900000000000006
          ],
          [
           45.2
          ],
          [
           79.3
          ],
          [
           15.099999999999994
          ],
          [
           18
          ],
          [
           83.4
          ],
          [
           81.3
          ],
          [
           22.700000000000003
          ],
          [
           97.4
          ],
          [
           17
          ],
          [
           17.5
          ],
          [
           17.5
          ],
          [
           23
          ],
          [
           32.5
          ],
          [
           65.1
          ],
          [
           18.099999999999994
          ],
          [
           16.200000000000003
          ],
          [
           19.5
          ],
          [
           19
          ],
          [
           33.7
          ],
          [
           91.6
          ],
          [
           33.2
          ],
          [
           65.9
          ],
          [
           21.700000000000003
          ],
          [
           24.200000000000003
          ],
          [
           22.200000000000003
          ],
          [
           86.8
          ],
          [
           15.5
          ],
          [
           16.599999999999994
          ],
          [
           63.9
          ],
          [
           49.1
          ],
          [
           36.8
          ],
          [
           20.200000000000003
          ],
          [
           12
          ],
          [
           15.599999999999994
          ],
          [
           17.599999999999994
          ],
          [
           16.700000000000003
          ],
          [
           49.2
          ],
          [
           26.700000000000003
          ],
          [
           22.200000000000003
          ],
          [
           13
          ],
          [
           16.5
          ],
          [
           15.5
          ],
          [
           65.2
          ],
          [
           35.599999999999994
          ],
          [
           83.8
          ],
          [
           24.700000000000003
          ],
          [
           31.700000000000003
          ],
          [
           21
          ],
          [
           21.099999999999994
          ],
          [
           20.200000000000003
          ],
          [
           12.599999999999994
          ],
          [
           15.5
          ],
          [
           75.4
          ],
          [
           34.5
          ],
          [
           27.700000000000003
          ]
         ],
         "hovertemplate": "Measured Inihibition (%)=%{x}<br>ML Predicted Inhibition (%)=%{y}<br>Measured Inhibition (%)=%{customdata[0]}<br>yield (%)=%{marker.color}<extra></extra>",
         "legendgroup": "",
         "marker": {
          "color": [
           96,
           100,
           93,
           0,
           82,
           85,
           0,
           0,
           100,
           100,
           100,
           0,
           92,
           89,
           0,
           100,
           0,
           94,
           0,
           0,
           90,
           0,
           0,
           0,
           0,
           95,
           1,
           0,
           89,
           0,
           93,
           100,
           77,
           89,
           92,
           73,
           76,
           2,
           66,
           67,
           54,
           0,
           64,
           100,
           0,
           100,
           83,
           52,
           65,
           0,
           22,
           100,
           0,
           5,
           0,
           0,
           0,
           49,
           36,
           0,
           81,
           61,
           100,
           100,
           46,
           10,
           25,
           100,
           0,
           0,
           18,
           0,
           0,
           100,
           98,
           0,
           0,
           88,
           24,
           36,
           0,
           100,
           93,
           59,
           0,
           25,
           61,
           43,
           94,
           100,
           0,
           0,
           49,
           100,
           61,
           36,
           94,
           21,
           30,
           0,
           36,
           7,
           86,
           67,
           68,
           43,
           100,
           91,
           39,
           32,
           32,
           76,
           35,
           95,
           100,
           100,
           50,
           67,
           0,
           0,
           90,
           80,
           18,
           11,
           64,
           93,
           88,
           100,
           22,
           96,
           71,
           0,
           0,
           0,
           41,
           100,
           42,
           0,
           88,
           66,
           0,
           96,
           75,
           39,
           96,
           0,
           93,
           97,
           97,
           98,
           0,
           37,
           43,
           71,
           0,
           0,
           100,
           35,
           0,
           100,
           0,
           0,
           0,
           96,
           98,
           100,
           0,
           0,
           0,
           0,
           0,
           91,
           100,
           6,
           63,
           33,
           5,
           42,
           0,
           0,
           77,
           42,
           24,
           76,
           85,
           77,
           0,
           34,
           0,
           0,
           18,
           0,
           0,
           0,
           95,
           66,
           68,
           0,
           32,
           0,
           42,
           0,
           0,
           0,
           98,
           100,
           88
          ],
          "coloraxis": "coloraxis",
          "size": 15,
          "symbol": "circle"
         },
         "mode": "markers",
         "name": "",
         "orientation": "v",
         "showlegend": false,
         "type": "scatter",
         "x": [
          48.2,
          90.1,
          90.5,
          16.400000000000006,
          95.2,
          84.8,
          16.799999999999997,
          17.400000000000006,
          55.9,
          94.4,
          60.8,
          26.599999999999994,
          35.5,
          41.4,
          19.099999999999994,
          66.3,
          58.9,
          75.4,
          17.900000000000006,
          64.9,
          40.5,
          16.400000000000006,
          15,
          16.099999999999994,
          15.5,
          22.200000000000003,
          17.799999999999997,
          20,
          31.200000000000003,
          21.5,
          38.1,
          81.3,
          66.4,
          90.5,
          80.9,
          96.4,
          54,
          20.200000000000003,
          28.5,
          20,
          34.2,
          28,
          69.5,
          50.3,
          59.2,
          52.8,
          58.7,
          88,
          33.5,
          14.099999999999994,
          40.3,
          37.3,
          19.599999999999994,
          34.900000000000006,
          17.799999999999997,
          20.599999999999994,
          17.700000000000003,
          38,
          83.5,
          13.5,
          90.1,
          36.7,
          33.8,
          88.3,
          71.7,
          25.5,
          28.599999999999994,
          28.5,
          61.5,
          55.3,
          68.8,
          16.400000000000006,
          36.3,
          79.5,
          75.2,
          27,
          18,
          53.8,
          16,
          62.2,
          16.299999999999997,
          26,
          83,
          58.7,
          20.700000000000003,
          80.2,
          45.6,
          68.7,
          85,
          78.4,
          17.599999999999994,
          16,
          60.1,
          92,
          49.7,
          41.1,
          88.3,
          27.5,
          79.8,
          25.599999999999994,
          28.599999999999994,
          17.799999999999997,
          58.4,
          53,
          19,
          46.4,
          82.1,
          87.3,
          33.5,
          38.5,
          16.900000000000006,
          77.1,
          20.200000000000003,
          87.6,
          84.7,
          76.2,
          64.9,
          51.6,
          13.5,
          16.700000000000003,
          56.5,
          74.9,
          36.2,
          24.5,
          22.599999999999994,
          35.5,
          91.4,
          80.2,
          41.2,
          27.599999999999994,
          33.599999999999994,
          19.099999999999994,
          55.7,
          16.5,
          17.400000000000006,
          65.9,
          34.599999999999994,
          15,
          39.2,
          58,
          30.5,
          40.5,
          14.099999999999994,
          52.6,
          94.8,
          21.099999999999994,
          41.1,
          32.2,
          35.400000000000006,
          76.1,
          19.700000000000003,
          32.900000000000006,
          45.2,
          79.3,
          15.099999999999994,
          18,
          83.4,
          81.3,
          22.700000000000003,
          97.4,
          17,
          17.5,
          17.5,
          23,
          32.5,
          65.1,
          18.099999999999994,
          16.200000000000003,
          19.5,
          19,
          33.7,
          91.6,
          33.2,
          65.9,
          21.700000000000003,
          24.200000000000003,
          22.200000000000003,
          86.8,
          15.5,
          16.599999999999994,
          63.9,
          49.1,
          36.8,
          20.200000000000003,
          12,
          15.599999999999994,
          17.599999999999994,
          16.700000000000003,
          49.2,
          26.700000000000003,
          22.200000000000003,
          13,
          16.5,
          15.5,
          65.2,
          35.599999999999994,
          83.8,
          24.700000000000003,
          31.700000000000003,
          21,
          21.099999999999994,
          20.200000000000003,
          12.599999999999994,
          15.5,
          75.4,
          34.5,
          27.700000000000003
         ],
         "xaxis": "x",
         "y": [
          51.89780000000029,
          28.64579999999999,
          68.75259999999999,
          39.33300000000009,
          33.18400000000007,
          23.55519999999996,
          33.632400000000025,
          18.8524,
          32.42639999999995,
          83.5722000000001,
          31.80660000000001,
          20.22759999999993,
          39.07180000000002,
          38.47560000000003,
          64.21080000000012,
          38.90680000000002,
          26.0826,
          36.18780000000004,
          20.27860000000004,
          81.6430000000003,
          20.766600000000007,
          23.759799999999967,
          17.305200000000017,
          26.16379999999992,
          44.2642,
          23.828599999999955,
          23.628199999999985,
          19.302399999999945,
          50.29900000000005,
          41.33780000000004,
          45.46280000000013,
          82.09100000000032,
          85.31260000000007,
          80.48400000000045,
          81.32760000000032,
          43.08060000000017,
          61.14339999999983,
          18.81600000000002,
          53.008200000000016,
          43.90219999999989,
          25.720199999999988,
          20.27420000000003,
          38.34120000000002,
          49.48900000000001,
          21.94259999999998,
          38.57840000000002,
          42.37560000000003,
          74.76940000000018,
          32.10000000000002,
          21.38280000000004,
          25.86240000000004,
          27.52819999999999,
          23.39399999999993,
          21.58640000000001,
          19.915,
          21.184000000000022,
          21.034399999999945,
          29.355199999999943,
          61.73639999999982,
          24.290399999999927,
          80.17260000000005,
          26.615799999999982,
          79.46979999999995,
          85.85220000000004,
          44.91180000000005,
          33.89519999999993,
          19.990399999999937,
          37.96899999999993,
          34.72439999999988,
          44.50319999999991,
          41.03979999999989,
          20.78819999999996,
          25.93940000000008,
          33.875999999999884,
          47.06980000000002,
          39.92799999999999,
          17.212999999999987,
          49.17280000000006,
          34.47219999999993,
          49.07040000000004,
          19.58379999999995,
          28.703800000000047,
          56.87060000000008,
          42.445800000000105,
          47.84740000000003,
          46.98920000000005,
          83.33120000000008,
          29.89500000000009,
          76.99280000000022,
          51.595800000000025,
          25.81439999999995,
          29.439199999999992,
          24.41920000000002,
          86.37160000000023,
          25.755800000000008,
          30.935199999999973,
          85.97440000000016,
          20.28480000000005,
          81.58880000000019,
          17.999799999999933,
          22.89319999999997,
          19.97140000000004,
          40.22500000000003,
          42.30540000000005,
          51.51059999999973,
          44.95979999999994,
          74.34120000000043,
          79.79480000000011,
          36.97940000000007,
          22.392999999999965,
          20.7834,
          24.047200000000007,
          21.939,
          82.51100000000022,
          79.9099999999998,
          43.4722,
          35.86180000000007,
          37.30160000000002,
          21.759199999999986,
          17.872599999999984,
          22.406999999999982,
          83.56420000000014,
          22.012000000000025,
          62.031999999999954,
          20.18840000000004,
          27.80559999999998,
          62.434000000000125,
          84.63959999999979,
          42.133799999999965,
          29.544599999999903,
          28.206999999999965,
          20.28540000000001,
          30.94380000000002,
          54.28160000000018,
          31.61980000000008,
          77.93519999999972,
          49.37179999999999,
          18.131799999999984,
          47.68880000000001,
          78.9508000000001,
          18.8014,
          50.3888000000002,
          18.643000000000026,
          34.84080000000007,
          79.73460000000036,
          29.07640000000001,
          42.94700000000006,
          32.255799999999866,
          29.75180000000009,
          28.98239999999993,
          29.52439999999999,
          24.34780000000001,
          19.337400000000017,
          34.05119999999997,
          23.902200000000004,
          18.5534,
          79.27260000000025,
          72.1360000000003,
          23.872800000000066,
          63.37319999999997,
          26.265199999999908,
          18.634400000000014,
          19.623000000000008,
          35.09119999999998,
          25.476400000000005,
          82.26279999999976,
          17.677000000000014,
          22.374400000000023,
          19.55199999999997,
          17.207200000000036,
          16.463400000000057,
          31.13099999999995,
          31.068200000000022,
          84.83080000000021,
          32.738400000000006,
          34.12740000000008,
          21.966800000000006,
          75.88040000000014,
          37.18460000000001,
          25.331599999999867,
          45.05100000000008,
          40.18559999999999,
          26.254599999999925,
          25.44139999999997,
          37.12700000000009,
          43.74980000000015,
          18.668199999999985,
          27.79659999999996,
          19.968799999999987,
          28.03559999999997,
          44.87980000000001,
          58.61000000000023,
          35.35099999999995,
          21.72660000000002,
          28.63419999999997,
          28.99500000000003,
          86.94280000000008,
          17.326199999999965,
          20.81760000000002,
          21.144000000000016,
          20.85780000000004,
          36.23059999999998,
          22.666600000000003,
          21.65619999999996,
          41.14260000000003,
          28.2744,
          32.70639999999998
         ],
         "yaxis": "y"
        }
       ],
       "layout": {
        "coloraxis": {
         "colorbar": {
          "title": {
           "text": "yield (%)"
          }
         },
         "colorscale": [
          [
           0,
           "#440154"
          ],
          [
           0.1111111111111111,
           "#482878"
          ],
          [
           0.2222222222222222,
           "#3e4989"
          ],
          [
           0.3333333333333333,
           "#31688e"
          ],
          [
           0.4444444444444444,
           "#26828e"
          ],
          [
           0.5555555555555556,
           "#1f9e89"
          ],
          [
           0.6666666666666666,
           "#35b779"
          ],
          [
           0.7777777777777778,
           "#6ece58"
          ],
          [
           0.8888888888888888,
           "#b5de2b"
          ],
          [
           1,
           "#fde725"
          ]
         ]
        },
        "height": 800,
        "legend": {
         "tracegroupgap": 0
        },
        "shapes": [
         {
          "line": {
           "color": "black",
           "dash": "dash",
           "width": 2
          },
          "opacity": 1,
          "type": "line",
          "x0": 0,
          "x1": 100,
          "xref": "x",
          "y0": 0,
          "y1": 100,
          "yref": "y"
         }
        ],
        "template": {
         "data": {
          "bar": [
           {
            "error_x": {
             "color": "rgb(36,36,36)"
            },
            "error_y": {
             "color": "rgb(36,36,36)"
            },
            "marker": {
             "line": {
              "color": "white",
              "width": 0.5
             },
             "pattern": {
              "fillmode": "overlay",
              "size": 10,
              "solidity": 0.2
             }
            },
            "type": "bar"
           }
          ],
          "barpolar": [
           {
            "marker": {
             "line": {
              "color": "white",
              "width": 0.5
             },
             "pattern": {
              "fillmode": "overlay",
              "size": 10,
              "solidity": 0.2
             }
            },
            "type": "barpolar"
           }
          ],
          "carpet": [
           {
            "aaxis": {
             "endlinecolor": "rgb(36,36,36)",
             "gridcolor": "white",
             "linecolor": "white",
             "minorgridcolor": "white",
             "startlinecolor": "rgb(36,36,36)"
            },
            "baxis": {
             "endlinecolor": "rgb(36,36,36)",
             "gridcolor": "white",
             "linecolor": "white",
             "minorgridcolor": "white",
             "startlinecolor": "rgb(36,36,36)"
            },
            "type": "carpet"
           }
          ],
          "choropleth": [
           {
            "colorbar": {
             "outlinewidth": 1,
             "tickcolor": "rgb(36,36,36)",
             "ticks": "outside"
            },
            "type": "choropleth"
           }
          ],
          "contour": [
           {
            "colorbar": {
             "outlinewidth": 1,
             "tickcolor": "rgb(36,36,36)",
             "ticks": "outside"
            },
            "colorscale": [
             [
              0,
              "#440154"
             ],
             [
              0.1111111111111111,
              "#482878"
             ],
             [
              0.2222222222222222,
              "#3e4989"
             ],
             [
              0.3333333333333333,
              "#31688e"
             ],
             [
              0.4444444444444444,
              "#26828e"
             ],
             [
              0.5555555555555556,
              "#1f9e89"
             ],
             [
              0.6666666666666666,
              "#35b779"
             ],
             [
              0.7777777777777778,
              "#6ece58"
             ],
             [
              0.8888888888888888,
              "#b5de2b"
             ],
             [
              1,
              "#fde725"
             ]
            ],
            "type": "contour"
           }
          ],
          "contourcarpet": [
           {
            "colorbar": {
             "outlinewidth": 1,
             "tickcolor": "rgb(36,36,36)",
             "ticks": "outside"
            },
            "type": "contourcarpet"
           }
          ],
          "heatmap": [
           {
            "colorbar": {
             "outlinewidth": 1,
             "tickcolor": "rgb(36,36,36)",
             "ticks": "outside"
            },
            "colorscale": [
             [
              0,
              "#440154"
             ],
             [
              0.1111111111111111,
              "#482878"
             ],
             [
              0.2222222222222222,
              "#3e4989"
             ],
             [
              0.3333333333333333,
              "#31688e"
             ],
             [
              0.4444444444444444,
              "#26828e"
             ],
             [
              0.5555555555555556,
              "#1f9e89"
             ],
             [
              0.6666666666666666,
              "#35b779"
             ],
             [
              0.7777777777777778,
              "#6ece58"
             ],
             [
              0.8888888888888888,
              "#b5de2b"
             ],
             [
              1,
              "#fde725"
             ]
            ],
            "type": "heatmap"
           }
          ],
          "heatmapgl": [
           {
            "colorbar": {
             "outlinewidth": 1,
             "tickcolor": "rgb(36,36,36)",
             "ticks": "outside"
            },
            "colorscale": [
             [
              0,
              "#440154"
             ],
             [
              0.1111111111111111,
              "#482878"
             ],
             [
              0.2222222222222222,
              "#3e4989"
             ],
             [
              0.3333333333333333,
              "#31688e"
             ],
             [
              0.4444444444444444,
              "#26828e"
             ],
             [
              0.5555555555555556,
              "#1f9e89"
             ],
             [
              0.6666666666666666,
              "#35b779"
             ],
             [
              0.7777777777777778,
              "#6ece58"
             ],
             [
              0.8888888888888888,
              "#b5de2b"
             ],
             [
              1,
              "#fde725"
             ]
            ],
            "type": "heatmapgl"
           }
          ],
          "histogram": [
           {
            "marker": {
             "line": {
              "color": "white",
              "width": 0.6
             }
            },
            "type": "histogram"
           }
          ],
          "histogram2d": [
           {
            "colorbar": {
             "outlinewidth": 1,
             "tickcolor": "rgb(36,36,36)",
             "ticks": "outside"
            },
            "colorscale": [
             [
              0,
              "#440154"
             ],
             [
              0.1111111111111111,
              "#482878"
             ],
             [
              0.2222222222222222,
              "#3e4989"
             ],
             [
              0.3333333333333333,
              "#31688e"
             ],
             [
              0.4444444444444444,
              "#26828e"
             ],
             [
              0.5555555555555556,
              "#1f9e89"
             ],
             [
              0.6666666666666666,
              "#35b779"
             ],
             [
              0.7777777777777778,
              "#6ece58"
             ],
             [
              0.8888888888888888,
              "#b5de2b"
             ],
             [
              1,
              "#fde725"
             ]
            ],
            "type": "histogram2d"
           }
          ],
          "histogram2dcontour": [
           {
            "colorbar": {
             "outlinewidth": 1,
             "tickcolor": "rgb(36,36,36)",
             "ticks": "outside"
            },
            "colorscale": [
             [
              0,
              "#440154"
             ],
             [
              0.1111111111111111,
              "#482878"
             ],
             [
              0.2222222222222222,
              "#3e4989"
             ],
             [
              0.3333333333333333,
              "#31688e"
             ],
             [
              0.4444444444444444,
              "#26828e"
             ],
             [
              0.5555555555555556,
              "#1f9e89"
             ],
             [
              0.6666666666666666,
              "#35b779"
             ],
             [
              0.7777777777777778,
              "#6ece58"
             ],
             [
              0.8888888888888888,
              "#b5de2b"
             ],
             [
              1,
              "#fde725"
             ]
            ],
            "type": "histogram2dcontour"
           }
          ],
          "mesh3d": [
           {
            "colorbar": {
             "outlinewidth": 1,
             "tickcolor": "rgb(36,36,36)",
             "ticks": "outside"
            },
            "type": "mesh3d"
           }
          ],
          "parcoords": [
           {
            "line": {
             "colorbar": {
              "outlinewidth": 1,
              "tickcolor": "rgb(36,36,36)",
              "ticks": "outside"
             }
            },
            "type": "parcoords"
           }
          ],
          "pie": [
           {
            "automargin": true,
            "type": "pie"
           }
          ],
          "scatter": [
           {
            "fillpattern": {
             "fillmode": "overlay",
             "size": 10,
             "solidity": 0.2
            },
            "type": "scatter"
           }
          ],
          "scatter3d": [
           {
            "line": {
             "colorbar": {
              "outlinewidth": 1,
              "tickcolor": "rgb(36,36,36)",
              "ticks": "outside"
             }
            },
            "marker": {
             "colorbar": {
              "outlinewidth": 1,
              "tickcolor": "rgb(36,36,36)",
              "ticks": "outside"
             }
            },
            "type": "scatter3d"
           }
          ],
          "scattercarpet": [
           {
            "marker": {
             "colorbar": {
              "outlinewidth": 1,
              "tickcolor": "rgb(36,36,36)",
              "ticks": "outside"
             }
            },
            "type": "scattercarpet"
           }
          ],
          "scattergeo": [
           {
            "marker": {
             "colorbar": {
              "outlinewidth": 1,
              "tickcolor": "rgb(36,36,36)",
              "ticks": "outside"
             }
            },
            "type": "scattergeo"
           }
          ],
          "scattergl": [
           {
            "marker": {
             "colorbar": {
              "outlinewidth": 1,
              "tickcolor": "rgb(36,36,36)",
              "ticks": "outside"
             }
            },
            "type": "scattergl"
           }
          ],
          "scattermapbox": [
           {
            "marker": {
             "colorbar": {
              "outlinewidth": 1,
              "tickcolor": "rgb(36,36,36)",
              "ticks": "outside"
             }
            },
            "type": "scattermapbox"
           }
          ],
          "scatterpolar": [
           {
            "marker": {
             "colorbar": {
              "outlinewidth": 1,
              "tickcolor": "rgb(36,36,36)",
              "ticks": "outside"
             }
            },
            "type": "scatterpolar"
           }
          ],
          "scatterpolargl": [
           {
            "marker": {
             "colorbar": {
              "outlinewidth": 1,
              "tickcolor": "rgb(36,36,36)",
              "ticks": "outside"
             }
            },
            "type": "scatterpolargl"
           }
          ],
          "scatterternary": [
           {
            "marker": {
             "colorbar": {
              "outlinewidth": 1,
              "tickcolor": "rgb(36,36,36)",
              "ticks": "outside"
             }
            },
            "type": "scatterternary"
           }
          ],
          "surface": [
           {
            "colorbar": {
             "outlinewidth": 1,
             "tickcolor": "rgb(36,36,36)",
             "ticks": "outside"
            },
            "colorscale": [
             [
              0,
              "#440154"
             ],
             [
              0.1111111111111111,
              "#482878"
             ],
             [
              0.2222222222222222,
              "#3e4989"
             ],
             [
              0.3333333333333333,
              "#31688e"
             ],
             [
              0.4444444444444444,
              "#26828e"
             ],
             [
              0.5555555555555556,
              "#1f9e89"
             ],
             [
              0.6666666666666666,
              "#35b779"
             ],
             [
              0.7777777777777778,
              "#6ece58"
             ],
             [
              0.8888888888888888,
              "#b5de2b"
             ],
             [
              1,
              "#fde725"
             ]
            ],
            "type": "surface"
           }
          ],
          "table": [
           {
            "cells": {
             "fill": {
              "color": "rgb(237,237,237)"
             },
             "line": {
              "color": "white"
             }
            },
            "header": {
             "fill": {
              "color": "rgb(217,217,217)"
             },
             "line": {
              "color": "white"
             }
            },
            "type": "table"
           }
          ]
         },
         "layout": {
          "annotationdefaults": {
           "arrowhead": 0,
           "arrowwidth": 1
          },
          "autotypenumbers": "strict",
          "coloraxis": {
           "colorbar": {
            "outlinewidth": 1,
            "tickcolor": "rgb(36,36,36)",
            "ticks": "outside"
           }
          },
          "colorscale": {
           "diverging": [
            [
             0,
             "rgb(103,0,31)"
            ],
            [
             0.1,
             "rgb(178,24,43)"
            ],
            [
             0.2,
             "rgb(214,96,77)"
            ],
            [
             0.3,
             "rgb(244,165,130)"
            ],
            [
             0.4,
             "rgb(253,219,199)"
            ],
            [
             0.5,
             "rgb(247,247,247)"
            ],
            [
             0.6,
             "rgb(209,229,240)"
            ],
            [
             0.7,
             "rgb(146,197,222)"
            ],
            [
             0.8,
             "rgb(67,147,195)"
            ],
            [
             0.9,
             "rgb(33,102,172)"
            ],
            [
             1,
             "rgb(5,48,97)"
            ]
           ],
           "sequential": [
            [
             0,
             "#440154"
            ],
            [
             0.1111111111111111,
             "#482878"
            ],
            [
             0.2222222222222222,
             "#3e4989"
            ],
            [
             0.3333333333333333,
             "#31688e"
            ],
            [
             0.4444444444444444,
             "#26828e"
            ],
            [
             0.5555555555555556,
             "#1f9e89"
            ],
            [
             0.6666666666666666,
             "#35b779"
            ],
            [
             0.7777777777777778,
             "#6ece58"
            ],
            [
             0.8888888888888888,
             "#b5de2b"
            ],
            [
             1,
             "#fde725"
            ]
           ],
           "sequentialminus": [
            [
             0,
             "#440154"
            ],
            [
             0.1111111111111111,
             "#482878"
            ],
            [
             0.2222222222222222,
             "#3e4989"
            ],
            [
             0.3333333333333333,
             "#31688e"
            ],
            [
             0.4444444444444444,
             "#26828e"
            ],
            [
             0.5555555555555556,
             "#1f9e89"
            ],
            [
             0.6666666666666666,
             "#35b779"
            ],
            [
             0.7777777777777778,
             "#6ece58"
            ],
            [
             0.8888888888888888,
             "#b5de2b"
            ],
            [
             1,
             "#fde725"
            ]
           ]
          },
          "colorway": [
           "#1F77B4",
           "#FF7F0E",
           "#2CA02C",
           "#D62728",
           "#9467BD",
           "#8C564B",
           "#E377C2",
           "#7F7F7F",
           "#BCBD22",
           "#17BECF"
          ],
          "font": {
           "color": "rgb(36,36,36)"
          },
          "geo": {
           "bgcolor": "white",
           "lakecolor": "white",
           "landcolor": "white",
           "showlakes": true,
           "showland": true,
           "subunitcolor": "white"
          },
          "hoverlabel": {
           "align": "left"
          },
          "hovermode": "closest",
          "mapbox": {
           "style": "light"
          },
          "paper_bgcolor": "white",
          "plot_bgcolor": "white",
          "polar": {
           "angularaxis": {
            "gridcolor": "rgb(232,232,232)",
            "linecolor": "rgb(36,36,36)",
            "showgrid": false,
            "showline": true,
            "ticks": "outside"
           },
           "bgcolor": "white",
           "radialaxis": {
            "gridcolor": "rgb(232,232,232)",
            "linecolor": "rgb(36,36,36)",
            "showgrid": false,
            "showline": true,
            "ticks": "outside"
           }
          },
          "scene": {
           "xaxis": {
            "backgroundcolor": "white",
            "gridcolor": "rgb(232,232,232)",
            "gridwidth": 2,
            "linecolor": "rgb(36,36,36)",
            "showbackground": true,
            "showgrid": false,
            "showline": true,
            "ticks": "outside",
            "zeroline": false,
            "zerolinecolor": "rgb(36,36,36)"
           },
           "yaxis": {
            "backgroundcolor": "white",
            "gridcolor": "rgb(232,232,232)",
            "gridwidth": 2,
            "linecolor": "rgb(36,36,36)",
            "showbackground": true,
            "showgrid": false,
            "showline": true,
            "ticks": "outside",
            "zeroline": false,
            "zerolinecolor": "rgb(36,36,36)"
           },
           "zaxis": {
            "backgroundcolor": "white",
            "gridcolor": "rgb(232,232,232)",
            "gridwidth": 2,
            "linecolor": "rgb(36,36,36)",
            "showbackground": true,
            "showgrid": false,
            "showline": true,
            "ticks": "outside",
            "zeroline": false,
            "zerolinecolor": "rgb(36,36,36)"
           }
          },
          "shapedefaults": {
           "fillcolor": "black",
           "line": {
            "width": 0
           },
           "opacity": 0.3
          },
          "ternary": {
           "aaxis": {
            "gridcolor": "rgb(232,232,232)",
            "linecolor": "rgb(36,36,36)",
            "showgrid": false,
            "showline": true,
            "ticks": "outside"
           },
           "baxis": {
            "gridcolor": "rgb(232,232,232)",
            "linecolor": "rgb(36,36,36)",
            "showgrid": false,
            "showline": true,
            "ticks": "outside"
           },
           "bgcolor": "white",
           "caxis": {
            "gridcolor": "rgb(232,232,232)",
            "linecolor": "rgb(36,36,36)",
            "showgrid": false,
            "showline": true,
            "ticks": "outside"
           }
          },
          "title": {
           "x": 0.05
          },
          "xaxis": {
           "automargin": true,
           "gridcolor": "rgb(232,232,232)",
           "linecolor": "rgb(36,36,36)",
           "showgrid": false,
           "showline": true,
           "ticks": "outside",
           "title": {
            "standoff": 15
           },
           "zeroline": false,
           "zerolinecolor": "rgb(36,36,36)"
          },
          "yaxis": {
           "automargin": true,
           "gridcolor": "rgb(232,232,232)",
           "linecolor": "rgb(36,36,36)",
           "showgrid": false,
           "showline": true,
           "ticks": "outside",
           "title": {
            "standoff": 15
           },
           "zeroline": false,
           "zerolinecolor": "rgb(36,36,36)"
          }
         }
        },
        "title": {
         "text": "Leave-One-Out Validation"
        },
        "width": 1000,
        "xaxis": {
         "anchor": "y",
         "domain": [
          0,
          1
         ],
         "title": {
          "text": "Measured Inihibition (%)"
         }
        },
        "yaxis": {
         "anchor": "x",
         "domain": [
          0,
          1
         ],
         "title": {
          "text": "ML Predicted Inhibition (%)"
         }
        }
       }
      },
      "text/html": [
       "<div>                            <div id=\"8723049f-a2a5-46b3-a179-bd19774cf863\" class=\"plotly-graph-div\" style=\"height:800px; width:1000px;\"></div>            <script type=\"text/javascript\">                require([\"plotly\"], function(Plotly) {                    window.PLOTLYENV=window.PLOTLYENV || {};                                    if (document.getElementById(\"8723049f-a2a5-46b3-a179-bd19774cf863\")) {                    Plotly.newPlot(                        \"8723049f-a2a5-46b3-a179-bd19774cf863\",                        [{\"customdata\":[[48.2],[90.1],[90.5],[16.400000000000006],[95.2],[84.8],[16.799999999999997],[17.400000000000006],[55.9],[94.4],[60.8],[26.599999999999994],[35.5],[41.4],[19.099999999999994],[66.3],[58.9],[75.4],[17.900000000000006],[64.9],[40.5],[16.400000000000006],[15.0],[16.099999999999994],[15.5],[22.200000000000003],[17.799999999999997],[20.0],[31.200000000000003],[21.5],[38.1],[81.3],[66.4],[90.5],[80.9],[96.4],[54.0],[20.200000000000003],[28.5],[20.0],[34.2],[28.0],[69.5],[50.3],[59.2],[52.8],[58.7],[88.0],[33.5],[14.099999999999994],[40.3],[37.3],[19.599999999999994],[34.900000000000006],[17.799999999999997],[20.599999999999994],[17.700000000000003],[38.0],[83.5],[13.5],[90.1],[36.7],[33.8],[88.3],[71.7],[25.5],[28.599999999999994],[28.5],[61.5],[55.3],[68.8],[16.400000000000006],[36.3],[79.5],[75.2],[27.0],[18.0],[53.8],[16.0],[62.2],[16.299999999999997],[26.0],[83.0],[58.7],[20.700000000000003],[80.2],[45.6],[68.7],[85.0],[78.4],[17.599999999999994],[16.0],[60.1],[92.0],[49.7],[41.1],[88.3],[27.5],[79.8],[25.599999999999994],[28.599999999999994],[17.799999999999997],[58.4],[53.0],[19.0],[46.4],[82.1],[87.3],[33.5],[38.5],[16.900000000000006],[77.1],[20.200000000000003],[87.6],[84.7],[76.2],[64.9],[51.6],[13.5],[16.700000000000003],[56.5],[74.9],[36.2],[24.5],[22.599999999999994],[35.5],[91.4],[80.2],[41.2],[27.599999999999994],[33.599999999999994],[19.099999999999994],[55.7],[16.5],[17.400000000000006],[65.9],[34.599999999999994],[15.0],[39.2],[58.0],[30.5],[40.5],[14.099999999999994],[52.6],[94.8],[21.099999999999994],[41.1],[32.2],[35.400000000000006],[76.1],[19.700000000000003],[32.900000000000006],[45.2],[79.3],[15.099999999999994],[18.0],[83.4],[81.3],[22.700000000000003],[97.4],[17.0],[17.5],[17.5],[23.0],[32.5],[65.1],[18.099999999999994],[16.200000000000003],[19.5],[19.0],[33.7],[91.6],[33.2],[65.9],[21.700000000000003],[24.200000000000003],[22.200000000000003],[86.8],[15.5],[16.599999999999994],[63.9],[49.1],[36.8],[20.200000000000003],[12.0],[15.599999999999994],[17.599999999999994],[16.700000000000003],[49.2],[26.700000000000003],[22.200000000000003],[13.0],[16.5],[15.5],[65.2],[35.599999999999994],[83.8],[24.700000000000003],[31.700000000000003],[21.0],[21.099999999999994],[20.200000000000003],[12.599999999999994],[15.5],[75.4],[34.5],[27.700000000000003]],\"hovertemplate\":\"Measured Inihibition (%)=%{x}\\u003cbr\\u003eML Predicted Inhibition (%)=%{y}\\u003cbr\\u003eMeasured Inhibition (%)=%{customdata[0]}\\u003cbr\\u003eyield (%)=%{marker.color}\\u003cextra\\u003e\\u003c\\u002fextra\\u003e\",\"legendgroup\":\"\",\"marker\":{\"color\":[96.0,100.0,93.0,0.0,82.0,85.0,0.0,0.0,100.0,100.0,100.0,0.0,92.0,89.0,0.0,100.0,0.0,94.0,0.0,0.0,90.0,0.0,0.0,0.0,0.0,95.0,1.0,0.0,89.0,0.0,93.0,100.0,77.0,89.0,92.0,73.0,76.0,2.0,66.0,67.0,54.0,0.0,64.0,100.0,0.0,100.0,83.0,52.0,65.0,0.0,22.0,100.0,0.0,5.0,0.0,0.0,0.0,49.0,36.0,0.0,81.0,61.0,100.0,100.0,46.0,10.0,25.0,100.0,0.0,0.0,18.0,0.0,0.0,100.0,98.0,0.0,0.0,88.0,24.0,36.0,0.0,100.0,93.0,59.0,0.0,25.0,61.0,43.0,94.0,100.0,0.0,0.0,49.0,100.0,61.0,36.0,94.0,21.0,30.0,0.0,36.0,7.0,86.0,67.0,68.0,43.0,100.0,91.0,39.0,32.0,32.0,76.0,35.0,95.0,100.0,100.0,50.0,67.0,0.0,0.0,90.0,80.0,18.0,11.0,64.0,93.0,88.0,100.0,22.0,96.0,71.0,0.0,0.0,0.0,41.0,100.0,42.0,0.0,88.0,66.0,0.0,96.0,75.0,39.0,96.0,0.0,93.0,97.0,97.0,98.0,0.0,37.0,43.0,71.0,0.0,0.0,100.0,35.0,0.0,100.0,0.0,0.0,0.0,96.0,98.0,100.0,0.0,0.0,0.0,0.0,0.0,91.0,100.0,6.0,63.0,33.0,5.0,42.0,0.0,0.0,77.0,42.0,24.0,76.0,85.0,77.0,0.0,34.0,0.0,0.0,18.0,0.0,0.0,0.0,95.0,66.0,68.0,0.0,32.0,0.0,42.0,0.0,0.0,0.0,98.0,100.0,88.0],\"coloraxis\":\"coloraxis\",\"symbol\":\"circle\",\"size\":15},\"mode\":\"markers\",\"name\":\"\",\"orientation\":\"v\",\"showlegend\":false,\"x\":[48.2,90.1,90.5,16.400000000000006,95.2,84.8,16.799999999999997,17.400000000000006,55.9,94.4,60.8,26.599999999999994,35.5,41.4,19.099999999999994,66.3,58.9,75.4,17.900000000000006,64.9,40.5,16.400000000000006,15.0,16.099999999999994,15.5,22.200000000000003,17.799999999999997,20.0,31.200000000000003,21.5,38.1,81.3,66.4,90.5,80.9,96.4,54.0,20.200000000000003,28.5,20.0,34.2,28.0,69.5,50.3,59.2,52.8,58.7,88.0,33.5,14.099999999999994,40.3,37.3,19.599999999999994,34.900000000000006,17.799999999999997,20.599999999999994,17.700000000000003,38.0,83.5,13.5,90.1,36.7,33.8,88.3,71.7,25.5,28.599999999999994,28.5,61.5,55.3,68.8,16.400000000000006,36.3,79.5,75.2,27.0,18.0,53.8,16.0,62.2,16.299999999999997,26.0,83.0,58.7,20.700000000000003,80.2,45.6,68.7,85.0,78.4,17.599999999999994,16.0,60.1,92.0,49.7,41.1,88.3,27.5,79.8,25.599999999999994,28.599999999999994,17.799999999999997,58.4,53.0,19.0,46.4,82.1,87.3,33.5,38.5,16.900000000000006,77.1,20.200000000000003,87.6,84.7,76.2,64.9,51.6,13.5,16.700000000000003,56.5,74.9,36.2,24.5,22.599999999999994,35.5,91.4,80.2,41.2,27.599999999999994,33.599999999999994,19.099999999999994,55.7,16.5,17.400000000000006,65.9,34.599999999999994,15.0,39.2,58.0,30.5,40.5,14.099999999999994,52.6,94.8,21.099999999999994,41.1,32.2,35.400000000000006,76.1,19.700000000000003,32.900000000000006,45.2,79.3,15.099999999999994,18.0,83.4,81.3,22.700000000000003,97.4,17.0,17.5,17.5,23.0,32.5,65.1,18.099999999999994,16.200000000000003,19.5,19.0,33.7,91.6,33.2,65.9,21.700000000000003,24.200000000000003,22.200000000000003,86.8,15.5,16.599999999999994,63.9,49.1,36.8,20.200000000000003,12.0,15.599999999999994,17.599999999999994,16.700000000000003,49.2,26.700000000000003,22.200000000000003,13.0,16.5,15.5,65.2,35.599999999999994,83.8,24.700000000000003,31.700000000000003,21.0,21.099999999999994,20.200000000000003,12.599999999999994,15.5,75.4,34.5,27.700000000000003],\"xaxis\":\"x\",\"y\":[51.89780000000029,28.64579999999999,68.75259999999999,39.33300000000009,33.18400000000007,23.55519999999996,33.632400000000025,18.8524,32.42639999999995,83.5722000000001,31.80660000000001,20.22759999999993,39.07180000000002,38.47560000000003,64.21080000000012,38.90680000000002,26.0826,36.18780000000004,20.27860000000004,81.6430000000003,20.766600000000007,23.759799999999967,17.305200000000017,26.16379999999992,44.2642,23.828599999999955,23.628199999999985,19.302399999999945,50.29900000000005,41.33780000000004,45.46280000000013,82.09100000000032,85.31260000000007,80.48400000000045,81.32760000000032,43.08060000000017,61.14339999999983,18.81600000000002,53.008200000000016,43.90219999999989,25.720199999999988,20.27420000000003,38.34120000000002,49.48900000000001,21.94259999999998,38.57840000000002,42.37560000000003,74.76940000000018,32.10000000000002,21.38280000000004,25.86240000000004,27.52819999999999,23.39399999999993,21.58640000000001,19.915,21.184000000000022,21.034399999999945,29.355199999999943,61.73639999999982,24.290399999999927,80.17260000000005,26.615799999999982,79.46979999999995,85.85220000000004,44.91180000000005,33.89519999999993,19.990399999999937,37.96899999999993,34.72439999999988,44.50319999999991,41.03979999999989,20.78819999999996,25.93940000000008,33.875999999999884,47.06980000000002,39.92799999999999,17.212999999999987,49.17280000000006,34.47219999999993,49.07040000000004,19.58379999999995,28.703800000000047,56.87060000000008,42.445800000000105,47.84740000000003,46.98920000000005,83.33120000000008,29.89500000000009,76.99280000000022,51.595800000000025,25.81439999999995,29.439199999999992,24.41920000000002,86.37160000000023,25.755800000000008,30.935199999999973,85.97440000000016,20.28480000000005,81.58880000000019,17.999799999999933,22.89319999999997,19.97140000000004,40.22500000000003,42.30540000000005,51.51059999999973,44.95979999999994,74.34120000000043,79.79480000000011,36.97940000000007,22.392999999999965,20.7834,24.047200000000007,21.939,82.51100000000022,79.9099999999998,43.4722,35.86180000000007,37.30160000000002,21.759199999999986,17.872599999999984,22.406999999999982,83.56420000000014,22.012000000000025,62.031999999999954,20.18840000000004,27.80559999999998,62.434000000000125,84.63959999999979,42.133799999999965,29.544599999999903,28.206999999999965,20.28540000000001,30.94380000000002,54.28160000000018,31.61980000000008,77.93519999999972,49.37179999999999,18.131799999999984,47.68880000000001,78.9508000000001,18.8014,50.3888000000002,18.643000000000026,34.84080000000007,79.73460000000036,29.07640000000001,42.94700000000006,32.255799999999866,29.75180000000009,28.98239999999993,29.52439999999999,24.34780000000001,19.337400000000017,34.05119999999997,23.902200000000004,18.5534,79.27260000000025,72.1360000000003,23.872800000000066,63.37319999999997,26.265199999999908,18.634400000000014,19.623000000000008,35.09119999999998,25.476400000000005,82.26279999999976,17.677000000000014,22.374400000000023,19.55199999999997,17.207200000000036,16.463400000000057,31.13099999999995,31.068200000000022,84.83080000000021,32.738400000000006,34.12740000000008,21.966800000000006,75.88040000000014,37.18460000000001,25.331599999999867,45.05100000000008,40.18559999999999,26.254599999999925,25.44139999999997,37.12700000000009,43.74980000000015,18.668199999999985,27.79659999999996,19.968799999999987,28.03559999999997,44.87980000000001,58.61000000000023,35.35099999999995,21.72660000000002,28.63419999999997,28.99500000000003,86.94280000000008,17.326199999999965,20.81760000000002,21.144000000000016,20.85780000000004,36.23059999999998,22.666600000000003,21.65619999999996,41.14260000000003,28.2744,32.70639999999998],\"yaxis\":\"y\",\"type\":\"scatter\"}],                        {\"template\":{\"data\":{\"barpolar\":[{\"marker\":{\"line\":{\"color\":\"white\",\"width\":0.5},\"pattern\":{\"fillmode\":\"overlay\",\"size\":10,\"solidity\":0.2}},\"type\":\"barpolar\"}],\"bar\":[{\"error_x\":{\"color\":\"rgb(36,36,36)\"},\"error_y\":{\"color\":\"rgb(36,36,36)\"},\"marker\":{\"line\":{\"color\":\"white\",\"width\":0.5},\"pattern\":{\"fillmode\":\"overlay\",\"size\":10,\"solidity\":0.2}},\"type\":\"bar\"}],\"carpet\":[{\"aaxis\":{\"endlinecolor\":\"rgb(36,36,36)\",\"gridcolor\":\"white\",\"linecolor\":\"white\",\"minorgridcolor\":\"white\",\"startlinecolor\":\"rgb(36,36,36)\"},\"baxis\":{\"endlinecolor\":\"rgb(36,36,36)\",\"gridcolor\":\"white\",\"linecolor\":\"white\",\"minorgridcolor\":\"white\",\"startlinecolor\":\"rgb(36,36,36)\"},\"type\":\"carpet\"}],\"choropleth\":[{\"colorbar\":{\"outlinewidth\":1,\"tickcolor\":\"rgb(36,36,36)\",\"ticks\":\"outside\"},\"type\":\"choropleth\"}],\"contourcarpet\":[{\"colorbar\":{\"outlinewidth\":1,\"tickcolor\":\"rgb(36,36,36)\",\"ticks\":\"outside\"},\"type\":\"contourcarpet\"}],\"contour\":[{\"colorbar\":{\"outlinewidth\":1,\"tickcolor\":\"rgb(36,36,36)\",\"ticks\":\"outside\"},\"colorscale\":[[0.0,\"#440154\"],[0.1111111111111111,\"#482878\"],[0.2222222222222222,\"#3e4989\"],[0.3333333333333333,\"#31688e\"],[0.4444444444444444,\"#26828e\"],[0.5555555555555556,\"#1f9e89\"],[0.6666666666666666,\"#35b779\"],[0.7777777777777778,\"#6ece58\"],[0.8888888888888888,\"#b5de2b\"],[1.0,\"#fde725\"]],\"type\":\"contour\"}],\"heatmapgl\":[{\"colorbar\":{\"outlinewidth\":1,\"tickcolor\":\"rgb(36,36,36)\",\"ticks\":\"outside\"},\"colorscale\":[[0.0,\"#440154\"],[0.1111111111111111,\"#482878\"],[0.2222222222222222,\"#3e4989\"],[0.3333333333333333,\"#31688e\"],[0.4444444444444444,\"#26828e\"],[0.5555555555555556,\"#1f9e89\"],[0.6666666666666666,\"#35b779\"],[0.7777777777777778,\"#6ece58\"],[0.8888888888888888,\"#b5de2b\"],[1.0,\"#fde725\"]],\"type\":\"heatmapgl\"}],\"heatmap\":[{\"colorbar\":{\"outlinewidth\":1,\"tickcolor\":\"rgb(36,36,36)\",\"ticks\":\"outside\"},\"colorscale\":[[0.0,\"#440154\"],[0.1111111111111111,\"#482878\"],[0.2222222222222222,\"#3e4989\"],[0.3333333333333333,\"#31688e\"],[0.4444444444444444,\"#26828e\"],[0.5555555555555556,\"#1f9e89\"],[0.6666666666666666,\"#35b779\"],[0.7777777777777778,\"#6ece58\"],[0.8888888888888888,\"#b5de2b\"],[1.0,\"#fde725\"]],\"type\":\"heatmap\"}],\"histogram2dcontour\":[{\"colorbar\":{\"outlinewidth\":1,\"tickcolor\":\"rgb(36,36,36)\",\"ticks\":\"outside\"},\"colorscale\":[[0.0,\"#440154\"],[0.1111111111111111,\"#482878\"],[0.2222222222222222,\"#3e4989\"],[0.3333333333333333,\"#31688e\"],[0.4444444444444444,\"#26828e\"],[0.5555555555555556,\"#1f9e89\"],[0.6666666666666666,\"#35b779\"],[0.7777777777777778,\"#6ece58\"],[0.8888888888888888,\"#b5de2b\"],[1.0,\"#fde725\"]],\"type\":\"histogram2dcontour\"}],\"histogram2d\":[{\"colorbar\":{\"outlinewidth\":1,\"tickcolor\":\"rgb(36,36,36)\",\"ticks\":\"outside\"},\"colorscale\":[[0.0,\"#440154\"],[0.1111111111111111,\"#482878\"],[0.2222222222222222,\"#3e4989\"],[0.3333333333333333,\"#31688e\"],[0.4444444444444444,\"#26828e\"],[0.5555555555555556,\"#1f9e89\"],[0.6666666666666666,\"#35b779\"],[0.7777777777777778,\"#6ece58\"],[0.8888888888888888,\"#b5de2b\"],[1.0,\"#fde725\"]],\"type\":\"histogram2d\"}],\"histogram\":[{\"marker\":{\"line\":{\"color\":\"white\",\"width\":0.6}},\"type\":\"histogram\"}],\"mesh3d\":[{\"colorbar\":{\"outlinewidth\":1,\"tickcolor\":\"rgb(36,36,36)\",\"ticks\":\"outside\"},\"type\":\"mesh3d\"}],\"parcoords\":[{\"line\":{\"colorbar\":{\"outlinewidth\":1,\"tickcolor\":\"rgb(36,36,36)\",\"ticks\":\"outside\"}},\"type\":\"parcoords\"}],\"pie\":[{\"automargin\":true,\"type\":\"pie\"}],\"scatter3d\":[{\"line\":{\"colorbar\":{\"outlinewidth\":1,\"tickcolor\":\"rgb(36,36,36)\",\"ticks\":\"outside\"}},\"marker\":{\"colorbar\":{\"outlinewidth\":1,\"tickcolor\":\"rgb(36,36,36)\",\"ticks\":\"outside\"}},\"type\":\"scatter3d\"}],\"scattercarpet\":[{\"marker\":{\"colorbar\":{\"outlinewidth\":1,\"tickcolor\":\"rgb(36,36,36)\",\"ticks\":\"outside\"}},\"type\":\"scattercarpet\"}],\"scattergeo\":[{\"marker\":{\"colorbar\":{\"outlinewidth\":1,\"tickcolor\":\"rgb(36,36,36)\",\"ticks\":\"outside\"}},\"type\":\"scattergeo\"}],\"scattergl\":[{\"marker\":{\"colorbar\":{\"outlinewidth\":1,\"tickcolor\":\"rgb(36,36,36)\",\"ticks\":\"outside\"}},\"type\":\"scattergl\"}],\"scattermapbox\":[{\"marker\":{\"colorbar\":{\"outlinewidth\":1,\"tickcolor\":\"rgb(36,36,36)\",\"ticks\":\"outside\"}},\"type\":\"scattermapbox\"}],\"scatterpolargl\":[{\"marker\":{\"colorbar\":{\"outlinewidth\":1,\"tickcolor\":\"rgb(36,36,36)\",\"ticks\":\"outside\"}},\"type\":\"scatterpolargl\"}],\"scatterpolar\":[{\"marker\":{\"colorbar\":{\"outlinewidth\":1,\"tickcolor\":\"rgb(36,36,36)\",\"ticks\":\"outside\"}},\"type\":\"scatterpolar\"}],\"scatter\":[{\"fillpattern\":{\"fillmode\":\"overlay\",\"size\":10,\"solidity\":0.2},\"type\":\"scatter\"}],\"scatterternary\":[{\"marker\":{\"colorbar\":{\"outlinewidth\":1,\"tickcolor\":\"rgb(36,36,36)\",\"ticks\":\"outside\"}},\"type\":\"scatterternary\"}],\"surface\":[{\"colorbar\":{\"outlinewidth\":1,\"tickcolor\":\"rgb(36,36,36)\",\"ticks\":\"outside\"},\"colorscale\":[[0.0,\"#440154\"],[0.1111111111111111,\"#482878\"],[0.2222222222222222,\"#3e4989\"],[0.3333333333333333,\"#31688e\"],[0.4444444444444444,\"#26828e\"],[0.5555555555555556,\"#1f9e89\"],[0.6666666666666666,\"#35b779\"],[0.7777777777777778,\"#6ece58\"],[0.8888888888888888,\"#b5de2b\"],[1.0,\"#fde725\"]],\"type\":\"surface\"}],\"table\":[{\"cells\":{\"fill\":{\"color\":\"rgb(237,237,237)\"},\"line\":{\"color\":\"white\"}},\"header\":{\"fill\":{\"color\":\"rgb(217,217,217)\"},\"line\":{\"color\":\"white\"}},\"type\":\"table\"}]},\"layout\":{\"annotationdefaults\":{\"arrowhead\":0,\"arrowwidth\":1},\"autotypenumbers\":\"strict\",\"coloraxis\":{\"colorbar\":{\"outlinewidth\":1,\"tickcolor\":\"rgb(36,36,36)\",\"ticks\":\"outside\"}},\"colorscale\":{\"diverging\":[[0.0,\"rgb(103,0,31)\"],[0.1,\"rgb(178,24,43)\"],[0.2,\"rgb(214,96,77)\"],[0.3,\"rgb(244,165,130)\"],[0.4,\"rgb(253,219,199)\"],[0.5,\"rgb(247,247,247)\"],[0.6,\"rgb(209,229,240)\"],[0.7,\"rgb(146,197,222)\"],[0.8,\"rgb(67,147,195)\"],[0.9,\"rgb(33,102,172)\"],[1.0,\"rgb(5,48,97)\"]],\"sequential\":[[0.0,\"#440154\"],[0.1111111111111111,\"#482878\"],[0.2222222222222222,\"#3e4989\"],[0.3333333333333333,\"#31688e\"],[0.4444444444444444,\"#26828e\"],[0.5555555555555556,\"#1f9e89\"],[0.6666666666666666,\"#35b779\"],[0.7777777777777778,\"#6ece58\"],[0.8888888888888888,\"#b5de2b\"],[1.0,\"#fde725\"]],\"sequentialminus\":[[0.0,\"#440154\"],[0.1111111111111111,\"#482878\"],[0.2222222222222222,\"#3e4989\"],[0.3333333333333333,\"#31688e\"],[0.4444444444444444,\"#26828e\"],[0.5555555555555556,\"#1f9e89\"],[0.6666666666666666,\"#35b779\"],[0.7777777777777778,\"#6ece58\"],[0.8888888888888888,\"#b5de2b\"],[1.0,\"#fde725\"]]},\"colorway\":[\"#1F77B4\",\"#FF7F0E\",\"#2CA02C\",\"#D62728\",\"#9467BD\",\"#8C564B\",\"#E377C2\",\"#7F7F7F\",\"#BCBD22\",\"#17BECF\"],\"font\":{\"color\":\"rgb(36,36,36)\"},\"geo\":{\"bgcolor\":\"white\",\"lakecolor\":\"white\",\"landcolor\":\"white\",\"showlakes\":true,\"showland\":true,\"subunitcolor\":\"white\"},\"hoverlabel\":{\"align\":\"left\"},\"hovermode\":\"closest\",\"mapbox\":{\"style\":\"light\"},\"paper_bgcolor\":\"white\",\"plot_bgcolor\":\"white\",\"polar\":{\"angularaxis\":{\"gridcolor\":\"rgb(232,232,232)\",\"linecolor\":\"rgb(36,36,36)\",\"showgrid\":false,\"showline\":true,\"ticks\":\"outside\"},\"bgcolor\":\"white\",\"radialaxis\":{\"gridcolor\":\"rgb(232,232,232)\",\"linecolor\":\"rgb(36,36,36)\",\"showgrid\":false,\"showline\":true,\"ticks\":\"outside\"}},\"scene\":{\"xaxis\":{\"backgroundcolor\":\"white\",\"gridcolor\":\"rgb(232,232,232)\",\"gridwidth\":2,\"linecolor\":\"rgb(36,36,36)\",\"showbackground\":true,\"showgrid\":false,\"showline\":true,\"ticks\":\"outside\",\"zeroline\":false,\"zerolinecolor\":\"rgb(36,36,36)\"},\"yaxis\":{\"backgroundcolor\":\"white\",\"gridcolor\":\"rgb(232,232,232)\",\"gridwidth\":2,\"linecolor\":\"rgb(36,36,36)\",\"showbackground\":true,\"showgrid\":false,\"showline\":true,\"ticks\":\"outside\",\"zeroline\":false,\"zerolinecolor\":\"rgb(36,36,36)\"},\"zaxis\":{\"backgroundcolor\":\"white\",\"gridcolor\":\"rgb(232,232,232)\",\"gridwidth\":2,\"linecolor\":\"rgb(36,36,36)\",\"showbackground\":true,\"showgrid\":false,\"showline\":true,\"ticks\":\"outside\",\"zeroline\":false,\"zerolinecolor\":\"rgb(36,36,36)\"}},\"shapedefaults\":{\"fillcolor\":\"black\",\"line\":{\"width\":0},\"opacity\":0.3},\"ternary\":{\"aaxis\":{\"gridcolor\":\"rgb(232,232,232)\",\"linecolor\":\"rgb(36,36,36)\",\"showgrid\":false,\"showline\":true,\"ticks\":\"outside\"},\"baxis\":{\"gridcolor\":\"rgb(232,232,232)\",\"linecolor\":\"rgb(36,36,36)\",\"showgrid\":false,\"showline\":true,\"ticks\":\"outside\"},\"bgcolor\":\"white\",\"caxis\":{\"gridcolor\":\"rgb(232,232,232)\",\"linecolor\":\"rgb(36,36,36)\",\"showgrid\":false,\"showline\":true,\"ticks\":\"outside\"}},\"title\":{\"x\":0.05},\"xaxis\":{\"automargin\":true,\"gridcolor\":\"rgb(232,232,232)\",\"linecolor\":\"rgb(36,36,36)\",\"showgrid\":false,\"showline\":true,\"ticks\":\"outside\",\"title\":{\"standoff\":15},\"zeroline\":false,\"zerolinecolor\":\"rgb(36,36,36)\"},\"yaxis\":{\"automargin\":true,\"gridcolor\":\"rgb(232,232,232)\",\"linecolor\":\"rgb(36,36,36)\",\"showgrid\":false,\"showline\":true,\"ticks\":\"outside\",\"title\":{\"standoff\":15},\"zeroline\":false,\"zerolinecolor\":\"rgb(36,36,36)\"}}},\"xaxis\":{\"anchor\":\"y\",\"domain\":[0.0,1.0],\"title\":{\"text\":\"Measured Inihibition (%)\"}},\"yaxis\":{\"anchor\":\"x\",\"domain\":[0.0,1.0],\"title\":{\"text\":\"ML Predicted Inhibition (%)\"}},\"coloraxis\":{\"colorbar\":{\"title\":{\"text\":\"yield (%)\"}},\"colorscale\":[[0.0,\"#440154\"],[0.1111111111111111,\"#482878\"],[0.2222222222222222,\"#3e4989\"],[0.3333333333333333,\"#31688e\"],[0.4444444444444444,\"#26828e\"],[0.5555555555555556,\"#1f9e89\"],[0.6666666666666666,\"#35b779\"],[0.7777777777777778,\"#6ece58\"],[0.8888888888888888,\"#b5de2b\"],[1.0,\"#fde725\"]]},\"legend\":{\"tracegroupgap\":0},\"title\":{\"text\":\"Leave-One-Out Validation\"},\"height\":800,\"width\":1000,\"shapes\":[{\"line\":{\"color\":\"black\",\"dash\":\"dash\",\"width\":2},\"opacity\":1,\"type\":\"line\",\"x0\":0,\"x1\":100,\"xref\":\"x\",\"y0\":0,\"y1\":100,\"yref\":\"y\"}]},                        {\"responsive\": true}                    ).then(function(){\n",
       "                            \n",
       "var gd = document.getElementById('8723049f-a2a5-46b3-a179-bd19774cf863');\n",
       "var x = new MutationObserver(function (mutations, observer) {{\n",
       "        var display = window.getComputedStyle(gd).display;\n",
       "        if (!display || display === 'none') {{\n",
       "            console.log([gd, 'removed!']);\n",
       "            Plotly.purge(gd);\n",
       "            observer.disconnect();\n",
       "        }}\n",
       "}});\n",
       "\n",
       "// Listen for the removal of the full notebook cells\n",
       "var notebookContainer = gd.closest('#notebook-container');\n",
       "if (notebookContainer) {{\n",
       "    x.observe(notebookContainer, {childList: true});\n",
       "}}\n",
       "\n",
       "// Listen for the clearing of the current output cell\n",
       "var outputEl = gd.closest('.output');\n",
       "if (outputEl) {{\n",
       "    x.observe(outputEl, {childList: true});\n",
       "}}\n",
       "\n",
       "                        })                };                });            </script>        </div>"
      ]
     },
     "metadata": {},
     "output_type": "display_data"
    }
   ],
   "source": [
    "df_without_errors = merged_df.query('`Inhibition (%)` == `Measured Inhibition (%)`')\n",
    "\n",
    "fig = px.scatter(df_without_errors, \n",
    "                 x='Inhibition (%)',\n",
    "                 y='RF Predicted Inhibition (%)',\n",
    "                 color='yield (%)',\n",
    "                 hover_data=['Measured Inhibition (%)'],\n",
    "                 width=1000,\n",
    "                 height=800, \n",
    "                 title='Leave-One-Out Validation',\n",
    "                 labels={\n",
    "                     \"RF Predicted Inhibition (%)\": \"ML Predicted Inhibition (%)\",\n",
    "                     \"Inhibition (%)\": \"Measured Inihibition (%)\",\n",
    "                 },\n",
    "                 template='simple_white',)\n",
    "\n",
    "fig.add_shape(type='line',\n",
    "              x0=0,\n",
    "              y0=0,\n",
    "              x1=100,\n",
    "              y1=100,\n",
    "              line=dict(color='black', dash='dash'),\n",
    "              xref='x',\n",
    "              yref='y',\n",
    "              opacity=1,\n",
    "              line_width=2\n",
    "              )\n",
    "\n",
    "fig.update_traces(marker={'size': 15})\n",
    "fig.show()\n"
   ]
  }
 ],
 "metadata": {
  "interpreter": {
   "hash": "b42c6d3c02a83a6d9abf245c57d771096a6e46f51733ba3bb0b5555987c52882"
  },
  "kernelspec": {
   "display_name": "Python 3 (ipykernel)",
   "language": "python",
   "name": "python3"
  },
  "language_info": {
   "codemirror_mode": {
    "name": "ipython",
    "version": 3
   },
   "file_extension": ".py",
   "mimetype": "text/x-python",
   "name": "python",
   "nbconvert_exporter": "python",
   "pygments_lexer": "ipython3",
   "version": "3.10.13"
  },
  "orig_nbformat": 4
 },
 "nbformat": 4,
 "nbformat_minor": 2
}
