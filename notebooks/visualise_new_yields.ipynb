{
 "cells": [
  {
   "cell_type": "markdown",
   "metadata": {},
   "source": [
    "Imports"
   ]
  },
  {
   "cell_type": "code",
   "execution_count": 1,
   "metadata": {},
   "outputs": [
    {
     "name": "stderr",
     "output_type": "stream",
     "text": [
      "INFO:rdkit:Enabling RDKit 2021.09.4 jupyter extensions\n"
     ]
    }
   ],
   "source": [
    "import pandas as pd\n",
    "from tqdm import tqdm\n",
    "\n",
    "from rdkit import Chem\n",
    "from rdkit import DataStructs\n",
    "from rdkit.Chem import AllChem\n",
    "import mols2grid\n",
    "\n",
    "import useful_rdkit_utils\n",
    "\n",
    "from IPython.display import display\n",
    "\n",
    "import plotly.express as px\n",
    "import molplotly\n"
   ]
  },
  {
   "cell_type": "markdown",
   "metadata": {},
   "source": [
    "Load spreadsheets"
   ]
  },
  {
   "cell_type": "code",
   "execution_count": 2,
   "metadata": {},
   "outputs": [
    {
     "data": {
      "text/html": [
       "<div>\n",
       "<style scoped>\n",
       "    .dataframe tbody tr th:only-of-type {\n",
       "        vertical-align: middle;\n",
       "    }\n",
       "\n",
       "    .dataframe tbody tr th {\n",
       "        vertical-align: top;\n",
       "    }\n",
       "\n",
       "    .dataframe thead th {\n",
       "        text-align: right;\n",
       "    }\n",
       "</style>\n",
       "<table border=\"1\" class=\"dataframe\">\n",
       "  <thead>\n",
       "    <tr style=\"text-align: right;\">\n",
       "      <th></th>\n",
       "      <th>smiles</th>\n",
       "      <th>activity</th>\n",
       "    </tr>\n",
       "  </thead>\n",
       "  <tbody>\n",
       "    <tr>\n",
       "      <th>0</th>\n",
       "      <td>O=C(CN(CC1C(Nc2cncc3ccccc23)=O)Cc(cc2)c1cc2Cl)...</td>\n",
       "      <td>51.8</td>\n",
       "    </tr>\n",
       "    <tr>\n",
       "      <th>1</th>\n",
       "      <td>O=C(CN(CC1C(Nc2cncc3ccccc23)=O)Cc(cc2)c1cc2Cl)...</td>\n",
       "      <td>9.9</td>\n",
       "    </tr>\n",
       "    <tr>\n",
       "      <th>2</th>\n",
       "      <td>O=C(CN(CC1C(Nc2cncc3ccccc23)=O)Cc(cc2)c1cc2Cl)...</td>\n",
       "      <td>9.5</td>\n",
       "    </tr>\n",
       "    <tr>\n",
       "      <th>3</th>\n",
       "      <td>[O-][N+](c(cc1)ccc1NC(CN(CC1C(Nc2cncc3ccccc23)...</td>\n",
       "      <td>83.6</td>\n",
       "    </tr>\n",
       "    <tr>\n",
       "      <th>4</th>\n",
       "      <td>CNC(c(cccc1)c1NC(CN(CC1C(Nc2cncc3ccccc23)=O)Cc...</td>\n",
       "      <td>71.1</td>\n",
       "    </tr>\n",
       "    <tr>\n",
       "      <th>...</th>\n",
       "      <td>...</td>\n",
       "      <td>...</td>\n",
       "    </tr>\n",
       "    <tr>\n",
       "      <th>295</th>\n",
       "      <td>N#Cc(cc1)cc(I)c1NC(CN(CC1C(Nc2cncc3ccccc23)=O)...</td>\n",
       "      <td>84.5</td>\n",
       "    </tr>\n",
       "    <tr>\n",
       "      <th>296</th>\n",
       "      <td>O=C(CN(CC1C(Nc2cncc3ccccc23)=O)Cc(cc2)c1cc2Cl)...</td>\n",
       "      <td>76.5</td>\n",
       "    </tr>\n",
       "    <tr>\n",
       "      <th>297</th>\n",
       "      <td>O=C(CN(CC1C(Nc2cncc3ccccc23)=O)Cc(cc2)c1cc2Cl)...</td>\n",
       "      <td>24.6</td>\n",
       "    </tr>\n",
       "    <tr>\n",
       "      <th>298</th>\n",
       "      <td>Cc1cccc(C)c1NC(CN(CC1)CCN1C(CN(CC1C(Nc2cncc3cc...</td>\n",
       "      <td>65.5</td>\n",
       "    </tr>\n",
       "    <tr>\n",
       "      <th>299</th>\n",
       "      <td>O=C(CN(CC1C(Nc2cncc3ccccc23)=O)Cc(cc2)c1cc2Cl)...</td>\n",
       "      <td>72.3</td>\n",
       "    </tr>\n",
       "  </tbody>\n",
       "</table>\n",
       "<p>300 rows × 2 columns</p>\n",
       "</div>"
      ],
      "text/plain": [
       "                                                smiles  activity\n",
       "0    O=C(CN(CC1C(Nc2cncc3ccccc23)=O)Cc(cc2)c1cc2Cl)...      51.8\n",
       "1    O=C(CN(CC1C(Nc2cncc3ccccc23)=O)Cc(cc2)c1cc2Cl)...       9.9\n",
       "2    O=C(CN(CC1C(Nc2cncc3ccccc23)=O)Cc(cc2)c1cc2Cl)...       9.5\n",
       "3    [O-][N+](c(cc1)ccc1NC(CN(CC1C(Nc2cncc3ccccc23)...      83.6\n",
       "4    CNC(c(cccc1)c1NC(CN(CC1C(Nc2cncc3ccccc23)=O)Cc...      71.1\n",
       "..                                                 ...       ...\n",
       "295  N#Cc(cc1)cc(I)c1NC(CN(CC1C(Nc2cncc3ccccc23)=O)...      84.5\n",
       "296  O=C(CN(CC1C(Nc2cncc3ccccc23)=O)Cc(cc2)c1cc2Cl)...      76.5\n",
       "297  O=C(CN(CC1C(Nc2cncc3ccccc23)=O)Cc(cc2)c1cc2Cl)...      24.6\n",
       "298  Cc1cccc(C)c1NC(CN(CC1)CCN1C(CN(CC1C(Nc2cncc3cc...      65.5\n",
       "299  O=C(CN(CC1C(Nc2cncc3ccccc23)=O)Cc(cc2)c1cc2Cl)...      72.3\n",
       "\n",
       "[300 rows x 2 columns]"
      ]
     },
     "metadata": {},
     "output_type": "display_data"
    },
    {
     "data": {
      "text/html": [
       "<div>\n",
       "<style scoped>\n",
       "    .dataframe tbody tr th:only-of-type {\n",
       "        vertical-align: middle;\n",
       "    }\n",
       "\n",
       "    .dataframe tbody tr th {\n",
       "        vertical-align: top;\n",
       "    }\n",
       "\n",
       "    .dataframe thead th {\n",
       "        text-align: right;\n",
       "    }\n",
       "</style>\n",
       "<table border=\"1\" class=\"dataframe\">\n",
       "  <thead>\n",
       "    <tr style=\"text-align: right;\">\n",
       "      <th></th>\n",
       "      <th>Well</th>\n",
       "      <th>HOAt</th>\n",
       "      <th>Acid</th>\n",
       "      <th>P</th>\n",
       "      <th>random stuff</th>\n",
       "      <th>comment</th>\n",
       "      <th>yield</th>\n",
       "      <th>Plate Well</th>\n",
       "      <th>smiles</th>\n",
       "    </tr>\n",
       "  </thead>\n",
       "  <tbody>\n",
       "    <tr>\n",
       "      <th>0</th>\n",
       "      <td>A1</td>\n",
       "      <td>36</td>\n",
       "      <td>35.0</td>\n",
       "      <td>0.0</td>\n",
       "      <td>29</td>\n",
       "      <td>NaN</td>\n",
       "      <td>0%</td>\n",
       "      <td>A1</td>\n",
       "      <td>O=C(CN(CC1C(Nc2cncc3ccccc23)=O)Cc(cc2)c1cc2Cl)...</td>\n",
       "    </tr>\n",
       "    <tr>\n",
       "      <th>1</th>\n",
       "      <td>A2</td>\n",
       "      <td>45</td>\n",
       "      <td>17.0</td>\n",
       "      <td>20.0</td>\n",
       "      <td>18</td>\n",
       "      <td>NaN</td>\n",
       "      <td>36%</td>\n",
       "      <td>A10</td>\n",
       "      <td>O=C(CN(CC1C(Nc2cncc3ccccc23)=O)Cc(cc2)c1cc2Cl)...</td>\n",
       "    </tr>\n",
       "    <tr>\n",
       "      <th>2</th>\n",
       "      <td>A3</td>\n",
       "      <td>45</td>\n",
       "      <td>42.0</td>\n",
       "      <td>0.0</td>\n",
       "      <td>13</td>\n",
       "      <td>NaN</td>\n",
       "      <td>0%</td>\n",
       "      <td>A11</td>\n",
       "      <td>N#Cc(ccc(NC(CN(CC1C(Nc2cncc3ccccc23)=O)Cc(cc2)...</td>\n",
       "    </tr>\n",
       "    <tr>\n",
       "      <th>3</th>\n",
       "      <td>A4</td>\n",
       "      <td>35</td>\n",
       "      <td>29.0</td>\n",
       "      <td>32.0</td>\n",
       "      <td>4</td>\n",
       "      <td>NaN</td>\n",
       "      <td>49%</td>\n",
       "      <td>A12</td>\n",
       "      <td>CCN(CC1)CCN1c(cc1)ccc1NC(CN(CC1C(Nc2cncc3ccccc...</td>\n",
       "    </tr>\n",
       "    <tr>\n",
       "      <th>4</th>\n",
       "      <td>A5</td>\n",
       "      <td>46</td>\n",
       "      <td>0.0</td>\n",
       "      <td>49.0</td>\n",
       "      <td>5</td>\n",
       "      <td>NaN</td>\n",
       "      <td>91%</td>\n",
       "      <td>A13</td>\n",
       "      <td>CCN(CC)S(c(cc1)ccc1NC(CN(CC1C(Nc2cncc3ccccc23)...</td>\n",
       "    </tr>\n",
       "    <tr>\n",
       "      <th>...</th>\n",
       "      <td>...</td>\n",
       "      <td>...</td>\n",
       "      <td>...</td>\n",
       "      <td>...</td>\n",
       "      <td>...</td>\n",
       "      <td>...</td>\n",
       "      <td>...</td>\n",
       "      <td>...</td>\n",
       "      <td>...</td>\n",
       "    </tr>\n",
       "    <tr>\n",
       "      <th>295</th>\n",
       "      <td>P14</td>\n",
       "      <td>40</td>\n",
       "      <td>36.0</td>\n",
       "      <td>0.0</td>\n",
       "      <td>24</td>\n",
       "      <td>NaN</td>\n",
       "      <td>0%</td>\n",
       "      <td>P5</td>\n",
       "      <td>COc1cccc(CCNC(CN(CC2C(Nc3cncc4ccccc34)=O)Cc(cc...</td>\n",
       "    </tr>\n",
       "    <tr>\n",
       "      <th>296</th>\n",
       "      <td>P15</td>\n",
       "      <td>42</td>\n",
       "      <td>38.0</td>\n",
       "      <td>1.0</td>\n",
       "      <td>19</td>\n",
       "      <td>amine</td>\n",
       "      <td>2%</td>\n",
       "      <td>P6</td>\n",
       "      <td>O=C(CN(CC1C(Nc2cncc3ccccc23)=O)Cc(cc2)c1cc2Cl)...</td>\n",
       "    </tr>\n",
       "    <tr>\n",
       "      <th>297</th>\n",
       "      <td>P16</td>\n",
       "      <td>27</td>\n",
       "      <td>2.0</td>\n",
       "      <td>0.0</td>\n",
       "      <td>71</td>\n",
       "      <td>amine</td>\n",
       "      <td>0%</td>\n",
       "      <td>P7</td>\n",
       "      <td>O=C(CN(CC1C(Nc2cncc3ccccc23)=O)Cc(cc2)c1cc2Cl)...</td>\n",
       "    </tr>\n",
       "    <tr>\n",
       "      <th>298</th>\n",
       "      <td>P17</td>\n",
       "      <td>56</td>\n",
       "      <td>0.0</td>\n",
       "      <td>41.0</td>\n",
       "      <td>3</td>\n",
       "      <td>NaN</td>\n",
       "      <td>93%</td>\n",
       "      <td>P8</td>\n",
       "      <td>O=C(CN(CC1C(Nc2cncc3ccccc23)=O)Cc(cc2)c1cc2Cl)...</td>\n",
       "    </tr>\n",
       "    <tr>\n",
       "      <th>299</th>\n",
       "      <td>P18</td>\n",
       "      <td>42</td>\n",
       "      <td>37.0</td>\n",
       "      <td>1.0</td>\n",
       "      <td>20</td>\n",
       "      <td>amine</td>\n",
       "      <td>2%</td>\n",
       "      <td>P9</td>\n",
       "      <td>O=C(CN(CC1C(Nc2cncc3ccccc23)=O)Cc(cc2)c1cc2Cl)...</td>\n",
       "    </tr>\n",
       "  </tbody>\n",
       "</table>\n",
       "<p>300 rows × 9 columns</p>\n",
       "</div>"
      ],
      "text/plain": [
       "    Well  HOAt  Acid     P  random stuff comment yield Plate Well  \\\n",
       "0     A1    36  35.0   0.0            29     NaN    0%         A1   \n",
       "1     A2    45  17.0  20.0            18     NaN   36%        A10   \n",
       "2     A3    45  42.0   0.0            13     NaN    0%        A11   \n",
       "3     A4    35  29.0  32.0             4     NaN   49%        A12   \n",
       "4     A5    46   0.0  49.0             5     NaN   91%        A13   \n",
       "..   ...   ...   ...   ...           ...     ...   ...        ...   \n",
       "295  P14    40  36.0   0.0            24     NaN    0%         P5   \n",
       "296  P15    42  38.0   1.0            19   amine    2%         P6   \n",
       "297  P16    27   2.0   0.0            71   amine    0%         P7   \n",
       "298  P17    56   0.0  41.0             3     NaN   93%         P8   \n",
       "299  P18    42  37.0   1.0            20   amine    2%         P9   \n",
       "\n",
       "                                                smiles  \n",
       "0    O=C(CN(CC1C(Nc2cncc3ccccc23)=O)Cc(cc2)c1cc2Cl)...  \n",
       "1    O=C(CN(CC1C(Nc2cncc3ccccc23)=O)Cc(cc2)c1cc2Cl)...  \n",
       "2    N#Cc(ccc(NC(CN(CC1C(Nc2cncc3ccccc23)=O)Cc(cc2)...  \n",
       "3    CCN(CC1)CCN1c(cc1)ccc1NC(CN(CC1C(Nc2cncc3ccccc...  \n",
       "4    CCN(CC)S(c(cc1)ccc1NC(CN(CC1C(Nc2cncc3ccccc23)...  \n",
       "..                                                 ...  \n",
       "295  COc1cccc(CCNC(CN(CC2C(Nc3cncc4ccccc34)=O)Cc(cc...  \n",
       "296  O=C(CN(CC1C(Nc2cncc3ccccc23)=O)Cc(cc2)c1cc2Cl)...  \n",
       "297  O=C(CN(CC1C(Nc2cncc3ccccc23)=O)Cc(cc2)c1cc2Cl)...  \n",
       "298  O=C(CN(CC1C(Nc2cncc3ccccc23)=O)Cc(cc2)c1cc2Cl)...  \n",
       "299  O=C(CN(CC1C(Nc2cncc3ccccc23)=O)Cc(cc2)c1cc2Cl)...  \n",
       "\n",
       "[300 rows x 9 columns]"
      ]
     },
     "metadata": {},
     "output_type": "display_data"
    }
   ],
   "source": [
    "activity_df = pd.read_csv(\n",
    "    '../data/amine_coupling_yield_updated/activity.csv', usecols=['SMILES y', 'mean_corr_activity']).rename(columns={'SMILES y': 'smiles', 'mean_corr_activity': 'activity'})\n",
    "\n",
    "yield_df = pd.read_csv('../data/amine_coupling_yield_updated/yield.csv').rename(columns={'SMILES': 'smiles'})\n",
    "# added column titles by hand - comment, yield and Plate Well instead of Well\n",
    "\n",
    "display(activity_df)\n",
    "display(yield_df)"
   ]
  },
  {
   "cell_type": "markdown",
   "metadata": {},
   "source": [
    "Check SMILES merge"
   ]
  },
  {
   "cell_type": "code",
   "execution_count": 3,
   "metadata": {},
   "outputs": [
    {
     "data": {
      "text/html": [
       "<div>\n",
       "<style scoped>\n",
       "    .dataframe tbody tr th:only-of-type {\n",
       "        vertical-align: middle;\n",
       "    }\n",
       "\n",
       "    .dataframe tbody tr th {\n",
       "        vertical-align: top;\n",
       "    }\n",
       "\n",
       "    .dataframe thead th {\n",
       "        text-align: right;\n",
       "    }\n",
       "</style>\n",
       "<table border=\"1\" class=\"dataframe\">\n",
       "  <thead>\n",
       "    <tr style=\"text-align: right;\">\n",
       "      <th></th>\n",
       "      <th>smiles</th>\n",
       "      <th>activity</th>\n",
       "      <th>Well</th>\n",
       "      <th>HOAt</th>\n",
       "      <th>Acid</th>\n",
       "      <th>P</th>\n",
       "      <th>random stuff</th>\n",
       "      <th>comment</th>\n",
       "      <th>yield</th>\n",
       "      <th>Plate Well</th>\n",
       "    </tr>\n",
       "  </thead>\n",
       "  <tbody>\n",
       "    <tr>\n",
       "      <th>0</th>\n",
       "      <td>O=C(CN(CC1C(Nc2cncc3ccccc23)=O)Cc(cc2)c1cc2Cl)...</td>\n",
       "      <td>51.8</td>\n",
       "      <td>K11</td>\n",
       "      <td>39</td>\n",
       "      <td>38.0</td>\n",
       "      <td>0.0</td>\n",
       "      <td>23</td>\n",
       "      <td>NaN</td>\n",
       "      <td>0%</td>\n",
       "      <td>K19</td>\n",
       "    </tr>\n",
       "    <tr>\n",
       "      <th>1</th>\n",
       "      <td>O=C(CN(CC1C(Nc2cncc3ccccc23)=O)Cc(cc2)c1cc2Cl)...</td>\n",
       "      <td>9.9</td>\n",
       "      <td>J11</td>\n",
       "      <td>17</td>\n",
       "      <td>20.0</td>\n",
       "      <td>0.0</td>\n",
       "      <td>63</td>\n",
       "      <td>amine 55%</td>\n",
       "      <td>0%</td>\n",
       "      <td>J19</td>\n",
       "    </tr>\n",
       "    <tr>\n",
       "      <th>2</th>\n",
       "      <td>O=C(CN(CC1C(Nc2cncc3ccccc23)=O)Cc(cc2)c1cc2Cl)...</td>\n",
       "      <td>9.5</td>\n",
       "      <td>I11</td>\n",
       "      <td>40</td>\n",
       "      <td>4.0</td>\n",
       "      <td>45.0</td>\n",
       "      <td>11</td>\n",
       "      <td>NaN</td>\n",
       "      <td>75%</td>\n",
       "      <td>I19</td>\n",
       "    </tr>\n",
       "    <tr>\n",
       "      <th>3</th>\n",
       "      <td>[O-][N+](c(cc1)ccc1NC(CN(CC1C(Nc2cncc3ccccc23)...</td>\n",
       "      <td>83.6</td>\n",
       "      <td>L11</td>\n",
       "      <td>25</td>\n",
       "      <td>25.0</td>\n",
       "      <td>0.0</td>\n",
       "      <td>50</td>\n",
       "      <td>amine</td>\n",
       "      <td>0%</td>\n",
       "      <td>L19</td>\n",
       "    </tr>\n",
       "    <tr>\n",
       "      <th>4</th>\n",
       "      <td>CNC(c(cccc1)c1NC(CN(CC1C(Nc2cncc3ccccc23)=O)Cc...</td>\n",
       "      <td>71.1</td>\n",
       "      <td>P3</td>\n",
       "      <td>45</td>\n",
       "      <td>41.0</td>\n",
       "      <td>0.0</td>\n",
       "      <td>14</td>\n",
       "      <td>NaN</td>\n",
       "      <td>0%</td>\n",
       "      <td>P11</td>\n",
       "    </tr>\n",
       "    <tr>\n",
       "      <th>...</th>\n",
       "      <td>...</td>\n",
       "      <td>...</td>\n",
       "      <td>...</td>\n",
       "      <td>...</td>\n",
       "      <td>...</td>\n",
       "      <td>...</td>\n",
       "      <td>...</td>\n",
       "      <td>...</td>\n",
       "      <td>...</td>\n",
       "      <td>...</td>\n",
       "    </tr>\n",
       "    <tr>\n",
       "      <th>295</th>\n",
       "      <td>N#Cc(cc1)cc(I)c1NC(CN(CC1C(Nc2cncc3ccccc23)=O)...</td>\n",
       "      <td>84.5</td>\n",
       "      <td>L3</td>\n",
       "      <td>32</td>\n",
       "      <td>33.0</td>\n",
       "      <td>0.0</td>\n",
       "      <td>35</td>\n",
       "      <td>amine</td>\n",
       "      <td>0%</td>\n",
       "      <td>L11</td>\n",
       "    </tr>\n",
       "    <tr>\n",
       "      <th>296</th>\n",
       "      <td>O=C(CN(CC1C(Nc2cncc3ccccc23)=O)Cc(cc2)c1cc2Cl)...</td>\n",
       "      <td>76.5</td>\n",
       "      <td>P16</td>\n",
       "      <td>27</td>\n",
       "      <td>2.0</td>\n",
       "      <td>0.0</td>\n",
       "      <td>71</td>\n",
       "      <td>amine</td>\n",
       "      <td>0%</td>\n",
       "      <td>P7</td>\n",
       "    </tr>\n",
       "    <tr>\n",
       "      <th>297</th>\n",
       "      <td>O=C(CN(CC1C(Nc2cncc3ccccc23)=O)Cc(cc2)c1cc2Cl)...</td>\n",
       "      <td>24.6</td>\n",
       "      <td>H2</td>\n",
       "      <td>38</td>\n",
       "      <td>21.0</td>\n",
       "      <td>23.0</td>\n",
       "      <td>18</td>\n",
       "      <td>NaN</td>\n",
       "      <td>37%</td>\n",
       "      <td>H10</td>\n",
       "    </tr>\n",
       "    <tr>\n",
       "      <th>298</th>\n",
       "      <td>Cc1cccc(C)c1NC(CN(CC1)CCN1C(CN(CC1C(Nc2cncc3cc...</td>\n",
       "      <td>65.5</td>\n",
       "      <td>H16</td>\n",
       "      <td>48</td>\n",
       "      <td>0.0</td>\n",
       "      <td>48.0</td>\n",
       "      <td>4</td>\n",
       "      <td>NaN</td>\n",
       "      <td>92%</td>\n",
       "      <td>H6</td>\n",
       "    </tr>\n",
       "    <tr>\n",
       "      <th>299</th>\n",
       "      <td>O=C(CN(CC1C(Nc2cncc3ccccc23)=O)Cc(cc2)c1cc2Cl)...</td>\n",
       "      <td>72.3</td>\n",
       "      <td>A17</td>\n",
       "      <td>46</td>\n",
       "      <td>33.0</td>\n",
       "      <td>3.0</td>\n",
       "      <td>18</td>\n",
       "      <td>NaN</td>\n",
       "      <td>6%</td>\n",
       "      <td>A7</td>\n",
       "    </tr>\n",
       "  </tbody>\n",
       "</table>\n",
       "<p>300 rows × 10 columns</p>\n",
       "</div>"
      ],
      "text/plain": [
       "                                                smiles  activity Well  HOAt  \\\n",
       "0    O=C(CN(CC1C(Nc2cncc3ccccc23)=O)Cc(cc2)c1cc2Cl)...      51.8  K11    39   \n",
       "1    O=C(CN(CC1C(Nc2cncc3ccccc23)=O)Cc(cc2)c1cc2Cl)...       9.9  J11    17   \n",
       "2    O=C(CN(CC1C(Nc2cncc3ccccc23)=O)Cc(cc2)c1cc2Cl)...       9.5  I11    40   \n",
       "3    [O-][N+](c(cc1)ccc1NC(CN(CC1C(Nc2cncc3ccccc23)...      83.6  L11    25   \n",
       "4    CNC(c(cccc1)c1NC(CN(CC1C(Nc2cncc3ccccc23)=O)Cc...      71.1   P3    45   \n",
       "..                                                 ...       ...  ...   ...   \n",
       "295  N#Cc(cc1)cc(I)c1NC(CN(CC1C(Nc2cncc3ccccc23)=O)...      84.5   L3    32   \n",
       "296  O=C(CN(CC1C(Nc2cncc3ccccc23)=O)Cc(cc2)c1cc2Cl)...      76.5  P16    27   \n",
       "297  O=C(CN(CC1C(Nc2cncc3ccccc23)=O)Cc(cc2)c1cc2Cl)...      24.6   H2    38   \n",
       "298  Cc1cccc(C)c1NC(CN(CC1)CCN1C(CN(CC1C(Nc2cncc3cc...      65.5  H16    48   \n",
       "299  O=C(CN(CC1C(Nc2cncc3ccccc23)=O)Cc(cc2)c1cc2Cl)...      72.3  A17    46   \n",
       "\n",
       "     Acid     P  random stuff    comment yield Plate Well  \n",
       "0    38.0   0.0            23        NaN    0%        K19  \n",
       "1    20.0   0.0            63  amine 55%    0%        J19  \n",
       "2     4.0  45.0            11        NaN   75%        I19  \n",
       "3    25.0   0.0            50      amine    0%        L19  \n",
       "4    41.0   0.0            14        NaN    0%        P11  \n",
       "..    ...   ...           ...        ...   ...        ...  \n",
       "295  33.0   0.0            35      amine    0%        L11  \n",
       "296   2.0   0.0            71      amine    0%         P7  \n",
       "297  21.0  23.0            18        NaN   37%        H10  \n",
       "298   0.0  48.0             4        NaN   92%         H6  \n",
       "299  33.0   3.0            18        NaN    6%         A7  \n",
       "\n",
       "[300 rows x 10 columns]"
      ]
     },
     "metadata": {},
     "output_type": "display_data"
    }
   ],
   "source": [
    "merged_df = activity_df.merge(yield_df, on='smiles')\n",
    "display(merged_df)\n",
    "\n",
    "# Incorrect smiles in activity_df\n",
    "# O=C(CN(CC1C(Nc2cncc3ccccc23)=O)Cc(cc2)c1cc2Cl)Nc1ccc(cc(cc2)Br)c2c0 was fixed to \n",
    "# O=C(CN(CC1C(Nc2cncc3ccccc23)=O)Cc(cc2)c1cc2Cl)Nc1ccc(cc(cc2)Br)c2c1\n"
   ]
  },
  {
   "cell_type": "markdown",
   "metadata": {},
   "source": [
    "Sort out plate wells"
   ]
  },
  {
   "cell_type": "code",
   "execution_count": 4,
   "metadata": {},
   "outputs": [
    {
     "name": "stderr",
     "output_type": "stream",
     "text": [
      "/var/folders/b1/zflg536s6rvg62mcvlc7dnnw0000gn/T/ipykernel_80962/3014598585.py:4: SettingWithCopyWarning: \n",
      "A value is trying to be set on a copy of a slice from a DataFrame.\n",
      "Try using .loc[row_indexer,col_indexer] = value instead\n",
      "\n",
      "See the caveats in the documentation: https://pandas.pydata.org/pandas-docs/stable/user_guide/indexing.html#returning-a-view-versus-a-copy\n",
      "  df_with_yield.loc[i, 'yield (%)'] = yield_slice['yield'].str.rstrip('%').astype(float).values[0]\n"
     ]
    },
    {
     "data": {
      "text/html": [
       "<div>\n",
       "<style scoped>\n",
       "    .dataframe tbody tr th:only-of-type {\n",
       "        vertical-align: middle;\n",
       "    }\n",
       "\n",
       "    .dataframe tbody tr th {\n",
       "        vertical-align: top;\n",
       "    }\n",
       "\n",
       "    .dataframe thead th {\n",
       "        text-align: right;\n",
       "    }\n",
       "</style>\n",
       "<table border=\"1\" class=\"dataframe\">\n",
       "  <thead>\n",
       "    <tr style=\"text-align: right;\">\n",
       "      <th></th>\n",
       "      <th>smiles</th>\n",
       "      <th>Plate Well</th>\n",
       "      <th>activity</th>\n",
       "      <th>yield (%)</th>\n",
       "    </tr>\n",
       "  </thead>\n",
       "  <tbody>\n",
       "    <tr>\n",
       "      <th>0</th>\n",
       "      <td>O=C(CN(CC1C(Nc2cncc3ccccc23)=O)Cc(cc2)c1cc2Cl)...</td>\n",
       "      <td>K19</td>\n",
       "      <td>51.8</td>\n",
       "      <td>96.0</td>\n",
       "    </tr>\n",
       "    <tr>\n",
       "      <th>1</th>\n",
       "      <td>O=C(CN(CC1C(Nc2cncc3ccccc23)=O)Cc(cc2)c1cc2Cl)...</td>\n",
       "      <td>J19</td>\n",
       "      <td>9.9</td>\n",
       "      <td>100.0</td>\n",
       "    </tr>\n",
       "    <tr>\n",
       "      <th>2</th>\n",
       "      <td>O=C(CN(CC1C(Nc2cncc3ccccc23)=O)Cc(cc2)c1cc2Cl)...</td>\n",
       "      <td>I19</td>\n",
       "      <td>9.5</td>\n",
       "      <td>93.0</td>\n",
       "    </tr>\n",
       "    <tr>\n",
       "      <th>3</th>\n",
       "      <td>[O-][N+](c(cc1)ccc1NC(CN(CC1C(Nc2cncc3ccccc23)...</td>\n",
       "      <td>L19</td>\n",
       "      <td>83.6</td>\n",
       "      <td>0.0</td>\n",
       "    </tr>\n",
       "    <tr>\n",
       "      <th>4</th>\n",
       "      <td>CNC(c(cccc1)c1NC(CN(CC1C(Nc2cncc3ccccc23)=O)Cc...</td>\n",
       "      <td>P11</td>\n",
       "      <td>71.1</td>\n",
       "      <td>0.0</td>\n",
       "    </tr>\n",
       "    <tr>\n",
       "      <th>...</th>\n",
       "      <td>...</td>\n",
       "      <td>...</td>\n",
       "      <td>...</td>\n",
       "      <td>...</td>\n",
       "    </tr>\n",
       "    <tr>\n",
       "      <th>295</th>\n",
       "      <td>N#Cc(cc1)cc(I)c1NC(CN(CC1C(Nc2cncc3ccccc23)=O)...</td>\n",
       "      <td>L11</td>\n",
       "      <td>84.5</td>\n",
       "      <td>0.0</td>\n",
       "    </tr>\n",
       "    <tr>\n",
       "      <th>296</th>\n",
       "      <td>O=C(CN(CC1C(Nc2cncc3ccccc23)=O)Cc(cc2)c1cc2Cl)...</td>\n",
       "      <td>P7</td>\n",
       "      <td>76.5</td>\n",
       "      <td>100.0</td>\n",
       "    </tr>\n",
       "    <tr>\n",
       "      <th>297</th>\n",
       "      <td>O=C(CN(CC1C(Nc2cncc3ccccc23)=O)Cc(cc2)c1cc2Cl)...</td>\n",
       "      <td>H10</td>\n",
       "      <td>24.6</td>\n",
       "      <td>98.0</td>\n",
       "    </tr>\n",
       "    <tr>\n",
       "      <th>298</th>\n",
       "      <td>Cc1cccc(C)c1NC(CN(CC1)CCN1C(CN(CC1C(Nc2cncc3cc...</td>\n",
       "      <td>H6</td>\n",
       "      <td>65.5</td>\n",
       "      <td>100.0</td>\n",
       "    </tr>\n",
       "    <tr>\n",
       "      <th>299</th>\n",
       "      <td>O=C(CN(CC1C(Nc2cncc3ccccc23)=O)Cc(cc2)c1cc2Cl)...</td>\n",
       "      <td>A7</td>\n",
       "      <td>72.3</td>\n",
       "      <td>88.0</td>\n",
       "    </tr>\n",
       "  </tbody>\n",
       "</table>\n",
       "<p>300 rows × 4 columns</p>\n",
       "</div>"
      ],
      "text/plain": [
       "                                                smiles Plate Well  activity  \\\n",
       "0    O=C(CN(CC1C(Nc2cncc3ccccc23)=O)Cc(cc2)c1cc2Cl)...        K19      51.8   \n",
       "1    O=C(CN(CC1C(Nc2cncc3ccccc23)=O)Cc(cc2)c1cc2Cl)...        J19       9.9   \n",
       "2    O=C(CN(CC1C(Nc2cncc3ccccc23)=O)Cc(cc2)c1cc2Cl)...        I19       9.5   \n",
       "3    [O-][N+](c(cc1)ccc1NC(CN(CC1C(Nc2cncc3ccccc23)...        L19      83.6   \n",
       "4    CNC(c(cccc1)c1NC(CN(CC1C(Nc2cncc3ccccc23)=O)Cc...        P11      71.1   \n",
       "..                                                 ...        ...       ...   \n",
       "295  N#Cc(cc1)cc(I)c1NC(CN(CC1C(Nc2cncc3ccccc23)=O)...        L11      84.5   \n",
       "296  O=C(CN(CC1C(Nc2cncc3ccccc23)=O)Cc(cc2)c1cc2Cl)...         P7      76.5   \n",
       "297  O=C(CN(CC1C(Nc2cncc3ccccc23)=O)Cc(cc2)c1cc2Cl)...        H10      24.6   \n",
       "298  Cc1cccc(C)c1NC(CN(CC1)CCN1C(CN(CC1C(Nc2cncc3cc...         H6      65.5   \n",
       "299  O=C(CN(CC1C(Nc2cncc3ccccc23)=O)Cc(cc2)c1cc2Cl)...         A7      72.3   \n",
       "\n",
       "     yield (%)  \n",
       "0         96.0  \n",
       "1        100.0  \n",
       "2         93.0  \n",
       "3          0.0  \n",
       "4          0.0  \n",
       "..         ...  \n",
       "295        0.0  \n",
       "296      100.0  \n",
       "297       98.0  \n",
       "298      100.0  \n",
       "299       88.0  \n",
       "\n",
       "[300 rows x 4 columns]"
      ]
     },
     "metadata": {},
     "output_type": "display_data"
    }
   ],
   "source": [
    "df_with_yield = merged_df[['smiles', 'Plate Well', 'activity']]\n",
    "for i, row in df_with_yield.iterrows():\n",
    "    yield_slice = merged_df.query(\"Well == @row['Plate Well']\").copy()\n",
    "    df_with_yield.loc[i, 'yield (%)'] = yield_slice['yield'].str.rstrip('%').astype(float).values[0]\n",
    "display(df_with_yield)"
   ]
  },
  {
   "cell_type": "markdown",
   "metadata": {},
   "source": [
    "Visualise Yields"
   ]
  },
  {
   "cell_type": "code",
   "execution_count": 5,
   "metadata": {},
   "outputs": [
    {
     "data": {
      "text/html": [
       "\n",
       "        <iframe\n",
       "            width=\"100%\"\n",
       "            height=\"650\"\n",
       "            src=\"http://127.0.0.1:8012/\"\n",
       "            frameborder=\"0\"\n",
       "            allowfullscreen\n",
       "            \n",
       "        ></iframe>\n",
       "        "
      ],
      "text/plain": [
       "<IPython.lib.display.IFrame at 0x7fc45f45beb0>"
      ]
     },
     "metadata": {},
     "output_type": "display_data"
    }
   ],
   "source": [
    "fig = px.scatter(df_with_yield, x='activity', y='yield (%)', width=800, height=600,\n",
    "                 title='Activity against yield')\n",
    "\n",
    "app = molplotly.add_molecules(\n",
    "    fig=fig, df=df_with_yield, smiles_col='smiles', wrap=True, wraplen=25, width=150)\n",
    "\n",
    "app.run_server(mode='inline', port=8012, height=650)\n"
   ]
  },
  {
   "cell_type": "markdown",
   "metadata": {},
   "source": [
    "Load model predictions"
   ]
  },
  {
   "cell_type": "code",
   "execution_count": 6,
   "metadata": {},
   "outputs": [
    {
     "name": "stdout",
     "output_type": "stream",
     "text": [
      "Clc1ccc2[C@@H](CN(CC(=O)Nc3ccc(Br)c(Cl)c3Cl)Cc2c1)C(=O)Nc4cncc5ccccc45\n",
      "O=C(CN1Cc2ccc(Cl)cc2C(C(=O)Nc2cncc3ccccc23)C1)Nc1ccc(Br)c(Cl)c1Cl\n"
     ]
    }
   ],
   "source": [
    "from rdkit.Chem import rdChemReactions\n",
    "\n",
    "replace_this = 'O=C(CN(CC1C(Nc2cncc3ccccc23)=O)Cc(cc(Cl)2)c1cc2)-[*:1]'\n",
    "with_this = 'O=C(CN(CC1C(Nc2cncc3ccccc23)=O)Cc(cc2)c1cc2Cl)-[*:1]'\n",
    "my_rxn = rdChemReactions.ReactionFromSmarts(f\"{replace_this}>>{with_this}\")\n",
    "\n",
    "\n",
    "def replace_substruct(smi):\n",
    "    mol = Chem.MolFromSmiles(smi)\n",
    "\n",
    "    products = my_rxn.RunReactants((mol,))\n",
    "    new_smiles = Chem.MolToSmiles(products[0][0])\n",
    "    return new_smiles\n",
    "\n",
    "\n",
    "test_smi = 'Clc1ccc2[C@@H](CN(CC(=O)Nc3ccc(Br)c(Cl)c3Cl)Cc2c1)C(=O)Nc4cncc5ccccc45'\n",
    "print(test_smi)\n",
    "print(replace_substruct(test_smi))\n"
   ]
  },
  {
   "cell_type": "code",
   "execution_count": 7,
   "metadata": {},
   "outputs": [
    {
     "name": "stderr",
     "output_type": "stream",
     "text": [
      "100%|██████████| 300/300 [00:00<00:00, 946.28it/s]\n",
      "100%|██████████| 300/300 [00:00<00:00, 664.45it/s]\n",
      "100%|██████████| 300/300 [00:00<00:00, 1134.16it/s]\n",
      "/var/folders/b1/zflg536s6rvg62mcvlc7dnnw0000gn/T/ipykernel_80962/1453115835.py:49: SettingWithCopyWarning:\n",
      "\n",
      "\n",
      "A value is trying to be set on a copy of a slice from a DataFrame.\n",
      "Try using .loc[row_indexer,col_indexer] = value instead\n",
      "\n",
      "See the caveats in the documentation: https://pandas.pydata.org/pandas-docs/stable/user_guide/indexing.html#returning-a-view-versus-a-copy\n",
      "\n"
     ]
    },
    {
     "data": {
      "text/html": [
       "<style type=\"text/css\">\n",
       "#T_b7a55_row0_col0, #T_b7a55_row0_col1, #T_b7a55_row0_col2, #T_b7a55_row0_col3, #T_b7a55_row1_col0, #T_b7a55_row1_col1, #T_b7a55_row1_col2, #T_b7a55_row1_col3, #T_b7a55_row2_col0, #T_b7a55_row2_col1, #T_b7a55_row2_col2, #T_b7a55_row2_col3, #T_b7a55_row3_col0, #T_b7a55_row3_col1, #T_b7a55_row3_col2, #T_b7a55_row3_col3, #T_b7a55_row4_col0, #T_b7a55_row4_col1, #T_b7a55_row4_col2, #T_b7a55_row4_col3, #T_b7a55_row5_col0, #T_b7a55_row5_col1, #T_b7a55_row5_col2, #T_b7a55_row5_col3, #T_b7a55_row6_col0, #T_b7a55_row6_col1, #T_b7a55_row6_col2, #T_b7a55_row6_col3, #T_b7a55_row7_col0, #T_b7a55_row7_col1, #T_b7a55_row7_col2, #T_b7a55_row7_col3, #T_b7a55_row10_col0, #T_b7a55_row10_col1, #T_b7a55_row10_col2, #T_b7a55_row10_col3, #T_b7a55_row11_col0, #T_b7a55_row11_col1, #T_b7a55_row11_col2, #T_b7a55_row11_col3, #T_b7a55_row12_col0, #T_b7a55_row12_col1, #T_b7a55_row12_col2, #T_b7a55_row12_col3, #T_b7a55_row13_col0, #T_b7a55_row13_col1, #T_b7a55_row13_col2, #T_b7a55_row13_col3, #T_b7a55_row14_col0, #T_b7a55_row14_col1, #T_b7a55_row14_col2, #T_b7a55_row14_col3, #T_b7a55_row15_col0, #T_b7a55_row15_col1, #T_b7a55_row15_col2, #T_b7a55_row15_col3, #T_b7a55_row17_col0, #T_b7a55_row17_col1, #T_b7a55_row17_col2, #T_b7a55_row17_col3, #T_b7a55_row18_col0, #T_b7a55_row18_col1, #T_b7a55_row18_col2, #T_b7a55_row18_col3, #T_b7a55_row19_col0, #T_b7a55_row19_col1, #T_b7a55_row19_col2, #T_b7a55_row19_col3, #T_b7a55_row20_col0, #T_b7a55_row20_col1, #T_b7a55_row20_col2, #T_b7a55_row20_col3, #T_b7a55_row21_col0, #T_b7a55_row21_col1, #T_b7a55_row21_col2, #T_b7a55_row21_col3, #T_b7a55_row23_col0, #T_b7a55_row23_col1, #T_b7a55_row23_col2, #T_b7a55_row23_col3, #T_b7a55_row24_col0, #T_b7a55_row24_col1, #T_b7a55_row24_col2, #T_b7a55_row24_col3, #T_b7a55_row25_col0, #T_b7a55_row25_col1, #T_b7a55_row25_col2, #T_b7a55_row25_col3 {\n",
       "  background-color: salmon;\n",
       "  color: black;\n",
       "}\n",
       "</style>\n",
       "<table id=\"T_b7a55\">\n",
       "  <thead>\n",
       "    <tr>\n",
       "      <th class=\"blank level0\" >&nbsp;</th>\n",
       "      <th id=\"T_b7a55_level0_col0\" class=\"col_heading level0 col0\" >Molecule Name</th>\n",
       "      <th id=\"T_b7a55_level0_col1\" class=\"col_heading level0 col1\" >smiles</th>\n",
       "      <th id=\"T_b7a55_level0_col2\" class=\"col_heading level0 col2\" >Mean Corrected Activity (%): 24th Feb</th>\n",
       "      <th id=\"T_b7a55_level0_col3\" class=\"col_heading level0 col3\" >Mean Corrected Activity (%): 2nd Feb</th>\n",
       "    </tr>\n",
       "  </thead>\n",
       "  <tbody>\n",
       "    <tr>\n",
       "      <th id=\"T_b7a55_level0_row0\" class=\"row_heading level0 row0\" >8</th>\n",
       "      <td id=\"T_b7a55_row0_col0\" class=\"data row0 col0\" >PCM-0223409</td>\n",
       "      <td id=\"T_b7a55_row0_col1\" class=\"data row0 col1\" >O=C(CN1Cc2ccc(Cl)cc2C(C(=O)Nc2cncc3ccccc23)C1)NCc1ccc2c(c1)OCO2</td>\n",
       "      <td id=\"T_b7a55_row0_col2\" class=\"data row0 col2\" >25.6</td>\n",
       "      <td id=\"T_b7a55_row0_col3\" class=\"data row0 col3\" >14.6</td>\n",
       "    </tr>\n",
       "    <tr>\n",
       "      <th id=\"T_b7a55_level0_row1\" class=\"row_heading level0 row1\" >9</th>\n",
       "      <td id=\"T_b7a55_row1_col0\" class=\"data row1 col0\" >PCM-0223446</td>\n",
       "      <td id=\"T_b7a55_row1_col1\" class=\"data row1 col1\" >O=C(CN1Cc2ccc(Cl)cc2C(C(=O)Nc2cncc3ccccc23)C1)Nc1ccc2c(c1)OCCO2</td>\n",
       "      <td id=\"T_b7a55_row1_col2\" class=\"data row1 col2\" >14.6</td>\n",
       "      <td id=\"T_b7a55_row1_col3\" class=\"data row1 col3\" >25.6</td>\n",
       "    </tr>\n",
       "    <tr>\n",
       "      <th id=\"T_b7a55_level0_row2\" class=\"row_heading level0 row2\" >11</th>\n",
       "      <td id=\"T_b7a55_row2_col0\" class=\"data row2 col0\" >PCM-0223458</td>\n",
       "      <td id=\"T_b7a55_row2_col1\" class=\"data row2 col1\" >CCOc1ccccc1CNC(=O)CN1Cc2ccc(Cl)cc2C(C(=O)Nc2cncc3ccccc23)C1</td>\n",
       "      <td id=\"T_b7a55_row2_col2\" class=\"data row2 col2\" >26.2</td>\n",
       "      <td id=\"T_b7a55_row2_col3\" class=\"data row2 col3\" >13.8</td>\n",
       "    </tr>\n",
       "    <tr>\n",
       "      <th id=\"T_b7a55_level0_row3\" class=\"row_heading level0 row3\" >12</th>\n",
       "      <td id=\"T_b7a55_row3_col0\" class=\"data row3 col0\" >PCM-0223487</td>\n",
       "      <td id=\"T_b7a55_row3_col1\" class=\"data row3 col1\" >COc1ccc(C(C)NC(=O)CN2Cc3ccc(Cl)cc3C(C(=O)Nc3cncc4ccccc34)C2)cc1</td>\n",
       "      <td id=\"T_b7a55_row3_col2\" class=\"data row3 col2\" >15.8</td>\n",
       "      <td id=\"T_b7a55_row3_col3\" class=\"data row3 col3\" >23.6</td>\n",
       "    </tr>\n",
       "    <tr>\n",
       "      <th id=\"T_b7a55_level0_row4\" class=\"row_heading level0 row4\" >13</th>\n",
       "      <td id=\"T_b7a55_row4_col0\" class=\"data row4 col0\" >PCM-0223524</td>\n",
       "      <td id=\"T_b7a55_row4_col1\" class=\"data row4 col1\" >CCOc1ccc(CNC(=O)CN2Cc3ccc(Cl)cc3C(C(=O)Nc3cncc4ccccc34)C2)cc1</td>\n",
       "      <td id=\"T_b7a55_row4_col2\" class=\"data row4 col2\" >23.6</td>\n",
       "      <td id=\"T_b7a55_row4_col3\" class=\"data row4 col3\" >15.8</td>\n",
       "    </tr>\n",
       "    <tr>\n",
       "      <th id=\"T_b7a55_level0_row5\" class=\"row_heading level0 row5\" >14</th>\n",
       "      <td id=\"T_b7a55_row5_col0\" class=\"data row5 col0\" >PCM-0223579</td>\n",
       "      <td id=\"T_b7a55_row5_col1\" class=\"data row5 col1\" >O=C(CN1Cc2ccc(Cl)cc2C(C(=O)Nc2cncc3ccccc23)C1)NC(CO)Cc1ccccc1</td>\n",
       "      <td id=\"T_b7a55_row5_col2\" class=\"data row5 col2\" >13.8</td>\n",
       "      <td id=\"T_b7a55_row5_col3\" class=\"data row5 col3\" >26.2</td>\n",
       "    </tr>\n",
       "    <tr>\n",
       "      <th id=\"T_b7a55_level0_row6\" class=\"row_heading level0 row6\" >16</th>\n",
       "      <td id=\"T_b7a55_row6_col0\" class=\"data row6 col0\" >PCM-0223457</td>\n",
       "      <td id=\"T_b7a55_row6_col1\" class=\"data row6 col1\" >O=C(CN1Cc2ccc(Cl)cc2C(C(=O)Nc2cncc3ccccc23)C1)NCc1ccc([N+](=O)[O-])cc1</td>\n",
       "      <td id=\"T_b7a55_row6_col2\" class=\"data row6 col2\" >84.6</td>\n",
       "      <td id=\"T_b7a55_row6_col3\" class=\"data row6 col3\" >12.7</td>\n",
       "    </tr>\n",
       "    <tr>\n",
       "      <th id=\"T_b7a55_level0_row7\" class=\"row_heading level0 row7\" >17</th>\n",
       "      <td id=\"T_b7a55_row7_col0\" class=\"data row7 col0\" >PCM-0223492</td>\n",
       "      <td id=\"T_b7a55_row7_col1\" class=\"data row7 col1\" >Cc1ccc([N+](=O)[O-])c(NC(=O)CN2Cc3ccc(Cl)cc3C(C(=O)Nc3cncc4ccccc34)C2)c1</td>\n",
       "      <td id=\"T_b7a55_row7_col2\" class=\"data row7 col2\" >12.7</td>\n",
       "      <td id=\"T_b7a55_row7_col3\" class=\"data row7 col3\" >84.6</td>\n",
       "    </tr>\n",
       "    <tr>\n",
       "      <th id=\"T_b7a55_level0_row8\" class=\"row_heading level0 row8\" >19</th>\n",
       "      <td id=\"T_b7a55_row8_col0\" class=\"data row8 col0\" >PCM-0223462</td>\n",
       "      <td id=\"T_b7a55_row8_col1\" class=\"data row8 col1\" >N#Cc1ccc(Cl)c(NC(=O)CN2Cc3ccc(Cl)cc3C(C(=O)Nc3cncc4ccccc34)C2)c1</td>\n",
       "      <td id=\"T_b7a55_row8_col2\" class=\"data row8 col2\" >79.5</td>\n",
       "      <td id=\"T_b7a55_row8_col3\" class=\"data row8 col3\" >79.1</td>\n",
       "    </tr>\n",
       "    <tr>\n",
       "      <th id=\"T_b7a55_level0_row9\" class=\"row_heading level0 row9\" >21</th>\n",
       "      <td id=\"T_b7a55_row9_col0\" class=\"data row9 col0\" >PCM-0223641</td>\n",
       "      <td id=\"T_b7a55_row9_col1\" class=\"data row9 col1\" >N#Cc1c(Cl)cccc1NC(=O)CN1Cc2ccc(Cl)cc2C(C(=O)Nc2cncc3ccccc23)C1</td>\n",
       "      <td id=\"T_b7a55_row9_col2\" class=\"data row9 col2\" >79.1</td>\n",
       "      <td id=\"T_b7a55_row9_col3\" class=\"data row9 col3\" >79.5</td>\n",
       "    </tr>\n",
       "    <tr>\n",
       "      <th id=\"T_b7a55_level0_row10\" class=\"row_heading level0 row10\" >24</th>\n",
       "      <td id=\"T_b7a55_row10_col0\" class=\"data row10 col0\" >PCM-0223441</td>\n",
       "      <td id=\"T_b7a55_row10_col1\" class=\"data row10 col1\" >COc1cc(NC(=O)CN2Cc3ccc(Cl)cc3C(C(=O)Nc3cncc4ccccc34)C2)cc(OC)c1</td>\n",
       "      <td id=\"T_b7a55_row10_col2\" class=\"data row10 col2\" >15.9</td>\n",
       "      <td id=\"T_b7a55_row10_col3\" class=\"data row10 col3\" >82.9</td>\n",
       "    </tr>\n",
       "    <tr>\n",
       "      <th id=\"T_b7a55_level0_row11\" class=\"row_heading level0 row11\" >26</th>\n",
       "      <td id=\"T_b7a55_row11_col0\" class=\"data row11 col0\" >PCM-0223568</td>\n",
       "      <td id=\"T_b7a55_row11_col1\" class=\"data row11 col1\" >O=C(CN1Cc2ccc(Cl)cc2C(C(=O)Nc2cncc3ccccc23)C1)NCC(O)c1ccc(O)cc1</td>\n",
       "      <td id=\"T_b7a55_row11_col2\" class=\"data row11 col2\" >82.9</td>\n",
       "      <td id=\"T_b7a55_row11_col3\" class=\"data row11 col3\" >15.9</td>\n",
       "    </tr>\n",
       "    <tr>\n",
       "      <th id=\"T_b7a55_level0_row12\" class=\"row_heading level0 row12\" >37</th>\n",
       "      <td id=\"T_b7a55_row12_col0\" class=\"data row12 col0\" >PCM-0223416</td>\n",
       "      <td id=\"T_b7a55_row12_col1\" class=\"data row12 col1\" >COc1ccc(Cl)c(NC(=O)CN2Cc3ccc(Cl)cc3C(C(=O)Nc3cncc4ccccc34)C2)c1</td>\n",
       "      <td id=\"T_b7a55_row12_col2\" class=\"data row12 col2\" >73.5</td>\n",
       "      <td id=\"T_b7a55_row12_col3\" class=\"data row12 col3\" >81.5</td>\n",
       "    </tr>\n",
       "    <tr>\n",
       "      <th id=\"T_b7a55_level0_row13\" class=\"row_heading level0 row13\" >38</th>\n",
       "      <td id=\"T_b7a55_row13_col0\" class=\"data row13 col0\" >PCM-0223420</td>\n",
       "      <td id=\"T_b7a55_row13_col1\" class=\"data row13 col1\" >COc1c(Cl)cccc1NC(=O)CN1Cc2ccc(Cl)cc2C(C(=O)Nc2cncc3ccccc23)C1</td>\n",
       "      <td id=\"T_b7a55_row13_col2\" class=\"data row13 col2\" >81.5</td>\n",
       "      <td id=\"T_b7a55_row13_col3\" class=\"data row13 col3\" >73.5</td>\n",
       "    </tr>\n",
       "    <tr>\n",
       "      <th id=\"T_b7a55_level0_row14\" class=\"row_heading level0 row14\" >41</th>\n",
       "      <td id=\"T_b7a55_row14_col0\" class=\"data row14 col0\" >PCM-0223399</td>\n",
       "      <td id=\"T_b7a55_row14_col1\" class=\"data row14 col1\" >O=C(CN1Cc2ccc(Cl)cc2C(C(=O)Nc2cncc3ccccc23)C1)Nc1cccc2ccc(O)cc12</td>\n",
       "      <td id=\"T_b7a55_row14_col2\" class=\"data row14 col2\" >27.5</td>\n",
       "      <td id=\"T_b7a55_row14_col3\" class=\"data row14 col3\" >45.1</td>\n",
       "    </tr>\n",
       "    <tr>\n",
       "      <th id=\"T_b7a55_level0_row15\" class=\"row_heading level0 row15\" >42</th>\n",
       "      <td id=\"T_b7a55_row15_col0\" class=\"data row15 col0\" >PCM-0223529</td>\n",
       "      <td id=\"T_b7a55_row15_col1\" class=\"data row15 col1\" >O=C(CN1Cc2ccc(Cl)cc2C(C(=O)Nc2cncc3ccccc23)C1)Nc1ccc2ccccc2c1O</td>\n",
       "      <td id=\"T_b7a55_row15_col2\" class=\"data row15 col2\" >45.1</td>\n",
       "      <td id=\"T_b7a55_row15_col3\" class=\"data row15 col3\" >27.5</td>\n",
       "    </tr>\n",
       "    <tr>\n",
       "      <th id=\"T_b7a55_level0_row16\" class=\"row_heading level0 row16\" >43</th>\n",
       "      <td id=\"T_b7a55_row16_col0\" class=\"data row16 col0\" >PCM-0223506</td>\n",
       "      <td id=\"T_b7a55_row16_col1\" class=\"data row16 col1\" >O=C(CN1Cc2ccc(Cl)cc2C(C(=O)Nc2cncc3ccccc23)C1)Nc1ccc(-n2cccn2)cc1</td>\n",
       "      <td id=\"T_b7a55_row16_col2\" class=\"data row16 col2\" >19.4</td>\n",
       "      <td id=\"T_b7a55_row16_col3\" class=\"data row16 col3\" >19.7</td>\n",
       "    </tr>\n",
       "    <tr>\n",
       "      <th id=\"T_b7a55_level0_row17\" class=\"row_heading level0 row17\" >47</th>\n",
       "      <td id=\"T_b7a55_row17_col0\" class=\"data row17 col0\" >PCM-0223461</td>\n",
       "      <td id=\"T_b7a55_row17_col1\" class=\"data row17 col1\" >Cc1cc(NC(=O)CN2Cc3ccc(Cl)cc3C(C(=O)Nc3cncc4ccccc34)C2)c(Cl)cc1F</td>\n",
       "      <td id=\"T_b7a55_row17_col2\" class=\"data row17 col2\" >17.6</td>\n",
       "      <td id=\"T_b7a55_row17_col3\" class=\"data row17 col3\" >76.9</td>\n",
       "    </tr>\n",
       "    <tr>\n",
       "      <th id=\"T_b7a55_level0_row18\" class=\"row_heading level0 row18\" >49</th>\n",
       "      <td id=\"T_b7a55_row18_col0\" class=\"data row18 col0\" >PCM-0223600</td>\n",
       "      <td id=\"T_b7a55_row18_col1\" class=\"data row18 col1\" >O=C(CN1Cc2ccc(Cl)cc2C(C(=O)Nc2cncc3ccccc23)C1)NCc1ccc(F)c(Cl)c1</td>\n",
       "      <td id=\"T_b7a55_row18_col2\" class=\"data row18 col2\" >76.9</td>\n",
       "      <td id=\"T_b7a55_row18_col3\" class=\"data row18 col3\" >17.6</td>\n",
       "    </tr>\n",
       "    <tr>\n",
       "      <th id=\"T_b7a55_level0_row19\" class=\"row_heading level0 row19\" >50</th>\n",
       "      <td id=\"T_b7a55_row19_col0\" class=\"data row19 col0\" >PCM-0223430</td>\n",
       "      <td id=\"T_b7a55_row19_col1\" class=\"data row19 col1\" >O=C(CN1Cc2ccc(Cl)cc2C(C(=O)Nc2cncc3ccccc23)C1)NCc1cc(F)c(F)c(F)c1</td>\n",
       "      <td id=\"T_b7a55_row19_col2\" class=\"data row19 col2\" >80.9</td>\n",
       "      <td id=\"T_b7a55_row19_col3\" class=\"data row19 col3\" >21.6</td>\n",
       "    </tr>\n",
       "    <tr>\n",
       "      <th id=\"T_b7a55_level0_row20\" class=\"row_heading level0 row20\" >51</th>\n",
       "      <td id=\"T_b7a55_row20_col0\" class=\"data row20 col0\" >PCM-0223654</td>\n",
       "      <td id=\"T_b7a55_row20_col1\" class=\"data row20 col1\" >O=C(CN1Cc2ccc(Cl)cc2C(C(=O)Nc2cncc3ccccc23)C1)Nc1ccc(C(F)(F)F)cc1</td>\n",
       "      <td id=\"T_b7a55_row20_col2\" class=\"data row20 col2\" >21.6</td>\n",
       "      <td id=\"T_b7a55_row20_col3\" class=\"data row20 col3\" >80.9</td>\n",
       "    </tr>\n",
       "    <tr>\n",
       "      <th id=\"T_b7a55_level0_row21\" class=\"row_heading level0 row21\" >55</th>\n",
       "      <td id=\"T_b7a55_row21_col0\" class=\"data row21 col0\" >PCM-0223364</td>\n",
       "      <td id=\"T_b7a55_row21_col1\" class=\"data row21 col1\" >O=C(CN1Cc2ccc(Cl)cc2C(C(=O)Nc2cncc3ccccc23)C1)Nc1ccc(C(F)(F)F)cn1</td>\n",
       "      <td id=\"T_b7a55_row21_col2\" class=\"data row21 col2\" >83.8</td>\n",
       "      <td id=\"T_b7a55_row21_col3\" class=\"data row21 col3\" >13.3</td>\n",
       "    </tr>\n",
       "    <tr>\n",
       "      <th id=\"T_b7a55_level0_row22\" class=\"row_heading level0 row22\" >56</th>\n",
       "      <td id=\"T_b7a55_row22_col0\" class=\"data row22 col0\" >PCM-0223509</td>\n",
       "      <td id=\"T_b7a55_row22_col1\" class=\"data row22 col1\" >O=C(CN1Cc2ccc(Cl)cc2C(C(=O)Nc2cncc3ccccc23)C1)Nc1cccc(C(F)(F)F)n1</td>\n",
       "      <td id=\"T_b7a55_row22_col2\" class=\"data row22 col2\" >79.8</td>\n",
       "      <td id=\"T_b7a55_row22_col3\" class=\"data row22 col3\" >83.8</td>\n",
       "    </tr>\n",
       "    <tr>\n",
       "      <th id=\"T_b7a55_level0_row23\" class=\"row_heading level0 row23\" >57</th>\n",
       "      <td id=\"T_b7a55_row23_col0\" class=\"data row23 col0\" >PCM-0223486</td>\n",
       "      <td id=\"T_b7a55_row23_col1\" class=\"data row23 col1\" >O=C(CN1Cc2ccc(Cl)cc2C(C(=O)Nc2cncc3ccccc23)C1)Nc1cc(C(F)(F)F)ccn1</td>\n",
       "      <td id=\"T_b7a55_row23_col2\" class=\"data row23 col2\" >13.3</td>\n",
       "      <td id=\"T_b7a55_row23_col3\" class=\"data row23 col3\" >79.8</td>\n",
       "    </tr>\n",
       "    <tr>\n",
       "      <th id=\"T_b7a55_level0_row24\" class=\"row_heading level0 row24\" >58</th>\n",
       "      <td id=\"T_b7a55_row24_col0\" class=\"data row24 col0\" >PCM-0223526</td>\n",
       "      <td id=\"T_b7a55_row24_col1\" class=\"data row24 col1\" >O=C(CN1Cc2ccc(Cl)cc2C(C(=O)Nc2cncc3ccccc23)C1)Nc1c(Cl)cncc1Cl</td>\n",
       "      <td id=\"T_b7a55_row24_col2\" class=\"data row24 col2\" >47.4</td>\n",
       "      <td id=\"T_b7a55_row24_col3\" class=\"data row24 col3\" >83.1</td>\n",
       "    </tr>\n",
       "    <tr>\n",
       "      <th id=\"T_b7a55_level0_row25\" class=\"row_heading level0 row25\" >60</th>\n",
       "      <td id=\"T_b7a55_row25_col0\" class=\"data row25 col0\" >PCM-0223412</td>\n",
       "      <td id=\"T_b7a55_row25_col1\" class=\"data row25 col1\" >O=C(CN1Cc2ccc(Cl)cc2C(C(=O)Nc2cncc3ccccc23)C1)Nc1ccc2c(c1)C(=O)NC2=O</td>\n",
       "      <td id=\"T_b7a55_row25_col2\" class=\"data row25 col2\" >83.1</td>\n",
       "      <td id=\"T_b7a55_row25_col3\" class=\"data row25 col3\" >47.4</td>\n",
       "    </tr>\n",
       "    <tr>\n",
       "      <th id=\"T_b7a55_level0_row26\" class=\"row_heading level0 row26\" >62</th>\n",
       "      <td id=\"T_b7a55_row26_col0\" class=\"data row26 col0\" >PCM-0223643</td>\n",
       "      <td id=\"T_b7a55_row26_col1\" class=\"data row26 col1\" >O=C(CN1Cc2ccc(Cl)cc2C(C(=O)Nc2cncc3ccccc23)C1)Nc1ncnc(Cl)c1Cl</td>\n",
       "      <td id=\"T_b7a55_row26_col2\" class=\"data row26 col2\" >81.6</td>\n",
       "      <td id=\"T_b7a55_row26_col3\" class=\"data row26 col3\" >82.4</td>\n",
       "    </tr>\n",
       "    <tr>\n",
       "      <th id=\"T_b7a55_level0_row27\" class=\"row_heading level0 row27\" >63</th>\n",
       "      <td id=\"T_b7a55_row27_col0\" class=\"data row27 col0\" >PCM-0223636</td>\n",
       "      <td id=\"T_b7a55_row27_col1\" class=\"data row27 col1\" >O=C(CN1Cc2ccc(Cl)cc2C(C(=O)Nc2cncc3ccccc23)C1)Nc1cc(Cl)nc(Cl)n1</td>\n",
       "      <td id=\"T_b7a55_row27_col2\" class=\"data row27 col2\" >80.7</td>\n",
       "      <td id=\"T_b7a55_row27_col3\" class=\"data row27 col3\" >82.3</td>\n",
       "    </tr>\n",
       "    <tr>\n",
       "      <th id=\"T_b7a55_level0_row28\" class=\"row_heading level0 row28\" >64</th>\n",
       "      <td id=\"T_b7a55_row28_col0\" class=\"data row28 col0\" >PCM-0223489</td>\n",
       "      <td id=\"T_b7a55_row28_col1\" class=\"data row28 col1\" >O=C(CN1Cc2ccc(Cl)cc2C(C(=O)Nc2cncc3ccccc23)C1)Nc1cc(Cl)c(F)cc1F</td>\n",
       "      <td id=\"T_b7a55_row28_col2\" class=\"data row28 col2\" >82.4</td>\n",
       "      <td id=\"T_b7a55_row28_col3\" class=\"data row28 col3\" >81.6</td>\n",
       "    </tr>\n",
       "    <tr>\n",
       "      <th id=\"T_b7a55_level0_row29\" class=\"row_heading level0 row29\" >65</th>\n",
       "      <td id=\"T_b7a55_row29_col0\" class=\"data row29 col0\" >PCM-0223466</td>\n",
       "      <td id=\"T_b7a55_row29_col1\" class=\"data row29 col1\" >O=C(CN1Cc2ccc(Cl)cc2C(C(=O)Nc2cncc3ccccc23)C1)Nc1c(F)cc(F)cc1Cl</td>\n",
       "      <td id=\"T_b7a55_row29_col2\" class=\"data row29 col2\" >82.3</td>\n",
       "      <td id=\"T_b7a55_row29_col3\" class=\"data row29 col3\" >80.7</td>\n",
       "    </tr>\n",
       "    <tr>\n",
       "      <th id=\"T_b7a55_level0_row30\" class=\"row_heading level0 row30\" >230</th>\n",
       "      <td id=\"T_b7a55_row30_col0\" class=\"data row30 col0\" >PCM-0223429</td>\n",
       "      <td id=\"T_b7a55_row30_col1\" class=\"data row30 col1\" >O=C(CN1Cc2ccc(Cl)cc2C(C(=O)Nc2cncc3ccccc23)C1)Nc1cc(Cl)c(Br)cn1</td>\n",
       "      <td id=\"T_b7a55_row30_col2\" class=\"data row30 col2\" >81.5</td>\n",
       "      <td id=\"T_b7a55_row30_col3\" class=\"data row30 col3\" >83.6</td>\n",
       "    </tr>\n",
       "    <tr>\n",
       "      <th id=\"T_b7a55_level0_row31\" class=\"row_heading level0 row31\" >232</th>\n",
       "      <td id=\"T_b7a55_row31_col0\" class=\"data row31 col0\" >PCM-0223593</td>\n",
       "      <td id=\"T_b7a55_row31_col1\" class=\"data row31 col1\" >O=C(CN1Cc2ccc(Cl)cc2C(C(=O)Nc2cncc3ccccc23)C1)Nc1cnc(Cl)c(Br)c1</td>\n",
       "      <td id=\"T_b7a55_row31_col2\" class=\"data row31 col2\" >83.6</td>\n",
       "      <td id=\"T_b7a55_row31_col3\" class=\"data row31 col3\" >81.5</td>\n",
       "    </tr>\n",
       "  </tbody>\n",
       "</table>\n"
      ],
      "text/plain": [
       "<pandas.io.formats.style.Styler at 0x7fc45f45b640>"
      ]
     },
     "metadata": {},
     "output_type": "display_data"
    }
   ],
   "source": [
    "def canonicalise_and_remove_stereo(smi):\n",
    "    try:\n",
    "        mol = Chem.MolFromSmiles(smi)\n",
    "    except TypeError:\n",
    "        print(f'{smi} is invalid, returning Nan')\n",
    "        return None\n",
    "    Chem.rdmolops.RemoveStereochemistry(mol)\n",
    "    return Chem.MolToSmiles(mol)\n",
    "\n",
    "# My models\n",
    "df = pd.read_csv('../data/predictions/loo_predictions.csv')\n",
    "df['inhibition'] = df['Measured Inhibition (%)']\n",
    "df_quantile = pd.read_csv(\n",
    "    '../data/predictions/loo_quantile_preds.csv')[['Molecule Name', '50th quantile']]\n",
    "df = df.merge(df_quantile, on='Molecule Name')\n",
    "\n",
    "# Emmas models\n",
    "emma_inliers = pd.read_csv('../data/predictions/intersected_inliers.csv')\n",
    "emma_outliers = pd.read_csv('../data/predictions/intersected_outliers.csv')\n",
    "emma_inliers['GP Predicted Inhibition (%)'] = emma_inliers[[\n",
    "    'amine_rbf_pred', 'amine_matern_pred']].mean(axis=1)\n",
    "emma_outliers['GP Predicted Inhibition (%)'] = emma_outliers[[\n",
    "    'amine_rbf_pred', 'amine_matern_pred']].mean(axis=1)\n",
    "emma_inliers = emma_inliers.drop(\n",
    "    ['amine_rbf_pred', 'amine_matern_pred'], axis=1)\n",
    "emma_outliers = emma_outliers.drop(\n",
    "    ['amine_rbf_pred', 'amine_matern_pred'], axis=1)\n",
    "emma_mols = pd.concat([emma_inliers, emma_outliers]).drop('SMILES', axis=1)\n",
    "\n",
    "# # Average our models\n",
    "# df_tot = df.merge(emma_mols, on='Molecule Name')\n",
    "# df_tot['pred'] = df_tot[['RF Predicted Inhibition (%)',\n",
    "#                          'GP Predicted Inhibition (%)']].mean(axis=1)\n",
    "\n",
    "# display(df_tot)\n",
    "\n",
    "\n",
    "def highlight_diff(s, threshold, columns):\n",
    "    is_max = pd.Series(data=False, index=s.index)\n",
    "    is_max[columns[0]] = abs(s.loc[columns[0]]-s.loc[columns[1]] )>= threshold\n",
    "    return ['background-color: salmon; color: black' if is_max.any() else '' for v in is_max]\n",
    "\n",
    "\n",
    "tqdm.pandas()\n",
    "df['smiles'] = df['SMILES'].progress_apply(\n",
    "    canonicalise_and_remove_stereo)\n",
    "\n",
    "df['smiles'] = df['smiles'].progress_apply(replace_substruct)\n",
    "df_with_yield['smiles'] = df_with_yield['smiles'].progress_apply(\n",
    "    canonicalise_and_remove_stereo)\n",
    "\n",
    "merged_df = df_with_yield.merge(df, on='smiles')\n",
    "# display(df_with_yield)\n",
    "# display(df['smiles'].values)\n",
    "wrong_rows = merged_df.query('abs(100 - (inhibition + activity)) > 0.3')[['Molecule Name', 'smiles', 'activity', 'inhibition']]\n",
    "wrong_rows['old_activity'] = 100 - wrong_rows['inhibition']\n",
    "wrong_rows = wrong_rows.rename(columns={\n",
    "                               'activity': 'Mean Corrected Activity (%): 24th Feb', 'old_activity': 'Mean Corrected Activity (%): 2nd Feb'}).drop('inhibition', axis=1)\n",
    "rounder = {'Mean Corrected Activity (%): 24th Feb': '{:.1f}', \n",
    "           'Mean Corrected Activity (%): 2nd Feb': '{:.1f}'}\n",
    "display(wrong_rows.style.format(rounder).apply(highlight_diff, threshold=5, columns=['Mean Corrected Activity (%): 24th Feb', 'Mean Corrected Activity (%): 2nd Feb'], axis=1)\n",
    "        )\n"
   ]
  },
  {
   "cell_type": "markdown",
   "metadata": {},
   "source": [
    "Tanimoto index search"
   ]
  },
  {
   "cell_type": "code",
   "execution_count": 8,
   "metadata": {},
   "outputs": [
    {
     "name": "stdout",
     "output_type": "stream",
     "text": [
      "O=C(Nc1cncc2ccccc12)C1CN(CC(=O)N2CCOCC2)Cc2ccc(Cl)cc21 is the same as O=C(Nc1cncc2ccccc12)C1CN(CC(=O)N2CCOCC2)Cc2ccc(Cl)cc21 with similarity 1.0\n",
      "O=C(CN1Cc2ccc(Cl)cc2C(C(=O)Nc2cncc3ccccc23)C1)Nc1ccccc1 is the same as O=C(CN1Cc2ccc(Cl)cc2C(C(=O)Nc2cncc3ccccc23)C1)Nc1ccccc1 with similarity 1.0\n",
      "O=C(CN1Cc2ccc(Cl)cc2C(C(=O)Nc2cncc3ccccc23)C1)NCc1ccccc1 is the same as O=C(CN1Cc2ccc(Cl)cc2C(C(=O)Nc2cncc3ccccc23)C1)NCc1ccccc1 with similarity 1.0\n",
      "O=C(CN1Cc2ccc(Cl)cc2C(C(=O)Nc2cncc3ccccc23)C1)Nc1ccc([N+](=O)[O-])cc1 is the same as O=C(CN1Cc2ccc(Cl)cc2C(C(=O)Nc2cncc3ccccc23)C1)Nc1ccc([N+](=O)[O-])cc1 with similarity 1.0\n",
      "CNC(=O)c1ccccc1NC(=O)CN1Cc2ccc(Cl)cc2C(C(=O)Nc2cncc3ccccc23)C1 is the same as CNC(=O)c1ccccc1NC(=O)CN1Cc2ccc(Cl)cc2C(C(=O)Nc2cncc3ccccc23)C1 with similarity 1.0\n",
      "CC(=O)Nc1ccc(NC(=O)CN2Cc3ccc(Cl)cc3C(C(=O)Nc3cncc4ccccc34)C2)cc1 is the same as CC(=O)Nc1ccc(NC(=O)CN2Cc3ccc(Cl)cc3C(C(=O)Nc3cncc4ccccc34)C2)cc1 with similarity 1.0\n",
      "O=C(CN1Cc2ccc(Cl)cc2C(C(=O)Nc2cncc3ccccc23)C1)Nc1ccc2scnc2c1 is the same as O=C(CN1Cc2ccc(Cl)cc2C(C(=O)Nc2cncc3ccccc23)C1)Nc1ccc2scnc2c1 with similarity 1.0\n",
      "O=C(CN1Cc2ccc(Cl)cc2C(C(=O)Nc2cncc3ccccc23)C1)Nc1nc2[nH]cnc2c(=O)[nH]1 is the same as O=C(CN1Cc2ccc(Cl)cc2C(C(=O)Nc2cncc3ccccc23)C1)Nc1nc2[nH]cnc2c(=O)[nH]1 with similarity 1.0\n",
      "O=C(CN1Cc2ccc(Cl)cc2C(C(=O)Nc2cncc3ccccc23)C1)NCc1ccc2c(c1)OCO2 is the same as O=C(CN1Cc2ccc(Cl)cc2C(C(=O)Nc2cncc3ccccc23)C1)NCc1ccc2c(c1)OCO2 with similarity 1.0\n",
      "O=C(CN1Cc2ccc(Cl)cc2C(C(=O)Nc2cncc3ccccc23)C1)Nc1ccc2c(c1)OCCO2 is the same as O=C(CN1Cc2ccc(Cl)cc2C(C(=O)Nc2cncc3ccccc23)C1)Nc1ccc2c(c1)OCCO2 with similarity 1.0\n",
      "CCCOc1ccc(NC(=O)CN2Cc3ccc(Cl)cc3C(C(=O)Nc3cncc4ccccc34)C2)cc1 is the same as CCCOc1ccc(NC(=O)CN2Cc3ccc(Cl)cc3C(C(=O)Nc3cncc4ccccc34)C2)cc1 with similarity 1.0\n",
      "CCOc1ccccc1CNC(=O)CN1Cc2ccc(Cl)cc2C(C(=O)Nc2cncc3ccccc23)C1 is the same as CCOc1ccccc1CNC(=O)CN1Cc2ccc(Cl)cc2C(C(=O)Nc2cncc3ccccc23)C1 with similarity 1.0\n",
      "COc1ccc(C(C)NC(=O)CN2Cc3ccc(Cl)cc3C(C(=O)Nc3cncc4ccccc34)C2)cc1 is the same as COc1ccc(C(C)NC(=O)CN2Cc3ccc(Cl)cc3C(C(=O)Nc3cncc4ccccc34)C2)cc1 with similarity 1.0\n",
      "CCOc1ccc(CNC(=O)CN2Cc3ccc(Cl)cc3C(C(=O)Nc3cncc4ccccc34)C2)cc1 is the same as CCOc1ccc(CNC(=O)CN2Cc3ccc(Cl)cc3C(C(=O)Nc3cncc4ccccc34)C2)cc1 with similarity 1.0\n",
      "O=C(CN1Cc2ccc(Cl)cc2C(C(=O)Nc2cncc3ccccc23)C1)NC(CO)Cc1ccccc1 is the same as O=C(CN1Cc2ccc(Cl)cc2C(C(=O)Nc2cncc3ccccc23)C1)NC(CO)Cc1ccccc1 with similarity 1.0\n",
      "COc1cccc(CCNC(=O)CN2Cc3ccc(Cl)cc3C(C(=O)Nc3cncc4ccccc34)C2)c1 is the same as COc1cccc(CCNC(=O)CN2Cc3ccc(Cl)cc3C(C(=O)Nc3cncc4ccccc34)C2)c1 with similarity 1.0\n",
      "O=C(CN1Cc2ccc(Cl)cc2C(C(=O)Nc2cncc3ccccc23)C1)NCc1ccc([N+](=O)[O-])cc1 is the same as O=C(CN1Cc2ccc(Cl)cc2C(C(=O)Nc2cncc3ccccc23)C1)NCc1ccc([N+](=O)[O-])cc1 with similarity 1.0\n",
      "Cc1ccc([N+](=O)[O-])c(NC(=O)CN2Cc3ccc(Cl)cc3C(C(=O)Nc3cncc4ccccc34)C2)c1 is the same as Cc1ccc([N+](=O)[O-])c(NC(=O)CN2Cc3ccc(Cl)cc3C(C(=O)Nc3cncc4ccccc34)C2)c1 with similarity 1.0\n",
      "Cc1cc(C)n(C(=O)CN2Cc3ccc(Cl)cc3C(C(=O)Nc3cncc4ccccc34)C2)c(=O)c1CN is the same as Cc1cc(C)n(C(=O)CN2Cc3ccc(Cl)cc3C(C(=O)Nc3cncc4ccccc34)C2)c(=O)c1CN with similarity 1.0\n",
      "N#Cc1ccc(Cl)c(NC(=O)CN2Cc3ccc(Cl)cc3C(C(=O)Nc3cncc4ccccc34)C2)c1 is the same as N#Cc1ccc(Cl)c(NC(=O)CN2Cc3ccc(Cl)cc3C(C(=O)Nc3cncc4ccccc34)C2)c1 with similarity 1.0\n",
      "N#Cc1cc(Cl)ccc1NC(=O)CN1Cc2ccc(Cl)cc2C(C(=O)Nc2cncc3ccccc23)C1 is the same as N#Cc1cc(Cl)ccc1NC(=O)CN1Cc2ccc(Cl)cc2C(C(=O)Nc2cncc3ccccc23)C1 with similarity 1.0\n",
      "N#Cc1c(Cl)cccc1NC(=O)CN1Cc2ccc(Cl)cc2C(C(=O)Nc2cncc3ccccc23)C1 is the same as N#Cc1c(Cl)cccc1NC(=O)CN1Cc2ccc(Cl)cc2C(C(=O)Nc2cncc3ccccc23)C1 with similarity 1.0\n",
      "Cc1cnc(NC(=O)CN2Cc3ccc(Cl)cc3C(C(=O)Nc3cncc4ccccc34)C2)c([N+](=O)[O-])c1 is the same as Cc1cnc(NC(=O)CN2Cc3ccc(Cl)cc3C(C(=O)Nc3cncc4ccccc34)C2)c([N+](=O)[O-])c1 with similarity 1.0\n",
      "O=C(Nc1cncc2ccccc12)C1CN(CC(=O)N2CCC(C(F)(F)F)CC2)Cc2ccc(Cl)cc21 is the same as O=C(Nc1cncc2ccccc12)C1CN(CC(=O)N2CCC(C(F)(F)F)CC2)Cc2ccc(Cl)cc21 with similarity 1.0\n",
      "COc1cc(NC(=O)CN2Cc3ccc(Cl)cc3C(C(=O)Nc3cncc4ccccc34)C2)cc(OC)c1 is the same as COc1cc(NC(=O)CN2Cc3ccc(Cl)cc3C(C(=O)Nc3cncc4ccccc34)C2)cc(OC)c1 with similarity 1.0\n",
      "COc1cc(CNC(=O)CN2Cc3ccc(Cl)cc3C(C(=O)Nc3cncc4ccccc34)C2)ccc1O is the same as COc1cc(CNC(=O)CN2Cc3ccc(Cl)cc3C(C(=O)Nc3cncc4ccccc34)C2)ccc1O with similarity 1.0\n",
      "O=C(CN1Cc2ccc(Cl)cc2C(C(=O)Nc2cncc3ccccc23)C1)NCC(O)c1ccc(O)cc1 is the same as O=C(CN1Cc2ccc(Cl)cc2C(C(=O)Nc2cncc3ccccc23)C1)NCC(O)c1ccc(O)cc1 with similarity 1.0\n",
      "CCN(Cc1ccc(F)cc1)C(=O)CN1Cc2ccc(Cl)cc2C(C(=O)Nc2cncc3ccccc23)C1 is the same as CCN(Cc1ccc(F)cc1)C(=O)CN1Cc2ccc(Cl)cc2C(C(=O)Nc2cncc3ccccc23)C1 with similarity 1.0\n",
      "N#Cc1cc(F)c(NC(=O)CN2Cc3ccc(Cl)cc3C(C(=O)Nc3cncc4ccccc34)C2)cc1F is the same as N#Cc1cc(F)c(NC(=O)CN2Cc3ccc(Cl)cc3C(C(=O)Nc3cncc4ccccc34)C2)cc1F with similarity 1.0\n",
      "O=C(CN1Cc2ccc(Cl)cc2C(C(=O)Nc2cncc3ccccc23)C1)Nc1ccc(O)cc1[N+](=O)[O-] is the same as O=C(CN1Cc2ccc(Cl)cc2C(C(=O)Nc2cncc3ccccc23)C1)Nc1ccc(O)cc1[N+](=O)[O-] with similarity 1.0\n",
      "O=C(Nc1cncc2ccccc12)C1CN(CC(=O)N2CCN(C(=O)C3CC3)CC2)Cc2ccc(Cl)cc21 is the same as O=C(Nc1cncc2ccccc12)C1CN(CC(=O)N2CCN(C(=O)C3CC3)CC2)Cc2ccc(Cl)cc21 with similarity 1.0\n",
      "COc1cc(NC(=O)CN2Cc3ccc(Cl)cc3C(C(=O)Nc3cncc4ccccc34)C2)nc(OC)n1 is the same as COc1cc(NC(=O)CN2Cc3ccc(Cl)cc3C(C(=O)Nc3cncc4ccccc34)C2)nc(OC)n1 with similarity 1.0\n",
      "CN(Cc1ccc(Cl)cc1)C(=O)CN1Cc2ccc(Cl)cc2C(C(=O)Nc2cncc3ccccc23)C1 is the same as CN(Cc1ccc(Cl)cc1)C(=O)CN1Cc2ccc(Cl)cc2C(C(=O)Nc2cncc3ccccc23)C1 with similarity 1.0\n",
      "O=C(CN1Cc2ccc(Cl)cc2C(C(=O)Nc2cncc3ccccc23)C1)Nc1cccc(F)c1[N+](=O)[O-] is the same as O=C(CN1Cc2ccc(Cl)cc2C(C(=O)Nc2cncc3ccccc23)C1)Nc1cccc(F)c1[N+](=O)[O-] with similarity 1.0\n",
      "CC(C)(C)c1csc(NC(=O)CN2Cc3ccc(Cl)cc3C(C(=O)Nc3cncc4ccccc34)C2)n1 is the same as CC(C)(C)c1csc(NC(=O)CN2Cc3ccc(Cl)cc3C(C(=O)Nc3cncc4ccccc34)C2)n1 with similarity 1.0\n",
      "CCOC(=O)C1CCCN(C(=O)CN2Cc3ccc(Cl)cc3C(C(=O)Nc3cncc4ccccc34)C2)C1 is the same as CCOC(=O)C1CCCN(C(=O)CN2Cc3ccc(Cl)cc3C(C(=O)Nc3cncc4ccccc34)C2)C1 with similarity 1.0\n",
      "Cc1ccc2ccccc2c1NC(=O)CN1Cc2ccc(Cl)cc2C(C(=O)Nc2cncc3ccccc23)C1 is the same as Cc1ccc2ccccc2c1NC(=O)CN1Cc2ccc(Cl)cc2C(C(=O)Nc2cncc3ccccc23)C1 with similarity 1.0\n",
      "COc1ccc(Cl)c(NC(=O)CN2Cc3ccc(Cl)cc3C(C(=O)Nc3cncc4ccccc34)C2)c1 is the same as COc1ccc(Cl)c(NC(=O)CN2Cc3ccc(Cl)cc3C(C(=O)Nc3cncc4ccccc34)C2)c1 with similarity 1.0\n",
      "COc1c(Cl)cccc1NC(=O)CN1Cc2ccc(Cl)cc2C(C(=O)Nc2cncc3ccccc23)C1 is the same as COc1c(Cl)cccc1NC(=O)CN1Cc2ccc(Cl)cc2C(C(=O)Nc2cncc3ccccc23)C1 with similarity 1.0\n",
      "Cc1ccc2cccc(NC(=O)CN3Cc4ccc(Cl)cc4C(C(=O)Nc4cncc5ccccc45)C3)c2n1 is the same as Cc1ccc2cccc(NC(=O)CN3Cc4ccc(Cl)cc4C(C(=O)Nc4cncc5ccccc45)C3)c2n1 with similarity 1.0\n",
      "O=C(CN1Cc2ccc(Cl)cc2C(C(=O)Nc2cncc3ccccc23)C1)Nc1ccc(OC(F)F)cc1 is the same as O=C(CN1Cc2ccc(Cl)cc2C(C(=O)Nc2cncc3ccccc23)C1)Nc1ccc(OC(F)F)cc1 with similarity 1.0\n",
      "O=C(CN1Cc2ccc(Cl)cc2C(C(=O)Nc2cncc3ccccc23)C1)Nc1cccc2ccc(O)cc12 is the same as O=C(CN1Cc2ccc(Cl)cc2C(C(=O)Nc2cncc3ccccc23)C1)Nc1cccc2ccc(O)cc12 with similarity 1.0\n",
      "O=C(CN1Cc2ccc(Cl)cc2C(C(=O)Nc2cncc3ccccc23)C1)Nc1ccc2ccccc2c1O is the same as O=C(CN1Cc2ccc(Cl)cc2C(C(=O)Nc2cncc3ccccc23)C1)Nc1ccc2ccccc2c1O with similarity 1.0\n",
      "O=C(CN1Cc2ccc(Cl)cc2C(C(=O)Nc2cncc3ccccc23)C1)Nc1ccc(-n2cccn2)cc1 is the same as O=C(CN1Cc2ccc(Cl)cc2C(C(=O)Nc2cncc3ccccc23)C1)Nc1ccc(-n2cccn2)cc1 with similarity 1.0\n",
      "O=C(CN1Cc2ccc(Cl)cc2C(C(=O)Nc2cncc3ccccc23)C1)Nc1ccc(-n2ccnc2)cc1 is the same as O=C(CN1Cc2ccc(Cl)cc2C(C(=O)Nc2cncc3ccccc23)C1)Nc1ccc(-n2ccnc2)cc1 with similarity 1.0\n",
      "O=C(Nc1cncc2ccccc12)C1CN(CC(=O)N2CC=C(c3ccccc3)CC2)Cc2ccc(Cl)cc21 is the same as O=C(Nc1cncc2ccccc12)C1CN(CC(=O)N2CC=C(c3ccccc3)CC2)Cc2ccc(Cl)cc21 with similarity 1.0\n",
      "COc1cc(Cl)nc(NC(=O)CN2Cc3ccc(Cl)cc3C(C(=O)Nc3cncc4ccccc34)C2)n1 is the same as COc1cc(Cl)nc(NC(=O)CN2Cc3ccc(Cl)cc3C(C(=O)Nc3cncc4ccccc34)C2)n1 with similarity 1.0\n",
      "Cc1cc(NC(=O)CN2Cc3ccc(Cl)cc3C(C(=O)Nc3cncc4ccccc34)C2)c(Cl)cc1F is the same as Cc1cc(NC(=O)CN2Cc3ccc(Cl)cc3C(C(=O)Nc3cncc4ccccc34)C2)c(Cl)cc1F with similarity 1.0\n",
      "O=C(CN1Cc2ccc(Cl)cc2C(C(=O)Nc2cncc3ccccc23)C1)NCc1cccc(F)c1Cl is the same as O=C(CN1Cc2ccc(Cl)cc2C(C(=O)Nc2cncc3ccccc23)C1)NCc1cccc(F)c1Cl with similarity 1.0\n",
      "O=C(CN1Cc2ccc(Cl)cc2C(C(=O)Nc2cncc3ccccc23)C1)NCc1ccc(F)c(Cl)c1 is the same as O=C(CN1Cc2ccc(Cl)cc2C(C(=O)Nc2cncc3ccccc23)C1)NCc1ccc(F)c(Cl)c1 with similarity 1.0\n",
      "O=C(CN1Cc2ccc(Cl)cc2C(C(=O)Nc2cncc3ccccc23)C1)NCc1cc(F)c(F)c(F)c1 is the same as O=C(CN1Cc2ccc(Cl)cc2C(C(=O)Nc2cncc3ccccc23)C1)NCc1cc(F)c(F)c(F)c1 with similarity 1.0\n",
      "O=C(CN1Cc2ccc(Cl)cc2C(C(=O)Nc2cncc3ccccc23)C1)Nc1ccc(C(F)(F)F)cc1 is the same as O=C(CN1Cc2ccc(Cl)cc2C(C(=O)Nc2cncc3ccccc23)C1)Nc1ccc(C(F)(F)F)cc1 with similarity 1.0\n",
      "O=C(CN1Cc2ccc(Cl)cc2C(C(=O)Nc2cncc3ccccc23)C1)Nc1n[nH]cc1Br is the same as O=C(CN1Cc2ccc(Cl)cc2C(C(=O)Nc2cncc3ccccc23)C1)Nc1n[nH]cc1Br with similarity 1.0\n",
      "O=C(CN1Cc2ccc(Cl)cc2C(C(=O)Nc2cncc3ccccc23)C1)Nc1ccc(Cl)c(Cl)c1 is the same as O=C(CN1Cc2ccc(Cl)cc2C(C(=O)Nc2cncc3ccccc23)C1)Nc1ccc(Cl)c(Cl)c1 with similarity 1.0\n",
      "O=C(CN1Cc2ccc(Cl)cc2C(C(=O)Nc2cncc3ccccc23)C1)Nc1ncccc1C(F)(F)F is the same as O=C(CN1Cc2ccc(Cl)cc2C(C(=O)Nc2cncc3ccccc23)C1)Nc1ncccc1C(F)(F)F with similarity 1.0\n",
      "O=C(CN1Cc2ccc(Cl)cc2C(C(=O)Nc2cncc3ccccc23)C1)Nc1ccc(C(F)(F)F)cn1 is the same as O=C(CN1Cc2ccc(Cl)cc2C(C(=O)Nc2cncc3ccccc23)C1)Nc1ccc(C(F)(F)F)cn1 with similarity 1.0\n",
      "O=C(CN1Cc2ccc(Cl)cc2C(C(=O)Nc2cncc3ccccc23)C1)Nc1cccc(C(F)(F)F)n1 is the same as O=C(CN1Cc2ccc(Cl)cc2C(C(=O)Nc2cncc3ccccc23)C1)Nc1cccc(C(F)(F)F)n1 with similarity 1.0\n",
      "O=C(CN1Cc2ccc(Cl)cc2C(C(=O)Nc2cncc3ccccc23)C1)Nc1cc(C(F)(F)F)ccn1 is the same as O=C(CN1Cc2ccc(Cl)cc2C(C(=O)Nc2cncc3ccccc23)C1)Nc1cc(C(F)(F)F)ccn1 with similarity 1.0\n",
      "O=C(CN1Cc2ccc(Cl)cc2C(C(=O)Nc2cncc3ccccc23)C1)Nc1c(Cl)cncc1Cl is the same as O=C(CN1Cc2ccc(Cl)cc2C(C(=O)Nc2cncc3ccccc23)C1)Nc1c(Cl)cncc1Cl with similarity 1.0\n",
      "O=C(CN1Cc2ccc(Cl)cc2C(C(=O)Nc2cncc3ccccc23)C1)Nc1ccc(Cl)nc1Cl is the same as O=C(CN1Cc2ccc(Cl)cc2C(C(=O)Nc2cncc3ccccc23)C1)Nc1ccc(Cl)nc1Cl with similarity 1.0\n",
      "O=C(CN1Cc2ccc(Cl)cc2C(C(=O)Nc2cncc3ccccc23)C1)Nc1ccc2c(c1)C(=O)NC2=O is the same as O=C(CN1Cc2ccc(Cl)cc2C(C(=O)Nc2cncc3ccccc23)C1)Nc1ccc2c(c1)C(=O)NC2=O with similarity 1.0\n",
      "CC(C)(C)N(Cc1ccccc1)C(=O)CN1Cc2ccc(Cl)cc2C(C(=O)Nc2cncc3ccccc23)C1 is the same as CC(C)(C)N(Cc1ccccc1)C(=O)CN1Cc2ccc(Cl)cc2C(C(=O)Nc2cncc3ccccc23)C1 with similarity 1.0\n",
      "O=C(CN1Cc2ccc(Cl)cc2C(C(=O)Nc2cncc3ccccc23)C1)Nc1ncnc(Cl)c1Cl is the same as O=C(CN1Cc2ccc(Cl)cc2C(C(=O)Nc2cncc3ccccc23)C1)Nc1ncnc(Cl)c1Cl with similarity 1.0\n",
      "O=C(CN1Cc2ccc(Cl)cc2C(C(=O)Nc2cncc3ccccc23)C1)Nc1cc(Cl)nc(Cl)n1 is the same as O=C(CN1Cc2ccc(Cl)cc2C(C(=O)Nc2cncc3ccccc23)C1)Nc1cc(Cl)nc(Cl)n1 with similarity 1.0\n",
      "O=C(CN1Cc2ccc(Cl)cc2C(C(=O)Nc2cncc3ccccc23)C1)Nc1cc(Cl)c(F)cc1F is the same as O=C(CN1Cc2ccc(Cl)cc2C(C(=O)Nc2cncc3ccccc23)C1)Nc1cc(Cl)c(F)cc1F with similarity 1.0\n",
      "O=C(CN1Cc2ccc(Cl)cc2C(C(=O)Nc2cncc3ccccc23)C1)Nc1c(F)cc(F)cc1Cl is the same as O=C(CN1Cc2ccc(Cl)cc2C(C(=O)Nc2cncc3ccccc23)C1)Nc1c(F)cc(F)cc1Cl with similarity 1.0\n",
      "O=C(Nc1cncc2ccccc12)C1CN(CC(=O)N2CCN(c3ncccn3)CC2)Cc2ccc(Cl)cc21 is the same as O=C(Nc1cncc2ccccc12)C1CN(CC(=O)N2CCN(c3ncccn3)CC2)Cc2ccc(Cl)cc21 with similarity 1.0\n",
      "Cc1ccc2nc(NC(=O)CN3Cc4ccc(Cl)cc4C(C(=O)Nc4cncc5ccccc45)C3)sc2c1 is the same as Cc1ccc2nc(NC(=O)CN3Cc4ccc(Cl)cc4C(C(=O)Nc4cncc5ccccc45)C3)sc2c1 with similarity 1.0\n",
      "O=C(CN1Cc2ccc(Cl)cc2C(C(=O)Nc2cncc3ccccc23)C1)Nc1c(F)c(F)cc(F)c1F is the same as O=C(CN1Cc2ccc(Cl)cc2C(C(=O)Nc2cncc3ccccc23)C1)Nc1c(F)c(F)cc(F)c1F with similarity 1.0\n",
      "CC(C)(C)c1ccc(O)c(NC(=O)CN2Cc3ccc(Cl)cc3C(C(=O)Nc3cncc4ccccc34)C2)c1 is the same as CC(C)(C)c1ccc(O)c(NC(=O)CN2Cc3ccc(Cl)cc3C(C(=O)Nc3cncc4ccccc34)C2)c1 with similarity 1.0\n",
      "CCc1ccc([N+](=O)[O-])cc1NC(=O)CN1Cc2ccc(Cl)cc2C(C(=O)Nc2cncc3ccccc23)C1 is the same as CCc1ccc([N+](=O)[O-])cc1NC(=O)CN1Cc2ccc(Cl)cc2C(C(=O)Nc2cncc3ccccc23)C1 with similarity 1.0\n",
      "CN(Cc1cccc([N+](=O)[O-])c1)C(=O)CN1Cc2ccc(Cl)cc2C(C(=O)Nc2cncc3ccccc23)C1 is the same as CN(Cc1cccc([N+](=O)[O-])c1)C(=O)CN1Cc2ccc(Cl)cc2C(C(=O)Nc2cncc3ccccc23)C1 with similarity 1.0\n",
      "CC(NC(=O)CN1Cc2ccc(Cl)cc2C(C(=O)Nc2cncc3ccccc23)C1)c1ccc([N+](=O)[O-])cc1 is the same as CC(NC(=O)CN1Cc2ccc(Cl)cc2C(C(=O)Nc2cncc3ccccc23)C1)c1ccc([N+](=O)[O-])cc1 with similarity 1.0\n",
      "CSc1ncc(C#N)c(NC(=O)CN2Cc3ccc(Cl)cc3C(C(=O)Nc3cncc4ccccc34)C2)n1 is the same as CSc1ncc(C#N)c(NC(=O)CN2Cc3ccc(Cl)cc3C(C(=O)Nc3cncc4ccccc34)C2)n1 with similarity 1.0\n",
      "COc1cccc(CNC(=O)CN2Cc3ccc(Cl)cc3C(C(=O)Nc3cncc4ccccc34)C2)c1OC is the same as COc1cccc(CNC(=O)CN2Cc3ccc(Cl)cc3C(C(=O)Nc3cncc4ccccc34)C2)c1OC with similarity 1.0\n",
      "COc1cc(CNC(=O)CN2Cc3ccc(Cl)cc3C(C(=O)Nc3cncc4ccccc34)C2)cc(OC)c1 is the same as COc1cc(CNC(=O)CN2Cc3ccc(Cl)cc3C(C(=O)Nc3cncc4ccccc34)C2)cc(OC)c1 with similarity 1.0\n",
      "COc1ccc(CNC(=O)CN2Cc3ccc(Cl)cc3C(C(=O)Nc3cncc4ccccc34)C2)c(OC)c1 is the same as COc1ccc(CNC(=O)CN2Cc3ccc(Cl)cc3C(C(=O)Nc3cncc4ccccc34)C2)c(OC)c1 with similarity 1.0\n",
      "O=C(CN1Cc2ccc(Cl)cc2C(C(=O)Nc2cncc3ccccc23)C1)NC12CC3CC(CC(O)(C3)C1)C2 is the same as O=C(CN1Cc2ccc(Cl)cc2C(C(=O)Nc2cncc3ccccc23)C1)NC12CC3CC(CC(O)(C3)C1)C2 with similarity 1.0\n",
      "CC(C)Sc1ccccc1NC(=O)CN1Cc2ccc(Cl)cc2C(C(=O)Nc2cncc3ccccc23)C1 is the same as CC(C)Sc1ccccc1NC(=O)CN1Cc2ccc(Cl)cc2C(C(=O)Nc2cncc3ccccc23)C1 with similarity 1.0\n",
      "COc1ccc(NC(=O)CN2Cc3ccc(Cl)cc3C(C(=O)Nc3cncc4ccccc34)C2)c([N+](=O)[O-])c1 is the same as COc1ccc(NC(=O)CN2Cc3ccc(Cl)cc3C(C(=O)Nc3cncc4ccccc34)C2)c([N+](=O)[O-])c1 with similarity 1.0\n",
      "Cc1ncc(CO)c(CNC(=O)CN2Cc3ccc(Cl)cc3C(C(=O)Nc3cncc4ccccc34)C2)c1O is the same as Cc1ncc(CO)c(CNC(=O)CN2Cc3ccc(Cl)cc3C(C(=O)Nc3cncc4ccccc34)C2)c1O with similarity 1.0\n",
      "O=C(CN1Cc2ccc(Cl)cc2C(C(=O)Nc2cncc3ccccc23)C1)Nc1nnc(C(F)(F)F)s1 is the same as O=C(CN1Cc2ccc(Cl)cc2C(C(=O)Nc2cncc3ccccc23)C1)Nc1nnc(C(F)(F)F)s1 with similarity 1.0\n",
      "O=C(CN1Cc2ccc(Cl)cc2C(C(=O)Nc2cncc3ccccc23)C1)Nc1ccc(-c2ccccc2)cc1 is the same as O=C(CN1Cc2ccc(Cl)cc2C(C(=O)Nc2cncc3ccccc23)C1)Nc1ccc(-c2ccccc2)cc1 with similarity 1.0\n",
      "O=C(CN1Cc2ccc(Cl)cc2C(C(=O)Nc2cncc3ccccc23)C1)Nc1cccc(-c2ccccc2)c1 is the same as O=C(CN1Cc2ccc(Cl)cc2C(C(=O)Nc2cncc3ccccc23)C1)Nc1cccc(-c2ccccc2)c1 with similarity 1.0\n",
      "O=C(CN1Cc2ccc(Cl)cc2C(C(=O)Nc2cncc3ccccc23)C1)Nc1ccccc1-c1ccccc1 is the same as O=C(CN1Cc2ccc(Cl)cc2C(C(=O)Nc2cncc3ccccc23)C1)Nc1ccccc1-c1ccccc1 with similarity 1.0\n",
      "O=C(CN1Cc2ccc(Cl)cc2C(C(=O)Nc2cncc3ccccc23)C1)Nc1nc(Cl)nc2nc[nH]c12 is the same as O=C(CN1Cc2ccc(Cl)cc2C(C(=O)Nc2cncc3ccccc23)C1)Nc1nc(Cl)nc2nc[nH]c12 with similarity 1.0\n",
      "O=C(CN1Cc2ccc(Cl)cc2C(C(=O)Nc2cncc3ccccc23)C1)Nc1ccc(-c2ccccn2)cc1 is the same as O=C(CN1Cc2ccc(Cl)cc2C(C(=O)Nc2cncc3ccccc23)C1)Nc1ccc(-c2ccccn2)cc1 with similarity 1.0\n",
      "CC(C)c1nc(CN(C)C(=O)CN2Cc3ccc(Cl)cc3C(C(=O)Nc3cncc4ccccc34)C2)cs1 is the same as CC(C)c1nc(CN(C)C(=O)CN2Cc3ccc(Cl)cc3C(C(=O)Nc3cncc4ccccc34)C2)cs1 with similarity 1.0\n",
      "NC(=O)c1ccc(Cl)c(NC(=O)CN2Cc3ccc(Cl)cc3C(C(=O)Nc3cncc4ccccc34)C2)c1 is the same as NC(=O)c1ccc(Cl)c(NC(=O)CN2Cc3ccc(Cl)cc3C(C(=O)Nc3cncc4ccccc34)C2)c1 with similarity 1.0\n",
      "CC(C)(C)OC(=O)C1CCCN1C(=O)CN1Cc2ccc(Cl)cc2C(C(=O)Nc2cncc3ccccc23)C1 is the same as CC(C)(C)OC(=O)C1CCCN1C(=O)CN1Cc2ccc(Cl)cc2C(C(=O)Nc2cncc3ccccc23)C1 with similarity 1.0\n",
      "CN(Cc1cccc2ccccc12)C(=O)CN1Cc2ccc(Cl)cc2C(C(=O)Nc2cncc3ccccc23)C1 is the same as CN(Cc1cccc2ccccc12)C(=O)CN1Cc2ccc(Cl)cc2C(C(=O)Nc2cncc3ccccc23)C1 with similarity 1.0\n",
      "CC(NC(=O)CN1Cc2ccc(Cl)cc2C(C(=O)Nc2cncc3ccccc23)C1)c1cccc2ccccc12 is the same as CC(NC(=O)CN1Cc2ccc(Cl)cc2C(C(=O)Nc2cncc3ccccc23)C1)c1cccc2ccccc12 with similarity 1.0\n",
      "CN(C)C(=O)CN1CCN(C(=O)CN2Cc3ccc(Cl)cc3C(C(=O)Nc3cncc4ccccc34)C2)CC1 is the same as CN(C)C(=O)CN1CCN(C(=O)CN2Cc3ccc(Cl)cc3C(C(=O)Nc3cncc4ccccc34)C2)CC1 with similarity 1.0\n",
      "COc1cc(Cl)c(C)cc1NC(=O)CN1Cc2ccc(Cl)cc2C(C(=O)Nc2cncc3ccccc23)C1 is the same as COc1cc(Cl)c(C)cc1NC(=O)CN1Cc2ccc(Cl)cc2C(C(=O)Nc2cncc3ccccc23)C1 with similarity 1.0\n",
      "O=C(CN1Cc2ccc(Cl)cc2C(C(=O)Nc2cncc3ccccc23)C1)Nc1cccc(Br)c1 is the same as O=C(CN1Cc2ccc(Cl)cc2C(C(=O)Nc2cncc3ccccc23)C1)Nc1cccc(Br)c1 with similarity 1.0\n",
      "CC(C)(C)OC(=O)NC1CN(C(=O)CN2Cc3ccc(Cl)cc3C(C(=O)Nc3cncc4ccccc34)C2)C1 is the same as CC(C)(C)OC(=O)NC1CN(C(=O)CN2Cc3ccc(Cl)cc3C(C(=O)Nc3cncc4ccccc34)C2)C1 with similarity 1.0\n",
      "O=C(Nc1cncc2ccccc12)C1CN(CC(=O)N2CCc3c([nH]c4ccccc34)C2)Cc2ccc(Cl)cc21 is the same as O=C(Nc1cncc2ccccc12)C1CN(CC(=O)N2CCc3c([nH]c4ccccc34)C2)Cc2ccc(Cl)cc21 with similarity 1.0\n",
      "O=C(CN1Cc2ccc(Cl)cc2C(C(=O)Nc2cncc3ccccc23)C1)Nc1ccc([N+](=O)[O-])cc1Cl is the same as O=C(CN1Cc2ccc(Cl)cc2C(C(=O)Nc2cncc3ccccc23)C1)Nc1ccc([N+](=O)[O-])cc1Cl with similarity 1.0\n",
      "O=C(CN1Cc2ccc(Cl)cc2C(C(=O)Nc2cncc3ccccc23)C1)Nc1c(Cl)cccc1[N+](=O)[O-] is the same as O=C(CN1Cc2ccc(Cl)cc2C(C(=O)Nc2cncc3ccccc23)C1)Nc1c(Cl)cccc1[N+](=O)[O-] with similarity 1.0\n",
      "O=C(CN1Cc2ccc(Cl)cc2C(C(=O)Nc2cncc3ccccc23)C1)Nc1ccc(Br)nc1 is the same as O=C(CN1Cc2ccc(Cl)cc2C(C(=O)Nc2cncc3ccccc23)C1)Nc1ccc(Br)nc1 with similarity 1.0\n",
      "O=C(CN1Cc2ccc(Cl)cc2C(C(=O)Nc2cncc3ccccc23)C1)Nc1ccnc(Br)c1 is the same as O=C(CN1Cc2ccc(Cl)cc2C(C(=O)Nc2cncc3ccccc23)C1)Nc1ccnc(Br)c1 with similarity 1.0\n",
      "O=C(CN1Cc2ccc(Cl)cc2C(C(=O)Nc2cncc3ccccc23)C1)Nc1cccnc1Br is the same as O=C(CN1Cc2ccc(Cl)cc2C(C(=O)Nc2cncc3ccccc23)C1)Nc1cccnc1Br with similarity 1.0\n",
      "O=C(CN1Cc2ccc(Cl)cc2C(C(=O)Nc2cncc3ccccc23)C1)Nc1cccc(Br)n1 is the same as O=C(CN1Cc2ccc(Cl)cc2C(C(=O)Nc2cncc3ccccc23)C1)Nc1cccc(Br)n1 with similarity 1.0\n",
      "O=C(CN1Cc2ccc(Cl)cc2C(C(=O)Nc2cncc3ccccc23)C1)Nc1cncc(Br)c1 is the same as O=C(CN1Cc2ccc(Cl)cc2C(C(=O)Nc2cncc3ccccc23)C1)Nc1cncc(Br)c1 with similarity 1.0\n",
      "O=C(CN1Cc2ccc(Cl)cc2C(C(=O)Nc2cncc3ccccc23)C1)Nc1ccncc1Br is the same as O=C(CN1Cc2ccc(Cl)cc2C(C(=O)Nc2cncc3ccccc23)C1)Nc1ccncc1Br with similarity 1.0\n",
      "O=C(CN1Cc2ccc(Cl)cc2C(C(=O)Nc2cncc3ccccc23)C1)Nc1ccc2c(c1)OC(F)(F)O2 is the same as O=C(CN1Cc2ccc(Cl)cc2C(C(=O)Nc2cncc3ccccc23)C1)Nc1ccc2c(c1)OC(F)(F)O2 with similarity 1.0\n",
      "Cc1nccn1-c1ccc(NC(=O)CN2Cc3ccc(Cl)cc3C(C(=O)Nc3cncc4ccccc34)C2)cc1 is the same as Cc1nccn1-c1ccc(NC(=O)CN2Cc3ccc(Cl)cc3C(C(=O)Nc3cncc4ccccc34)C2)cc1 with similarity 1.0\n",
      "O=C(CN1Cc2ccc(Cl)cc2C(C(=O)Nc2cncc3ccccc23)C1)Nc1cnc(Br)cn1 is the same as O=C(CN1Cc2ccc(Cl)cc2C(C(=O)Nc2cncc3ccccc23)C1)Nc1cnc(Br)cn1 with similarity 1.0\n",
      "O=C(CN1Cc2ccc(Cl)cc2C(C(=O)Nc2cncc3ccccc23)C1)Nc1c(F)cc(F)cc1[N+](=O)[O-] is the same as O=C(CN1Cc2ccc(Cl)cc2C(C(=O)Nc2cncc3ccccc23)C1)Nc1c(F)cc(F)cc1[N+](=O)[O-] with similarity 1.0\n",
      "Cc1ccc2[nH]cc(CCNC(=O)CN3Cc4ccc(Cl)cc4C(C(=O)Nc4cncc5ccccc45)C3)c2c1 is the same as Cc1ccc2[nH]cc(CCNC(=O)CN3Cc4ccc(Cl)cc4C(C(=O)Nc4cncc5ccccc45)C3)c2c1 with similarity 1.0\n",
      "Cc1cc(=O)oc2cc(NC(=O)CN3Cc4ccc(Cl)cc4C(C(=O)Nc4cncc5ccccc45)C3)ccc12 is the same as Cc1cc(=O)oc2cc(NC(=O)CN3Cc4ccc(Cl)cc4C(C(=O)Nc4cncc5ccccc45)C3)ccc12 with similarity 1.0\n",
      "O=C(Nc1cncc2ccccc12)C1CN(CC(=O)N2CCC(Cc3ccccc3)CC2)Cc2ccc(Cl)cc21 is the same as O=C(Nc1cncc2ccccc12)C1CN(CC(=O)N2CCC(Cc3ccccc3)CC2)Cc2ccc(Cl)cc21 with similarity 1.0\n",
      "Cc1n[nH]c(NC(=O)CN2Cc3ccc(Cl)cc3C(C(=O)Nc3cncc4ccccc34)C2)c1Br is the same as Cc1n[nH]c(NC(=O)CN2Cc3ccc(Cl)cc3C(C(=O)Nc3cncc4ccccc34)C2)c1Br with similarity 1.0\n",
      "O=C(CN1Cc2ccc(Cl)cc2C(C(=O)Nc2cncc3ccccc23)C1)NCc1c(Cl)cccc1Cl is the same as O=C(CN1Cc2ccc(Cl)cc2C(C(=O)Nc2cncc3ccccc23)C1)NCc1c(Cl)cccc1Cl with similarity 1.0\n",
      "O=C(CN1Cc2ccc(Cl)cc2C(C(=O)Nc2cncc3ccccc23)C1)NCc1cc(Cl)cc(Cl)c1 is the same as O=C(CN1Cc2ccc(Cl)cc2C(C(=O)Nc2cncc3ccccc23)C1)NCc1cc(Cl)cc(Cl)c1 with similarity 1.0\n",
      "CN1C(=O)c2ccc(NC(=O)CN3Cc4ccc(Cl)cc4C(C(=O)Nc4cncc5ccccc45)C3)cc2C1=O is the same as CN1C(=O)c2ccc(NC(=O)CN3Cc4ccc(Cl)cc4C(C(=O)Nc4cncc5ccccc45)C3)cc2C1=O with similarity 1.0\n",
      "CN1CCN(C(=O)CN2Cc3ccc(Cl)cc3C(C(=O)Nc3cncc4ccccc34)C2)C(c2ccccc2)C1 is the same as CN1CCN(C(=O)CN2Cc3ccc(Cl)cc3C(C(=O)Nc3cncc4ccccc34)C2)C(c2ccccc2)C1 with similarity 1.0\n",
      "O=C(CN1Cc2ccc(Cl)cc2C(C(=O)Nc2cncc3ccccc23)C1)Nc1cccc(OC(F)(F)F)c1 is the same as O=C(CN1Cc2ccc(Cl)cc2C(C(=O)Nc2cncc3ccccc23)C1)Nc1cccc(OC(F)(F)F)c1 with similarity 1.0\n",
      "O=C(CN1Cc2ccc(Cl)cc2C(C(=O)Nc2cncc3ccccc23)C1)Nc1cccc2c(=O)[nH][nH]c(=O)c12 is the same as O=C(CN1Cc2ccc(Cl)cc2C(C(=O)Nc2cncc3ccccc23)C1)Nc1cccc2c(=O)[nH][nH]c(=O)c12 with similarity 1.0\n",
      "O=C(Nc1cncc2ccccc12)C1CN(CC(=O)N2CCC(Oc3ccccc3)CC2)Cc2ccc(Cl)cc21 is the same as O=C(Nc1cncc2ccccc12)C1CN(CC(=O)N2CCC(Oc3ccccc3)CC2)Cc2ccc(Cl)cc21 with similarity 1.0\n",
      "CC(C)c1cccc(C(C)C)c1NC(=O)CN1Cc2ccc(Cl)cc2C(C(=O)Nc2cncc3ccccc23)C1 is the same as CC(C)c1cccc(C(C)C)c1NC(=O)CN1Cc2ccc(Cl)cc2C(C(=O)Nc2cncc3ccccc23)C1 with similarity 1.0\n",
      "O=C(CN1Cc2ccc(Cl)cc2C(C(=O)Nc2cncc3ccccc23)C1)Nc1cc(Cl)c(O)c(Cl)c1 is the same as O=C(CN1Cc2ccc(Cl)cc2C(C(=O)Nc2cncc3ccccc23)C1)Nc1cc(Cl)c(O)c(Cl)c1 with similarity 1.0\n",
      "O=C(CN1Cc2ccc(Cl)cc2C(C(=O)Nc2cncc3ccccc23)C1)Nc1cc(Cl)cc(Cl)c1O is the same as O=C(CN1Cc2ccc(Cl)cc2C(C(=O)Nc2cncc3ccccc23)C1)Nc1cc(Cl)cc(Cl)c1O with similarity 1.0\n",
      "Cc1nc(Cl)c(NC(=O)CN2Cc3ccc(Cl)cc3C(C(=O)Nc3cncc4ccccc34)C2)c(Cl)n1 is the same as Cc1nc(Cl)c(NC(=O)CN2Cc3ccc(Cl)cc3C(C(=O)Nc3cncc4ccccc34)C2)c(Cl)n1 with similarity 1.0\n",
      "O=C(CN1Cc2ccc(Cl)cc2C(C(=O)Nc2cncc3ccccc23)C1)Nc1nnc(-c2ccncc2)s1 is the same as O=C(CN1Cc2ccc(Cl)cc2C(C(=O)Nc2cncc3ccccc23)C1)Nc1nnc(-c2ccncc2)s1 with similarity 1.0\n",
      "O=C(Nc1cncc2ccccc12)C1CN(CC(=O)N2CCN(c3ccccc3O)CC2)Cc2ccc(Cl)cc21 is the same as O=C(Nc1cncc2ccccc12)C1CN(CC(=O)N2CCN(c3ccccc3O)CC2)Cc2ccc(Cl)cc21 with similarity 1.0\n",
      "O=C(Nc1cncc2ccccc12)C1CN(CC(=O)N2CCN(c3ccc(O)cc3)CC2)Cc2ccc(Cl)cc21 is the same as O=C(Nc1cncc2ccccc12)C1CN(CC(=O)N2CCN(c3ccc(O)cc3)CC2)Cc2ccc(Cl)cc21 with similarity 1.0\n",
      "O=C(CN1Cc2ccc(Cl)cc2C(C(=O)Nc2cncc3ccccc23)C1)Nc1cccc(N2CCOCC2)c1 is the same as O=C(CN1Cc2ccc(Cl)cc2C(C(=O)Nc2cncc3ccccc23)C1)Nc1cccc(N2CCOCC2)c1 with similarity 1.0\n",
      "CCS(=O)(=O)N1CCN(C(=O)CN2Cc3ccc(Cl)cc3C(C(=O)Nc3cncc4ccccc34)C2)CC1 is the same as CCS(=O)(=O)N1CCN(C(=O)CN2Cc3ccc(Cl)cc3C(C(=O)Nc3cncc4ccccc34)C2)CC1 with similarity 1.0\n",
      "O=C(CN1Cc2ccc(Cl)cc2C(C(=O)Nc2cncc3ccccc23)C1)Nc1cccc(C(F)(F)F)c1F is the same as O=C(CN1Cc2ccc(Cl)cc2C(C(=O)Nc2cncc3ccccc23)C1)Nc1cccc(C(F)(F)F)c1F with similarity 1.0\n",
      "O=C(CN1Cc2ccc(Cl)cc2C(C(=O)Nc2cncc3ccccc23)C1)Nc1ccc(F)cc1C(F)(F)F is the same as O=C(CN1Cc2ccc(Cl)cc2C(C(=O)Nc2cncc3ccccc23)C1)Nc1ccc(F)cc1C(F)(F)F with similarity 1.0\n",
      "O=C(CN1Cc2ccc(Cl)cc2C(C(=O)Nc2cncc3ccccc23)C1)NC1C(O)OC(CO)C(O)C1O is the same as O=C(CN1Cc2ccc(Cl)cc2C(C(=O)Nc2cncc3ccccc23)C1)NC1C(O)OC(CO)C(O)C1O with similarity 1.0\n",
      "O=C(CN1Cc2ccc(Cl)cc2C(C(=O)Nc2cncc3ccccc23)C1)Nc1ncnc2c1ncn2CCO is the same as O=C(CN1Cc2ccc(Cl)cc2C(C(=O)Nc2cncc3ccccc23)C1)Nc1ncnc2c1ncn2CCO with similarity 1.0\n",
      "CC12CC3CC(C)(C1)CC(NC(=O)CN1Cc4ccc(Cl)cc4C(C(=O)Nc4cncc5ccccc45)C1)(C3)C2 is the same as CC12CC3CC(C)(C1)CC(NC(=O)CN1Cc4ccc(Cl)cc4C(C(=O)Nc4cncc5ccccc45)C1)(C3)C2 with similarity 1.0\n",
      "O=C(CN1Cc2ccc(Cl)cc2C(C(=O)Nc2cncc3ccccc23)C1)Nc1cc(Cl)c(F)c(Cl)c1 is the same as O=C(CN1Cc2ccc(Cl)cc2C(C(=O)Nc2cncc3ccccc23)C1)Nc1cc(Cl)c(F)c(Cl)c1 with similarity 1.0\n",
      "O=C(CN1Cc2ccc(Cl)cc2C(C(=O)Nc2cncc3ccccc23)C1)Nc1ccc(Cl)c(Cl)c1F is the same as O=C(CN1Cc2ccc(Cl)cc2C(C(=O)Nc2cncc3ccccc23)C1)Nc1ccc(Cl)c(Cl)c1F with similarity 1.0\n",
      "O=C(Nc1cncc2ccccc12)C1CN(CC(=O)N2CCN(C(=O)c3ccco3)CC2)Cc2ccc(Cl)cc21 is the same as O=C(Nc1cncc2ccccc12)C1CN(CC(=O)N2CCN(C(=O)c3ccco3)CC2)Cc2ccc(Cl)cc21 with similarity 1.0\n",
      "NC(Cc1ccc(O)cc1)C(=O)NC(=O)CN1Cc2ccc(Cl)cc2C(C(=O)Nc2cncc3ccccc23)C1 is the same as NC(Cc1ccc(O)cc1)C(=O)NC(=O)CN1Cc2ccc(Cl)cc2C(C(=O)Nc2cncc3ccccc23)C1 with similarity 1.0\n",
      "COc1ccc(NC(C)=O)cc1NC(=O)CN1Cc2ccc(Cl)cc2C(C(=O)Nc2cncc3ccccc23)C1 is the same as COc1ccc(NC(C)=O)cc1NC(=O)CN1Cc2ccc(Cl)cc2C(C(=O)Nc2cncc3ccccc23)C1 with similarity 1.0\n",
      "O=C(Nc1cncc2ccccc12)C1CN(CC(=O)N(C2CCCCC2)C2CCCCC2)Cc2ccc(Cl)cc21 is the same as O=C(Nc1cncc2ccccc12)C1CN(CC(=O)N(C2CCCCC2)C2CCCCC2)Cc2ccc(Cl)cc21 with similarity 1.0\n",
      "CCCc1nn(C)c(C(=O)NC(=O)CN2Cc3ccc(Cl)cc3C(C(=O)Nc3cncc4ccccc34)C2)c1N is the same as CCCc1nn(C)c(C(=O)NC(=O)CN2Cc3ccc(Cl)cc3C(C(=O)Nc3cncc4ccccc34)C2)c1N with similarity 1.0\n",
      "O=C(CN1Cc2ccc(Cl)cc2C(C(=O)Nc2cncc3ccccc23)C1)NCc1ccc(-c2ccccc2)cc1 is the same as O=C(CN1Cc2ccc(Cl)cc2C(C(=O)Nc2cncc3ccccc23)C1)NCc1ccc(-c2ccccc2)cc1 with similarity 1.0\n",
      "O=C(CN1Cc2ccc(Cl)cc2C(C(=O)Nc2cncc3ccccc23)C1)Nc1ccccc1Cc1ccccc1 is the same as O=C(CN1Cc2ccc(Cl)cc2C(C(=O)Nc2cncc3ccccc23)C1)Nc1ccccc1Cc1ccccc1 with similarity 1.0\n",
      "O=C(CN1Cc2ccc(Cl)cc2C(C(=O)Nc2cncc3ccccc23)C1)NC(c1ccccc1)c1ccccc1 is the same as O=C(CN1Cc2ccc(Cl)cc2C(C(=O)Nc2cncc3ccccc23)C1)NC(c1ccccc1)c1ccccc1 with similarity 1.0\n",
      "CN1CCN(C2CCN(C(=O)CN3Cc4ccc(Cl)cc4C(C(=O)Nc4cncc5ccccc45)C3)CC2)CC1 is the same as CN1CCN(C2CCN(C(=O)CN3Cc4ccc(Cl)cc4C(C(=O)Nc4cncc5ccccc45)C3)CC2)CC1 with similarity 1.0\n",
      "O=C(CN1Cc2ccc(Cl)cc2C(C(=O)Nc2cncc3ccccc23)C1)Nc1nc2c(Cl)cccc2s1 is the same as O=C(CN1Cc2ccc(Cl)cc2C(C(=O)Nc2cncc3ccccc23)C1)Nc1nc2c(Cl)cccc2s1 with similarity 1.0\n",
      "O=C(CN1Cc2ccc(Cl)cc2C(C(=O)Nc2cncc3ccccc23)C1)Nc1nc2cc(Cl)ccc2s1 is the same as O=C(CN1Cc2ccc(Cl)cc2C(C(=O)Nc2cncc3ccccc23)C1)Nc1nc2cc(Cl)ccc2s1 with similarity 1.0\n",
      "N#Cc1cnn(-c2ccccn2)c1NC(=O)CN1Cc2ccc(Cl)cc2C(C(=O)Nc2cncc3ccccc23)C1 is the same as N#Cc1cnn(-c2ccccn2)c1NC(=O)CN1Cc2ccc(Cl)cc2C(C(=O)Nc2cncc3ccccc23)C1 with similarity 1.0\n",
      "O=C(CN1Cc2ccc(Cl)cc2C(C(=O)Nc2cncc3ccccc23)C1)Nc1ccccc1Oc1ccccc1 is the same as O=C(CN1Cc2ccc(Cl)cc2C(C(=O)Nc2cncc3ccccc23)C1)Nc1ccccc1Oc1ccccc1 with similarity 1.0\n",
      "O=C(CN1Cc2ccc(Cl)cc2C(C(=O)Nc2cncc3ccccc23)C1)NCc1cccc(Br)c1 is the same as O=C(CN1Cc2ccc(Cl)cc2C(C(=O)Nc2cncc3ccccc23)C1)NCc1cccc(Br)c1 with similarity 1.0\n",
      "Cc1ccc(NC(=O)CN2Cc3ccc(Cl)cc3C(C(=O)Nc3cncc4ccccc34)C2)cc1Br is the same as Cc1ccc(NC(=O)CN2Cc3ccc(Cl)cc3C(C(=O)Nc3cncc4ccccc34)C2)cc1Br with similarity 1.0\n",
      "Cc1c(Br)cccc1NC(=O)CN1Cc2ccc(Cl)cc2C(C(=O)Nc2cncc3ccccc23)C1 is the same as Cc1c(Br)cccc1NC(=O)CN1Cc2ccc(Cl)cc2C(C(=O)Nc2cncc3ccccc23)C1 with similarity 1.0\n",
      "Cc1ccc(NC(=O)CN2Cc3ccc(Cl)cc3C(C(=O)Nc3cncc4ccccc34)C2)c(Br)c1 is the same as Cc1ccc(NC(=O)CN2Cc3ccc(Cl)cc3C(C(=O)Nc3cncc4ccccc34)C2)c(Br)c1 with similarity 1.0\n",
      "O=C(CN1Cc2ccc(Cl)cc2C(C(=O)Nc2cncc3ccccc23)C1)NCc1ccc(Br)cc1 is the same as O=C(CN1Cc2ccc(Cl)cc2C(C(=O)Nc2cncc3ccccc23)C1)NCc1ccc(Br)cc1 with similarity 1.0\n",
      "Cc1cc(Br)cc(NC(=O)CN2Cc3ccc(Cl)cc3C(C(=O)Nc3cncc4ccccc34)C2)c1 is the same as Cc1cc(Br)cc(NC(=O)CN2Cc3ccc(Cl)cc3C(C(=O)Nc3cncc4ccccc34)C2)c1 with similarity 1.0\n",
      "O=C(CN1Cc2ccc(Cl)cc2C(C(=O)Nc2cncc3ccccc23)C1)NCc1ccccc1Br is the same as O=C(CN1Cc2ccc(Cl)cc2C(C(=O)Nc2cncc3ccccc23)C1)NCc1ccccc1Br with similarity 1.0\n",
      "N#Cc1cc(Cl)c(NC(=O)CN2Cc3ccc(Cl)cc3C(C(=O)Nc3cncc4ccccc34)C2)c(Cl)c1 is the same as N#Cc1cc(Cl)c(NC(=O)CN2Cc3ccc(Cl)cc3C(C(=O)Nc3cncc4ccccc34)C2)c(Cl)c1 with similarity 1.0\n",
      "Cc1nc(NC(=O)CN2Cc3ccc(Cl)cc3C(C(=O)Nc3cncc4ccccc34)C2)ccc1Br is the same as Cc1nc(NC(=O)CN2Cc3ccc(Cl)cc3C(C(=O)Nc3cncc4ccccc34)C2)ccc1Br with similarity 1.0\n",
      "Cc1cc(NC(=O)CN2Cc3ccc(Cl)cc3C(C(=O)Nc3cncc4ccccc34)C2)cnc1Br is the same as Cc1cc(NC(=O)CN2Cc3ccc(Cl)cc3C(C(=O)Nc3cncc4ccccc34)C2)cnc1Br with similarity 1.0\n",
      "Cc1nc(Br)ccc1NC(=O)CN1Cc2ccc(Cl)cc2C(C(=O)Nc2cncc3ccccc23)C1 is the same as Cc1nc(Br)ccc1NC(=O)CN1Cc2ccc(Cl)cc2C(C(=O)Nc2cncc3ccccc23)C1 with similarity 1.0\n",
      "CS(=O)(=O)c1ccc(O)c(NC(=O)CN2Cc3ccc(Cl)cc3C(C(=O)Nc3cncc4ccccc34)C2)c1 is the same as CS(=O)(=O)c1ccc(O)c(NC(=O)CN2Cc3ccc(Cl)cc3C(C(=O)Nc3cncc4ccccc34)C2)c1 with similarity 1.0\n",
      "O=C(CN1Cc2ccc(Cl)cc2C(C(=O)Nc2cncc3ccccc23)C1)Nc1ccc(Br)cc1O is the same as O=C(CN1Cc2ccc(Cl)cc2C(C(=O)Nc2cncc3ccccc23)C1)Nc1ccc(Br)cc1O with similarity 1.0\n",
      "O=C(CN1Cc2ccc(Cl)cc2C(C(=O)Nc2cncc3ccccc23)C1)Nc1ccc([N+](=O)[O-])c2ccccc12 is the same as O=C(CN1Cc2ccc(Cl)cc2C(C(=O)Nc2cncc3ccccc23)C1)Nc1ccc([N+](=O)[O-])c2ccccc12 with similarity 1.0\n",
      "O=C(CN1Cc2ccc(Cl)cc2C(C(=O)Nc2cncc3ccccc23)C1)Nc1cc(Cl)cc([N+](=O)[O-])c1O is the same as O=C(CN1Cc2ccc(Cl)cc2C(C(=O)Nc2cncc3ccccc23)C1)Nc1cc(Cl)cc([N+](=O)[O-])c1O with similarity 1.0\n",
      "O=C(CN1Cc2ccc(Cl)cc2C(C(=O)Nc2cncc3ccccc23)C1)Nc1ncc(Br)cc1O is the same as O=C(CN1Cc2ccc(Cl)cc2C(C(=O)Nc2cncc3ccccc23)C1)Nc1ncc(Br)cc1O with similarity 1.0\n",
      "O=C(CN1Cc2ccc(Cl)cc2C(C(=O)Nc2cncc3ccccc23)C1)NCCc1ccccc1C(F)(F)F is the same as O=C(CN1Cc2ccc(Cl)cc2C(C(=O)Nc2cncc3ccccc23)C1)NCCc1ccccc1C(F)(F)F with similarity 1.0\n",
      "O=C(CN1Cc2ccc(Cl)cc2C(C(=O)Nc2cncc3ccccc23)C1)NCCc1ccc(C(F)(F)F)cc1 is the same as O=C(CN1Cc2ccc(Cl)cc2C(C(=O)Nc2cncc3ccccc23)C1)NCCc1ccc(C(F)(F)F)cc1 with similarity 1.0\n",
      "COc1ccc(-c2cc(NC(=O)CN3Cc4ccc(Cl)cc4C(C(=O)Nc4cncc5ccccc45)C3)[nH]n2)cc1 is the same as COc1ccc(-c2cc(NC(=O)CN3Cc4ccc(Cl)cc4C(C(=O)Nc4cncc5ccccc45)C3)[nH]n2)cc1 with similarity 1.0\n",
      "O=C(CN1Cc2ccc(Cl)cc2C(C(=O)Nc2cncc3ccccc23)C1)Nc1ccc(F)c(Br)c1 is the same as O=C(CN1Cc2ccc(Cl)cc2C(C(=O)Nc2cncc3ccccc23)C1)Nc1ccc(F)c(Br)c1 with similarity 1.0\n",
      "O=C(CN1Cc2ccc(Cl)cc2C(C(=O)Nc2cncc3ccccc23)C1)Nc1ccc(F)cc1Br is the same as O=C(CN1Cc2ccc(Cl)cc2C(C(=O)Nc2cncc3ccccc23)C1)Nc1ccc(F)cc1Br with similarity 1.0\n",
      "O=C(CN1Cc2ccc(Cl)cc2C(C(=O)Nc2cncc3ccccc23)C1)Nc1c(F)cccc1Br is the same as O=C(CN1Cc2ccc(Cl)cc2C(C(=O)Nc2cncc3ccccc23)C1)Nc1c(F)cccc1Br with similarity 1.0\n",
      "O=C(CN1Cc2ccc(Cl)cc2C(C(=O)Nc2cncc3ccccc23)C1)Nc1cc(Br)ccc1F is the same as O=C(CN1Cc2ccc(Cl)cc2C(C(=O)Nc2cncc3ccccc23)C1)Nc1cc(Br)ccc1F with similarity 1.0\n",
      "O=C(CN1Cc2ccc(Cl)cc2C(C(=O)Nc2cncc3ccccc23)C1)NCCc1ccc(Cl)c(Cl)c1 is the same as O=C(CN1Cc2ccc(Cl)cc2C(C(=O)Nc2cncc3ccccc23)C1)NCCc1ccc(Cl)c(Cl)c1 with similarity 1.0\n",
      "O=C(CN1Cc2ccc(Cl)cc2C(C(=O)Nc2cncc3ccccc23)C1)NCCc1ccc(Cl)cc1Cl is the same as O=C(CN1Cc2ccc(Cl)cc2C(C(=O)Nc2cncc3ccccc23)C1)NCCc1ccc(Cl)cc1Cl with similarity 1.0\n",
      "O=C(CN1Cc2ccc(Cl)cc2C(C(=O)Nc2cncc3ccccc23)C1)NC1CCN(Cc2ccccc2)CC1 is the same as O=C(CN1Cc2ccc(Cl)cc2C(C(=O)Nc2cncc3ccccc23)C1)NC1CCN(Cc2ccccc2)CC1 with similarity 1.0\n",
      "CN(C(=O)CN1Cc2ccc(Cl)cc2C(C(=O)Nc2cncc3ccccc23)C1)C1CCN(Cc2ccccc2)C1 is the same as CN(C(=O)CN1Cc2ccc(Cl)cc2C(C(=O)Nc2cncc3ccccc23)C1)C1CCN(Cc2ccccc2)C1 with similarity 1.0\n",
      "O=C(Nc1cncc2ccccc12)C1CN(CC(=O)N2CCN(CCc3ccccc3)CC2)Cc2ccc(Cl)cc21 is the same as O=C(Nc1cncc2ccccc12)C1CN(CC(=O)N2CCN(CCc3ccccc3)CC2)Cc2ccc(Cl)cc21 with similarity 1.0\n",
      "O=C(CN1Cc2ccc(Cl)cc2C(C(=O)Nc2cncc3ccccc23)C1)Nc1ncc(F)cc1Br is the same as O=C(CN1Cc2ccc(Cl)cc2C(C(=O)Nc2cncc3ccccc23)C1)Nc1ncc(F)cc1Br with similarity 1.0\n",
      "O=C(CN1Cc2ccc(Cl)cc2C(C(=O)Nc2cncc3ccccc23)C1)Nc1ccc(F)nc1Br is the same as O=C(CN1Cc2ccc(Cl)cc2C(C(=O)Nc2cncc3ccccc23)C1)Nc1ccc(F)nc1Br with similarity 1.0\n",
      "COc1ccc(NC(=O)CN2Cc3ccc(Cl)cc3C(C(=O)Nc3cncc4ccccc34)C2)cc1C(F)(F)F is the same as COc1ccc(NC(=O)CN2Cc3ccc(Cl)cc3C(C(=O)Nc3cncc4ccccc34)C2)cc1C(F)(F)F with similarity 1.0\n",
      "O=C(CN1Cc2ccc(Cl)cc2C(C(=O)Nc2cncc3ccccc23)C1)NCc1ccc(OC(F)(F)F)cc1 is the same as O=C(CN1Cc2ccc(Cl)cc2C(C(=O)Nc2cncc3ccccc23)C1)NCc1ccc(OC(F)(F)F)cc1 with similarity 1.0\n",
      "O=C(CN1Cc2ccc(Cl)cc2C(C(=O)Nc2cncc3ccccc23)C1)Nc1ccccc1OCC(F)(F)F is the same as O=C(CN1Cc2ccc(Cl)cc2C(C(=O)Nc2cncc3ccccc23)C1)Nc1ccccc1OCC(F)(F)F with similarity 1.0\n",
      "CN1CCN(c2ccccc2NC(=O)CN2Cc3ccc(Cl)cc3C(C(=O)Nc3cncc4ccccc34)C2)CC1 is the same as CN1CCN(c2ccccc2NC(=O)CN2Cc3ccc(Cl)cc3C(C(=O)Nc3cncc4ccccc34)C2)CC1 with similarity 1.0\n",
      "COc1cc(NC(=O)CN2Cc3ccc(Cl)cc3C(C(=O)Nc3cncc4ccccc34)C2)c(Cl)cc1Cl is the same as COc1cc(NC(=O)CN2Cc3ccc(Cl)cc3C(C(=O)Nc3cncc4ccccc34)C2)c(Cl)cc1Cl with similarity 1.0\n",
      "O=C(Nc1cncc2ccccc12)C1CN(CC(=O)N2CCn3c(nnc3C(F)(F)F)C2)Cc2ccc(Cl)cc21 is the same as O=C(Nc1cncc2ccccc12)C1CN(CC(=O)N2CCn3c(nnc3C(F)(F)F)C2)Cc2ccc(Cl)cc21 with similarity 1.0\n",
      "O=C(CN1Cc2ccc(Cl)cc2C(C(=O)Nc2cncc3ccccc23)C1)Nc1ccc(N2CCOCC2=O)cc1 is the same as O=C(CN1Cc2ccc(Cl)cc2C(C(=O)Nc2cncc3ccccc23)C1)Nc1ccc(N2CCOCC2=O)cc1 with similarity 1.0\n",
      "COc1ccccc1N1CCN(C(=O)CN2Cc3ccc(Cl)cc3C(C(=O)Nc3cncc4ccccc34)C2)CC1 is the same as COc1ccccc1N1CCN(C(=O)CN2Cc3ccc(Cl)cc3C(C(=O)Nc3cncc4ccccc34)C2)CC1 with similarity 1.0\n",
      "O=C(CN1Cc2ccc(Cl)cc2C(C(=O)Nc2cncc3ccccc23)C1)NCCCN1CCS(=O)(=O)CC1 is the same as O=C(CN1Cc2ccc(Cl)cc2C(C(=O)Nc2cncc3ccccc23)C1)NCCCN1CCS(=O)(=O)CC1 with similarity 1.0\n",
      "O=C(CN1Cc2ccc(Cl)cc2C(C(=O)Nc2cncc3ccccc23)C1)Nc1ccc(SC(F)(F)F)cc1 is the same as O=C(CN1Cc2ccc(Cl)cc2C(C(=O)Nc2cncc3ccccc23)C1)Nc1ccc(SC(F)(F)F)cc1 with similarity 1.0\n",
      "COc1cc2c(cc1OC)CN(C(=O)CN1Cc3ccc(Cl)cc3C(C(=O)Nc3cncc4ccccc34)C1)CC2 is the same as COc1cc2c(cc1OC)CN(C(=O)CN1Cc3ccc(Cl)cc3C(C(=O)Nc3cncc4ccccc34)C1)CC2 with similarity 1.0\n",
      "O=C(Nc1cncc2ccccc12)C1CN(CC(=O)N2CCN(Cc3cccc(F)c3)CC2)Cc2ccc(Cl)cc21 is the same as O=C(Nc1cncc2ccccc12)C1CN(CC(=O)N2CCN(Cc3cccc(F)c3)CC2)Cc2ccc(Cl)cc21 with similarity 1.0\n",
      "O=C(CN1Cc2ccc(Cl)cc2C(C(=O)Nc2cncc3ccccc23)C1)Nc1cc(C(F)(F)F)ccc1Cl is the same as O=C(CN1Cc2ccc(Cl)cc2C(C(=O)Nc2cncc3ccccc23)C1)Nc1cc(C(F)(F)F)ccc1Cl with similarity 1.0\n",
      "NC(=O)c1c(NC(=O)CN2Cc3ccc(Cl)cc3C(C(=O)Nc3cncc4ccccc34)C2)sc2c1CCCC2 is the same as NC(=O)c1c(NC(=O)CN2Cc3ccc(Cl)cc3C(C(=O)Nc3cncc4ccccc34)C2)sc2c1CCCC2 with similarity 1.0\n",
      "O=C(CN1Cc2ccc(Cl)cc2C(C(=O)Nc2cncc3ccccc23)C1)Nc1ncc(C(F)(F)F)cc1Cl is the same as O=C(CN1Cc2ccc(Cl)cc2C(C(=O)Nc2cncc3ccccc23)C1)Nc1ncc(C(F)(F)F)cc1Cl with similarity 1.0\n",
      "N#Cc1ccc(NC(=O)CN2Cc3ccc(Cl)cc3C(C(=O)Nc3cncc4ccccc34)C2)cc1Br is the same as N#Cc1ccc(NC(=O)CN2Cc3ccc(Cl)cc3C(C(=O)Nc3cncc4ccccc34)C2)cc1Br with similarity 1.0\n",
      "O=C(CN1Cc2ccc(Cl)cc2C(C(=O)Nc2cncc3ccccc23)C1)NCC(c1ccccc1)c1ccccc1 is the same as O=C(CN1Cc2ccc(Cl)cc2C(C(=O)Nc2cncc3ccccc23)C1)NCC(c1ccccc1)c1ccccc1 with similarity 1.0\n",
      "CN(C(=O)CN1Cc2ccc(Cl)cc2C(C(=O)Nc2cncc3ccccc23)C1)C(c1ccccc1)c1ccccc1 is the same as CN(C(=O)CN1Cc2ccc(Cl)cc2C(C(=O)Nc2cncc3ccccc23)C1)C(c1ccccc1)c1ccccc1 with similarity 1.0\n",
      "O=C(CN1Cc2ccc(Cl)cc2C(C(=O)Nc2cncc3ccccc23)C1)Nc1c(Cl)c(F)nc(F)c1Cl is the same as O=C(CN1Cc2ccc(Cl)cc2C(C(=O)Nc2cncc3ccccc23)C1)Nc1c(Cl)c(F)nc(F)c1Cl with similarity 1.0\n",
      "O=C(CN1Cc2ccc(Cl)cc2C(C(=O)Nc2cncc3ccccc23)C1)Nc1ccc(OCc2ccccc2)cc1 is the same as O=C(CN1Cc2ccc(Cl)cc2C(C(=O)Nc2cncc3ccccc23)C1)Nc1ccc(OCc2ccccc2)cc1 with similarity 1.0\n",
      "O=C(CN1Cc2ccc(Cl)cc2C(C(=O)Nc2cncc3ccccc23)C1)NCc1ccc(Oc2ccccc2)cc1 is the same as O=C(CN1Cc2ccc(Cl)cc2C(C(=O)Nc2cncc3ccccc23)C1)NCc1ccc(Oc2ccccc2)cc1 with similarity 1.0\n",
      "Cc1cc(Br)cc(C)c1NC(=O)CN1Cc2ccc(Cl)cc2C(C(=O)Nc2cncc3ccccc23)C1 is the same as Cc1cc(Br)cc(C)c1NC(=O)CN1Cc2ccc(Cl)cc2C(C(=O)Nc2cncc3ccccc23)C1 with similarity 1.0\n",
      "CN(Cc1ccccc1Br)C(=O)CN1Cc2ccc(Cl)cc2C(C(=O)Nc2cncc3ccccc23)C1 is the same as CN(Cc1ccccc1Br)C(=O)CN1Cc2ccc(Cl)cc2C(C(=O)Nc2cncc3ccccc23)C1 with similarity 1.0\n",
      "Cc1cc(NC(=O)CN2Cc3ccc(Cl)cc3C(C(=O)Nc3cncc4ccccc34)C2)cc(C)c1Br is the same as Cc1cc(NC(=O)CN2Cc3ccc(Cl)cc3C(C(=O)Nc3cncc4ccccc34)C2)cc(C)c1Br with similarity 1.0\n",
      "CCc1cc(Br)ccc1NC(=O)CN1Cc2ccc(Cl)cc2C(C(=O)Nc2cncc3ccccc23)C1 is the same as CCc1cc(Br)ccc1NC(=O)CN1Cc2ccc(Cl)cc2C(C(=O)Nc2cncc3ccccc23)C1 with similarity 1.0\n",
      "CC(NC(=O)CN1Cc2ccc(Cl)cc2C(C(=O)Nc2cncc3ccccc23)C1)c1ccc(Br)cc1 is the same as CC(NC(=O)CN1Cc2ccc(Cl)cc2C(C(=O)Nc2cncc3ccccc23)C1)c1ccc(Br)cc1 with similarity 1.0\n",
      "O=C(CN1Cc2ccc(Cl)cc2C(C(=O)Nc2cncc3ccccc23)C1)Nc1ncccc1OCc1ccccc1 is the same as O=C(CN1Cc2ccc(Cl)cc2C(C(=O)Nc2cncc3ccccc23)C1)Nc1ncccc1OCc1ccccc1 with similarity 1.0\n",
      "CN(C(=O)OC(C)(C)C)C1CCN(C(=O)CN2Cc3ccc(Cl)cc3C(C(=O)Nc3cncc4ccccc34)C2)C1 is the same as CN(C(=O)OC(C)(C)C)C1CCN(C(=O)CN2Cc3ccc(Cl)cc3C(C(=O)Nc3cncc4ccccc34)C2)C1 with similarity 1.0\n",
      "CC1CN(C(=O)CN2Cc3ccc(Cl)cc3C(C(=O)Nc3cncc4ccccc34)C2)CCN1C(=O)OC(C)(C)C is the same as CC1CN(C(=O)CN2Cc3ccc(Cl)cc3C(C(=O)Nc3cncc4ccccc34)C2)CCN1C(=O)OC(C)(C)C with similarity 1.0\n",
      "CC1CN(C(=O)OC(C)(C)C)CCN1C(=O)CN1Cc2ccc(Cl)cc2C(C(=O)Nc2cncc3ccccc23)C1 is the same as CC1CN(C(=O)OC(C)(C)C)CCN1C(=O)CN1Cc2ccc(Cl)cc2C(C(=O)Nc2cncc3ccccc23)C1 with similarity 1.0\n",
      "O=C(Nc1cncc2ccccc12)C1CN(CC(=O)N2CCC(c3nc4ccccc4[nH]3)CC2)Cc2ccc(Cl)cc21 is the same as O=C(Nc1cncc2ccccc12)C1CN(CC(=O)N2CCC(c3nc4ccccc4[nH]3)CC2)Cc2ccc(Cl)cc21 with similarity 1.0\n",
      "O=C(CN1Cc2ccc(Cl)cc2C(C(=O)Nc2cncc3ccccc23)C1)Nc1ccccc1Sc1ccccc1 is the same as O=C(CN1Cc2ccc(Cl)cc2C(C(=O)Nc2cncc3ccccc23)C1)Nc1ccccc1Sc1ccccc1 with similarity 1.0\n",
      "COc1cc(NC(=O)CN2Cc3ccc(Cl)cc3C(C(=O)Nc3cncc4ccccc34)C2)ccc1Br is the same as COc1cc(NC(=O)CN2Cc3ccc(Cl)cc3C(C(=O)Nc3cncc4ccccc34)C2)ccc1Br with similarity 1.0\n",
      "COc1cc(Br)ccc1NC(=O)CN1Cc2ccc(Cl)cc2C(C(=O)Nc2cncc3ccccc23)C1 is the same as COc1cc(Br)ccc1NC(=O)CN1Cc2ccc(Cl)cc2C(C(=O)Nc2cncc3ccccc23)C1 with similarity 1.0\n",
      "COc1ncc(NC(=O)CN2Cc3ccc(Cl)cc3C(C(=O)Nc3cncc4ccccc34)C2)cc1Br is the same as COc1ncc(NC(=O)CN2Cc3ccc(Cl)cc3C(C(=O)Nc3cncc4ccccc34)C2)cc1Br with similarity 1.0\n",
      "COc1ncc(Br)cc1NC(=O)CN1Cc2ccc(Cl)cc2C(C(=O)Nc2cncc3ccccc23)C1 is the same as COc1ncc(Br)cc1NC(=O)CN1Cc2ccc(Cl)cc2C(C(=O)Nc2cncc3ccccc23)C1 with similarity 1.0\n",
      "Cc1c(NC(=O)CN2Cc3ccc(Cl)cc3C(C(=O)Nc3cncc4ccccc34)C2)c(=O)n(-c2ccccc2)n1C is the same as Cc1c(NC(=O)CN2Cc3ccc(Cl)cc3C(C(=O)Nc3cncc4ccccc34)C2)c(=O)n(-c2ccccc2)n1C with similarity 1.0\n",
      "COc1nc(Br)cnc1NC(=O)CN1Cc2ccc(Cl)cc2C(C(=O)Nc2cncc3ccccc23)C1 is the same as COc1nc(Br)cnc1NC(=O)CN1Cc2ccc(Cl)cc2C(C(=O)Nc2cncc3ccccc23)C1 with similarity 1.0\n",
      "Cc1cc(F)cc(Br)c1NC(=O)CN1Cc2ccc(Cl)cc2C(C(=O)Nc2cncc3ccccc23)C1 is the same as Cc1cc(F)cc(Br)c1NC(=O)CN1Cc2ccc(Cl)cc2C(C(=O)Nc2cncc3ccccc23)C1 with similarity 1.0\n",
      "O=C(CN1Cc2ccc(Cl)cc2C(C(=O)Nc2cncc3ccccc23)C1)NCc1cc(F)ccc1Br is the same as O=C(CN1Cc2ccc(Cl)cc2C(C(=O)Nc2cncc3ccccc23)C1)NCc1cc(F)ccc1Br with similarity 1.0\n",
      "O=C(CN1Cc2ccc(Cl)cc2C(C(=O)Nc2cncc3ccccc23)C1)NCc1ccc(Br)cc1F is the same as O=C(CN1Cc2ccc(Cl)cc2C(C(=O)Nc2cncc3ccccc23)C1)NCc1ccc(Br)cc1F with similarity 1.0\n",
      "Cc1cc(NC(=O)CN2Cc3ccc(Cl)cc3C(C(=O)Nc3cncc4ccccc34)C2)c(F)cc1Br is the same as Cc1cc(NC(=O)CN2Cc3ccc(Cl)cc3C(C(=O)Nc3cncc4ccccc34)C2)c(F)cc1Br with similarity 1.0\n",
      "O=C(NC1CCN(C(=O)CN2Cc3ccc(Cl)cc3C(C(=O)Nc3cncc4ccccc34)C2)CC1)c1ccccc1 is the same as O=C(NC1CCN(C(=O)CN2Cc3ccc(Cl)cc3C(C(=O)Nc3cncc4ccccc34)C2)CC1)c1ccccc1 with similarity 1.0\n",
      "CCN1CCN(c2ccc(NC(=O)CN3Cc4ccc(Cl)cc4C(C(=O)Nc4cncc5ccccc45)C3)cc2)CC1 is the same as CCN1CCN(c2ccc(NC(=O)CN3Cc4ccc(Cl)cc4C(C(=O)Nc4cncc5ccccc45)C3)cc2)CC1 with similarity 1.0\n",
      "O=C(CN1Cc2ccc(Cl)cc2C(C(=O)Nc2cncc3ccccc23)C1)Nc1ccc([N+](=O)[O-])cc1C(F)(F)F is the same as O=C(CN1Cc2ccc(Cl)cc2C(C(=O)Nc2cncc3ccccc23)C1)Nc1ccc([N+](=O)[O-])cc1C(F)(F)F with similarity 1.0\n",
      "O=C(CN1Cc2ccc(Cl)cc2C(C(=O)Nc2cncc3ccccc23)C1)Nc1ccc(C(F)(F)F)cc1[N+](=O)[O-] is the same as O=C(CN1Cc2ccc(Cl)cc2C(C(=O)Nc2cncc3ccccc23)C1)Nc1ccc(C(F)(F)F)cc1[N+](=O)[O-] with similarity 1.0\n",
      "O=C(CN1Cc2ccc(Cl)cc2C(C(=O)Nc2cncc3ccccc23)C1)Nc1cc(Cl)ccc1Br is the same as O=C(CN1Cc2ccc(Cl)cc2C(C(=O)Nc2cncc3ccccc23)C1)Nc1cc(Cl)ccc1Br with similarity 1.0\n",
      "O=C(CN1Cc2ccc(Cl)cc2C(C(=O)Nc2cncc3ccccc23)C1)Nc1cccc(Cl)c1Br is the same as O=C(CN1Cc2ccc(Cl)cc2C(C(=O)Nc2cncc3ccccc23)C1)Nc1cccc(Cl)c1Br with similarity 1.0\n",
      "O=C(Nc1cncc2ccccc12)C1CN(CC(=O)N2CCN(c3cccc([N+](=O)[O-])c3)CC2)Cc2ccc(Cl)cc21 is the same as O=C(Nc1cncc2ccccc12)C1CN(CC(=O)N2CCN(c3cccc([N+](=O)[O-])c3)CC2)Cc2ccc(Cl)cc21 with similarity 1.0\n",
      "O=C(Nc1cncc2ccccc12)C1CN(CC(=O)N2CCN(c3ccccc3[N+](=O)[O-])CC2)Cc2ccc(Cl)cc21 is the same as O=C(Nc1cncc2ccccc12)C1CN(CC(=O)N2CCN(c3ccccc3[N+](=O)[O-])CC2)Cc2ccc(Cl)cc21 with similarity 1.0\n",
      "O=C(CN1Cc2ccc(Cl)cc2C(C(=O)Nc2cncc3ccccc23)C1)NCC(c1cccnc1)N1CCOCC1 is the same as O=C(CN1Cc2ccc(Cl)cc2C(C(=O)Nc2cncc3ccccc23)C1)NCC(c1cccnc1)N1CCOCC1 with similarity 1.0\n",
      "O=C(CN1Cc2ccc(Cl)cc2C(C(=O)Nc2cncc3ccccc23)C1)Nc1cc(Cl)c(Br)cn1 is the same as O=C(CN1Cc2ccc(Cl)cc2C(C(=O)Nc2cncc3ccccc23)C1)Nc1cc(Cl)c(Br)cn1 with similarity 1.0\n",
      "O=C(CN1Cc2ccc(Cl)cc2C(C(=O)Nc2cncc3ccccc23)C1)Nc1cc(Cl)cnc1Br is the same as O=C(CN1Cc2ccc(Cl)cc2C(C(=O)Nc2cncc3ccccc23)C1)Nc1cc(Cl)cnc1Br with similarity 1.0\n",
      "O=C(CN1Cc2ccc(Cl)cc2C(C(=O)Nc2cncc3ccccc23)C1)Nc1cnc(Cl)c(Br)c1 is the same as O=C(CN1Cc2ccc(Cl)cc2C(C(=O)Nc2cncc3ccccc23)C1)Nc1cnc(Cl)c(Br)c1 with similarity 1.0\n",
      "O=C(CN1Cc2ccc(Cl)cc2C(C(=O)Nc2cncc3ccccc23)C1)Nc1ccc(F)c(F)c1Br is the same as O=C(CN1Cc2ccc(Cl)cc2C(C(=O)Nc2cncc3ccccc23)C1)Nc1ccc(F)c(F)c1Br with similarity 1.0\n",
      "O=C(CN1Cc2ccc(Cl)cc2C(C(=O)Nc2cncc3ccccc23)C1)Nc1c(F)cc(Br)cc1F is the same as O=C(CN1Cc2ccc(Cl)cc2C(C(=O)Nc2cncc3ccccc23)C1)Nc1c(F)cc(Br)cc1F with similarity 1.0\n",
      "O=C(CN1Cc2ccc(Cl)cc2C(C(=O)Nc2cncc3ccccc23)C1)Nc1cc(F)c(Br)c(F)c1 is the same as O=C(CN1Cc2ccc(Cl)cc2C(C(=O)Nc2cncc3ccccc23)C1)Nc1cc(F)c(Br)c(F)c1 with similarity 1.0\n",
      "O=C(CN1Cc2ccc(Cl)cc2C(C(=O)Nc2cncc3ccccc23)C1)Nc1cc(F)c(F)cc1Br is the same as O=C(CN1Cc2ccc(Cl)cc2C(C(=O)Nc2cncc3ccccc23)C1)Nc1cc(F)c(F)cc1Br with similarity 1.0\n",
      "O=C(CN1Cc2ccc(Cl)cc2C(C(=O)Nc2cncc3ccccc23)C1)Nc1cnc(Br)c(Cl)n1 is the same as O=C(CN1Cc2ccc(Cl)cc2C(C(=O)Nc2cncc3ccccc23)C1)Nc1cnc(Br)c(Cl)n1 with similarity 1.0\n",
      "O=C(CN1Cc2ccc(Cl)cc2C(C(=O)Nc2cncc3ccccc23)C1)Nc1nnc(Cl)cc1Br is the same as O=C(CN1Cc2ccc(Cl)cc2C(C(=O)Nc2cncc3ccccc23)C1)Nc1nnc(Cl)cc1Br with similarity 1.0\n",
      "O=C(CN1Cc2ccc(Cl)cc2C(C(=O)Nc2cncc3ccccc23)C1)Nc1ncc(Br)nc1Cl is the same as O=C(CN1Cc2ccc(Cl)cc2C(C(=O)Nc2cncc3ccccc23)C1)Nc1ncc(Br)nc1Cl with similarity 1.0\n",
      "O=C(CN1Cc2ccc(Cl)cc2C(C(=O)Nc2cncc3ccccc23)C1)Nc1ccccc1-c1nc2ccccc2[nH]1 is the same as O=C(CN1Cc2ccc(Cl)cc2C(C(=O)Nc2cncc3ccccc23)C1)Nc1ccccc1-c1nc2ccccc2[nH]1 with similarity 1.0\n",
      "CN1CCN(c2ccc(NC(=O)CN3Cc4ccc(Cl)cc4C(C(=O)Nc4cncc5ccccc45)C3)cc2F)CC1 is the same as CN1CCN(c2ccc(NC(=O)CN3Cc4ccc(Cl)cc4C(C(=O)Nc4cncc5ccccc45)C3)cc2F)CC1 with similarity 1.0\n",
      "O=C(Nc1cncc2ccccc12)C1CN(CC(=O)N2CCc3ccccc3C2c2ccccc2)Cc2ccc(Cl)cc21 is the same as O=C(Nc1cncc2ccccc12)C1CN(CC(=O)N2CCc3ccccc3C2c2ccccc2)Cc2ccc(Cl)cc21 with similarity 1.0\n",
      "O=C(CN1Cc2ccc(Cl)cc2C(C(=O)Nc2cncc3ccccc23)C1)NCc1ccc(Cl)c(C(F)(F)F)c1 is the same as O=C(CN1Cc2ccc(Cl)cc2C(C(=O)Nc2cncc3ccccc23)C1)NCc1ccc(Cl)c(C(F)(F)F)c1 with similarity 1.0\n",
      "CCn1c2ccccc2c2cc(NC(=O)CN3Cc4ccc(Cl)cc4C(C(=O)Nc4cncc5ccccc45)C3)ccc21 is the same as CCn1c2ccccc2c2cc(NC(=O)CN3Cc4ccc(Cl)cc4C(C(=O)Nc4cncc5ccccc45)C3)ccc21 with similarity 1.0\n",
      "Cc1ccc(Cl)cc1N1CCN(C(=O)CN2Cc3ccc(Cl)cc3C(C(=O)Nc3cncc4ccccc34)C2)CC1 is the same as Cc1ccc(Cl)cc1N1CCN(C(=O)CN2Cc3ccc(Cl)cc3C(C(=O)Nc3cncc4ccccc34)C2)CC1 with similarity 1.0\n",
      "O=C(CN1Cc2ccc(Cl)cc2C(C(=O)Nc2cncc3ccccc23)C1)Nc1cc(Cl)ccc1OC(F)(F)F is the same as O=C(CN1Cc2ccc(Cl)cc2C(C(=O)Nc2cncc3ccccc23)C1)Nc1cc(Cl)ccc1OC(F)(F)F with similarity 1.0\n",
      "O=C(CN1Cc2ccc(Cl)cc2C(C(=O)Nc2cncc3ccccc23)C1)Nc1ccc(OC(F)(F)F)cc1Cl is the same as O=C(CN1Cc2ccc(Cl)cc2C(C(=O)Nc2cncc3ccccc23)C1)Nc1ccc(OC(F)(F)F)cc1Cl with similarity 1.0\n",
      "O=C(Nc1cncc2ccccc12)C1CN(CC(=O)N2CCC(O)(c3ccc(Cl)cc3)CC2)Cc2ccc(Cl)cc21 is the same as O=C(Nc1cncc2ccccc12)C1CN(CC(=O)N2CCC(O)(c3ccc(Cl)cc3)CC2)Cc2ccc(Cl)cc21 with similarity 1.0\n",
      "O=C(CN1Cc2ccc(Cl)cc2C(C(=O)Nc2cncc3ccccc23)C1)Nc1n[nH]c2ccc(Br)cc12 is the same as O=C(CN1Cc2ccc(Cl)cc2C(C(=O)Nc2cncc3ccccc23)C1)Nc1n[nH]c2ccc(Br)cc12 with similarity 1.0\n",
      "COc1cc2c(cc1NC(=O)CN1Cc3ccc(Cl)cc3C(C(=O)Nc3cncc4ccccc34)C1)oc1ccccc12 is the same as COc1cc2c(cc1NC(=O)CN1Cc3ccc(Cl)cc3C(C(=O)Nc3cncc4ccccc34)C1)oc1ccccc12 with similarity 1.0\n",
      "O=C(CN1Cc2ccc(Cl)cc2C(C(=O)Nc2cncc3ccccc23)C1)NC(c1ccccc1)C(O)c1ccccc1 is the same as O=C(CN1Cc2ccc(Cl)cc2C(C(=O)Nc2cncc3ccccc23)C1)NC(c1ccccc1)C(O)c1ccccc1 with similarity 1.0\n",
      "CN(C(=O)CN1Cc2ccc(Cl)cc2C(C(=O)Nc2cncc3ccccc23)C1)C1CCN(C(=O)OC(C)(C)C)CC1 is the same as CN(C(=O)CN1Cc2ccc(Cl)cc2C(C(=O)Nc2cncc3ccccc23)C1)C1CCN(C(=O)OC(C)(C)C)CC1 with similarity 1.0\n",
      "CC(C)(C)c1cc(NC(=O)CN2Cc3ccc(Cl)cc3C(C(=O)Nc3cncc4ccccc34)C2)n(-c2ccccc2)n1 is the same as CC(C)(C)c1cc(NC(=O)CN2Cc3ccc(Cl)cc3C(C(=O)Nc3cncc4ccccc34)C2)n(-c2ccccc2)n1 with similarity 1.0\n",
      "O=C(CN1Cc2ccc(Cl)cc2C(C(=O)Nc2cncc3ccccc23)C1)Nc1ccc(Br)c([N+](=O)[O-])c1 is the same as O=C(CN1Cc2ccc(Cl)cc2C(C(=O)Nc2cncc3ccccc23)C1)Nc1ccc(Br)c([N+](=O)[O-])c1 with similarity 1.0\n",
      "O=C(CN1Cc2ccc(Cl)cc2C(C(=O)Nc2cncc3ccccc23)C1)Nc1c(Br)cncc1[N+](=O)[O-] is the same as O=C(CN1Cc2ccc(Cl)cc2C(C(=O)Nc2cncc3ccccc23)C1)Nc1c(Br)cncc1[N+](=O)[O-] with similarity 1.0\n",
      "CC(=O)N(C(=O)CN1Cc2ccc(Cl)cc2C(C(=O)Nc2cncc3ccccc23)C1)c1ccc(N)c(C(F)(F)F)c1 is the same as CC(=O)N(C(=O)CN1Cc2ccc(Cl)cc2C(C(=O)Nc2cncc3ccccc23)C1)c1ccc(N)c(C(F)(F)F)c1 with similarity 1.0\n",
      "CN(Cc1ccccc1NC(=O)CN1Cc2ccc(Cl)cc2C(C(=O)Nc2cncc3ccccc23)C1)C1CCCCC1 is the same as CN(Cc1ccccc1NC(=O)CN1Cc2ccc(Cl)cc2C(C(=O)Nc2cncc3ccccc23)C1)C1CCCCC1 with similarity 1.0\n",
      "O=C(CN1Cc2ccc(Cl)cc2C(C(=O)Nc2cncc3ccccc23)C1)Nc1ccc(I)cc1 is the same as O=C(CN1Cc2ccc(Cl)cc2C(C(=O)Nc2cncc3ccccc23)C1)Nc1ccc(I)cc1 with similarity 1.0\n",
      "O=C(CN1Cc2ccc(Cl)cc2C(C(=O)Nc2cncc3ccccc23)C1)Nc1cccc(I)c1 is the same as O=C(CN1Cc2ccc(Cl)cc2C(C(=O)Nc2cncc3ccccc23)C1)Nc1cccc(I)c1 with similarity 1.0\n",
      "O=C(CN1Cc2ccc(Cl)cc2C(C(=O)Nc2cncc3ccccc23)C1)Nc1ccccc1I is the same as O=C(CN1Cc2ccc(Cl)cc2C(C(=O)Nc2cncc3ccccc23)C1)Nc1ccccc1I with similarity 1.0\n",
      "O=C(Nc1cncc2ccccc12)C1CN(CC(=O)N2CCN(c3nsc4ccccc34)CC2)Cc2ccc(Cl)cc21 is the same as O=C(Nc1cncc2ccccc12)C1CN(CC(=O)N2CCN(c3nsc4ccccc34)CC2)Cc2ccc(Cl)cc21 with similarity 1.0\n",
      "O=C(CN1Cc2ccc(Cl)cc2C(C(=O)Nc2cncc3ccccc23)C1)Nc1ccc(Oc2ccccc2Cl)cc1 is the same as O=C(CN1Cc2ccc(Cl)cc2C(C(=O)Nc2cncc3ccccc23)C1)Nc1ccc(Oc2ccccc2Cl)cc1 with similarity 1.0\n",
      "O=C(CN1Cc2ccc(Cl)cc2C(C(=O)Nc2cncc3ccccc23)C1)Nc1ccc(Oc2ccc(Cl)cc2)cc1 is the same as O=C(CN1Cc2ccc(Cl)cc2C(C(=O)Nc2cncc3ccccc23)C1)Nc1ccc(Oc2ccc(Cl)cc2)cc1 with similarity 1.0\n",
      "O=C(CN1Cc2ccc(Cl)cc2C(C(=O)Nc2cncc3ccccc23)C1)Nc1ccncc1I is the same as O=C(CN1Cc2ccc(Cl)cc2C(C(=O)Nc2cncc3ccccc23)C1)Nc1ccncc1I with similarity 1.0\n",
      "O=C(CN1Cc2ccc(Cl)cc2C(C(=O)Nc2cncc3ccccc23)C1)Nc1ccc(I)cn1 is the same as O=C(CN1Cc2ccc(Cl)cc2C(C(=O)Nc2cncc3ccccc23)C1)Nc1ccc(I)cn1 with similarity 1.0\n",
      "O=C(Nc1cncc2ccccc12)C1CN(CC(=O)N2CCN(C(=O)OCc3ccccc3)CC2)Cc2ccc(Cl)cc21 is the same as O=C(Nc1cncc2ccccc12)C1CN(CC(=O)N2CCN(C(=O)OCc3ccccc3)CC2)Cc2ccc(Cl)cc21 with similarity 1.0\n",
      "Cc1cc(Br)c(Cl)cc1NC(=O)CN1Cc2ccc(Cl)cc2C(C(=O)Nc2cncc3ccccc23)C1 is the same as Cc1cc(Br)c(Cl)cc1NC(=O)CN1Cc2ccc(Cl)cc2C(C(=O)Nc2cncc3ccccc23)C1 with similarity 1.0\n",
      "O=C(CN1Cc2ccc(Cl)cc2C(C(=O)Nc2cncc3ccccc23)C1)Nc1ccc2cc(Br)ccc2c1 is the same as O=C(CN1Cc2ccc(Cl)cc2C(C(=O)Nc2cncc3ccccc23)C1)Nc1ccc2cc(Br)ccc2c1 with similarity 1.0\n",
      "O=C(CN1Cc2ccc(Cl)cc2C(C(=O)Nc2cncc3ccccc23)C1)Nc1ccc(Br)c2ccccc12 is the same as O=C(CN1Cc2ccc(Cl)cc2C(C(=O)Nc2cncc3ccccc23)C1)Nc1ccc(Br)c2ccccc12 with similarity 1.0\n",
      "O=C(CN1Cc2ccc(Cl)cc2C(C(=O)Nc2cncc3ccccc23)C1)Nc1ccc2nccnc2c1Br is the same as O=C(CN1Cc2ccc(Cl)cc2C(C(=O)Nc2cncc3ccccc23)C1)Nc1ccc2nccnc2c1Br with similarity 1.0\n",
      "Cc1sc(NC(=O)CN2Cc3ccc(Cl)cc3C(C(=O)Nc3cncc4ccccc34)C2)nc1-c1ccc(Cl)cc1 is the same as Cc1sc(NC(=O)CN2Cc3ccc(Cl)cc3C(C(=O)Nc3cncc4ccccc34)C2)nc1-c1ccc(Cl)cc1 with similarity 1.0\n",
      "O=C(CN1Cc2ccc(Cl)cc2C(C(=O)Nc2cncc3ccccc23)C1)Nc1ccn(C2CC(O)C(CO)O2)c(=O)n1 is the same as O=C(CN1Cc2ccc(Cl)cc2C(C(=O)Nc2cncc3ccccc23)C1)Nc1ccn(C2CC(O)C(CO)O2)c(=O)n1 with similarity 1.0\n",
      "CCN(CC)S(=O)(=O)c1ccc(NC(=O)CN2Cc3ccc(Cl)cc3C(C(=O)Nc3cncc4ccccc34)C2)cc1 is the same as CCN(CC)S(=O)(=O)c1ccc(NC(=O)CN2Cc3ccc(Cl)cc3C(C(=O)Nc3cncc4ccccc34)C2)cc1 with similarity 1.0\n",
      "N#Cc1cnn(-c2ccc([N+](=O)[O-])cc2)c1NC(=O)CN1Cc2ccc(Cl)cc2C(C(=O)Nc2cncc3ccccc23)C1 is the same as N#Cc1cnn(-c2ccc([N+](=O)[O-])cc2)c1NC(=O)CN1Cc2ccc(Cl)cc2C(C(=O)Nc2cncc3ccccc23)C1 with similarity 1.0\n",
      "O=C(CN1Cc2ccc(Cl)cc2C(C(=O)Nc2cncc3ccccc23)C1)Nc1cc(C(F)(F)F)ccc1N1CCCC1 is the same as O=C(CN1Cc2ccc(Cl)cc2C(C(=O)Nc2cncc3ccccc23)C1)Nc1cc(C(F)(F)F)ccc1N1CCCC1 with similarity 1.0\n",
      "Cc1cc(Br)c(NC(=O)CN2Cc3ccc(Cl)cc3C(C(=O)Nc3cncc4ccccc34)C2)c([N+](=O)[O-])c1 is the same as Cc1cc(Br)c(NC(=O)CN2Cc3ccc(Cl)cc3C(C(=O)Nc3cncc4ccccc34)C2)c([N+](=O)[O-])c1 with similarity 1.0\n",
      "Cc1c(Br)cnc(NC(=O)CN2Cc3ccc(Cl)cc3C(C(=O)Nc3cncc4ccccc34)C2)c1[N+](=O)[O-] is the same as Cc1c(Br)cnc(NC(=O)CN2Cc3ccc(Cl)cc3C(C(=O)Nc3cncc4ccccc34)C2)c1[N+](=O)[O-] with similarity 1.0\n",
      "CCC1(c2ccc(N)cc2)CCC(=O)N(C(=O)CN2Cc3ccc(Cl)cc3C(C(=O)Nc3cncc4ccccc34)C2)C1=O is the same as CCC1(c2ccc(N)cc2)CCC(=O)N(C(=O)CN2Cc3ccc(Cl)cc3C(C(=O)Nc3cncc4ccccc34)C2)C1=O with similarity 1.0\n",
      "Cc1ccc(NC(=O)CN2Cc3ccc(Cl)cc3C(C(=O)Nc3cncc4ccccc34)C2)cc1I is the same as Cc1ccc(NC(=O)CN2Cc3ccc(Cl)cc3C(C(=O)Nc3cncc4ccccc34)C2)cc1I with similarity 1.0\n",
      "O=C(CN1Cc2ccc(Cl)cc2C(C(=O)Nc2cncc3ccccc23)C1)NCc1ccc(I)cc1 is the same as O=C(CN1Cc2ccc(Cl)cc2C(C(=O)Nc2cncc3ccccc23)C1)NCc1ccc(I)cc1 with similarity 1.0\n",
      "Cc1cc(I)ccc1NC(=O)CN1Cc2ccc(Cl)cc2C(C(=O)Nc2cncc3ccccc23)C1 is the same as Cc1cc(I)ccc1NC(=O)CN1Cc2ccc(Cl)cc2C(C(=O)Nc2cncc3ccccc23)C1 with similarity 1.0\n",
      "Cc1cc(NC(=O)CN2Cc3ccc(Cl)cc3C(C(=O)Nc3cncc4ccccc34)C2)ncc1I is the same as Cc1cc(NC(=O)CN2Cc3ccc(Cl)cc3C(C(=O)Nc3cncc4ccccc34)C2)ncc1I with similarity 1.0\n",
      "O=C(CN1Cc2ccc(Cl)cc2C(C(=O)Nc2cncc3ccccc23)C1)Nc1ccc(OCc2ccccn2)c(Cl)c1 is the same as O=C(CN1Cc2ccc(Cl)cc2C(C(=O)Nc2cncc3ccccc23)C1)Nc1ccc(OCc2ccccn2)c(Cl)c1 with similarity 1.0\n",
      "O=C(CN1Cc2ccc(Cl)cc2C(C(=O)Nc2cncc3ccccc23)C1)Nc1ccc(F)cc1I is the same as O=C(CN1Cc2ccc(Cl)cc2C(C(=O)Nc2cncc3ccccc23)C1)Nc1ccc(F)cc1I with similarity 1.0\n",
      "O=C(CN1Cc2ccc(Cl)cc2C(C(=O)Nc2cncc3ccccc23)C1)Nc1ccc(I)cc1F is the same as O=C(CN1Cc2ccc(Cl)cc2C(C(=O)Nc2cncc3ccccc23)C1)Nc1ccc(I)cc1F with similarity 1.0\n",
      "O=C(CN1Cc2ccc(Cl)cc2C(C(=O)Nc2cncc3ccccc23)C1)Nc1ccc(I)c(F)c1 is the same as O=C(CN1Cc2ccc(Cl)cc2C(C(=O)Nc2cncc3ccccc23)C1)Nc1ccc(I)c(F)c1 with similarity 1.0\n",
      "COc1cc2nc(Cl)nc(NC(=O)CN3Cc4ccc(Cl)cc4C(C(=O)Nc4cncc5ccccc45)C3)c2cc1OC is the same as COc1cc2nc(Cl)nc(NC(=O)CN3Cc4ccc(Cl)cc4C(C(=O)Nc4cncc5ccccc45)C3)c2cc1OC with similarity 1.0\n",
      "O=C(CN1Cc2ccc(Cl)cc2C(C(=O)Nc2cncc3ccccc23)C1)Nc1cc(Br)cc(C(F)(F)F)c1 is the same as O=C(CN1Cc2ccc(Cl)cc2C(C(=O)Nc2cncc3ccccc23)C1)Nc1cc(Br)cc(C(F)(F)F)c1 with similarity 1.0\n",
      "O=C(CN1Cc2ccc(Cl)cc2C(C(=O)Nc2cncc3ccccc23)C1)Nc1ccc(Br)c(C(F)(F)F)c1 is the same as O=C(CN1Cc2ccc(Cl)cc2C(C(=O)Nc2cncc3ccccc23)C1)Nc1ccc(Br)c(C(F)(F)F)c1 with similarity 1.0\n",
      "O=C(CN1Cc2ccc(Cl)cc2C(C(=O)Nc2cncc3ccccc23)C1)Nc1ccc(Br)c(Cl)c1Cl is the same as O=C(CN1Cc2ccc(Cl)cc2C(C(=O)Nc2cncc3ccccc23)C1)Nc1ccc(Br)c(Cl)c1Cl with similarity 1.0\n",
      "O=C(CN1Cc2ccc(Cl)cc2C(C(=O)Nc2cncc3ccccc23)C1)Nc1c(Cl)cc(Cl)cc1Br is the same as O=C(CN1Cc2ccc(Cl)cc2C(C(=O)Nc2cncc3ccccc23)C1)Nc1c(Cl)cc(Cl)cc1Br with similarity 1.0\n",
      "Cc1cn(-c2cc(NC(=O)CN3Cc4ccc(Cl)cc4C(C(=O)Nc4cncc5ccccc45)C3)cc(C(F)(F)F)c2)cn1 is the same as Cc1cn(-c2cc(NC(=O)CN3Cc4ccc(Cl)cc4C(C(=O)Nc4cncc5ccccc45)C3)cc(C(F)(F)F)c2)cn1 with similarity 1.0\n",
      "O=C(CN1Cc2ccc(Cl)cc2C(C(=O)Nc2cncc3ccccc23)C1)Nc1ncc(Br)c(C(F)(F)F)n1 is the same as O=C(CN1Cc2ccc(Cl)cc2C(C(=O)Nc2cncc3ccccc23)C1)Nc1ncc(Br)c(C(F)(F)F)n1 with similarity 1.0\n",
      "O=C(Nc1cncc2ccccc12)C1CN(CC(=O)N2CCN(c3ccc(Br)cn3)CC2)Cc2ccc(Cl)cc21 is the same as O=C(Nc1cncc2ccccc12)C1CN(CC(=O)N2CCN(c3ccc(Br)cn3)CC2)Cc2ccc(Cl)cc21 with similarity 1.0\n",
      "N#Cc1ccc(NC(=O)CN2Cc3ccc(Cl)cc3C(C(=O)Nc3cncc4ccccc34)C2)c(I)c1 is the same as N#Cc1ccc(NC(=O)CN2Cc3ccc(Cl)cc3C(C(=O)Nc3cncc4ccccc34)C2)c(I)c1 with similarity 1.0\n",
      "O=C(Nc1cncc2ccccc12)C1CN(CC(=O)N2CCN(Cc3ccc(C(F)(F)F)cc3)CC2)Cc2ccc(Cl)cc21 is the same as O=C(Nc1cncc2ccccc12)C1CN(CC(=O)N2CCN(Cc3ccc(C(F)(F)F)cc3)CC2)Cc2ccc(Cl)cc21 with similarity 1.0\n",
      "O=C(CN1Cc2ccc(Cl)cc2C(C(=O)Nc2cncc3ccccc23)C1)Nc1nc(-c2ccc(Cl)c(Cl)c2)cs1 is the same as O=C(CN1Cc2ccc(Cl)cc2C(C(=O)Nc2cncc3ccccc23)C1)Nc1nc(-c2ccc(Cl)c(Cl)c2)cs1 with similarity 1.0\n",
      "Cc1cccc(C)c1NC(=O)CN1CCN(C(=O)CN2Cc3ccc(Cl)cc3C(C(=O)Nc3cncc4ccccc34)C2)CC1 is the same as Cc1cccc(C)c1NC(=O)CN1CCN(C(=O)CN2Cc3ccc(Cl)cc3C(C(=O)Nc3cncc4ccccc34)C2)CC1 with similarity 1.0\n",
      "O=C(Nc1cncc2ccccc12)C1CN(CC(=O)N2CCN(C(=O)C3COc4ccccc4O3)CC2)Cc2ccc(Cl)cc21 is the same as O=C(Nc1cncc2ccccc12)C1CN(CC(=O)N2CCN(C(=O)C3COc4ccccc4O3)CC2)Cc2ccc(Cl)cc21 with similarity 1.0\n"
     ]
    }
   ],
   "source": [
    "import numpy as np\n",
    "\n",
    "\n",
    "useful_rdkit_utils.add_molecule_and_errors(df_with_yield, 'smiles', 'mol')\n",
    "useful_rdkit_utils.add_molecule_and_errors(df, 'smiles', 'mol')\n",
    "\n",
    "df_with_yield['fps'] = [AllChem.GetMorganFingerprintAsBitVect(\n",
    "    mol, radius=3, nBits=1024) for mol in df_with_yield['mol']]\n",
    "df['fps'] = [AllChem.GetMorganFingerprintAsBitVect(\n",
    "    mol, radius=3, nBits=1024) for mol in df['mol']]\n",
    "\n",
    "for i in tqdm(range(len(df_with_yield['fps']))):\n",
    "    similarity = np.array(DataStructs.BulkTanimotoSimilarity(\n",
    "        df_with_yield['fps'].values[i], df['fps'].values))\n",
    "    # print(similarity)\n",
    "    if np.max(similarity) > 0.8:\n",
    "        print(f\"{df_with_yield.loc[i, 'smiles']} is the same as {df.loc[np.argmax(similarity), 'smiles']} with similarity {np.max(similarity)}\")\n"
   ]
  },
  {
   "cell_type": "code",
   "execution_count": 67,
   "metadata": {},
   "outputs": [
    {
     "data": {
      "text/html": [
       "<div>\n",
       "<style scoped>\n",
       "    .dataframe tbody tr th:only-of-type {\n",
       "        vertical-align: middle;\n",
       "    }\n",
       "\n",
       "    .dataframe tbody tr th {\n",
       "        vertical-align: top;\n",
       "    }\n",
       "\n",
       "    .dataframe thead th {\n",
       "        text-align: right;\n",
       "    }\n",
       "</style>\n",
       "<table border=\"1\" class=\"dataframe\">\n",
       "  <thead>\n",
       "    <tr style=\"text-align: right;\">\n",
       "      <th></th>\n",
       "      <th>smiles</th>\n",
       "      <th>Plate Well</th>\n",
       "      <th>activity</th>\n",
       "      <th>yield (%)</th>\n",
       "      <th>Molecule Name</th>\n",
       "      <th>SMILES</th>\n",
       "      <th>Measured Inhibition (%)</th>\n",
       "      <th>RF Predicted Inhibition (%)</th>\n",
       "      <th>inhibition</th>\n",
       "      <th>50th quantile</th>\n",
       "      <th>Inhibition (%)</th>\n",
       "    </tr>\n",
       "  </thead>\n",
       "  <tbody>\n",
       "    <tr>\n",
       "      <th>0</th>\n",
       "      <td>O=C(Nc1cncc2ccccc12)C1CN(CC(=O)N2CCOCC2)Cc2ccc...</td>\n",
       "      <td>K19</td>\n",
       "      <td>51.8</td>\n",
       "      <td>96.0</td>\n",
       "      <td>PCM-0223563</td>\n",
       "      <td>Clc1ccc2[C@@H](CN(CC(=O)N3CCOCC3)Cc2c1)C(=O)Nc...</td>\n",
       "      <td>48.2</td>\n",
       "      <td>51.8978</td>\n",
       "      <td>48.2</td>\n",
       "      <td>45.9</td>\n",
       "      <td>48.2</td>\n",
       "    </tr>\n",
       "    <tr>\n",
       "      <th>1</th>\n",
       "      <td>O=C(CN1Cc2ccc(Cl)cc2C(C(=O)Nc2cncc3ccccc23)C1)...</td>\n",
       "      <td>J19</td>\n",
       "      <td>9.9</td>\n",
       "      <td>100.0</td>\n",
       "      <td>PCM-0223544</td>\n",
       "      <td>Clc1ccc2[C@@H](CN(CC(=O)Nc3ccccc3)Cc2c1)C(=O)N...</td>\n",
       "      <td>90.1</td>\n",
       "      <td>28.6458</td>\n",
       "      <td>90.1</td>\n",
       "      <td>45.0</td>\n",
       "      <td>90.1</td>\n",
       "    </tr>\n",
       "    <tr>\n",
       "      <th>2</th>\n",
       "      <td>O=C(CN1Cc2ccc(Cl)cc2C(C(=O)Nc2cncc3ccccc23)C1)...</td>\n",
       "      <td>I19</td>\n",
       "      <td>9.5</td>\n",
       "      <td>93.0</td>\n",
       "      <td>PCM-0223525</td>\n",
       "      <td>Clc1ccc2[C@@H](CN(CC(=O)NCc3ccccc3)Cc2c1)C(=O)...</td>\n",
       "      <td>90.5</td>\n",
       "      <td>68.7526</td>\n",
       "      <td>90.5</td>\n",
       "      <td>71.0</td>\n",
       "      <td>90.5</td>\n",
       "    </tr>\n",
       "    <tr>\n",
       "      <th>3</th>\n",
       "      <td>O=C(CN1Cc2ccc(Cl)cc2C(C(=O)Nc2cncc3ccccc23)C1)...</td>\n",
       "      <td>L19</td>\n",
       "      <td>83.6</td>\n",
       "      <td>0.0</td>\n",
       "      <td>PCM-0223582</td>\n",
       "      <td>[O-][N+](=O)c1ccc(NC(=O)CN2C[C@@H](C(=O)Nc3cnc...</td>\n",
       "      <td>16.4</td>\n",
       "      <td>39.3330</td>\n",
       "      <td>16.4</td>\n",
       "      <td>41.9</td>\n",
       "      <td>16.4</td>\n",
       "    </tr>\n",
       "    <tr>\n",
       "      <th>4</th>\n",
       "      <td>CNC(=O)c1ccccc1NC(=O)CN1Cc2ccc(Cl)cc2C(C(=O)Nc...</td>\n",
       "      <td>P11</td>\n",
       "      <td>71.1</td>\n",
       "      <td>0.0</td>\n",
       "      <td>PCM-0223647</td>\n",
       "      <td>CNC(=O)c1ccccc1NC(=O)CN2C[C@@H](C(=O)Nc3cncc4c...</td>\n",
       "      <td>28.9</td>\n",
       "      <td>20.6552</td>\n",
       "      <td>28.9</td>\n",
       "      <td>24.2</td>\n",
       "      <td>28.9</td>\n",
       "    </tr>\n",
       "    <tr>\n",
       "      <th>...</th>\n",
       "      <td>...</td>\n",
       "      <td>...</td>\n",
       "      <td>...</td>\n",
       "      <td>...</td>\n",
       "      <td>...</td>\n",
       "      <td>...</td>\n",
       "      <td>...</td>\n",
       "      <td>...</td>\n",
       "      <td>...</td>\n",
       "      <td>...</td>\n",
       "      <td>...</td>\n",
       "    </tr>\n",
       "    <tr>\n",
       "      <th>295</th>\n",
       "      <td>N#Cc1ccc(NC(=O)CN2Cc3ccc(Cl)cc3C(C(=O)Nc3cncc4...</td>\n",
       "      <td>L11</td>\n",
       "      <td>84.5</td>\n",
       "      <td>0.0</td>\n",
       "      <td>PCM-0223574</td>\n",
       "      <td>Clc1ccc2[C@@H](CN(CC(=O)Nc3ccc(cc3I)C#N)Cc2c1)...</td>\n",
       "      <td>15.5</td>\n",
       "      <td>21.6562</td>\n",
       "      <td>15.5</td>\n",
       "      <td>20.5</td>\n",
       "      <td>15.5</td>\n",
       "    </tr>\n",
       "    <tr>\n",
       "      <th>296</th>\n",
       "      <td>O=C(Nc1cncc2ccccc12)C1CN(CC(=O)N2CCN(Cc3ccc(C(...</td>\n",
       "      <td>P7</td>\n",
       "      <td>76.5</td>\n",
       "      <td>100.0</td>\n",
       "      <td>PCM-0223660</td>\n",
       "      <td>FC(F)(F)c1ccc(CN2CCN(CC2)C(=O)CN3C[C@@H](C(=O)...</td>\n",
       "      <td>23.5</td>\n",
       "      <td>37.0372</td>\n",
       "      <td>23.5</td>\n",
       "      <td>44.8</td>\n",
       "      <td>23.5</td>\n",
       "    </tr>\n",
       "    <tr>\n",
       "      <th>297</th>\n",
       "      <td>O=C(CN1Cc2ccc(Cl)cc2C(C(=O)Nc2cncc3ccccc23)C1)...</td>\n",
       "      <td>H10</td>\n",
       "      <td>24.6</td>\n",
       "      <td>98.0</td>\n",
       "      <td>PCM-0223497</td>\n",
       "      <td>Clc1ccc2[C@@H](CN(CC(=O)Nc3nc(cs3)c4ccc(Cl)c(C...</td>\n",
       "      <td>75.4</td>\n",
       "      <td>41.1426</td>\n",
       "      <td>75.4</td>\n",
       "      <td>39.4</td>\n",
       "      <td>75.4</td>\n",
       "    </tr>\n",
       "    <tr>\n",
       "      <th>298</th>\n",
       "      <td>Cc1cccc(C)c1NC(=O)CN1CCN(C(=O)CN2Cc3ccc(Cl)cc3...</td>\n",
       "      <td>H6</td>\n",
       "      <td>65.5</td>\n",
       "      <td>100.0</td>\n",
       "      <td>PCM-0223511</td>\n",
       "      <td>Cc1cccc(C)c1NC(=O)CN2CCN(CC2)C(=O)CN3C[C@@H](C...</td>\n",
       "      <td>34.5</td>\n",
       "      <td>28.2744</td>\n",
       "      <td>34.5</td>\n",
       "      <td>25.4</td>\n",
       "      <td>34.5</td>\n",
       "    </tr>\n",
       "    <tr>\n",
       "      <th>299</th>\n",
       "      <td>O=C(Nc1cncc2ccccc12)C1CN(CC(=O)N2CCN(C(=O)C3CO...</td>\n",
       "      <td>A7</td>\n",
       "      <td>72.3</td>\n",
       "      <td>88.0</td>\n",
       "      <td>PCM-0223379</td>\n",
       "      <td>Clc1ccc2C(CN(CC(=O)N3CCN(CC3)C(=O)C4COc5ccccc5...</td>\n",
       "      <td>27.7</td>\n",
       "      <td>32.7064</td>\n",
       "      <td>27.7</td>\n",
       "      <td>29.6</td>\n",
       "      <td>27.7</td>\n",
       "    </tr>\n",
       "  </tbody>\n",
       "</table>\n",
       "<p>300 rows × 11 columns</p>\n",
       "</div>"
      ],
      "text/plain": [
       "                                                smiles Plate Well  activity  \\\n",
       "0    O=C(Nc1cncc2ccccc12)C1CN(CC(=O)N2CCOCC2)Cc2ccc...        K19      51.8   \n",
       "1    O=C(CN1Cc2ccc(Cl)cc2C(C(=O)Nc2cncc3ccccc23)C1)...        J19       9.9   \n",
       "2    O=C(CN1Cc2ccc(Cl)cc2C(C(=O)Nc2cncc3ccccc23)C1)...        I19       9.5   \n",
       "3    O=C(CN1Cc2ccc(Cl)cc2C(C(=O)Nc2cncc3ccccc23)C1)...        L19      83.6   \n",
       "4    CNC(=O)c1ccccc1NC(=O)CN1Cc2ccc(Cl)cc2C(C(=O)Nc...        P11      71.1   \n",
       "..                                                 ...        ...       ...   \n",
       "295  N#Cc1ccc(NC(=O)CN2Cc3ccc(Cl)cc3C(C(=O)Nc3cncc4...        L11      84.5   \n",
       "296  O=C(Nc1cncc2ccccc12)C1CN(CC(=O)N2CCN(Cc3ccc(C(...         P7      76.5   \n",
       "297  O=C(CN1Cc2ccc(Cl)cc2C(C(=O)Nc2cncc3ccccc23)C1)...        H10      24.6   \n",
       "298  Cc1cccc(C)c1NC(=O)CN1CCN(C(=O)CN2Cc3ccc(Cl)cc3...         H6      65.5   \n",
       "299  O=C(Nc1cncc2ccccc12)C1CN(CC(=O)N2CCN(C(=O)C3CO...         A7      72.3   \n",
       "\n",
       "     yield (%) Molecule Name  \\\n",
       "0         96.0   PCM-0223563   \n",
       "1        100.0   PCM-0223544   \n",
       "2         93.0   PCM-0223525   \n",
       "3          0.0   PCM-0223582   \n",
       "4          0.0   PCM-0223647   \n",
       "..         ...           ...   \n",
       "295        0.0   PCM-0223574   \n",
       "296      100.0   PCM-0223660   \n",
       "297       98.0   PCM-0223497   \n",
       "298      100.0   PCM-0223511   \n",
       "299       88.0   PCM-0223379   \n",
       "\n",
       "                                                SMILES  \\\n",
       "0    Clc1ccc2[C@@H](CN(CC(=O)N3CCOCC3)Cc2c1)C(=O)Nc...   \n",
       "1    Clc1ccc2[C@@H](CN(CC(=O)Nc3ccccc3)Cc2c1)C(=O)N...   \n",
       "2    Clc1ccc2[C@@H](CN(CC(=O)NCc3ccccc3)Cc2c1)C(=O)...   \n",
       "3    [O-][N+](=O)c1ccc(NC(=O)CN2C[C@@H](C(=O)Nc3cnc...   \n",
       "4    CNC(=O)c1ccccc1NC(=O)CN2C[C@@H](C(=O)Nc3cncc4c...   \n",
       "..                                                 ...   \n",
       "295  Clc1ccc2[C@@H](CN(CC(=O)Nc3ccc(cc3I)C#N)Cc2c1)...   \n",
       "296  FC(F)(F)c1ccc(CN2CCN(CC2)C(=O)CN3C[C@@H](C(=O)...   \n",
       "297  Clc1ccc2[C@@H](CN(CC(=O)Nc3nc(cs3)c4ccc(Cl)c(C...   \n",
       "298  Cc1cccc(C)c1NC(=O)CN2CCN(CC2)C(=O)CN3C[C@@H](C...   \n",
       "299  Clc1ccc2C(CN(CC(=O)N3CCN(CC3)C(=O)C4COc5ccccc5...   \n",
       "\n",
       "     Measured Inhibition (%)  RF Predicted Inhibition (%)  inhibition  \\\n",
       "0                       48.2                      51.8978        48.2   \n",
       "1                       90.1                      28.6458        90.1   \n",
       "2                       90.5                      68.7526        90.5   \n",
       "3                       16.4                      39.3330        16.4   \n",
       "4                       28.9                      20.6552        28.9   \n",
       "..                       ...                          ...         ...   \n",
       "295                     15.5                      21.6562        15.5   \n",
       "296                     23.5                      37.0372        23.5   \n",
       "297                     75.4                      41.1426        75.4   \n",
       "298                     34.5                      28.2744        34.5   \n",
       "299                     27.7                      32.7064        27.7   \n",
       "\n",
       "     50th quantile  Inhibition (%)  \n",
       "0             45.9            48.2  \n",
       "1             45.0            90.1  \n",
       "2             71.0            90.5  \n",
       "3             41.9            16.4  \n",
       "4             24.2            28.9  \n",
       "..             ...             ...  \n",
       "295           20.5            15.5  \n",
       "296           44.8            23.5  \n",
       "297           39.4            75.4  \n",
       "298           25.4            34.5  \n",
       "299           29.6            27.7  \n",
       "\n",
       "[300 rows x 11 columns]"
      ]
     },
     "metadata": {},
     "output_type": "display_data"
    },
    {
     "data": {
      "text/html": [
       "<div>\n",
       "<style scoped>\n",
       "    .dataframe tbody tr th:only-of-type {\n",
       "        vertical-align: middle;\n",
       "    }\n",
       "\n",
       "    .dataframe tbody tr th {\n",
       "        vertical-align: top;\n",
       "    }\n",
       "\n",
       "    .dataframe thead th {\n",
       "        text-align: right;\n",
       "    }\n",
       "</style>\n",
       "<table border=\"1\" class=\"dataframe\">\n",
       "  <thead>\n",
       "    <tr style=\"text-align: right;\">\n",
       "      <th></th>\n",
       "      <th>smiles</th>\n",
       "      <th>Plate Well</th>\n",
       "      <th>activity</th>\n",
       "      <th>yield (%)</th>\n",
       "      <th>Molecule Name</th>\n",
       "      <th>SMILES</th>\n",
       "      <th>Measured Inhibition (%)</th>\n",
       "      <th>RF Predicted Inhibition (%)</th>\n",
       "      <th>inhibition</th>\n",
       "      <th>50th quantile</th>\n",
       "      <th>Inhibition (%)</th>\n",
       "    </tr>\n",
       "  </thead>\n",
       "  <tbody>\n",
       "    <tr>\n",
       "      <th>55</th>\n",
       "      <td>O=C(CN1Cc2ccc(Cl)cc2C(C(=O)Nc2cncc3ccccc23)C1)...</td>\n",
       "      <td>A10</td>\n",
       "      <td>83.8</td>\n",
       "      <td>100.0</td>\n",
       "      <td>PCM-0223364</td>\n",
       "      <td>FC(F)(F)c1ccc(NC(=O)CN2C[C@@H](C(=O)Nc3cncc4cc...</td>\n",
       "      <td>86.7</td>\n",
       "      <td>19.4728</td>\n",
       "      <td>86.7</td>\n",
       "      <td>19.5</td>\n",
       "      <td>16.2</td>\n",
       "    </tr>\n",
       "  </tbody>\n",
       "</table>\n",
       "</div>"
      ],
      "text/plain": [
       "                                               smiles Plate Well  activity  \\\n",
       "55  O=C(CN1Cc2ccc(Cl)cc2C(C(=O)Nc2cncc3ccccc23)C1)...        A10      83.8   \n",
       "\n",
       "    yield (%) Molecule Name  \\\n",
       "55      100.0   PCM-0223364   \n",
       "\n",
       "                                               SMILES  \\\n",
       "55  FC(F)(F)c1ccc(NC(=O)CN2C[C@@H](C(=O)Nc3cncc4cc...   \n",
       "\n",
       "    Measured Inhibition (%)  RF Predicted Inhibition (%)  inhibition  \\\n",
       "55                     86.7                      19.4728        86.7   \n",
       "\n",
       "    50th quantile  Inhibition (%)  \n",
       "55           19.5            16.2  "
      ]
     },
     "metadata": {},
     "output_type": "display_data"
    },
    {
     "data": {
      "application/vnd.plotly.v1+json": {
       "config": {
        "plotlyServerURL": "https://plot.ly"
       },
       "data": [
        {
         "customdata": [
          [
           48.2
          ],
          [
           90.1
          ],
          [
           90.5
          ],
          [
           16.400000000000006
          ],
          [
           95.2
          ],
          [
           84.8
          ],
          [
           16.799999999999997
          ],
          [
           17.400000000000006
          ],
          [
           55.9
          ],
          [
           94.4
          ],
          [
           60.8
          ],
          [
           26.599999999999994
          ],
          [
           35.5
          ],
          [
           41.4
          ],
          [
           19.099999999999994
          ],
          [
           66.3
          ],
          [
           58.9
          ],
          [
           75.4
          ],
          [
           17.900000000000006
          ],
          [
           64.9
          ],
          [
           40.5
          ],
          [
           16.400000000000006
          ],
          [
           15
          ],
          [
           16.099999999999994
          ],
          [
           15.5
          ],
          [
           22.200000000000003
          ],
          [
           17.799999999999997
          ],
          [
           20
          ],
          [
           31.200000000000003
          ],
          [
           21.5
          ],
          [
           38.1
          ],
          [
           81.3
          ],
          [
           66.4
          ],
          [
           90.5
          ],
          [
           80.9
          ],
          [
           96.4
          ],
          [
           19.5
          ],
          [
           54
          ],
          [
           20.200000000000003
          ],
          [
           28.5
          ],
          [
           20
          ],
          [
           34.2
          ],
          [
           28
          ],
          [
           69.5
          ],
          [
           50.3
          ],
          [
           59.2
          ],
          [
           52.8
          ],
          [
           58.7
          ],
          [
           88
          ],
          [
           33.5
          ],
          [
           14.099999999999994
          ],
          [
           40.3
          ],
          [
           37.3
          ],
          [
           19.599999999999994
          ],
          [
           34.900000000000006
          ],
          [
           17.799999999999997
          ],
          [
           20.599999999999994
          ],
          [
           17.700000000000003
          ],
          [
           38
          ],
          [
           83.5
          ],
          [
           13.5
          ],
          [
           90.1
          ],
          [
           36.7
          ],
          [
           33.8
          ],
          [
           88.3
          ],
          [
           15.900000000000006
          ],
          [
           71.7
          ],
          [
           25.5
          ],
          [
           28.599999999999994
          ],
          [
           28.5
          ],
          [
           61.5
          ],
          [
           55.3
          ],
          [
           68.8
          ],
          [
           16.400000000000006
          ],
          [
           36.3
          ],
          [
           79.5
          ],
          [
           75.2
          ],
          [
           27
          ],
          [
           18
          ],
          [
           53.8
          ],
          [
           16
          ],
          [
           62.2
          ],
          [
           16.299999999999997
          ],
          [
           26
          ],
          [
           83
          ],
          [
           58.7
          ],
          [
           20.700000000000003
          ],
          [
           80.2
          ],
          [
           45.6
          ],
          [
           68.7
          ],
          [
           85
          ],
          [
           78.4
          ],
          [
           17.599999999999994
          ],
          [
           16
          ],
          [
           60.1
          ],
          [
           92
          ],
          [
           49.7
          ],
          [
           41.1
          ],
          [
           24.200000000000003
          ],
          [
           88.3
          ],
          [
           27.5
          ],
          [
           79.8
          ],
          [
           25.599999999999994
          ],
          [
           28.599999999999994
          ],
          [
           17.799999999999997
          ],
          [
           58.4
          ],
          [
           53
          ],
          [
           19
          ],
          [
           46.4
          ],
          [
           82.1
          ],
          [
           87.3
          ],
          [
           33.5
          ],
          [
           38.5
          ],
          [
           16.900000000000006
          ],
          [
           77.1
          ],
          [
           20.200000000000003
          ],
          [
           87.6
          ],
          [
           84.7
          ],
          [
           76.2
          ],
          [
           64.9
          ],
          [
           51.6
          ],
          [
           13.5
          ],
          [
           16.700000000000003
          ],
          [
           56.5
          ],
          [
           74.9
          ],
          [
           36.2
          ],
          [
           24.5
          ],
          [
           22.599999999999994
          ],
          [
           35.5
          ],
          [
           91.4
          ],
          [
           80.2
          ],
          [
           41.2
          ],
          [
           27.599999999999994
          ],
          [
           33.599999999999994
          ],
          [
           19.099999999999994
          ],
          [
           55.7
          ],
          [
           16.5
          ],
          [
           17.400000000000006
          ],
          [
           65.9
          ],
          [
           34.599999999999994
          ],
          [
           15
          ],
          [
           39.2
          ],
          [
           58
          ],
          [
           30.5
          ],
          [
           40.5
          ],
          [
           14.099999999999994
          ],
          [
           52.6
          ],
          [
           94.8
          ],
          [
           21.099999999999994
          ],
          [
           41.1
          ],
          [
           32.2
          ],
          [
           35.400000000000006
          ],
          [
           76.1
          ],
          [
           19.700000000000003
          ],
          [
           32.900000000000006
          ],
          [
           45.2
          ],
          [
           79.3
          ],
          [
           15.099999999999994
          ],
          [
           18
          ],
          [
           83.4
          ],
          [
           81.3
          ],
          [
           22.700000000000003
          ],
          [
           97.4
          ],
          [
           17
          ],
          [
           17.5
          ],
          [
           17.5
          ],
          [
           23
          ],
          [
           32.5
          ],
          [
           65.1
          ],
          [
           18.099999999999994
          ],
          [
           16.200000000000003
          ],
          [
           19.5
          ],
          [
           19
          ],
          [
           33.7
          ],
          [
           91.6
          ],
          [
           33.2
          ],
          [
           65.9
          ],
          [
           21.700000000000003
          ],
          [
           24.200000000000003
          ],
          [
           22.200000000000003
          ],
          [
           86.8
          ],
          [
           15.5
          ],
          [
           16.599999999999994
          ],
          [
           63.9
          ],
          [
           49.1
          ],
          [
           36.8
          ],
          [
           20.200000000000003
          ],
          [
           12
          ],
          [
           15.599999999999994
          ],
          [
           12.5
          ],
          [
           17.599999999999994
          ],
          [
           16.700000000000003
          ],
          [
           49.2
          ],
          [
           26.700000000000003
          ],
          [
           22.200000000000003
          ],
          [
           13
          ],
          [
           16.5
          ],
          [
           15.5
          ],
          [
           65.2
          ],
          [
           35.599999999999994
          ],
          [
           83.8
          ],
          [
           24.700000000000003
          ],
          [
           31.700000000000003
          ],
          [
           21
          ],
          [
           21.099999999999994
          ],
          [
           20.200000000000003
          ],
          [
           12.599999999999994
          ],
          [
           15.5
          ],
          [
           23.5
          ],
          [
           75.4
          ],
          [
           34.5
          ],
          [
           27.700000000000003
          ]
         ],
         "hovertemplate": "Measured Inihibition (%)=%{x}<br>ML Predicted Inhibition (%)=%{y}<br>Measured Inhibition (%)=%{customdata[0]}<br>yield (%)=%{marker.color}<extra></extra>",
         "legendgroup": "",
         "marker": {
          "color": [
           96,
           100,
           93,
           0,
           82,
           85,
           0,
           0,
           100,
           100,
           100,
           0,
           92,
           89,
           0,
           100,
           0,
           94,
           0,
           0,
           90,
           0,
           0,
           0,
           0,
           95,
           1,
           0,
           89,
           0,
           93,
           100,
           77,
           89,
           92,
           73,
           41,
           76,
           2,
           66,
           67,
           54,
           0,
           64,
           100,
           0,
           100,
           83,
           52,
           65,
           0,
           22,
           100,
           0,
           5,
           0,
           0,
           0,
           49,
           36,
           0,
           81,
           61,
           100,
           100,
           0,
           46,
           10,
           25,
           100,
           0,
           0,
           18,
           0,
           0,
           100,
           98,
           0,
           0,
           88,
           24,
           36,
           0,
           100,
           93,
           59,
           0,
           25,
           61,
           43,
           94,
           100,
           0,
           0,
           49,
           100,
           61,
           36,
           0,
           94,
           21,
           30,
           0,
           36,
           7,
           86,
           67,
           68,
           43,
           100,
           91,
           39,
           32,
           32,
           76,
           35,
           95,
           100,
           100,
           50,
           67,
           0,
           0,
           90,
           80,
           18,
           11,
           64,
           93,
           88,
           100,
           22,
           96,
           71,
           0,
           0,
           0,
           41,
           100,
           42,
           0,
           88,
           66,
           0,
           96,
           75,
           39,
           96,
           0,
           93,
           97,
           97,
           98,
           0,
           37,
           43,
           71,
           0,
           0,
           100,
           35,
           0,
           100,
           0,
           0,
           0,
           96,
           98,
           100,
           0,
           0,
           0,
           0,
           0,
           91,
           100,
           6,
           63,
           33,
           5,
           42,
           0,
           0,
           77,
           42,
           24,
           76,
           85,
           77,
           74,
           0,
           34,
           0,
           0,
           18,
           0,
           0,
           0,
           95,
           66,
           68,
           0,
           32,
           0,
           42,
           0,
           0,
           0,
           100,
           98,
           100,
           88
          ],
          "coloraxis": "coloraxis",
          "size": 15,
          "symbol": "circle"
         },
         "mode": "markers",
         "name": "",
         "orientation": "v",
         "showlegend": false,
         "type": "scatter",
         "x": [
          48.2,
          90.1,
          90.5,
          16.400000000000006,
          95.2,
          84.8,
          16.799999999999997,
          17.400000000000006,
          55.9,
          94.4,
          60.8,
          26.599999999999994,
          35.5,
          41.4,
          19.099999999999994,
          66.3,
          58.9,
          75.4,
          17.900000000000006,
          64.9,
          40.5,
          16.400000000000006,
          15,
          16.099999999999994,
          15.5,
          22.200000000000003,
          17.799999999999997,
          20,
          31.200000000000003,
          21.5,
          38.1,
          81.3,
          66.4,
          90.5,
          80.9,
          96.4,
          19.5,
          54,
          20.200000000000003,
          28.5,
          20,
          34.2,
          28,
          69.5,
          50.3,
          59.2,
          52.8,
          58.7,
          88,
          33.5,
          14.099999999999994,
          40.3,
          37.3,
          19.599999999999994,
          34.900000000000006,
          17.799999999999997,
          20.599999999999994,
          17.700000000000003,
          38,
          83.5,
          13.5,
          90.1,
          36.7,
          33.8,
          88.3,
          15.900000000000006,
          71.7,
          25.5,
          28.599999999999994,
          28.5,
          61.5,
          55.3,
          68.8,
          16.400000000000006,
          36.3,
          79.5,
          75.2,
          27,
          18,
          53.8,
          16,
          62.2,
          16.299999999999997,
          26,
          83,
          58.7,
          20.700000000000003,
          80.2,
          45.6,
          68.7,
          85,
          78.4,
          17.599999999999994,
          16,
          60.1,
          92,
          49.7,
          41.1,
          24.200000000000003,
          88.3,
          27.5,
          79.8,
          25.599999999999994,
          28.599999999999994,
          17.799999999999997,
          58.4,
          53,
          19,
          46.4,
          82.1,
          87.3,
          33.5,
          38.5,
          16.900000000000006,
          77.1,
          20.200000000000003,
          87.6,
          84.7,
          76.2,
          64.9,
          51.6,
          13.5,
          16.700000000000003,
          56.5,
          74.9,
          36.2,
          24.5,
          22.599999999999994,
          35.5,
          91.4,
          80.2,
          41.2,
          27.599999999999994,
          33.599999999999994,
          19.099999999999994,
          55.7,
          16.5,
          17.400000000000006,
          65.9,
          34.599999999999994,
          15,
          39.2,
          58,
          30.5,
          40.5,
          14.099999999999994,
          52.6,
          94.8,
          21.099999999999994,
          41.1,
          32.2,
          35.400000000000006,
          76.1,
          19.700000000000003,
          32.900000000000006,
          45.2,
          79.3,
          15.099999999999994,
          18,
          83.4,
          81.3,
          22.700000000000003,
          97.4,
          17,
          17.5,
          17.5,
          23,
          32.5,
          65.1,
          18.099999999999994,
          16.200000000000003,
          19.5,
          19,
          33.7,
          91.6,
          33.2,
          65.9,
          21.700000000000003,
          24.200000000000003,
          22.200000000000003,
          86.8,
          15.5,
          16.599999999999994,
          63.9,
          49.1,
          36.8,
          20.200000000000003,
          12,
          15.599999999999994,
          12.5,
          17.599999999999994,
          16.700000000000003,
          49.2,
          26.700000000000003,
          22.200000000000003,
          13,
          16.5,
          15.5,
          65.2,
          35.599999999999994,
          83.8,
          24.700000000000003,
          31.700000000000003,
          21,
          21.099999999999994,
          20.200000000000003,
          12.599999999999994,
          15.5,
          23.5,
          75.4,
          34.5,
          27.700000000000003
         ],
         "xaxis": "x",
         "y": [
          51.89780000000029,
          28.64579999999999,
          68.75259999999999,
          39.33300000000009,
          33.18400000000007,
          23.55519999999996,
          33.632400000000025,
          18.8524,
          32.42639999999995,
          83.5722000000001,
          31.80660000000001,
          20.22759999999993,
          39.07180000000002,
          38.47560000000003,
          64.21080000000012,
          38.90680000000002,
          26.0826,
          36.18780000000004,
          20.27860000000004,
          81.6430000000003,
          20.766600000000007,
          23.759799999999967,
          17.305200000000017,
          26.16379999999992,
          44.2642,
          23.828599999999955,
          23.628199999999985,
          19.302399999999945,
          50.29900000000005,
          41.33780000000004,
          45.46280000000013,
          82.09100000000032,
          85.31260000000007,
          80.48400000000045,
          81.32760000000032,
          43.08060000000017,
          51.7248,
          61.14339999999983,
          18.81600000000002,
          53.008200000000016,
          43.90219999999989,
          25.720199999999988,
          20.27420000000003,
          38.34120000000002,
          49.48900000000001,
          21.94259999999998,
          38.57840000000002,
          42.37560000000003,
          74.76940000000018,
          32.10000000000002,
          21.38280000000004,
          25.86240000000004,
          27.52819999999999,
          23.39399999999993,
          21.58640000000001,
          19.915,
          21.184000000000022,
          21.034399999999945,
          29.355199999999943,
          61.73639999999982,
          24.290399999999927,
          80.17260000000005,
          26.615799999999982,
          79.46979999999995,
          85.85220000000004,
          46.67840000000005,
          44.91180000000005,
          33.89519999999993,
          19.990399999999937,
          37.96899999999993,
          34.72439999999988,
          44.50319999999991,
          41.03979999999989,
          20.78819999999996,
          25.93940000000008,
          33.875999999999884,
          47.06980000000002,
          39.92799999999999,
          17.212999999999987,
          49.17280000000006,
          34.47219999999993,
          49.07040000000004,
          19.58379999999995,
          28.703800000000047,
          56.87060000000008,
          42.445800000000105,
          47.84740000000003,
          46.98920000000005,
          83.33120000000008,
          29.89500000000009,
          76.99280000000022,
          51.595800000000025,
          25.81439999999995,
          29.439199999999992,
          24.41920000000002,
          86.37160000000023,
          25.755800000000008,
          30.935199999999973,
          17.465999999999983,
          85.97440000000016,
          20.28480000000005,
          81.58880000000019,
          17.999799999999933,
          22.893199999999972,
          19.97140000000004,
          40.22500000000003,
          42.30540000000005,
          51.51059999999973,
          44.95979999999994,
          74.34120000000043,
          79.79480000000011,
          36.97940000000007,
          22.392999999999965,
          20.783399999999997,
          24.047200000000007,
          21.939,
          82.51100000000022,
          79.9099999999998,
          43.4722,
          35.86180000000007,
          37.30160000000002,
          21.759199999999986,
          17.872599999999984,
          22.406999999999982,
          83.56420000000014,
          22.012000000000025,
          62.031999999999954,
          20.188400000000037,
          27.80559999999998,
          62.434000000000125,
          84.63959999999979,
          42.133799999999965,
          29.544599999999903,
          28.206999999999965,
          20.28540000000001,
          30.94380000000002,
          54.28160000000018,
          31.61980000000008,
          77.93519999999972,
          49.37179999999999,
          18.131799999999984,
          47.68880000000001,
          78.9508000000001,
          18.8014,
          50.3888000000002,
          18.643000000000026,
          34.84080000000007,
          79.73460000000036,
          29.07640000000001,
          42.94700000000006,
          32.255799999999866,
          29.75180000000009,
          28.98239999999993,
          29.52439999999999,
          24.34780000000001,
          19.337400000000017,
          34.05119999999997,
          23.902200000000004,
          18.5534,
          79.27260000000025,
          72.1360000000003,
          23.872800000000066,
          63.37319999999997,
          26.265199999999908,
          18.634400000000014,
          19.623000000000008,
          35.09119999999998,
          25.476400000000005,
          82.26279999999976,
          17.677000000000014,
          22.374400000000023,
          19.55199999999997,
          17.207200000000036,
          16.463400000000057,
          31.13099999999995,
          31.068200000000022,
          84.83080000000021,
          32.738400000000006,
          34.12740000000008,
          21.966800000000006,
          75.88040000000014,
          37.18460000000001,
          25.331599999999867,
          45.05100000000008,
          40.18559999999999,
          26.254599999999925,
          25.44139999999997,
          37.12700000000009,
          43.74980000000015,
          29.042,
          18.668199999999985,
          27.79659999999996,
          19.968799999999987,
          28.03559999999997,
          44.87980000000001,
          58.61000000000023,
          35.35099999999995,
          21.72660000000002,
          28.63419999999997,
          28.99500000000003,
          86.94280000000008,
          17.326199999999965,
          20.81760000000002,
          21.144000000000016,
          20.85780000000004,
          36.23059999999998,
          22.666600000000003,
          21.65619999999996,
          37.037200000000006,
          41.14260000000003,
          28.2744,
          32.70639999999998
         ],
         "yaxis": "y"
        }
       ],
       "layout": {
        "coloraxis": {
         "colorbar": {
          "title": {
           "text": "yield (%)"
          }
         },
         "colorscale": [
          [
           0,
           "#440154"
          ],
          [
           0.1111111111111111,
           "#482878"
          ],
          [
           0.2222222222222222,
           "#3e4989"
          ],
          [
           0.3333333333333333,
           "#31688e"
          ],
          [
           0.4444444444444444,
           "#26828e"
          ],
          [
           0.5555555555555556,
           "#1f9e89"
          ],
          [
           0.6666666666666666,
           "#35b779"
          ],
          [
           0.7777777777777778,
           "#6ece58"
          ],
          [
           0.8888888888888888,
           "#b5de2b"
          ],
          [
           1,
           "#fde725"
          ]
         ]
        },
        "height": 800,
        "legend": {
         "tracegroupgap": 0
        },
        "shapes": [
         {
          "line": {
           "color": "black",
           "dash": "dash",
           "width": 2
          },
          "opacity": 1,
          "type": "line",
          "x0": 0,
          "x1": 100,
          "xref": "x",
          "y0": 0,
          "y1": 100,
          "yref": "y"
         }
        ],
        "template": {
         "data": {
          "bar": [
           {
            "error_x": {
             "color": "rgb(36,36,36)"
            },
            "error_y": {
             "color": "rgb(36,36,36)"
            },
            "marker": {
             "line": {
              "color": "white",
              "width": 0.5
             },
             "pattern": {
              "fillmode": "overlay",
              "size": 10,
              "solidity": 0.2
             }
            },
            "type": "bar"
           }
          ],
          "barpolar": [
           {
            "marker": {
             "line": {
              "color": "white",
              "width": 0.5
             },
             "pattern": {
              "fillmode": "overlay",
              "size": 10,
              "solidity": 0.2
             }
            },
            "type": "barpolar"
           }
          ],
          "carpet": [
           {
            "aaxis": {
             "endlinecolor": "rgb(36,36,36)",
             "gridcolor": "white",
             "linecolor": "white",
             "minorgridcolor": "white",
             "startlinecolor": "rgb(36,36,36)"
            },
            "baxis": {
             "endlinecolor": "rgb(36,36,36)",
             "gridcolor": "white",
             "linecolor": "white",
             "minorgridcolor": "white",
             "startlinecolor": "rgb(36,36,36)"
            },
            "type": "carpet"
           }
          ],
          "choropleth": [
           {
            "colorbar": {
             "outlinewidth": 1,
             "tickcolor": "rgb(36,36,36)",
             "ticks": "outside"
            },
            "type": "choropleth"
           }
          ],
          "contour": [
           {
            "colorbar": {
             "outlinewidth": 1,
             "tickcolor": "rgb(36,36,36)",
             "ticks": "outside"
            },
            "colorscale": [
             [
              0,
              "#440154"
             ],
             [
              0.1111111111111111,
              "#482878"
             ],
             [
              0.2222222222222222,
              "#3e4989"
             ],
             [
              0.3333333333333333,
              "#31688e"
             ],
             [
              0.4444444444444444,
              "#26828e"
             ],
             [
              0.5555555555555556,
              "#1f9e89"
             ],
             [
              0.6666666666666666,
              "#35b779"
             ],
             [
              0.7777777777777778,
              "#6ece58"
             ],
             [
              0.8888888888888888,
              "#b5de2b"
             ],
             [
              1,
              "#fde725"
             ]
            ],
            "type": "contour"
           }
          ],
          "contourcarpet": [
           {
            "colorbar": {
             "outlinewidth": 1,
             "tickcolor": "rgb(36,36,36)",
             "ticks": "outside"
            },
            "type": "contourcarpet"
           }
          ],
          "heatmap": [
           {
            "colorbar": {
             "outlinewidth": 1,
             "tickcolor": "rgb(36,36,36)",
             "ticks": "outside"
            },
            "colorscale": [
             [
              0,
              "#440154"
             ],
             [
              0.1111111111111111,
              "#482878"
             ],
             [
              0.2222222222222222,
              "#3e4989"
             ],
             [
              0.3333333333333333,
              "#31688e"
             ],
             [
              0.4444444444444444,
              "#26828e"
             ],
             [
              0.5555555555555556,
              "#1f9e89"
             ],
             [
              0.6666666666666666,
              "#35b779"
             ],
             [
              0.7777777777777778,
              "#6ece58"
             ],
             [
              0.8888888888888888,
              "#b5de2b"
             ],
             [
              1,
              "#fde725"
             ]
            ],
            "type": "heatmap"
           }
          ],
          "heatmapgl": [
           {
            "colorbar": {
             "outlinewidth": 1,
             "tickcolor": "rgb(36,36,36)",
             "ticks": "outside"
            },
            "colorscale": [
             [
              0,
              "#440154"
             ],
             [
              0.1111111111111111,
              "#482878"
             ],
             [
              0.2222222222222222,
              "#3e4989"
             ],
             [
              0.3333333333333333,
              "#31688e"
             ],
             [
              0.4444444444444444,
              "#26828e"
             ],
             [
              0.5555555555555556,
              "#1f9e89"
             ],
             [
              0.6666666666666666,
              "#35b779"
             ],
             [
              0.7777777777777778,
              "#6ece58"
             ],
             [
              0.8888888888888888,
              "#b5de2b"
             ],
             [
              1,
              "#fde725"
             ]
            ],
            "type": "heatmapgl"
           }
          ],
          "histogram": [
           {
            "marker": {
             "line": {
              "color": "white",
              "width": 0.6
             }
            },
            "type": "histogram"
           }
          ],
          "histogram2d": [
           {
            "colorbar": {
             "outlinewidth": 1,
             "tickcolor": "rgb(36,36,36)",
             "ticks": "outside"
            },
            "colorscale": [
             [
              0,
              "#440154"
             ],
             [
              0.1111111111111111,
              "#482878"
             ],
             [
              0.2222222222222222,
              "#3e4989"
             ],
             [
              0.3333333333333333,
              "#31688e"
             ],
             [
              0.4444444444444444,
              "#26828e"
             ],
             [
              0.5555555555555556,
              "#1f9e89"
             ],
             [
              0.6666666666666666,
              "#35b779"
             ],
             [
              0.7777777777777778,
              "#6ece58"
             ],
             [
              0.8888888888888888,
              "#b5de2b"
             ],
             [
              1,
              "#fde725"
             ]
            ],
            "type": "histogram2d"
           }
          ],
          "histogram2dcontour": [
           {
            "colorbar": {
             "outlinewidth": 1,
             "tickcolor": "rgb(36,36,36)",
             "ticks": "outside"
            },
            "colorscale": [
             [
              0,
              "#440154"
             ],
             [
              0.1111111111111111,
              "#482878"
             ],
             [
              0.2222222222222222,
              "#3e4989"
             ],
             [
              0.3333333333333333,
              "#31688e"
             ],
             [
              0.4444444444444444,
              "#26828e"
             ],
             [
              0.5555555555555556,
              "#1f9e89"
             ],
             [
              0.6666666666666666,
              "#35b779"
             ],
             [
              0.7777777777777778,
              "#6ece58"
             ],
             [
              0.8888888888888888,
              "#b5de2b"
             ],
             [
              1,
              "#fde725"
             ]
            ],
            "type": "histogram2dcontour"
           }
          ],
          "mesh3d": [
           {
            "colorbar": {
             "outlinewidth": 1,
             "tickcolor": "rgb(36,36,36)",
             "ticks": "outside"
            },
            "type": "mesh3d"
           }
          ],
          "parcoords": [
           {
            "line": {
             "colorbar": {
              "outlinewidth": 1,
              "tickcolor": "rgb(36,36,36)",
              "ticks": "outside"
             }
            },
            "type": "parcoords"
           }
          ],
          "pie": [
           {
            "automargin": true,
            "type": "pie"
           }
          ],
          "scatter": [
           {
            "marker": {
             "colorbar": {
              "outlinewidth": 1,
              "tickcolor": "rgb(36,36,36)",
              "ticks": "outside"
             }
            },
            "type": "scatter"
           }
          ],
          "scatter3d": [
           {
            "line": {
             "colorbar": {
              "outlinewidth": 1,
              "tickcolor": "rgb(36,36,36)",
              "ticks": "outside"
             }
            },
            "marker": {
             "colorbar": {
              "outlinewidth": 1,
              "tickcolor": "rgb(36,36,36)",
              "ticks": "outside"
             }
            },
            "type": "scatter3d"
           }
          ],
          "scattercarpet": [
           {
            "marker": {
             "colorbar": {
              "outlinewidth": 1,
              "tickcolor": "rgb(36,36,36)",
              "ticks": "outside"
             }
            },
            "type": "scattercarpet"
           }
          ],
          "scattergeo": [
           {
            "marker": {
             "colorbar": {
              "outlinewidth": 1,
              "tickcolor": "rgb(36,36,36)",
              "ticks": "outside"
             }
            },
            "type": "scattergeo"
           }
          ],
          "scattergl": [
           {
            "marker": {
             "colorbar": {
              "outlinewidth": 1,
              "tickcolor": "rgb(36,36,36)",
              "ticks": "outside"
             }
            },
            "type": "scattergl"
           }
          ],
          "scattermapbox": [
           {
            "marker": {
             "colorbar": {
              "outlinewidth": 1,
              "tickcolor": "rgb(36,36,36)",
              "ticks": "outside"
             }
            },
            "type": "scattermapbox"
           }
          ],
          "scatterpolar": [
           {
            "marker": {
             "colorbar": {
              "outlinewidth": 1,
              "tickcolor": "rgb(36,36,36)",
              "ticks": "outside"
             }
            },
            "type": "scatterpolar"
           }
          ],
          "scatterpolargl": [
           {
            "marker": {
             "colorbar": {
              "outlinewidth": 1,
              "tickcolor": "rgb(36,36,36)",
              "ticks": "outside"
             }
            },
            "type": "scatterpolargl"
           }
          ],
          "scatterternary": [
           {
            "marker": {
             "colorbar": {
              "outlinewidth": 1,
              "tickcolor": "rgb(36,36,36)",
              "ticks": "outside"
             }
            },
            "type": "scatterternary"
           }
          ],
          "surface": [
           {
            "colorbar": {
             "outlinewidth": 1,
             "tickcolor": "rgb(36,36,36)",
             "ticks": "outside"
            },
            "colorscale": [
             [
              0,
              "#440154"
             ],
             [
              0.1111111111111111,
              "#482878"
             ],
             [
              0.2222222222222222,
              "#3e4989"
             ],
             [
              0.3333333333333333,
              "#31688e"
             ],
             [
              0.4444444444444444,
              "#26828e"
             ],
             [
              0.5555555555555556,
              "#1f9e89"
             ],
             [
              0.6666666666666666,
              "#35b779"
             ],
             [
              0.7777777777777778,
              "#6ece58"
             ],
             [
              0.8888888888888888,
              "#b5de2b"
             ],
             [
              1,
              "#fde725"
             ]
            ],
            "type": "surface"
           }
          ],
          "table": [
           {
            "cells": {
             "fill": {
              "color": "rgb(237,237,237)"
             },
             "line": {
              "color": "white"
             }
            },
            "header": {
             "fill": {
              "color": "rgb(217,217,217)"
             },
             "line": {
              "color": "white"
             }
            },
            "type": "table"
           }
          ]
         },
         "layout": {
          "annotationdefaults": {
           "arrowhead": 0,
           "arrowwidth": 1
          },
          "autotypenumbers": "strict",
          "coloraxis": {
           "colorbar": {
            "outlinewidth": 1,
            "tickcolor": "rgb(36,36,36)",
            "ticks": "outside"
           }
          },
          "colorscale": {
           "diverging": [
            [
             0,
             "rgb(103,0,31)"
            ],
            [
             0.1,
             "rgb(178,24,43)"
            ],
            [
             0.2,
             "rgb(214,96,77)"
            ],
            [
             0.3,
             "rgb(244,165,130)"
            ],
            [
             0.4,
             "rgb(253,219,199)"
            ],
            [
             0.5,
             "rgb(247,247,247)"
            ],
            [
             0.6,
             "rgb(209,229,240)"
            ],
            [
             0.7,
             "rgb(146,197,222)"
            ],
            [
             0.8,
             "rgb(67,147,195)"
            ],
            [
             0.9,
             "rgb(33,102,172)"
            ],
            [
             1,
             "rgb(5,48,97)"
            ]
           ],
           "sequential": [
            [
             0,
             "#440154"
            ],
            [
             0.1111111111111111,
             "#482878"
            ],
            [
             0.2222222222222222,
             "#3e4989"
            ],
            [
             0.3333333333333333,
             "#31688e"
            ],
            [
             0.4444444444444444,
             "#26828e"
            ],
            [
             0.5555555555555556,
             "#1f9e89"
            ],
            [
             0.6666666666666666,
             "#35b779"
            ],
            [
             0.7777777777777778,
             "#6ece58"
            ],
            [
             0.8888888888888888,
             "#b5de2b"
            ],
            [
             1,
             "#fde725"
            ]
           ],
           "sequentialminus": [
            [
             0,
             "#440154"
            ],
            [
             0.1111111111111111,
             "#482878"
            ],
            [
             0.2222222222222222,
             "#3e4989"
            ],
            [
             0.3333333333333333,
             "#31688e"
            ],
            [
             0.4444444444444444,
             "#26828e"
            ],
            [
             0.5555555555555556,
             "#1f9e89"
            ],
            [
             0.6666666666666666,
             "#35b779"
            ],
            [
             0.7777777777777778,
             "#6ece58"
            ],
            [
             0.8888888888888888,
             "#b5de2b"
            ],
            [
             1,
             "#fde725"
            ]
           ]
          },
          "colorway": [
           "#1F77B4",
           "#FF7F0E",
           "#2CA02C",
           "#D62728",
           "#9467BD",
           "#8C564B",
           "#E377C2",
           "#7F7F7F",
           "#BCBD22",
           "#17BECF"
          ],
          "font": {
           "color": "rgb(36,36,36)"
          },
          "geo": {
           "bgcolor": "white",
           "lakecolor": "white",
           "landcolor": "white",
           "showlakes": true,
           "showland": true,
           "subunitcolor": "white"
          },
          "hoverlabel": {
           "align": "left"
          },
          "hovermode": "closest",
          "mapbox": {
           "style": "light"
          },
          "paper_bgcolor": "white",
          "plot_bgcolor": "white",
          "polar": {
           "angularaxis": {
            "gridcolor": "rgb(232,232,232)",
            "linecolor": "rgb(36,36,36)",
            "showgrid": false,
            "showline": true,
            "ticks": "outside"
           },
           "bgcolor": "white",
           "radialaxis": {
            "gridcolor": "rgb(232,232,232)",
            "linecolor": "rgb(36,36,36)",
            "showgrid": false,
            "showline": true,
            "ticks": "outside"
           }
          },
          "scene": {
           "xaxis": {
            "backgroundcolor": "white",
            "gridcolor": "rgb(232,232,232)",
            "gridwidth": 2,
            "linecolor": "rgb(36,36,36)",
            "showbackground": true,
            "showgrid": false,
            "showline": true,
            "ticks": "outside",
            "zeroline": false,
            "zerolinecolor": "rgb(36,36,36)"
           },
           "yaxis": {
            "backgroundcolor": "white",
            "gridcolor": "rgb(232,232,232)",
            "gridwidth": 2,
            "linecolor": "rgb(36,36,36)",
            "showbackground": true,
            "showgrid": false,
            "showline": true,
            "ticks": "outside",
            "zeroline": false,
            "zerolinecolor": "rgb(36,36,36)"
           },
           "zaxis": {
            "backgroundcolor": "white",
            "gridcolor": "rgb(232,232,232)",
            "gridwidth": 2,
            "linecolor": "rgb(36,36,36)",
            "showbackground": true,
            "showgrid": false,
            "showline": true,
            "ticks": "outside",
            "zeroline": false,
            "zerolinecolor": "rgb(36,36,36)"
           }
          },
          "shapedefaults": {
           "fillcolor": "black",
           "line": {
            "width": 0
           },
           "opacity": 0.3
          },
          "ternary": {
           "aaxis": {
            "gridcolor": "rgb(232,232,232)",
            "linecolor": "rgb(36,36,36)",
            "showgrid": false,
            "showline": true,
            "ticks": "outside"
           },
           "baxis": {
            "gridcolor": "rgb(232,232,232)",
            "linecolor": "rgb(36,36,36)",
            "showgrid": false,
            "showline": true,
            "ticks": "outside"
           },
           "bgcolor": "white",
           "caxis": {
            "gridcolor": "rgb(232,232,232)",
            "linecolor": "rgb(36,36,36)",
            "showgrid": false,
            "showline": true,
            "ticks": "outside"
           }
          },
          "title": {
           "x": 0.05
          },
          "xaxis": {
           "automargin": true,
           "gridcolor": "rgb(232,232,232)",
           "linecolor": "rgb(36,36,36)",
           "showgrid": false,
           "showline": true,
           "ticks": "outside",
           "title": {
            "standoff": 15
           },
           "zeroline": false,
           "zerolinecolor": "rgb(36,36,36)"
          },
          "yaxis": {
           "automargin": true,
           "gridcolor": "rgb(232,232,232)",
           "linecolor": "rgb(36,36,36)",
           "showgrid": false,
           "showline": true,
           "ticks": "outside",
           "title": {
            "standoff": 15
           },
           "zeroline": false,
           "zerolinecolor": "rgb(36,36,36)"
          }
         }
        },
        "title": {
         "text": "Leave-One-Out Validation"
        },
        "width": 1000,
        "xaxis": {
         "anchor": "y",
         "domain": [
          0,
          1
         ],
         "title": {
          "text": "Measured Inihibition (%)"
         }
        },
        "yaxis": {
         "anchor": "x",
         "domain": [
          0,
          1
         ],
         "title": {
          "text": "ML Predicted Inhibition (%)"
         }
        }
       }
      }
     },
     "metadata": {},
     "output_type": "display_data"
    }
   ],
   "source": [
    "import time\n",
    "\n",
    "merged_df['Inhibition (%)'] = 100 - merged_df['activity']\n",
    "display(merged_df)\n",
    "display(merged_df.query('inhibition == 86.7'))\n",
    "\n",
    "df_without_errors = merged_df.query('`Inhibition (%)` == `Measured Inhibition (%)`')\n",
    "\n",
    "fig = px.scatter(df_without_errors, \n",
    "                 x='Inhibition (%)',\n",
    "                 y='RF Predicted Inhibition (%)',\n",
    "                 color='yield (%)',\n",
    "                 hover_data=['Measured Inhibition (%)'],\n",
    "                 width=1000,\n",
    "                 height=800, \n",
    "                 title='Leave-One-Out Validation',\n",
    "                 labels={\n",
    "                     \"RF Predicted Inhibition (%)\": \"ML Predicted Inhibition (%)\",\n",
    "                     \"Inhibition (%)\": \"Measured Inihibition (%)\",\n",
    "                 },\n",
    "                 template='simple_white',)\n",
    "\n",
    "fig.add_shape(type='line',\n",
    "              x0=0,\n",
    "              y0=0,\n",
    "              x1=100,\n",
    "              y1=100,\n",
    "              line=dict(color='black', dash='dash'),\n",
    "              xref='x',\n",
    "              yref='y',\n",
    "              opacity=1,\n",
    "              line_width=2\n",
    "              )\n",
    "# fig.update_xaxes(showgrid=False)\n",
    "# fig.update_yaxes(showgrid=False)\n",
    "# fig.update_layout(\n",
    "#     title='Leave-One-Out Regression',\n",
    "#     # title=r'$Leave-One-Out Regression (N=300, R^2: , \\rho:)$',\n",
    "#     width=1000,  # size of figure\n",
    "#     height=800,\n",
    "#     xaxis=dict(title=\"Measured Inhibition (%)\"),\n",
    "#     yaxis=dict(title=\"ML Predicted Inhibition (%)\"),\n",
    "#     template='simple_white'\n",
    "# )\n",
    "\n",
    "fig.update_traces(marker={'size': 15})\n",
    "\n",
    "fig.write_image('rf_loo.pdf')\n",
    "time.sleep(2)\n",
    "fig.write_image('rf_loo.pdf')\n",
    "fig.show()\n",
    "# app = molplotly.add_molecules(\n",
    "#     fig=fig, df=df_without_errors, title_col='Molecule Name', smiles_col='smiles', caption_cols=['yield (%)', 'Measured Inhibition (%)'], wrap=True, wraplen=25, width=150)\n",
    "\n",
    "# app.run_server(mode='inline', port=8013, height=650)\n"
   ]
  },
  {
   "cell_type": "code",
   "execution_count": 66,
   "metadata": {},
   "outputs": [
    {
     "data": {
      "application/vnd.plotly.v1+json": {
       "config": {
        "plotlyServerURL": "https://plot.ly"
       },
       "data": [
        {
         "hovertemplate": "Measured Inihibition (%)=%{x}<br>Measured Yield (%)=%{y}<extra></extra>",
         "legendgroup": "",
         "marker": {
          "color": "#1F77B4",
          "symbol": "circle"
         },
         "mode": "markers",
         "name": "",
         "orientation": "v",
         "showlegend": false,
         "type": "scatter",
         "x": [
          48.2,
          90.1,
          90.5,
          16.400000000000006,
          28.900000000000006,
          95.2,
          84.8,
          20.799999999999997,
          74.4,
          85.4,
          75.4,
          73.8,
          84.2,
          76.4,
          86.2,
          75.2,
          15.400000000000006,
          87.3,
          16.799999999999997,
          20.5,
          17.400000000000006,
          20.900000000000006,
          18.299999999999997,
          55.9,
          84.1,
          94.4,
          17.099999999999994,
          60.8,
          26.599999999999994,
          27.799999999999997,
          35.5,
          15.700000000000003,
          41.4,
          12.299999999999997,
          19.099999999999994,
          66.3,
          58.9,
          26.5,
          18.5,
          21.799999999999997,
          75.4,
          72.5,
          54.9,
          80.6,
          80.3,
          30.299999999999997,
          17.900000000000006,
          82.4,
          64.9,
          23.099999999999994,
          19.099999999999994,
          78.4,
          40.5,
          16.400000000000006,
          15,
          16.200000000000003,
          20.200000000000003,
          86.7,
          52.6,
          16.099999999999994,
          16.900000000000006,
          15.5,
          18.400000000000006,
          19.299999999999997,
          17.599999999999994,
          17.700000000000003,
          22.200000000000003,
          17.799999999999997,
          20,
          31.200000000000003,
          21.5,
          38.1,
          81.3,
          18.799999999999997,
          66.4,
          90.5,
          80.9,
          96.4,
          19.5,
          19.400000000000006,
          54,
          20.200000000000003,
          28.5,
          20,
          34.2,
          28,
          69.5,
          50.3,
          59.2,
          52.8,
          58.7,
          88,
          33.5,
          14.099999999999994,
          40.3,
          37.3,
          27.900000000000006,
          22.299999999999997,
          19.599999999999994,
          34.900000000000006,
          21.299999999999997,
          14.299999999999997,
          17.799999999999997,
          20.599999999999994,
          17.700000000000003,
          38,
          83.5,
          13.5,
          18.900000000000006,
          90.1,
          31.299999999999997,
          22.400000000000006,
          36.7,
          33.8,
          88.3,
          15.900000000000006,
          71.7,
          25.5,
          28.599999999999994,
          28.5,
          61.5,
          55.3,
          68.8,
          16.400000000000006,
          36.3,
          79.5,
          25.900000000000006,
          75.2,
          27,
          18,
          13.799999999999997,
          53.8,
          16,
          62.2,
          19.400000000000006,
          16.299999999999997,
          26,
          83,
          58.7,
          20.700000000000003,
          80.2,
          45.6,
          68.7,
          85,
          78.4,
          20.900000000000006,
          17.599999999999994,
          16,
          60.1,
          92,
          49.7,
          41.1,
          24.200000000000003,
          88.3,
          27.5,
          79.8,
          25.599999999999994,
          28.599999999999994,
          17.799999999999997,
          20.299999999999997,
          58.4,
          53,
          22.400000000000006,
          19,
          46.4,
          82.1,
          87.3,
          33.5,
          38.5,
          16.900000000000006,
          77.1,
          20.200000000000003,
          87.6,
          84.7,
          76.2,
          64.9,
          51.6,
          13.5,
          16.700000000000003,
          56.5,
          74.9,
          36.2,
          24.5,
          22.599999999999994,
          35.5,
          91.4,
          20.299999999999997,
          80.2,
          41.2,
          27.599999999999994,
          33.599999999999994,
          19.099999999999994,
          55.7,
          16.5,
          17.400000000000006,
          65.9,
          34.599999999999994,
          15,
          39.2,
          58,
          30.5,
          40.5,
          14.099999999999994,
          52.6,
          94.8,
          21.099999999999994,
          41.1,
          32.2,
          35.400000000000006,
          76.1,
          19.700000000000003,
          32.900000000000006,
          29.900000000000006,
          45.2,
          21.299999999999997,
          79.3,
          15.099999999999994,
          18,
          83.4,
          81.3,
          22.700000000000003,
          29.299999999999997,
          97.4,
          17,
          17.5,
          19.799999999999997,
          17.5,
          23,
          32.5,
          65.1,
          18.5,
          18.099999999999994,
          16.400000000000006,
          20.400000000000006,
          16.200000000000003,
          14.799999999999997,
          19.5,
          19,
          22.299999999999997,
          33.7,
          15.299999999999997,
          91.6,
          33.2,
          65.9,
          21.700000000000003,
          14.799999999999997,
          12.200000000000003,
          14.799999999999997,
          22.900000000000006,
          24.200000000000003,
          22.200000000000003,
          86.8,
          25.900000000000006,
          15.5,
          16.599999999999994,
          18.900000000000006,
          15.200000000000003,
          63.9,
          49.1,
          36.8,
          18.400000000000006,
          20.200000000000003,
          12,
          15.599999999999994,
          20.900000000000006,
          13.799999999999997,
          12.5,
          17.599999999999994,
          16.700000000000003,
          21.799999999999997,
          49.2,
          26.700000000000003,
          22.200000000000003,
          13,
          16.5,
          24.799999999999997,
          15.5,
          28.900000000000006,
          65.2,
          35.599999999999994,
          83.8,
          15.200000000000003,
          19.400000000000006,
          20.299999999999997,
          24.700000000000003,
          31.700000000000003,
          19.299999999999997,
          21,
          21.099999999999994,
          19.900000000000006,
          20.299999999999997,
          18.799999999999997,
          20.200000000000003,
          12.599999999999994,
          24.299999999999997,
          15.5,
          23.5,
          75.4,
          34.5,
          27.700000000000003
         ],
         "xaxis": "x",
         "y": [
          96,
          100,
          93,
          0,
          0,
          82,
          85,
          0,
          70,
          98,
          96,
          98,
          100,
          94,
          98,
          14,
          100,
          0,
          0,
          0,
          0,
          0,
          0,
          100,
          0,
          100,
          96,
          100,
          0,
          45,
          92,
          0,
          89,
          0,
          0,
          100,
          0,
          0,
          0,
          22,
          94,
          18,
          0,
          93,
          72,
          100,
          0,
          0,
          0,
          94,
          85,
          2,
          90,
          0,
          0,
          100,
          0,
          0,
          0,
          0,
          0,
          0,
          0,
          0,
          31,
          0,
          95,
          1,
          0,
          89,
          0,
          93,
          100,
          0,
          77,
          89,
          92,
          73,
          41,
          0,
          76,
          2,
          66,
          67,
          54,
          0,
          64,
          100,
          0,
          100,
          83,
          52,
          65,
          0,
          22,
          100,
          100,
          0,
          0,
          5,
          0,
          0,
          0,
          0,
          0,
          49,
          36,
          0,
          0,
          81,
          0,
          84,
          61,
          100,
          100,
          0,
          46,
          10,
          25,
          100,
          0,
          0,
          18,
          0,
          0,
          100,
          4,
          98,
          0,
          0,
          0,
          88,
          24,
          36,
          0,
          0,
          100,
          93,
          59,
          0,
          25,
          61,
          43,
          94,
          100,
          0,
          0,
          0,
          49,
          100,
          61,
          36,
          0,
          94,
          21,
          30,
          0,
          36,
          7,
          45,
          86,
          67,
          0,
          68,
          43,
          100,
          91,
          39,
          32,
          32,
          76,
          35,
          95,
          100,
          100,
          50,
          67,
          0,
          0,
          90,
          80,
          18,
          11,
          64,
          93,
          88,
          100,
          100,
          22,
          96,
          71,
          0,
          0,
          0,
          41,
          100,
          42,
          0,
          88,
          66,
          0,
          96,
          75,
          39,
          96,
          0,
          93,
          97,
          97,
          98,
          0,
          37,
          20,
          43,
          0,
          71,
          0,
          0,
          100,
          35,
          0,
          100,
          100,
          0,
          0,
          0,
          0,
          96,
          98,
          100,
          0,
          0,
          0,
          32,
          0,
          0,
          0,
          0,
          0,
          0,
          10,
          91,
          100,
          6,
          63,
          75,
          0,
          0,
          93,
          33,
          5,
          42,
          100,
          0,
          0,
          0,
          0,
          77,
          42,
          24,
          0,
          76,
          85,
          77,
          0,
          0,
          74,
          0,
          34,
          0,
          0,
          0,
          18,
          0,
          0,
          0,
          0,
          0,
          95,
          66,
          68,
          79,
          0,
          5,
          0,
          32,
          4,
          0,
          42,
          3,
          0,
          0,
          0,
          0,
          87,
          0,
          100,
          98,
          100,
          88
         ],
         "yaxis": "y"
        },
        {
         "alignmentgroup": "True",
         "bingroup": "x",
         "hovertemplate": "Measured Inihibition (%)=%{x}<br>count=%{y}<extra></extra>",
         "legendgroup": "",
         "marker": {
          "color": "#1F77B4"
         },
         "name": "",
         "offsetgroup": "",
         "opacity": 0.5,
         "showlegend": false,
         "type": "histogram",
         "x": [
          48.2,
          90.1,
          90.5,
          16.400000000000006,
          28.900000000000006,
          95.2,
          84.8,
          20.799999999999997,
          74.4,
          85.4,
          75.4,
          73.8,
          84.2,
          76.4,
          86.2,
          75.2,
          15.400000000000006,
          87.3,
          16.799999999999997,
          20.5,
          17.400000000000006,
          20.900000000000006,
          18.299999999999997,
          55.9,
          84.1,
          94.4,
          17.099999999999994,
          60.8,
          26.599999999999994,
          27.799999999999997,
          35.5,
          15.700000000000003,
          41.4,
          12.299999999999997,
          19.099999999999994,
          66.3,
          58.9,
          26.5,
          18.5,
          21.799999999999997,
          75.4,
          72.5,
          54.9,
          80.6,
          80.3,
          30.299999999999997,
          17.900000000000006,
          82.4,
          64.9,
          23.099999999999994,
          19.099999999999994,
          78.4,
          40.5,
          16.400000000000006,
          15,
          16.200000000000003,
          20.200000000000003,
          86.7,
          52.6,
          16.099999999999994,
          16.900000000000006,
          15.5,
          18.400000000000006,
          19.299999999999997,
          17.599999999999994,
          17.700000000000003,
          22.200000000000003,
          17.799999999999997,
          20,
          31.200000000000003,
          21.5,
          38.1,
          81.3,
          18.799999999999997,
          66.4,
          90.5,
          80.9,
          96.4,
          19.5,
          19.400000000000006,
          54,
          20.200000000000003,
          28.5,
          20,
          34.2,
          28,
          69.5,
          50.3,
          59.2,
          52.8,
          58.7,
          88,
          33.5,
          14.099999999999994,
          40.3,
          37.3,
          27.900000000000006,
          22.299999999999997,
          19.599999999999994,
          34.900000000000006,
          21.299999999999997,
          14.299999999999997,
          17.799999999999997,
          20.599999999999994,
          17.700000000000003,
          38,
          83.5,
          13.5,
          18.900000000000006,
          90.1,
          31.299999999999997,
          22.400000000000006,
          36.7,
          33.8,
          88.3,
          15.900000000000006,
          71.7,
          25.5,
          28.599999999999994,
          28.5,
          61.5,
          55.3,
          68.8,
          16.400000000000006,
          36.3,
          79.5,
          25.900000000000006,
          75.2,
          27,
          18,
          13.799999999999997,
          53.8,
          16,
          62.2,
          19.400000000000006,
          16.299999999999997,
          26,
          83,
          58.7,
          20.700000000000003,
          80.2,
          45.6,
          68.7,
          85,
          78.4,
          20.900000000000006,
          17.599999999999994,
          16,
          60.1,
          92,
          49.7,
          41.1,
          24.200000000000003,
          88.3,
          27.5,
          79.8,
          25.599999999999994,
          28.599999999999994,
          17.799999999999997,
          20.299999999999997,
          58.4,
          53,
          22.400000000000006,
          19,
          46.4,
          82.1,
          87.3,
          33.5,
          38.5,
          16.900000000000006,
          77.1,
          20.200000000000003,
          87.6,
          84.7,
          76.2,
          64.9,
          51.6,
          13.5,
          16.700000000000003,
          56.5,
          74.9,
          36.2,
          24.5,
          22.599999999999994,
          35.5,
          91.4,
          20.299999999999997,
          80.2,
          41.2,
          27.599999999999994,
          33.599999999999994,
          19.099999999999994,
          55.7,
          16.5,
          17.400000000000006,
          65.9,
          34.599999999999994,
          15,
          39.2,
          58,
          30.5,
          40.5,
          14.099999999999994,
          52.6,
          94.8,
          21.099999999999994,
          41.1,
          32.2,
          35.400000000000006,
          76.1,
          19.700000000000003,
          32.900000000000006,
          29.900000000000006,
          45.2,
          21.299999999999997,
          79.3,
          15.099999999999994,
          18,
          83.4,
          81.3,
          22.700000000000003,
          29.299999999999997,
          97.4,
          17,
          17.5,
          19.799999999999997,
          17.5,
          23,
          32.5,
          65.1,
          18.5,
          18.099999999999994,
          16.400000000000006,
          20.400000000000006,
          16.200000000000003,
          14.799999999999997,
          19.5,
          19,
          22.299999999999997,
          33.7,
          15.299999999999997,
          91.6,
          33.2,
          65.9,
          21.700000000000003,
          14.799999999999997,
          12.200000000000003,
          14.799999999999997,
          22.900000000000006,
          24.200000000000003,
          22.200000000000003,
          86.8,
          25.900000000000006,
          15.5,
          16.599999999999994,
          18.900000000000006,
          15.200000000000003,
          63.9,
          49.1,
          36.8,
          18.400000000000006,
          20.200000000000003,
          12,
          15.599999999999994,
          20.900000000000006,
          13.799999999999997,
          12.5,
          17.599999999999994,
          16.700000000000003,
          21.799999999999997,
          49.2,
          26.700000000000003,
          22.200000000000003,
          13,
          16.5,
          24.799999999999997,
          15.5,
          28.900000000000006,
          65.2,
          35.599999999999994,
          83.8,
          15.200000000000003,
          19.400000000000006,
          20.299999999999997,
          24.700000000000003,
          31.700000000000003,
          19.299999999999997,
          21,
          21.099999999999994,
          19.900000000000006,
          20.299999999999997,
          18.799999999999997,
          20.200000000000003,
          12.599999999999994,
          24.299999999999997,
          15.5,
          23.5,
          75.4,
          34.5,
          27.700000000000003
         ],
         "xaxis": "x3",
         "yaxis": "y3"
        },
        {
         "alignmentgroup": "True",
         "bingroup": "y",
         "hovertemplate": "Measured Yield (%)=%{y}<br>count=%{x}<extra></extra>",
         "legendgroup": "",
         "marker": {
          "color": "#1F77B4"
         },
         "name": "",
         "offsetgroup": "",
         "opacity": 0.5,
         "showlegend": false,
         "type": "histogram",
         "xaxis": "x2",
         "y": [
          96,
          100,
          93,
          0,
          0,
          82,
          85,
          0,
          70,
          98,
          96,
          98,
          100,
          94,
          98,
          14,
          100,
          0,
          0,
          0,
          0,
          0,
          0,
          100,
          0,
          100,
          96,
          100,
          0,
          45,
          92,
          0,
          89,
          0,
          0,
          100,
          0,
          0,
          0,
          22,
          94,
          18,
          0,
          93,
          72,
          100,
          0,
          0,
          0,
          94,
          85,
          2,
          90,
          0,
          0,
          100,
          0,
          0,
          0,
          0,
          0,
          0,
          0,
          0,
          31,
          0,
          95,
          1,
          0,
          89,
          0,
          93,
          100,
          0,
          77,
          89,
          92,
          73,
          41,
          0,
          76,
          2,
          66,
          67,
          54,
          0,
          64,
          100,
          0,
          100,
          83,
          52,
          65,
          0,
          22,
          100,
          100,
          0,
          0,
          5,
          0,
          0,
          0,
          0,
          0,
          49,
          36,
          0,
          0,
          81,
          0,
          84,
          61,
          100,
          100,
          0,
          46,
          10,
          25,
          100,
          0,
          0,
          18,
          0,
          0,
          100,
          4,
          98,
          0,
          0,
          0,
          88,
          24,
          36,
          0,
          0,
          100,
          93,
          59,
          0,
          25,
          61,
          43,
          94,
          100,
          0,
          0,
          0,
          49,
          100,
          61,
          36,
          0,
          94,
          21,
          30,
          0,
          36,
          7,
          45,
          86,
          67,
          0,
          68,
          43,
          100,
          91,
          39,
          32,
          32,
          76,
          35,
          95,
          100,
          100,
          50,
          67,
          0,
          0,
          90,
          80,
          18,
          11,
          64,
          93,
          88,
          100,
          100,
          22,
          96,
          71,
          0,
          0,
          0,
          41,
          100,
          42,
          0,
          88,
          66,
          0,
          96,
          75,
          39,
          96,
          0,
          93,
          97,
          97,
          98,
          0,
          37,
          20,
          43,
          0,
          71,
          0,
          0,
          100,
          35,
          0,
          100,
          100,
          0,
          0,
          0,
          0,
          96,
          98,
          100,
          0,
          0,
          0,
          32,
          0,
          0,
          0,
          0,
          0,
          0,
          10,
          91,
          100,
          6,
          63,
          75,
          0,
          0,
          93,
          33,
          5,
          42,
          100,
          0,
          0,
          0,
          0,
          77,
          42,
          24,
          0,
          76,
          85,
          77,
          0,
          0,
          74,
          0,
          34,
          0,
          0,
          0,
          18,
          0,
          0,
          0,
          0,
          0,
          95,
          66,
          68,
          79,
          0,
          5,
          0,
          32,
          4,
          0,
          42,
          3,
          0,
          0,
          0,
          0,
          87,
          0,
          100,
          98,
          100,
          88
         ],
         "yaxis": "y2"
        }
       ],
       "layout": {
        "barmode": "overlay",
        "height": 800,
        "legend": {
         "tracegroupgap": 0
        },
        "template": {
         "data": {
          "bar": [
           {
            "error_x": {
             "color": "rgb(36,36,36)"
            },
            "error_y": {
             "color": "rgb(36,36,36)"
            },
            "marker": {
             "line": {
              "color": "white",
              "width": 0.5
             },
             "pattern": {
              "fillmode": "overlay",
              "size": 10,
              "solidity": 0.2
             }
            },
            "type": "bar"
           }
          ],
          "barpolar": [
           {
            "marker": {
             "line": {
              "color": "white",
              "width": 0.5
             },
             "pattern": {
              "fillmode": "overlay",
              "size": 10,
              "solidity": 0.2
             }
            },
            "type": "barpolar"
           }
          ],
          "carpet": [
           {
            "aaxis": {
             "endlinecolor": "rgb(36,36,36)",
             "gridcolor": "white",
             "linecolor": "white",
             "minorgridcolor": "white",
             "startlinecolor": "rgb(36,36,36)"
            },
            "baxis": {
             "endlinecolor": "rgb(36,36,36)",
             "gridcolor": "white",
             "linecolor": "white",
             "minorgridcolor": "white",
             "startlinecolor": "rgb(36,36,36)"
            },
            "type": "carpet"
           }
          ],
          "choropleth": [
           {
            "colorbar": {
             "outlinewidth": 1,
             "tickcolor": "rgb(36,36,36)",
             "ticks": "outside"
            },
            "type": "choropleth"
           }
          ],
          "contour": [
           {
            "colorbar": {
             "outlinewidth": 1,
             "tickcolor": "rgb(36,36,36)",
             "ticks": "outside"
            },
            "colorscale": [
             [
              0,
              "#440154"
             ],
             [
              0.1111111111111111,
              "#482878"
             ],
             [
              0.2222222222222222,
              "#3e4989"
             ],
             [
              0.3333333333333333,
              "#31688e"
             ],
             [
              0.4444444444444444,
              "#26828e"
             ],
             [
              0.5555555555555556,
              "#1f9e89"
             ],
             [
              0.6666666666666666,
              "#35b779"
             ],
             [
              0.7777777777777778,
              "#6ece58"
             ],
             [
              0.8888888888888888,
              "#b5de2b"
             ],
             [
              1,
              "#fde725"
             ]
            ],
            "type": "contour"
           }
          ],
          "contourcarpet": [
           {
            "colorbar": {
             "outlinewidth": 1,
             "tickcolor": "rgb(36,36,36)",
             "ticks": "outside"
            },
            "type": "contourcarpet"
           }
          ],
          "heatmap": [
           {
            "colorbar": {
             "outlinewidth": 1,
             "tickcolor": "rgb(36,36,36)",
             "ticks": "outside"
            },
            "colorscale": [
             [
              0,
              "#440154"
             ],
             [
              0.1111111111111111,
              "#482878"
             ],
             [
              0.2222222222222222,
              "#3e4989"
             ],
             [
              0.3333333333333333,
              "#31688e"
             ],
             [
              0.4444444444444444,
              "#26828e"
             ],
             [
              0.5555555555555556,
              "#1f9e89"
             ],
             [
              0.6666666666666666,
              "#35b779"
             ],
             [
              0.7777777777777778,
              "#6ece58"
             ],
             [
              0.8888888888888888,
              "#b5de2b"
             ],
             [
              1,
              "#fde725"
             ]
            ],
            "type": "heatmap"
           }
          ],
          "heatmapgl": [
           {
            "colorbar": {
             "outlinewidth": 1,
             "tickcolor": "rgb(36,36,36)",
             "ticks": "outside"
            },
            "colorscale": [
             [
              0,
              "#440154"
             ],
             [
              0.1111111111111111,
              "#482878"
             ],
             [
              0.2222222222222222,
              "#3e4989"
             ],
             [
              0.3333333333333333,
              "#31688e"
             ],
             [
              0.4444444444444444,
              "#26828e"
             ],
             [
              0.5555555555555556,
              "#1f9e89"
             ],
             [
              0.6666666666666666,
              "#35b779"
             ],
             [
              0.7777777777777778,
              "#6ece58"
             ],
             [
              0.8888888888888888,
              "#b5de2b"
             ],
             [
              1,
              "#fde725"
             ]
            ],
            "type": "heatmapgl"
           }
          ],
          "histogram": [
           {
            "marker": {
             "line": {
              "color": "white",
              "width": 0.6
             }
            },
            "type": "histogram"
           }
          ],
          "histogram2d": [
           {
            "colorbar": {
             "outlinewidth": 1,
             "tickcolor": "rgb(36,36,36)",
             "ticks": "outside"
            },
            "colorscale": [
             [
              0,
              "#440154"
             ],
             [
              0.1111111111111111,
              "#482878"
             ],
             [
              0.2222222222222222,
              "#3e4989"
             ],
             [
              0.3333333333333333,
              "#31688e"
             ],
             [
              0.4444444444444444,
              "#26828e"
             ],
             [
              0.5555555555555556,
              "#1f9e89"
             ],
             [
              0.6666666666666666,
              "#35b779"
             ],
             [
              0.7777777777777778,
              "#6ece58"
             ],
             [
              0.8888888888888888,
              "#b5de2b"
             ],
             [
              1,
              "#fde725"
             ]
            ],
            "type": "histogram2d"
           }
          ],
          "histogram2dcontour": [
           {
            "colorbar": {
             "outlinewidth": 1,
             "tickcolor": "rgb(36,36,36)",
             "ticks": "outside"
            },
            "colorscale": [
             [
              0,
              "#440154"
             ],
             [
              0.1111111111111111,
              "#482878"
             ],
             [
              0.2222222222222222,
              "#3e4989"
             ],
             [
              0.3333333333333333,
              "#31688e"
             ],
             [
              0.4444444444444444,
              "#26828e"
             ],
             [
              0.5555555555555556,
              "#1f9e89"
             ],
             [
              0.6666666666666666,
              "#35b779"
             ],
             [
              0.7777777777777778,
              "#6ece58"
             ],
             [
              0.8888888888888888,
              "#b5de2b"
             ],
             [
              1,
              "#fde725"
             ]
            ],
            "type": "histogram2dcontour"
           }
          ],
          "mesh3d": [
           {
            "colorbar": {
             "outlinewidth": 1,
             "tickcolor": "rgb(36,36,36)",
             "ticks": "outside"
            },
            "type": "mesh3d"
           }
          ],
          "parcoords": [
           {
            "line": {
             "colorbar": {
              "outlinewidth": 1,
              "tickcolor": "rgb(36,36,36)",
              "ticks": "outside"
             }
            },
            "type": "parcoords"
           }
          ],
          "pie": [
           {
            "automargin": true,
            "type": "pie"
           }
          ],
          "scatter": [
           {
            "marker": {
             "colorbar": {
              "outlinewidth": 1,
              "tickcolor": "rgb(36,36,36)",
              "ticks": "outside"
             }
            },
            "type": "scatter"
           }
          ],
          "scatter3d": [
           {
            "line": {
             "colorbar": {
              "outlinewidth": 1,
              "tickcolor": "rgb(36,36,36)",
              "ticks": "outside"
             }
            },
            "marker": {
             "colorbar": {
              "outlinewidth": 1,
              "tickcolor": "rgb(36,36,36)",
              "ticks": "outside"
             }
            },
            "type": "scatter3d"
           }
          ],
          "scattercarpet": [
           {
            "marker": {
             "colorbar": {
              "outlinewidth": 1,
              "tickcolor": "rgb(36,36,36)",
              "ticks": "outside"
             }
            },
            "type": "scattercarpet"
           }
          ],
          "scattergeo": [
           {
            "marker": {
             "colorbar": {
              "outlinewidth": 1,
              "tickcolor": "rgb(36,36,36)",
              "ticks": "outside"
             }
            },
            "type": "scattergeo"
           }
          ],
          "scattergl": [
           {
            "marker": {
             "colorbar": {
              "outlinewidth": 1,
              "tickcolor": "rgb(36,36,36)",
              "ticks": "outside"
             }
            },
            "type": "scattergl"
           }
          ],
          "scattermapbox": [
           {
            "marker": {
             "colorbar": {
              "outlinewidth": 1,
              "tickcolor": "rgb(36,36,36)",
              "ticks": "outside"
             }
            },
            "type": "scattermapbox"
           }
          ],
          "scatterpolar": [
           {
            "marker": {
             "colorbar": {
              "outlinewidth": 1,
              "tickcolor": "rgb(36,36,36)",
              "ticks": "outside"
             }
            },
            "type": "scatterpolar"
           }
          ],
          "scatterpolargl": [
           {
            "marker": {
             "colorbar": {
              "outlinewidth": 1,
              "tickcolor": "rgb(36,36,36)",
              "ticks": "outside"
             }
            },
            "type": "scatterpolargl"
           }
          ],
          "scatterternary": [
           {
            "marker": {
             "colorbar": {
              "outlinewidth": 1,
              "tickcolor": "rgb(36,36,36)",
              "ticks": "outside"
             }
            },
            "type": "scatterternary"
           }
          ],
          "surface": [
           {
            "colorbar": {
             "outlinewidth": 1,
             "tickcolor": "rgb(36,36,36)",
             "ticks": "outside"
            },
            "colorscale": [
             [
              0,
              "#440154"
             ],
             [
              0.1111111111111111,
              "#482878"
             ],
             [
              0.2222222222222222,
              "#3e4989"
             ],
             [
              0.3333333333333333,
              "#31688e"
             ],
             [
              0.4444444444444444,
              "#26828e"
             ],
             [
              0.5555555555555556,
              "#1f9e89"
             ],
             [
              0.6666666666666666,
              "#35b779"
             ],
             [
              0.7777777777777778,
              "#6ece58"
             ],
             [
              0.8888888888888888,
              "#b5de2b"
             ],
             [
              1,
              "#fde725"
             ]
            ],
            "type": "surface"
           }
          ],
          "table": [
           {
            "cells": {
             "fill": {
              "color": "rgb(237,237,237)"
             },
             "line": {
              "color": "white"
             }
            },
            "header": {
             "fill": {
              "color": "rgb(217,217,217)"
             },
             "line": {
              "color": "white"
             }
            },
            "type": "table"
           }
          ]
         },
         "layout": {
          "annotationdefaults": {
           "arrowhead": 0,
           "arrowwidth": 1
          },
          "autotypenumbers": "strict",
          "coloraxis": {
           "colorbar": {
            "outlinewidth": 1,
            "tickcolor": "rgb(36,36,36)",
            "ticks": "outside"
           }
          },
          "colorscale": {
           "diverging": [
            [
             0,
             "rgb(103,0,31)"
            ],
            [
             0.1,
             "rgb(178,24,43)"
            ],
            [
             0.2,
             "rgb(214,96,77)"
            ],
            [
             0.3,
             "rgb(244,165,130)"
            ],
            [
             0.4,
             "rgb(253,219,199)"
            ],
            [
             0.5,
             "rgb(247,247,247)"
            ],
            [
             0.6,
             "rgb(209,229,240)"
            ],
            [
             0.7,
             "rgb(146,197,222)"
            ],
            [
             0.8,
             "rgb(67,147,195)"
            ],
            [
             0.9,
             "rgb(33,102,172)"
            ],
            [
             1,
             "rgb(5,48,97)"
            ]
           ],
           "sequential": [
            [
             0,
             "#440154"
            ],
            [
             0.1111111111111111,
             "#482878"
            ],
            [
             0.2222222222222222,
             "#3e4989"
            ],
            [
             0.3333333333333333,
             "#31688e"
            ],
            [
             0.4444444444444444,
             "#26828e"
            ],
            [
             0.5555555555555556,
             "#1f9e89"
            ],
            [
             0.6666666666666666,
             "#35b779"
            ],
            [
             0.7777777777777778,
             "#6ece58"
            ],
            [
             0.8888888888888888,
             "#b5de2b"
            ],
            [
             1,
             "#fde725"
            ]
           ],
           "sequentialminus": [
            [
             0,
             "#440154"
            ],
            [
             0.1111111111111111,
             "#482878"
            ],
            [
             0.2222222222222222,
             "#3e4989"
            ],
            [
             0.3333333333333333,
             "#31688e"
            ],
            [
             0.4444444444444444,
             "#26828e"
            ],
            [
             0.5555555555555556,
             "#1f9e89"
            ],
            [
             0.6666666666666666,
             "#35b779"
            ],
            [
             0.7777777777777778,
             "#6ece58"
            ],
            [
             0.8888888888888888,
             "#b5de2b"
            ],
            [
             1,
             "#fde725"
            ]
           ]
          },
          "colorway": [
           "#1F77B4",
           "#FF7F0E",
           "#2CA02C",
           "#D62728",
           "#9467BD",
           "#8C564B",
           "#E377C2",
           "#7F7F7F",
           "#BCBD22",
           "#17BECF"
          ],
          "font": {
           "color": "rgb(36,36,36)"
          },
          "geo": {
           "bgcolor": "white",
           "lakecolor": "white",
           "landcolor": "white",
           "showlakes": true,
           "showland": true,
           "subunitcolor": "white"
          },
          "hoverlabel": {
           "align": "left"
          },
          "hovermode": "closest",
          "mapbox": {
           "style": "light"
          },
          "paper_bgcolor": "white",
          "plot_bgcolor": "white",
          "polar": {
           "angularaxis": {
            "gridcolor": "rgb(232,232,232)",
            "linecolor": "rgb(36,36,36)",
            "showgrid": false,
            "showline": true,
            "ticks": "outside"
           },
           "bgcolor": "white",
           "radialaxis": {
            "gridcolor": "rgb(232,232,232)",
            "linecolor": "rgb(36,36,36)",
            "showgrid": false,
            "showline": true,
            "ticks": "outside"
           }
          },
          "scene": {
           "xaxis": {
            "backgroundcolor": "white",
            "gridcolor": "rgb(232,232,232)",
            "gridwidth": 2,
            "linecolor": "rgb(36,36,36)",
            "showbackground": true,
            "showgrid": false,
            "showline": true,
            "ticks": "outside",
            "zeroline": false,
            "zerolinecolor": "rgb(36,36,36)"
           },
           "yaxis": {
            "backgroundcolor": "white",
            "gridcolor": "rgb(232,232,232)",
            "gridwidth": 2,
            "linecolor": "rgb(36,36,36)",
            "showbackground": true,
            "showgrid": false,
            "showline": true,
            "ticks": "outside",
            "zeroline": false,
            "zerolinecolor": "rgb(36,36,36)"
           },
           "zaxis": {
            "backgroundcolor": "white",
            "gridcolor": "rgb(232,232,232)",
            "gridwidth": 2,
            "linecolor": "rgb(36,36,36)",
            "showbackground": true,
            "showgrid": false,
            "showline": true,
            "ticks": "outside",
            "zeroline": false,
            "zerolinecolor": "rgb(36,36,36)"
           }
          },
          "shapedefaults": {
           "fillcolor": "black",
           "line": {
            "width": 0
           },
           "opacity": 0.3
          },
          "ternary": {
           "aaxis": {
            "gridcolor": "rgb(232,232,232)",
            "linecolor": "rgb(36,36,36)",
            "showgrid": false,
            "showline": true,
            "ticks": "outside"
           },
           "baxis": {
            "gridcolor": "rgb(232,232,232)",
            "linecolor": "rgb(36,36,36)",
            "showgrid": false,
            "showline": true,
            "ticks": "outside"
           },
           "bgcolor": "white",
           "caxis": {
            "gridcolor": "rgb(232,232,232)",
            "linecolor": "rgb(36,36,36)",
            "showgrid": false,
            "showline": true,
            "ticks": "outside"
           }
          },
          "title": {
           "x": 0.05
          },
          "xaxis": {
           "automargin": true,
           "gridcolor": "rgb(232,232,232)",
           "linecolor": "rgb(36,36,36)",
           "showgrid": false,
           "showline": true,
           "ticks": "outside",
           "title": {
            "standoff": 15
           },
           "zeroline": false,
           "zerolinecolor": "rgb(36,36,36)"
          },
          "yaxis": {
           "automargin": true,
           "gridcolor": "rgb(232,232,232)",
           "linecolor": "rgb(36,36,36)",
           "showgrid": false,
           "showline": true,
           "ticks": "outside",
           "title": {
            "standoff": 15
           },
           "zeroline": false,
           "zerolinecolor": "rgb(36,36,36)"
          }
         }
        },
        "title": {
         "text": "Measured Yield vs Measured Inhibition"
        },
        "width": 1000,
        "xaxis": {
         "anchor": "y",
         "domain": [
          0,
          0.7363
         ],
         "title": {
          "text": "Measured Inihibition (%)"
         }
        },
        "xaxis2": {
         "anchor": "y2",
         "domain": [
          0.7413,
          1
         ],
         "matches": "x2",
         "showline": false,
         "showticklabels": false,
         "ticks": ""
        },
        "xaxis3": {
         "anchor": "y3",
         "domain": [
          0,
          0.7363
         ],
         "matches": "x",
         "showticklabels": false
        },
        "xaxis4": {
         "anchor": "y4",
         "domain": [
          0.7413,
          1
         ],
         "matches": "x2",
         "showline": false,
         "showticklabels": false,
         "ticks": ""
        },
        "yaxis": {
         "anchor": "x",
         "domain": [
          0,
          0.7326
         ],
         "title": {
          "text": "Measured Yield (%)"
         }
        },
        "yaxis2": {
         "anchor": "x2",
         "domain": [
          0,
          0.7326
         ],
         "matches": "y",
         "showticklabels": false
        },
        "yaxis3": {
         "anchor": "x3",
         "domain": [
          0.7426,
          1
         ],
         "matches": "y3",
         "showline": false,
         "showticklabels": false,
         "ticks": ""
        },
        "yaxis4": {
         "anchor": "x4",
         "domain": [
          0.7426,
          1
         ],
         "matches": "y3",
         "showline": false,
         "showticklabels": false,
         "ticks": ""
        }
       }
      }
     },
     "metadata": {},
     "output_type": "display_data"
    }
   ],
   "source": [
    "import time\n",
    "\n",
    "fig = px.scatter(merged_df,\n",
    "                 x='Inhibition (%)',\n",
    "                 y='yield (%)',\n",
    "                 width=1000,\n",
    "                 height=800,\n",
    "                 title='Measured Yield vs Measured Inhibition',\n",
    "                labels={\n",
    "                    \"yield (%)\": \"Measured Yield (%)\",\n",
    "                    \"Inhibition (%)\": \"Measured Inihibition (%)\",\n",
    "                },\n",
    "                 marginal_x='histogram',\n",
    "                 marginal_y='histogram',\n",
    "                 template='simple_white',)\n",
    "# fig.update_layout(\n",
    "#     plot_bgcolor=\"white\",\n",
    "#     xaxis=dict(linecolor=\"black\"),\n",
    "#     yaxis=dict(linecolor=\"black\")\n",
    "#     template='simple_white'\n",
    "#     )\n",
    "# fig.update_xaxes(ticks=\"outside\")\n",
    "# fig.update_trace(marker={'size': 15})\n",
    "# fig.update_yaxes(ticks=\"outside\")\n",
    "fig.write_image('yield_vs_activity.pdf')\n",
    "time.sleep(2)\n",
    "fig.write_image('yield_vs_activity.pdf')\n",
    "fig.show()\n",
    "# app = molplotly.add_molecules(\n",
    "#     fig=fig, df=merged_df, title_col='Molecule Name', smiles_col='smiles', wrap=True, wraplen=25, width=150)\n",
    "\n",
    "# app.run_server(mode='inline', port=8043, height=650)\n"
   ]
  },
  {
   "cell_type": "code",
   "execution_count": 11,
   "metadata": {},
   "outputs": [
    {
     "data": {
      "text/plain": [
       "SpearmanrResult(correlation=0.5719636192796742, pvalue=1.839600982965949e-27)"
      ]
     },
     "execution_count": 11,
     "metadata": {},
     "output_type": "execute_result"
    }
   ],
   "source": [
    "from scipy.stats import spearmanr\n",
    "spearmanr(merged_df['Inhibition (%)'], merged_df['yield (%)'])\n"
   ]
  },
  {
   "cell_type": "markdown",
   "metadata": {},
   "source": [
    "Check TPs/FPs/FNs"
   ]
  },
  {
   "cell_type": "code",
   "execution_count": 12,
   "metadata": {},
   "outputs": [
    {
     "data": {
      "text/html": [
       "\n",
       "        <iframe\n",
       "            width=\"100%\"\n",
       "            height=\"850\"\n",
       "            src=\"http://127.0.0.1:8020/\"\n",
       "            frameborder=\"0\"\n",
       "            allowfullscreen\n",
       "            \n",
       "        ></iframe>\n",
       "        "
      ],
      "text/plain": [
       "<IPython.lib.display.IFrame at 0x7fc442f09a20>"
      ]
     },
     "metadata": {},
     "output_type": "display_data"
    }
   ],
   "source": [
    "df_tps = pd.read_csv('../data/predictions/true_positives_avg.csv')\n",
    "df_tps['Type'] = 'True Positive'\n",
    "df_fps = pd.read_csv('../data/predictions/false_positives_avg.csv')\n",
    "df_fps['Type'] = 'False Positive'\n",
    "df_fns = pd.read_csv('../data/predictions/false_negatives_avg.csv')\n",
    "df_fns['Type'] = 'False Negative'\n",
    "\n",
    "df_picks = pd.concat([df_tps, df_fps, df_fns]).reset_index()\n",
    "df_picks['smiles'] = df_picks['SMILES'].progress_apply(\n",
    "    canonicalise_and_remove_stereo)\n",
    "df_picks['smiles'] = df_picks['smiles'].progress_apply(replace_substruct)\n",
    "df_picks_with_yields = merged_df.merge(df_picks, on='smiles').reset_index()\n",
    "# display(df_picks_with_yields)\n",
    "\n",
    "fig_picks = px.scatter(df_picks_with_yields, x='Inhibition (%)', y='RF Predicted Inhibition (%)_x', color='yield (%)', width=1000, height=800,\n",
    "                 title='Activity against yield', )\n",
    "\n",
    "app_picks = molplotly.add_molecules(\n",
    "    fig=fig_picks, df=df_picks_with_yields, title_col='Molecule Name_x', smiles_col='smiles', caption_cols=['yield (%)'], wrap=True, wraplen=25, width=150)\n",
    "\n",
    "app_picks.run_server(mode='inline', port=8020, height=850)\n"
   ]
  },
  {
   "cell_type": "code",
   "execution_count": null,
   "metadata": {},
   "outputs": [],
   "source": []
  }
 ],
 "metadata": {
  "interpreter": {
   "hash": "b42c6d3c02a83a6d9abf245c57d771096a6e46f51733ba3bb0b5555987c52882"
  },
  "kernelspec": {
   "display_name": "Python 3.10.0 ('noisy_amide')",
   "language": "python",
   "name": "python3"
  },
  "language_info": {
   "codemirror_mode": {
    "name": "ipython",
    "version": 3
   },
   "file_extension": ".py",
   "mimetype": "text/x-python",
   "name": "python",
   "nbconvert_exporter": "python",
   "pygments_lexer": "ipython3",
   "version": "3.10.0"
  },
  "orig_nbformat": 4
 },
 "nbformat": 4,
 "nbformat_minor": 2
}
