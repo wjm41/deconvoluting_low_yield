{
 "cells": [
  {
   "cell_type": "markdown",
   "metadata": {},
   "source": [
    "# Examine Measurements\n",
    "\n",
    "This notebook is for examining the dose-response measurements for the compounds selected from the direct-to-biology assay, as well as those selected from the enumerated library."
   ]
  },
  {
   "cell_type": "markdown",
   "metadata": {},
   "source": [
    "Load experimental measurements"
   ]
  },
  {
   "cell_type": "code",
   "execution_count": 1,
   "metadata": {},
   "outputs": [
    {
     "data": {
      "text/plain": [
       "'FC(F)(F)C1=CN=C(NC(=O)CN2C[C@H](C(=O)NC3=C4C=CC=CC4=CN=C3)C3=C(C2)C=CC(Cl)=C3)C=C1 |&1:14,c:18,20,22,25,27,30,34,37,40,t:4,6|'"
      ]
     },
     "execution_count": 1,
     "metadata": {},
     "output_type": "execute_result"
    }
   ],
   "source": [
    "import pandas as pd\n",
    "\n",
    "df_cdd = pd.read_excel(\n",
    "    '../data/raw/prospective_measurements.xlsx')\n",
    "df_cdd['IC50'] = df_cdd['Protease_SARS_Cov2_Mpro_fluorescence_dose_response: IC50 (µM)'].astype(str).str.replace(\n",
    "    '< ', '')\n",
    "df_cdd['IC50'] = df_cdd['IC50'].astype(str).str.replace(\n",
    "    '> ', '')\n",
    "df_cdd['IC50'] = df_cdd['IC50'].astype(float)\n",
    "df_cdd['SMILES'] = df_cdd[\"CXSMILES (CDD Compatible)\"].str.replace(\n",
    "    ' .*', '')\n",
    "df_cdd.loc[0, 'SMILES']\n"
   ]
  },
  {
   "cell_type": "markdown",
   "metadata": {},
   "source": [
    "Load our predictions"
   ]
  },
  {
   "cell_type": "code",
   "execution_count": 2,
   "metadata": {},
   "outputs": [],
   "source": [
    "df_top20 = pd.read_csv('../data/predictions/top_20.csv')\n",
    "df_false_negatives = pd.read_csv('../data/predictions/false_negatives.csv')\n",
    "df_false_negatives['Average Prediction (%)'] = df_false_negatives[['RF Predicted Inhibition (%)', 'GP Predicted Inhibition (%)']].mean(axis=1)\n",
    "df_best_amides = pd.read_csv('../data/predictions/best_amides.csv')\n",
    "df_best_amides['Average Prediction (%)'] = df_best_amides[[\n",
    "    'Random Forest', 'Gaussian Process']].mean(axis=1)\n",
    "df_best_amides['SMILES'] = df_best_amides['amide']\n",
    "\n",
    "df_false_negatives\n"
   ]
  },
  {
   "cell_type": "markdown",
   "metadata": {},
   "source": [
    "Use morgan fingerprint similarity to connect model predictions to assay measurements"
   ]
  },
  {
   "cell_type": "code",
   "execution_count": 5,
   "metadata": {},
   "outputs": [],
   "source": [
    "import useful_rdkit_utils\n",
    "\n",
    "def gen_fps(df_in):\n",
    "    useful_rdkit_utils.add_molecule_and_errors(\n",
    "        df_in, smiles_col='SMILES', mol_col_name='mol', error_col_name='Error')\n",
    "\n",
    "    df_in['fps'] = [useful_rdkit_utils.mol2morgan_fp(mol) for mol in df_in['mol'].values]\n",
    "    return df_in\n",
    "\n",
    "for df in [df_top20, df_false_negatives, df_best_amides, df_cdd]:\n",
    "    gen_fps(df)"
   ]
  },
  {
   "cell_type": "code",
   "execution_count": 6,
   "metadata": {},
   "outputs": [
    {
     "name": "stdout",
     "output_type": "stream",
     "text": [
      "ID=ASAP-0000362,IC50=0.407uM from Top 20 Crude Compounds, Predicted inhibition = (Average = 20.2%)\n",
      "ID=ASAP-0000256,IC50=99.500uM from False Negative, Predicted inhibition = (Average = 53.8%)\n",
      "ID=ASAP-0000227,IC50=0.076uM from in-silico Predicted Amides, Predicted inhibition = (Average = 87.9%)\n",
      "ID=ASAP-0000227,IC50=0.077uM from in-silico Predicted Amides, Predicted inhibition = (Average = 87.9%)\n",
      "ID=ASAP-0000226,IC50=0.037uM from in-silico Predicted Amides, Predicted inhibition = (Average = 71.6%)\n",
      "ID=ASAP-0000226,IC50=0.046uM from in-silico Predicted Amides, Predicted inhibition = (Average = 71.6%)\n",
      "ID=ASAP-0000226,IC50=0.056uM from in-silico Predicted Amides, Predicted inhibition = (Average = 71.6%)\n",
      "ID=ASAP-0000226,IC50=1.168uM from in-silico Predicted Amides, Predicted inhibition = (Average = 71.6%)\n",
      "ID=ASAP-0000226,IC50=0.057uM from in-silico Predicted Amides, Predicted inhibition = (Average = 71.6%)\n",
      "ID=ASAP-0000225,IC50=0.070uM from Top 20 Crude Compounds, Predicted inhibition = (Average = 72.4%)\n",
      "ID=ASAP-0000225,IC50=0.057uM from Top 20 Crude Compounds, Predicted inhibition = (Average = 72.4%)\n",
      "ID=ASAP-0000224,IC50=0.119uM from Top 20 Crude Compounds, Predicted inhibition = (Average = 70.3%)\n",
      "ID=ASAP-0000224,IC50=0.108uM from Top 20 Crude Compounds, Predicted inhibition = (Average = 70.3%)\n",
      "ID=ASAP-0000223,IC50=0.111uM from in-silico Predicted Amides, Predicted inhibition = (Average = 83.7%)\n",
      "ID=ASAP-0000223,IC50=0.107uM from in-silico Predicted Amides, Predicted inhibition = (Average = 83.7%)\n",
      "ID=ASAP-0000222,IC50=0.083uM from in-silico Predicted Amides, Predicted inhibition = (Average = 86.4%)\n",
      "ID=ASAP-0000222,IC50=0.083uM from in-silico Predicted Amides, Predicted inhibition = (Average = 86.4%)\n",
      "ID=ASAP-0000221,IC50=0.028uM from Top 20 Crude Compounds, Predicted inhibition = (Average = 56.9%)\n",
      "ID=ASAP-0000221,IC50=0.050uM from Top 20 Crude Compounds, Predicted inhibition = (Average = 56.9%)\n",
      "ID=ASAP-0000220,IC50=0.083uM from in-silico Predicted Amides, Predicted inhibition = (Average = 85.2%)\n",
      "ID=ASAP-0000220,IC50=0.083uM from in-silico Predicted Amides, Predicted inhibition = (Average = 85.2%)\n",
      "ID=ASAP-0000219,IC50=0.034uM from in-silico Predicted Amides, Predicted inhibition = (Average = 84.2%)\n",
      "ID=ASAP-0000219,IC50=0.046uM from in-silico Predicted Amides, Predicted inhibition = (Average = 84.2%)\n",
      "ID=ASAP-0000219,IC50=0.068uM from in-silico Predicted Amides, Predicted inhibition = (Average = 84.2%)\n",
      "ID=ASAP-0000219,IC50=0.202uM from in-silico Predicted Amides, Predicted inhibition = (Average = 84.2%)\n",
      "ID=ASAP-0000219,IC50=0.050uM from in-silico Predicted Amides, Predicted inhibition = (Average = 84.2%)\n",
      "ID=ASAP-0000218,IC50=0.091uM from Top 20 Crude Compounds, Predicted inhibition = (Average = 68.7%)\n",
      "ID=ASAP-0000218,IC50=0.073uM from Top 20 Crude Compounds, Predicted inhibition = (Average = 68.7%)\n",
      "ID=ASAP-0000218,IC50=0.263uM from Top 20 Crude Compounds, Predicted inhibition = (Average = 68.7%)\n",
      "ID=ASAP-0000218,IC50=1.568uM from Top 20 Crude Compounds, Predicted inhibition = (Average = 68.7%)\n",
      "ID=ASAP-0000218,IC50=0.075uM from Top 20 Crude Compounds, Predicted inhibition = (Average = 68.7%)\n",
      "ID=ASAP-0000217,IC50=0.124uM from in-silico Predicted Amides, Predicted inhibition = (Average = 86.1%)\n",
      "ID=ASAP-0000217,IC50=0.110uM from in-silico Predicted Amides, Predicted inhibition = (Average = 86.1%)\n",
      "ID=ASAP-0000216,IC50=0.089uM from in-silico Predicted Amides, Predicted inhibition = (Average = 84.4%)\n",
      "ID=ASAP-0000216,IC50=0.077uM from in-silico Predicted Amides, Predicted inhibition = (Average = 84.4%)\n",
      "ID=ASAP-0000215,IC50=0.116uM from in-silico Predicted Amides, Predicted inhibition = (Average = 87.8%)\n",
      "ID=ASAP-0000215,IC50=0.103uM from in-silico Predicted Amides, Predicted inhibition = (Average = 87.8%)\n",
      "ID=ASAP-0000214,IC50=0.067uM from Top 20 Crude Compounds, Predicted inhibition = (Average = 35.8%)\n",
      "ID=ASAP-0000214,IC50=0.057uM from Top 20 Crude Compounds, Predicted inhibition = (Average = 35.8%)\n",
      "ID=ASAP-0000213,IC50=0.083uM from Top 20 Crude Compounds, Predicted inhibition = (Average = 70.1%)\n",
      "ID=ASAP-0000213,IC50=0.071uM from Top 20 Crude Compounds, Predicted inhibition = (Average = 70.1%)\n",
      "ID=ASAP-0000212,IC50=0.115uM from Top 20 Crude Compounds, Predicted inhibition = (Average = 74.2%)\n",
      "ID=ASAP-0000212,IC50=0.105uM from Top 20 Crude Compounds, Predicted inhibition = (Average = 74.2%)\n",
      "ID=ASAP-0000211,IC50=0.050uM from in-silico Predicted Amides, Predicted inhibition = (Average = 83.9%)\n",
      "ID=ASAP-0000211,IC50=0.050uM from in-silico Predicted Amides, Predicted inhibition = (Average = 83.9%)\n",
      "ID=ASAP-0000210,IC50=0.125uM from Top 20 Crude Compounds, Predicted inhibition = (Average = 83.1%)\n",
      "ID=ASAP-0000210,IC50=0.112uM from Top 20 Crude Compounds, Predicted inhibition = (Average = 83.1%)\n",
      "ID=ASAP-0000209,IC50=0.076uM from Top 20 Crude Compounds, Predicted inhibition = (Average = 53.9%)\n",
      "ID=ASAP-0000209,IC50=0.064uM from Top 20 Crude Compounds, Predicted inhibition = (Average = 53.9%)\n",
      "ID=ASAP-0000208,IC50=0.097uM from Top 20 Crude Compounds, Predicted inhibition = (Average = 36.7%)\n",
      "ID=ASAP-0000208,IC50=0.082uM from Top 20 Crude Compounds, Predicted inhibition = (Average = 36.7%)\n",
      "ID=ASAP-0000207,IC50=0.114uM from in-silico Predicted Amides, Predicted inhibition = (Average = 87.1%)\n",
      "ID=ASAP-0000207,IC50=0.096uM from in-silico Predicted Amides, Predicted inhibition = (Average = 87.1%)\n",
      "ID=ASAP-0000206,IC50=0.117uM from Top 20 Crude Compounds, Predicted inhibition = (Average = 24.0%)\n",
      "ID=ASAP-0000206,IC50=0.093uM from Top 20 Crude Compounds, Predicted inhibition = (Average = 24.0%)\n",
      "ID=ASAP-0000205,IC50=0.086uM from Top 20 Crude Compounds, Predicted inhibition = (Average = 76.7%)\n",
      "ID=ASAP-0000205,IC50=0.069uM from Top 20 Crude Compounds, Predicted inhibition = (Average = 76.7%)\n",
      "ID=ASAP-0000204,IC50=0.083uM from False Negative, Predicted inhibition = (Average = 75.7%)\n",
      "ID=ASAP-0000204,IC50=0.078uM from False Negative, Predicted inhibition = (Average = 75.7%)\n",
      "ID=ASAP-0000204,IC50=7.946uM from False Negative, Predicted inhibition = (Average = 75.7%)\n",
      "ID=ASAP-0000204,IC50=9.990uM from False Negative, Predicted inhibition = (Average = 75.7%)\n",
      "ID=ASAP-0000204,IC50=0.178uM from False Negative, Predicted inhibition = (Average = 75.7%)\n",
      "ID=ASAP-0000187,IC50=9.724uM from Top 20 Crude Compounds, Predicted inhibition = (Average = 36.7%)\n",
      "ID=ASAP-0000170,IC50=0.973uM from in-silico Predicted Amides, Predicted inhibition = (Average = 59.2%)\n",
      "ID=ASAP-0000170,IC50=0.711uM from in-silico Predicted Amides, Predicted inhibition = (Average = 59.2%)\n",
      "ID=ASAP-0000169,IC50=0.062uM from in-silico Predicted Amides, Predicted inhibition = (Average = 84.7%)\n",
      "ID=ASAP-0000169,IC50=0.043uM from in-silico Predicted Amides, Predicted inhibition = (Average = 84.7%)\n",
      "ID=ASAP-0000168,IC50=0.072uM from in-silico Predicted Amides, Predicted inhibition = (Average = 83.5%)\n",
      "ID=ASAP-0000168,IC50=0.071uM from in-silico Predicted Amides, Predicted inhibition = (Average = 83.5%)\n",
      "ID=ASAP-0000167,IC50=0.080uM from in-silico Predicted Amides, Predicted inhibition = (Average = 83.4%)\n",
      "ID=ASAP-0000167,IC50=0.073uM from in-silico Predicted Amides, Predicted inhibition = (Average = 83.4%)\n",
      "ID=ASAP-0000166,IC50=1.487uM from in-silico Predicted Amides, Predicted inhibition = (Average = 80.9%)\n",
      "ID=ASAP-0000166,IC50=1.493uM from in-silico Predicted Amides, Predicted inhibition = (Average = 80.9%)\n",
      "ID=ASAP-0000165,IC50=1.007uM from False Negative, Predicted inhibition = (Average = 53.0%)\n",
      "ID=ASAP-0000165,IC50=0.957uM from False Negative, Predicted inhibition = (Average = 53.0%)\n",
      "ID=ASAP-0000164,IC50=0.034uM from Top 20 Crude Compounds, Predicted inhibition = (Average = 52.6%)\n",
      "ID=ASAP-0000164,IC50=0.034uM from Top 20 Crude Compounds, Predicted inhibition = (Average = 52.6%)\n",
      "ID=ASAP-0000163,IC50=0.167uM from in-silico Predicted Amides, Predicted inhibition = (Average = 62.4%)\n",
      "ID=ASAP-0000163,IC50=0.215uM from in-silico Predicted Amides, Predicted inhibition = (Average = 62.4%)\n",
      "ID=ASAP-0000163,IC50=0.209uM from in-silico Predicted Amides, Predicted inhibition = (Average = 62.4%)\n",
      "ID=ASAP-0000163,IC50=0.181uM from in-silico Predicted Amides, Predicted inhibition = (Average = 62.4%)\n",
      "ID=ASAP-0000162,IC50=0.083uM from in-silico Predicted Amides, Predicted inhibition = (Average = 86.5%)\n",
      "ID=ASAP-0000162,IC50=0.095uM from in-silico Predicted Amides, Predicted inhibition = (Average = 86.5%)\n",
      "ID=ASAP-0000162,IC50=0.068uM from in-silico Predicted Amides, Predicted inhibition = (Average = 86.5%)\n",
      "ID=ASAP-0000162,IC50=0.070uM from in-silico Predicted Amides, Predicted inhibition = (Average = 86.5%)\n",
      "ID=ASAP-0000161,IC50=0.077uM from in-silico Predicted Amides, Predicted inhibition = (Average = 84.6%)\n",
      "ID=ASAP-0000161,IC50=0.077uM from in-silico Predicted Amides, Predicted inhibition = (Average = 84.6%)\n",
      "ID=ASAP-0000160,IC50=0.096uM from Top 20 Crude Compounds, Predicted inhibition = (Average = 76.5%)\n",
      "ID=ASAP-0000160,IC50=0.112uM from Top 20 Crude Compounds, Predicted inhibition = (Average = 76.5%)\n",
      "ID=ASAP-0000159,IC50=0.069uM from Top 20 Crude Compounds, Predicted inhibition = (Average = 74.7%)\n",
      "ID=ASAP-0000159,IC50=0.086uM from Top 20 Crude Compounds, Predicted inhibition = (Average = 74.7%)\n",
      "ID=ASAP-0000158,IC50=0.137uM from Top 20 Crude Compounds, Predicted inhibition = (Average = 85.6%)\n",
      "ID=ASAP-0000158,IC50=0.087uM from Top 20 Crude Compounds, Predicted inhibition = (Average = 85.6%)\n",
      "ID=ASAP-0000157,IC50=0.060uM from Top 20 Crude Compounds, Predicted inhibition = (Average = 83.4%)\n",
      "ID=ASAP-0000157,IC50=0.062uM from Top 20 Crude Compounds, Predicted inhibition = (Average = 83.4%)\n",
      "ID=ASAP-0000156,IC50=0.068uM from Top 20 Crude Compounds, Predicted inhibition = (Average = 51.8%)\n",
      "ID=ASAP-0000156,IC50=0.068uM from Top 20 Crude Compounds, Predicted inhibition = (Average = 51.8%)\n",
      "ID=ASAP-0000155,IC50=0.045uM from Top 20 Crude Compounds, Predicted inhibition = (Average = 77.3%)\n",
      "ID=ASAP-0000155,IC50=0.046uM from Top 20 Crude Compounds, Predicted inhibition = (Average = 77.3%)\n",
      "ID=ASAP-0000154,IC50=1.552uM from False Negative, Predicted inhibition = (Average = 59.4%)\n",
      "ID=ASAP-0000154,IC50=1.678uM from False Negative, Predicted inhibition = (Average = 59.4%)\n"
     ]
    }
   ],
   "source": [
    "from rdkit import DataStructs\n",
    "from rdkit.Chem import MolFromSmiles, AllChem\n",
    "from tqdm import tqdm\n",
    "\n",
    "import numpy as np\n",
    "\n",
    "df_top20['Data'] = 'Top 20 Crude Compounds'\n",
    "df_false_negatives['Data'] = 'False Negative'\n",
    "df_best_amides['Data'] = 'in-silico Predicted Amides'\n",
    "df_submitted = pd.concat([df_top20, df_false_negatives, df_best_amides]).reset_index(drop=True)\n",
    "sim_mat = np.empty((len(df_cdd), len(df_submitted)))\n",
    "for i in tqdm(range(len(df_cdd['fps']))):\n",
    "    sim_mat[i] = np.array(\n",
    "        DataStructs.BulkTanimotoSimilarity(df_cdd.loc[i, 'fps'], df_submitted['fps'].values))\n",
    "\n",
    "    similarity = sim_mat[i]\n",
    "    # print(similarity)\n",
    "    if np.max(similarity) > 0.8:\n",
    "        j = np.argmax(similarity)\n",
    "        data_source = df_submitted.loc[j, 'Data']\n",
    "        if data_source == 'Enamine Amide':\n",
    "            print(\n",
    "                f\"ID={df_cdd.loc[i, 'Molecule Name']},IC50={df_cdd.loc[i, 'IC50']:.3f}uM from {data_source}, Predicted inhibition = (GP = {df_submitted.loc[j, 'Gaussian Process']:.1f}% , RF = {df_submitted.loc[j, 'Random Forest']:.1f}%)\")\n",
    "        else:\n",
    "            print(f\"ID={df_cdd.loc[i, 'Molecule Name']},IC50={df_cdd.loc[i, 'IC50']:.3f}uM from {data_source}, Predicted inhibition = (Average = {df_submitted.loc[j, 'Average Prediction (%)']:.1f}%)\")\n",
    "\n",
    "        df_cdd.loc[i, 'Data'] = df_submitted.loc[j, 'Data']\n"
   ]
  },
  {
   "cell_type": "markdown",
   "metadata": {},
   "source": [
    "Take mean of IC50s across multiple dose-response measurements"
   ]
  },
  {
   "cell_type": "code",
   "execution_count": 7,
   "metadata": {},
   "outputs": [],
   "source": [
    "df_ic50 = df_cdd[['Molecule Name', 'IC50']].groupby('Molecule Name').mean()*1000\n",
    "df_ic50['SMILES'] = df_cdd[['Molecule Name', 'SMILES', 'IC50']].groupby('Molecule Name')['SMILES'].first()\n",
    "df_ic50['Data'] = df_cdd[['Molecule Name', 'Data', 'IC50']].groupby('Molecule Name')['Data'].first()"
   ]
  },
  {
   "cell_type": "code",
   "execution_count": 9,
   "metadata": {},
   "outputs": [
    {
     "data": {
      "image/png": "[encoded data removed]",
      "text/plain": [
       "<Figure size 1400x600 with 1 Axes>"
      ]
     },
     "metadata": {},
     "output_type": "display_data"
    }
   ],
   "source": [
    "import seaborn as sns\n",
    "import matplotlib.pyplot as plt\n",
    "\n",
    "# Filtering out 'False Negative'\n",
    "df_filtered = df_ic50.query('Data != \"False Negative\"')\n",
    "\n",
    "# Creating the scatter plot\n",
    "plt.figure(figsize=(14, 6))  # Set the figure size\n",
    "sns.stripplot(data=df_filtered, x='IC50', y='Data', hue='Data')\n",
    "\n",
    "# # Customizing the plot\n",
    "plt.xscale('log')  # Setting log scale for the x-axis\n",
    "plt.xlabel('Mean IC50 (nM)')  # Setting x-axis label\n",
    "plt.ylabel('')  # Setting y-axis label to empty\n",
    "plt.title('Distribution of Bioactivity for Purified Compounds')  # Setting title\n",
    "\n",
    "plt.show()  # Display the plot\n"
   ]
  }
 ],
 "metadata": {
  "kernelspec": {
   "display_name": "Python 3 (ipykernel)",
   "language": "python",
   "name": "python3"
  },
  "language_info": {
   "codemirror_mode": {
    "name": "ipython",
    "version": 3
   },
   "file_extension": ".py",
   "mimetype": "text/x-python",
   "name": "python",
   "nbconvert_exporter": "python",
   "pygments_lexer": "ipython3",
   "version": "3.10.13"
  },
  "orig_nbformat": 4,
  "vscode": {
   "interpreter": {
    "hash": "b42c6d3c02a83a6d9abf245c57d771096a6e46f51733ba3bb0b5555987c52882"
   }
  }
 },
 "nbformat": 4,
 "nbformat_minor": 2
}
