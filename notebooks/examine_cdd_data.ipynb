{
 "cells": [
  {
   "cell_type": "markdown",
   "metadata": {},
   "source": [
    "# Examine CDD data\n",
    "\n",
    "20-08-2022 Check and label activity measurements from Nir to model predictions"
   ]
  },
  {
   "cell_type": "code",
   "execution_count": 1,
   "metadata": {},
   "outputs": [
    {
     "name": "stderr",
     "output_type": "stream",
     "text": [
      "/var/folders/b1/zflg536s6rvg62mcvlc7dnnw0000gn/T/ipykernel_80984/893409672.py:5: FutureWarning: The default value of regex will change from True to False in a future version.\n",
      "  df_cdd['SMILES'] = df_cdd[\"CXSMILES (CDD Compatible)\"].str.replace(' .*', '')\n"
     ]
    },
    {
     "data": {
      "text/plain": [
       "'CC(=O)NC1=CC=C(NC(=O)CN2C[C@H](C(=O)NC3=CN=CC4=CC=CC=C34)C3=CC(Cl)=CC=C3C2)C=C1'"
      ]
     },
     "execution_count": 1,
     "metadata": {},
     "output_type": "execute_result"
    }
   ],
   "source": [
    "import pandas as pd\n",
    "\n",
    "df_cdd = pd.read_excel(\n",
    "    '../data/measurements/CDD Excel Export - 2022-08-18 12h31m51s.xlsx')\n",
    "df_cdd['SMILES'] = df_cdd[\"CXSMILES (CDD Compatible)\"].str.replace(' .*', '')\n",
    "df_cdd['IC50'] = df_cdd['Protease_SARS_Cov2_Mpro_fluorescence_dose_response: IC50 (µM)'].astype(float)\n",
    "df_cdd.loc[0, 'SMILES']\n"
   ]
  },
  {
   "cell_type": "markdown",
   "metadata": {},
   "source": [
    "Load our predictions"
   ]
  },
  {
   "cell_type": "code",
   "execution_count": 2,
   "metadata": {},
   "outputs": [],
   "source": [
    "df_top20 = pd.read_csv('../data/predictions/correct_chlorine/top_20.csv')\n",
    "df_false_negatives = pd.read_csv('../data/predictions/correct_chlorine/false_negatives.csv')\n",
    "df_false_negatives['Average Prediction (%)'] = df_false_negatives[['RF Predicted Inhibition (%)', 'GP Predicted Inhibition (%)']].mean(axis=1)\n",
    "df_best_amides = pd.read_csv('../data/predictions/correct_chlorine/best_amides.csv')\n",
    "df_best_amides['Average Prediction (%)'] = df_best_amides[[\n",
    "    'Random Forest', 'Gaussian Process']].mean(axis=1)\n"
   ]
  },
  {
   "cell_type": "code",
   "execution_count": 3,
   "metadata": {},
   "outputs": [
    {
     "data": {
      "text/html": [
       "<div>\n",
       "<style scoped>\n",
       "    .dataframe tbody tr th:only-of-type {\n",
       "        vertical-align: middle;\n",
       "    }\n",
       "\n",
       "    .dataframe tbody tr th {\n",
       "        vertical-align: top;\n",
       "    }\n",
       "\n",
       "    .dataframe thead th {\n",
       "        text-align: right;\n",
       "    }\n",
       "</style>\n",
       "<table border=\"1\" class=\"dataframe\">\n",
       "  <thead>\n",
       "    <tr style=\"text-align: right;\">\n",
       "      <th></th>\n",
       "      <th>Molecule Name</th>\n",
       "      <th>SMILES</th>\n",
       "      <th>Measured Inhibition (%)</th>\n",
       "      <th>RF Predicted Inhibition (%)</th>\n",
       "      <th>GP Predicted Inhibition (%)</th>\n",
       "      <th>Average Prediction (%)</th>\n",
       "    </tr>\n",
       "  </thead>\n",
       "  <tbody>\n",
       "    <tr>\n",
       "      <th>0</th>\n",
       "      <td>PCM-0223655</td>\n",
       "      <td>O=C(Nc1cncc2ccccc12)[C@@H]1CN(CC(=O)N(C2CCCCC2...</td>\n",
       "      <td>20.7</td>\n",
       "      <td>47.8474</td>\n",
       "      <td>59.783384</td>\n",
       "      <td>53.815392</td>\n",
       "    </tr>\n",
       "    <tr>\n",
       "      <th>1</th>\n",
       "      <td>PCM-0223597</td>\n",
       "      <td>CN1CCN(c2ccccc2NC(=O)CN2Cc3ccc(Cl)cc3[C@H](C(=...</td>\n",
       "      <td>24.5</td>\n",
       "      <td>62.0320</td>\n",
       "      <td>56.818089</td>\n",
       "      <td>59.425045</td>\n",
       "    </tr>\n",
       "    <tr>\n",
       "      <th>2</th>\n",
       "      <td>PCM-0223562</td>\n",
       "      <td>CC(C)(C)N(Cc1ccccc1)C(=O)CN1Cc2ccc(Cl)cc2[C@H]...</td>\n",
       "      <td>15.5</td>\n",
       "      <td>44.2642</td>\n",
       "      <td>61.708616</td>\n",
       "      <td>52.986408</td>\n",
       "    </tr>\n",
       "    <tr>\n",
       "      <th>3</th>\n",
       "      <td>PCM-0223543</td>\n",
       "      <td>O=C(CN1Cc2ccc(Cl)cc2[C@H](C(=O)Nc2cncc3ccccc23...</td>\n",
       "      <td>33.8</td>\n",
       "      <td>79.4698</td>\n",
       "      <td>71.954646</td>\n",
       "      <td>75.712223</td>\n",
       "    </tr>\n",
       "    <tr>\n",
       "      <th>4</th>\n",
       "      <td>PCM-0223419</td>\n",
       "      <td>O=C(CN1Cc2ccc(Cl)cc2[C@H](C(=O)Nc2cncc3ccccc23...</td>\n",
       "      <td>16.5</td>\n",
       "      <td>54.2816</td>\n",
       "      <td>39.831777</td>\n",
       "      <td>47.056688</td>\n",
       "    </tr>\n",
       "  </tbody>\n",
       "</table>\n",
       "</div>"
      ],
      "text/plain": [
       "  Molecule Name                                             SMILES  \\\n",
       "0   PCM-0223655  O=C(Nc1cncc2ccccc12)[C@@H]1CN(CC(=O)N(C2CCCCC2...   \n",
       "1   PCM-0223597  CN1CCN(c2ccccc2NC(=O)CN2Cc3ccc(Cl)cc3[C@H](C(=...   \n",
       "2   PCM-0223562  CC(C)(C)N(Cc1ccccc1)C(=O)CN1Cc2ccc(Cl)cc2[C@H]...   \n",
       "3   PCM-0223543  O=C(CN1Cc2ccc(Cl)cc2[C@H](C(=O)Nc2cncc3ccccc23...   \n",
       "4   PCM-0223419  O=C(CN1Cc2ccc(Cl)cc2[C@H](C(=O)Nc2cncc3ccccc23...   \n",
       "\n",
       "   Measured Inhibition (%)  RF Predicted Inhibition (%)  \\\n",
       "0                     20.7                      47.8474   \n",
       "1                     24.5                      62.0320   \n",
       "2                     15.5                      44.2642   \n",
       "3                     33.8                      79.4698   \n",
       "4                     16.5                      54.2816   \n",
       "\n",
       "   GP Predicted Inhibition (%)  Average Prediction (%)  \n",
       "0                    59.783384               53.815392  \n",
       "1                    56.818089               59.425045  \n",
       "2                    61.708616               52.986408  \n",
       "3                    71.954646               75.712223  \n",
       "4                    39.831777               47.056688  "
      ]
     },
     "execution_count": 3,
     "metadata": {},
     "output_type": "execute_result"
    }
   ],
   "source": [
    "df_false_negatives\n"
   ]
  },
  {
   "cell_type": "code",
   "execution_count": 4,
   "metadata": {},
   "outputs": [],
   "source": [
    "df_best_amides['SMILES'] = df_best_amides['amide']"
   ]
  },
  {
   "cell_type": "code",
   "execution_count": 5,
   "metadata": {},
   "outputs": [
    {
     "name": "stderr",
     "output_type": "stream",
     "text": [
      "INFO:rdkit:Enabling RDKit 2021.09.4 jupyter extensions\n"
     ]
    }
   ],
   "source": [
    "import useful_rdkit_utils\n",
    "\n",
    "def gen_fps(df_in):\n",
    "    useful_rdkit_utils.add_molecule_and_errors(\n",
    "        df_in, smiles_col='SMILES', mol_col_name='mol', error_col_name='Error')\n",
    "\n",
    "    df_in['fps'] = [useful_rdkit_utils.mol2morgan_fp(mol) for mol in df_in['mol'].values]\n",
    "    return df_in\n",
    "\n",
    "for df in [df_top20, df_false_negatives, df_best_amides, df_cdd]:\n",
    "    gen_fps(df)"
   ]
  },
  {
   "cell_type": "code",
   "execution_count": 6,
   "metadata": {},
   "outputs": [
    {
     "name": "stdout",
     "output_type": "stream",
     "text": [
      "ID=ASAP-0000164,IC50=0.034uM from Top 20, Predicted inhibition = (Average = 52.6%)\n",
      "ID=ASAP-0000169,IC50=0.043uM from Enamine Amide, Predicted inhibition = (GP = 82.0% , RF = 87.3%)\n",
      "ID=ASAP-0000155,IC50=0.046uM from Top 20, Predicted inhibition = (Average = 77.3%)\n",
      "ID=ASAP-0000157,IC50=0.062uM from Top 20, Predicted inhibition = (Average = 83.4%)\n",
      "ID=ASAP-0000156,IC50=0.068uM from Top 20, Predicted inhibition = (Average = 51.8%)\n",
      "ID=ASAP-0000162,IC50=0.070uM from Enamine Amide, Predicted inhibition = (GP = 84.6% , RF = 88.4%)\n",
      "ID=ASAP-0000168,IC50=0.071uM from Enamine Amide, Predicted inhibition = (GP = 82.7% , RF = 84.2%)\n",
      "ID=ASAP-0000167,IC50=0.073uM from Enamine Amide, Predicted inhibition = (GP = 81.8% , RF = 85.0%)\n",
      "ID=ASAP-0000161,IC50=0.077uM from Enamine Amide, Predicted inhibition = (GP = 86.6% , RF = 82.6%)\n",
      "ID=ASAP-0000159,IC50=0.086uM from Top 20, Predicted inhibition = (Average = 74.7%)\n",
      "ID=ASAP-0000158,IC50=0.087uM from Top 20, Predicted inhibition = (Average = 85.6%)\n",
      "ID=ASAP-0000160,IC50=0.112uM from Top 20, Predicted inhibition = (Average = 76.5%)\n",
      "ID=ASAP-0000163,IC50=0.181uM from Enamine Amide, Predicted inhibition = (GP = 83.5% , RF = 41.2%)\n",
      "ID=ASAP-0000170,IC50=0.711uM from Enamine Amide, Predicted inhibition = (GP = 82.8% , RF = 35.7%)\n",
      "ID=ASAP-0000165,IC50=0.957uM from False Negative, Predicted inhibition = (Average = 53.0%)\n",
      "ID=ASAP-0000166,IC50=1.493uM from Enamine Amide, Predicted inhibition = (GP = 93.3% , RF = 68.5%)\n",
      "ID=ASAP-0000154,IC50=1.678uM from False Negative, Predicted inhibition = (Average = 59.4%)\n"
     ]
    }
   ],
   "source": [
    "from rdkit import DataStructs\n",
    "from rdkit.Chem import MolFromSmiles, AllChem\n",
    "from tqdm import tqdm\n",
    "\n",
    "import numpy as np\n",
    "\n",
    "df_top20['Data'] = 'Top 20'\n",
    "df_false_negatives['Data'] = 'False Negative'\n",
    "df_best_amides['Data'] = 'Enamine Amide'\n",
    "df_submitted = pd.concat([df_top20, df_false_negatives, df_best_amides]).reset_index(drop=True)\n",
    "sim_mat = np.empty((len(df_cdd), len(df_submitted)))\n",
    "for i in tqdm(range(len(df_cdd['fps']))):\n",
    "    sim_mat[i] = np.array(\n",
    "        DataStructs.BulkTanimotoSimilarity(df_cdd.loc[i, 'fps'], df_submitted['fps'].values))\n",
    "\n",
    "    similarity = sim_mat[i]\n",
    "    # print(similarity)\n",
    "    if np.max(similarity) > 0.8:\n",
    "        j = np.argmax(similarity)\n",
    "        # print(f\"{df1.loc[i, 'SMILES']} is the same as {df2.loc[np.argmax(similarity), 'SMILES']} with similarity {np.max(similarity)}\")\n",
    "        data_source = df_submitted.loc[j, 'Data']\n",
    "        if data_source == 'Enamine Amide':\n",
    "            print(\n",
    "                f\"ID={df_cdd.loc[i, 'Molecule Name']},IC50={df_cdd.loc[i, 'IC50']:.3f}uM from {data_source}, Predicted inhibition = (GP = {df_submitted.loc[j, 'Gaussian Process']:.1f}% , RF = {df_submitted.loc[j, 'Random Forest']:.1f}%)\")\n",
    "        else:\n",
    "            print(f\"ID={df_cdd.loc[i, 'Molecule Name']},IC50={df_cdd.loc[i, 'IC50']:.3f}uM from {data_source}, Predicted inhibition = (Average = {df_submitted.loc[j, 'Average Prediction (%)']:.1f}%)\")\n",
    "\n",
    "        df_cdd.loc[i, 'Data'] = df_submitted.loc[j, 'Data']\n"
   ]
  },
  {
   "cell_type": "code",
   "execution_count": 7,
   "metadata": {},
   "outputs": [
    {
     "data": {
      "text/html": [
       "<div>\n",
       "<style scoped>\n",
       "    .dataframe tbody tr th:only-of-type {\n",
       "        vertical-align: middle;\n",
       "    }\n",
       "\n",
       "    .dataframe tbody tr th {\n",
       "        vertical-align: top;\n",
       "    }\n",
       "\n",
       "    .dataframe thead th {\n",
       "        text-align: right;\n",
       "    }\n",
       "</style>\n",
       "<table border=\"1\" class=\"dataframe\">\n",
       "  <thead>\n",
       "    <tr style=\"text-align: right;\">\n",
       "      <th></th>\n",
       "      <th>Molecule Name</th>\n",
       "      <th>SMILES</th>\n",
       "      <th>Measured Inhibition (%)</th>\n",
       "      <th>Average Prediction (%)</th>\n",
       "      <th>FP</th>\n",
       "      <th>mol</th>\n",
       "      <th>Error</th>\n",
       "      <th>fps</th>\n",
       "      <th>Data</th>\n",
       "      <th>RF Predicted Inhibition (%)</th>\n",
       "      <th>GP Predicted Inhibition (%)</th>\n",
       "      <th>ID</th>\n",
       "      <th>amide</th>\n",
       "      <th>Random Forest</th>\n",
       "      <th>Gaussian Process</th>\n",
       "    </tr>\n",
       "  </thead>\n",
       "  <tbody>\n",
       "    <tr>\n",
       "      <th>0</th>\n",
       "      <td>PCM-0223366</td>\n",
       "      <td>CCN1CCN(c2ccc(NC(=O)CN3Cc4ccc(Cl)cc4[C@H](C(=O...</td>\n",
       "      <td>97.4</td>\n",
       "      <td>56.900000</td>\n",
       "      <td>True</td>\n",
       "      <td>&lt;rdkit.Chem.rdchem.Mol object at 0x7fa83ff45de0&gt;</td>\n",
       "      <td></td>\n",
       "      <td>[0, 0, 0, 0, 0, 0, 0, 0, 0, 0, 0, 0, 0, 0, 0, ...</td>\n",
       "      <td>Top 20</td>\n",
       "      <td>NaN</td>\n",
       "      <td>NaN</td>\n",
       "      <td>NaN</td>\n",
       "      <td>NaN</td>\n",
       "      <td>NaN</td>\n",
       "      <td>NaN</td>\n",
       "    </tr>\n",
       "    <tr>\n",
       "      <th>1</th>\n",
       "      <td>PCM-0223638</td>\n",
       "      <td>CC(=O)Nc1ccc(NC(=O)CN2Cc3ccc(Cl)cc3[C@H](C(=O)...</td>\n",
       "      <td>95.2</td>\n",
       "      <td>52.600000</td>\n",
       "      <td>True</td>\n",
       "      <td>&lt;rdkit.Chem.rdchem.Mol object at 0x7fa83ff45f00&gt;</td>\n",
       "      <td></td>\n",
       "      <td>[0, 0, 0, 0, 0, 0, 0, 0, 0, 0, 0, 0, 0, 0, 0, ...</td>\n",
       "      <td>Top 20</td>\n",
       "      <td>NaN</td>\n",
       "      <td>NaN</td>\n",
       "      <td>NaN</td>\n",
       "      <td>NaN</td>\n",
       "      <td>NaN</td>\n",
       "      <td>NaN</td>\n",
       "    </tr>\n",
       "    <tr>\n",
       "      <th>2</th>\n",
       "      <td>PCM-0223648</td>\n",
       "      <td>O=C(CN1Cc2ccc(Cl)cc2[C@H](C(=O)Nc2cncc3ccccc23...</td>\n",
       "      <td>92.0</td>\n",
       "      <td>77.300000</td>\n",
       "      <td>False</td>\n",
       "      <td>&lt;rdkit.Chem.rdchem.Mol object at 0x7fa83ff45f60&gt;</td>\n",
       "      <td></td>\n",
       "      <td>[0, 0, 0, 0, 0, 0, 0, 0, 0, 0, 0, 0, 0, 0, 0, ...</td>\n",
       "      <td>Top 20</td>\n",
       "      <td>NaN</td>\n",
       "      <td>NaN</td>\n",
       "      <td>NaN</td>\n",
       "      <td>NaN</td>\n",
       "      <td>NaN</td>\n",
       "      <td>NaN</td>\n",
       "    </tr>\n",
       "    <tr>\n",
       "      <th>3</th>\n",
       "      <td>PCM-0223612</td>\n",
       "      <td>CN1CCN(c2ccc(NC(=O)CN3Cc4ccc(Cl)cc4[C@H](C(=O)...</td>\n",
       "      <td>91.6</td>\n",
       "      <td>35.800000</td>\n",
       "      <td>True</td>\n",
       "      <td>&lt;rdkit.Chem.rdchem.Mol object at 0x7fa83ff45fc0&gt;</td>\n",
       "      <td></td>\n",
       "      <td>[0, 0, 0, 0, 0, 0, 0, 0, 0, 0, 0, 0, 0, 0, 1, ...</td>\n",
       "      <td>Top 20</td>\n",
       "      <td>NaN</td>\n",
       "      <td>NaN</td>\n",
       "      <td>NaN</td>\n",
       "      <td>NaN</td>\n",
       "      <td>NaN</td>\n",
       "      <td>NaN</td>\n",
       "    </tr>\n",
       "    <tr>\n",
       "      <th>4</th>\n",
       "      <td>PCM-0223642</td>\n",
       "      <td>O=C(CN1Cc2ccc(Cl)cc2[C@H](C(=O)Nc2cncc3ccccc23...</td>\n",
       "      <td>91.4</td>\n",
       "      <td>51.800000</td>\n",
       "      <td>True</td>\n",
       "      <td>&lt;rdkit.Chem.rdchem.Mol object at 0x7fa83ff46020&gt;</td>\n",
       "      <td></td>\n",
       "      <td>[0, 0, 0, 0, 0, 0, 0, 0, 0, 0, 0, 0, 0, 0, 0, ...</td>\n",
       "      <td>Top 20</td>\n",
       "      <td>NaN</td>\n",
       "      <td>NaN</td>\n",
       "      <td>NaN</td>\n",
       "      <td>NaN</td>\n",
       "      <td>NaN</td>\n",
       "      <td>NaN</td>\n",
       "    </tr>\n",
       "    <tr>\n",
       "      <th>5</th>\n",
       "      <td>PCM-0223523</td>\n",
       "      <td>COc1cc(CNC(=O)CN2Cc3ccc(Cl)cc3[C@H](C(=O)Nc3cn...</td>\n",
       "      <td>90.5</td>\n",
       "      <td>76.700000</td>\n",
       "      <td>False</td>\n",
       "      <td>&lt;rdkit.Chem.rdchem.Mol object at 0x7fa83ff46080&gt;</td>\n",
       "      <td></td>\n",
       "      <td>[0, 0, 0, 0, 0, 0, 0, 0, 0, 0, 0, 0, 0, 0, 0, ...</td>\n",
       "      <td>Top 20</td>\n",
       "      <td>NaN</td>\n",
       "      <td>NaN</td>\n",
       "      <td>NaN</td>\n",
       "      <td>NaN</td>\n",
       "      <td>NaN</td>\n",
       "      <td>NaN</td>\n",
       "    </tr>\n",
       "    <tr>\n",
       "      <th>6</th>\n",
       "      <td>PCM-0223525</td>\n",
       "      <td>O=C(CN1Cc2ccc(Cl)cc2[C@H](C(=O)Nc2cncc3ccccc23...</td>\n",
       "      <td>90.5</td>\n",
       "      <td>83.400000</td>\n",
       "      <td>False</td>\n",
       "      <td>&lt;rdkit.Chem.rdchem.Mol object at 0x7fa83ff460e0&gt;</td>\n",
       "      <td></td>\n",
       "      <td>[0, 0, 0, 0, 0, 0, 0, 0, 0, 0, 0, 0, 0, 0, 0, ...</td>\n",
       "      <td>Top 20</td>\n",
       "      <td>NaN</td>\n",
       "      <td>NaN</td>\n",
       "      <td>NaN</td>\n",
       "      <td>NaN</td>\n",
       "      <td>NaN</td>\n",
       "      <td>NaN</td>\n",
       "    </tr>\n",
       "    <tr>\n",
       "      <th>7</th>\n",
       "      <td>PCM-0223397</td>\n",
       "      <td>Cc1ccc2[nH]cc(CCNC(=O)CN3Cc4ccc(Cl)cc4[C@H](C(...</td>\n",
       "      <td>90.1</td>\n",
       "      <td>53.900000</td>\n",
       "      <td>True</td>\n",
       "      <td>&lt;rdkit.Chem.rdchem.Mol object at 0x7fa83ff46140&gt;</td>\n",
       "      <td></td>\n",
       "      <td>[0, 0, 0, 0, 0, 0, 0, 0, 0, 0, 0, 0, 0, 0, 0, ...</td>\n",
       "      <td>Top 20</td>\n",
       "      <td>NaN</td>\n",
       "      <td>NaN</td>\n",
       "      <td>NaN</td>\n",
       "      <td>NaN</td>\n",
       "      <td>NaN</td>\n",
       "      <td>NaN</td>\n",
       "    </tr>\n",
       "    <tr>\n",
       "      <th>8</th>\n",
       "      <td>PCM-0223544</td>\n",
       "      <td>O=C(CN1Cc2ccc(Cl)cc2[C@H](C(=O)Nc2cncc3ccccc23...</td>\n",
       "      <td>90.1</td>\n",
       "      <td>36.700000</td>\n",
       "      <td>True</td>\n",
       "      <td>&lt;rdkit.Chem.rdchem.Mol object at 0x7fa83ff461a0&gt;</td>\n",
       "      <td></td>\n",
       "      <td>[0, 0, 0, 0, 0, 0, 0, 0, 0, 0, 0, 0, 0, 0, 0, ...</td>\n",
       "      <td>Top 20</td>\n",
       "      <td>NaN</td>\n",
       "      <td>NaN</td>\n",
       "      <td>NaN</td>\n",
       "      <td>NaN</td>\n",
       "      <td>NaN</td>\n",
       "      <td>NaN</td>\n",
       "    </tr>\n",
       "    <tr>\n",
       "      <th>9</th>\n",
       "      <td>PCM-0223452</td>\n",
       "      <td>O=C(CN1Cc2ccc(Cl)cc2[C@H](C(=O)Nc2cncc3ccccc23...</td>\n",
       "      <td>88.3</td>\n",
       "      <td>85.600000</td>\n",
       "      <td>False</td>\n",
       "      <td>&lt;rdkit.Chem.rdchem.Mol object at 0x7fa83ff46200&gt;</td>\n",
       "      <td></td>\n",
       "      <td>[0, 0, 0, 0, 0, 0, 0, 0, 0, 0, 0, 0, 0, 0, 0, ...</td>\n",
       "      <td>Top 20</td>\n",
       "      <td>NaN</td>\n",
       "      <td>NaN</td>\n",
       "      <td>NaN</td>\n",
       "      <td>NaN</td>\n",
       "      <td>NaN</td>\n",
       "      <td>NaN</td>\n",
       "    </tr>\n",
       "    <tr>\n",
       "      <th>10</th>\n",
       "      <td>PCM-0223425</td>\n",
       "      <td>O=C(CN1Cc2ccc(Cl)cc2[C@H](C(=O)Nc2cncc3ccccc23...</td>\n",
       "      <td>88.3</td>\n",
       "      <td>74.700000</td>\n",
       "      <td>False</td>\n",
       "      <td>&lt;rdkit.Chem.rdchem.Mol object at 0x7fa83ff46260&gt;</td>\n",
       "      <td></td>\n",
       "      <td>[0, 0, 0, 0, 0, 0, 0, 0, 0, 0, 0, 0, 0, 0, 0, ...</td>\n",
       "      <td>Top 20</td>\n",
       "      <td>NaN</td>\n",
       "      <td>NaN</td>\n",
       "      <td>NaN</td>\n",
       "      <td>NaN</td>\n",
       "      <td>NaN</td>\n",
       "      <td>NaN</td>\n",
       "    </tr>\n",
       "    <tr>\n",
       "      <th>11</th>\n",
       "      <td>PCM-0223561</td>\n",
       "      <td>O=C(CN1Cc2ccc(Cl)cc2[C@H](C(=O)Nc2cncc3ccccc23...</td>\n",
       "      <td>87.6</td>\n",
       "      <td>72.400000</td>\n",
       "      <td>False</td>\n",
       "      <td>&lt;rdkit.Chem.rdchem.Mol object at 0x7fa83ff462c0&gt;</td>\n",
       "      <td></td>\n",
       "      <td>[0, 0, 0, 0, 0, 0, 0, 0, 0, 0, 0, 0, 0, 0, 0, ...</td>\n",
       "      <td>Top 20</td>\n",
       "      <td>NaN</td>\n",
       "      <td>NaN</td>\n",
       "      <td>NaN</td>\n",
       "      <td>NaN</td>\n",
       "      <td>NaN</td>\n",
       "      <td>NaN</td>\n",
       "    </tr>\n",
       "    <tr>\n",
       "      <th>12</th>\n",
       "      <td>PCM-0223377</td>\n",
       "      <td>O=C(CN1Cc2ccc(Cl)cc2[C@H](C(=O)Nc2cncc3ccccc23...</td>\n",
       "      <td>87.3</td>\n",
       "      <td>70.100000</td>\n",
       "      <td>True</td>\n",
       "      <td>&lt;rdkit.Chem.rdchem.Mol object at 0x7fa83ff46320&gt;</td>\n",
       "      <td></td>\n",
       "      <td>[0, 0, 0, 0, 0, 0, 0, 0, 0, 0, 0, 0, 0, 0, 0, ...</td>\n",
       "      <td>Top 20</td>\n",
       "      <td>NaN</td>\n",
       "      <td>NaN</td>\n",
       "      <td>NaN</td>\n",
       "      <td>NaN</td>\n",
       "      <td>NaN</td>\n",
       "      <td>NaN</td>\n",
       "    </tr>\n",
       "    <tr>\n",
       "      <th>13</th>\n",
       "      <td>PCM-0223364</td>\n",
       "      <td>O=C(CN1Cc2ccc(Cl)cc2[C@H](C(=O)Nc2cncc3ccccc23...</td>\n",
       "      <td>86.7</td>\n",
       "      <td>20.200000</td>\n",
       "      <td>True</td>\n",
       "      <td>&lt;rdkit.Chem.rdchem.Mol object at 0x7fa83ff46380&gt;</td>\n",
       "      <td></td>\n",
       "      <td>[0, 0, 0, 0, 0, 0, 0, 0, 0, 0, 0, 0, 0, 0, 0, ...</td>\n",
       "      <td>Top 20</td>\n",
       "      <td>NaN</td>\n",
       "      <td>NaN</td>\n",
       "      <td>NaN</td>\n",
       "      <td>NaN</td>\n",
       "      <td>NaN</td>\n",
       "      <td>NaN</td>\n",
       "    </tr>\n",
       "    <tr>\n",
       "      <th>14</th>\n",
       "      <td>PCM-0223458</td>\n",
       "      <td>CCOc1ccccc1CNC(=O)CN1Cc2ccc(Cl)cc2[C@H](C(=O)N...</td>\n",
       "      <td>86.2</td>\n",
       "      <td>74.200000</td>\n",
       "      <td>False</td>\n",
       "      <td>&lt;rdkit.Chem.rdchem.Mol object at 0x7fa83ff463e0&gt;</td>\n",
       "      <td></td>\n",
       "      <td>[0, 0, 0, 0, 0, 0, 0, 0, 0, 0, 0, 0, 0, 0, 0, ...</td>\n",
       "      <td>Top 20</td>\n",
       "      <td>NaN</td>\n",
       "      <td>NaN</td>\n",
       "      <td>NaN</td>\n",
       "      <td>NaN</td>\n",
       "      <td>NaN</td>\n",
       "      <td>NaN</td>\n",
       "    </tr>\n",
       "    <tr>\n",
       "      <th>15</th>\n",
       "      <td>PCM-0223409</td>\n",
       "      <td>O=C(CN1Cc2ccc(Cl)cc2[C@H](C(=O)Nc2cncc3ccccc23...</td>\n",
       "      <td>85.4</td>\n",
       "      <td>76.500000</td>\n",
       "      <td>False</td>\n",
       "      <td>&lt;rdkit.Chem.rdchem.Mol object at 0x7fa83ff46440&gt;</td>\n",
       "      <td></td>\n",
       "      <td>[0, 0, 0, 0, 0, 0, 0, 0, 0, 0, 0, 0, 0, 0, 0, ...</td>\n",
       "      <td>Top 20</td>\n",
       "      <td>NaN</td>\n",
       "      <td>NaN</td>\n",
       "      <td>NaN</td>\n",
       "      <td>NaN</td>\n",
       "      <td>NaN</td>\n",
       "      <td>NaN</td>\n",
       "    </tr>\n",
       "    <tr>\n",
       "      <th>16</th>\n",
       "      <td>PCM-0223392</td>\n",
       "      <td>O=C(CN1Cc2ccc(Cl)cc2[C@H](C(=O)Nc2cncc3ccccc23...</td>\n",
       "      <td>85.0</td>\n",
       "      <td>68.700000</td>\n",
       "      <td>True</td>\n",
       "      <td>&lt;rdkit.Chem.rdchem.Mol object at 0x7fa83ff464a0&gt;</td>\n",
       "      <td></td>\n",
       "      <td>[0, 1, 0, 0, 0, 0, 0, 0, 0, 0, 0, 0, 0, 0, 0, ...</td>\n",
       "      <td>Top 20</td>\n",
       "      <td>NaN</td>\n",
       "      <td>NaN</td>\n",
       "      <td>NaN</td>\n",
       "      <td>NaN</td>\n",
       "      <td>NaN</td>\n",
       "      <td>NaN</td>\n",
       "    </tr>\n",
       "    <tr>\n",
       "      <th>17</th>\n",
       "      <td>PCM-0223396</td>\n",
       "      <td>O=C(CN1Cc2ccc(Cl)cc2[C@H](C(=O)Nc2cncc3ccccc23...</td>\n",
       "      <td>84.8</td>\n",
       "      <td>24.000000</td>\n",
       "      <td>True</td>\n",
       "      <td>&lt;rdkit.Chem.rdchem.Mol object at 0x7fa83ff46500&gt;</td>\n",
       "      <td></td>\n",
       "      <td>[0, 0, 0, 0, 0, 0, 0, 0, 0, 0, 0, 0, 0, 0, 0, ...</td>\n",
       "      <td>Top 20</td>\n",
       "      <td>NaN</td>\n",
       "      <td>NaN</td>\n",
       "      <td>NaN</td>\n",
       "      <td>NaN</td>\n",
       "      <td>NaN</td>\n",
       "      <td>NaN</td>\n",
       "    </tr>\n",
       "    <tr>\n",
       "      <th>18</th>\n",
       "      <td>PCM-0223551</td>\n",
       "      <td>O=C(CN1Cc2ccc(Cl)cc2[C@H](C(=O)Nc2cncc3ccccc23...</td>\n",
       "      <td>84.7</td>\n",
       "      <td>70.300000</td>\n",
       "      <td>False</td>\n",
       "      <td>&lt;rdkit.Chem.rdchem.Mol object at 0x7fa83ff46560&gt;</td>\n",
       "      <td></td>\n",
       "      <td>[0, 0, 0, 0, 0, 0, 0, 0, 0, 0, 0, 0, 0, 0, 0, ...</td>\n",
       "      <td>Top 20</td>\n",
       "      <td>NaN</td>\n",
       "      <td>NaN</td>\n",
       "      <td>NaN</td>\n",
       "      <td>NaN</td>\n",
       "      <td>NaN</td>\n",
       "      <td>NaN</td>\n",
       "    </tr>\n",
       "    <tr>\n",
       "      <th>19</th>\n",
       "      <td>PCM-0223524</td>\n",
       "      <td>CCOc1ccc(CNC(=O)CN2Cc3ccc(Cl)cc3[C@H](C(=O)Nc3...</td>\n",
       "      <td>84.2</td>\n",
       "      <td>83.100000</td>\n",
       "      <td>False</td>\n",
       "      <td>&lt;rdkit.Chem.rdchem.Mol object at 0x7fa83ff465c0&gt;</td>\n",
       "      <td></td>\n",
       "      <td>[0, 0, 0, 0, 0, 0, 0, 0, 0, 0, 0, 0, 0, 0, 0, ...</td>\n",
       "      <td>Top 20</td>\n",
       "      <td>NaN</td>\n",
       "      <td>NaN</td>\n",
       "      <td>NaN</td>\n",
       "      <td>NaN</td>\n",
       "      <td>NaN</td>\n",
       "      <td>NaN</td>\n",
       "    </tr>\n",
       "    <tr>\n",
       "      <th>20</th>\n",
       "      <td>PCM-0223655</td>\n",
       "      <td>O=C(Nc1cncc2ccccc12)[C@@H]1CN(CC(=O)N(C2CCCCC2...</td>\n",
       "      <td>20.7</td>\n",
       "      <td>53.815392</td>\n",
       "      <td>NaN</td>\n",
       "      <td>&lt;rdkit.Chem.rdchem.Mol object at 0x7fa83ff468c0&gt;</td>\n",
       "      <td></td>\n",
       "      <td>[0, 0, 1, 0, 0, 0, 0, 0, 0, 0, 0, 0, 0, 0, 0, ...</td>\n",
       "      <td>False Negative</td>\n",
       "      <td>47.8474</td>\n",
       "      <td>59.783384</td>\n",
       "      <td>NaN</td>\n",
       "      <td>NaN</td>\n",
       "      <td>NaN</td>\n",
       "      <td>NaN</td>\n",
       "    </tr>\n",
       "    <tr>\n",
       "      <th>21</th>\n",
       "      <td>PCM-0223597</td>\n",
       "      <td>CN1CCN(c2ccccc2NC(=O)CN2Cc3ccc(Cl)cc3[C@H](C(=...</td>\n",
       "      <td>24.5</td>\n",
       "      <td>59.425045</td>\n",
       "      <td>NaN</td>\n",
       "      <td>&lt;rdkit.Chem.rdchem.Mol object at 0x7fa83ff470a0&gt;</td>\n",
       "      <td></td>\n",
       "      <td>[0, 0, 0, 0, 0, 0, 0, 0, 0, 0, 0, 0, 0, 0, 1, ...</td>\n",
       "      <td>False Negative</td>\n",
       "      <td>62.0320</td>\n",
       "      <td>56.818089</td>\n",
       "      <td>NaN</td>\n",
       "      <td>NaN</td>\n",
       "      <td>NaN</td>\n",
       "      <td>NaN</td>\n",
       "    </tr>\n",
       "    <tr>\n",
       "      <th>22</th>\n",
       "      <td>PCM-0223562</td>\n",
       "      <td>CC(C)(C)N(Cc1ccccc1)C(=O)CN1Cc2ccc(Cl)cc2[C@H]...</td>\n",
       "      <td>15.5</td>\n",
       "      <td>52.986408</td>\n",
       "      <td>NaN</td>\n",
       "      <td>&lt;rdkit.Chem.rdchem.Mol object at 0x7fa83ff47280&gt;</td>\n",
       "      <td></td>\n",
       "      <td>[0, 0, 0, 0, 0, 0, 0, 0, 0, 0, 0, 0, 0, 0, 0, ...</td>\n",
       "      <td>False Negative</td>\n",
       "      <td>44.2642</td>\n",
       "      <td>61.708616</td>\n",
       "      <td>NaN</td>\n",
       "      <td>NaN</td>\n",
       "      <td>NaN</td>\n",
       "      <td>NaN</td>\n",
       "    </tr>\n",
       "    <tr>\n",
       "      <th>23</th>\n",
       "      <td>PCM-0223543</td>\n",
       "      <td>O=C(CN1Cc2ccc(Cl)cc2[C@H](C(=O)Nc2cncc3ccccc23...</td>\n",
       "      <td>33.8</td>\n",
       "      <td>75.712223</td>\n",
       "      <td>NaN</td>\n",
       "      <td>&lt;rdkit.Chem.rdchem.Mol object at 0x7fa83ff47400&gt;</td>\n",
       "      <td></td>\n",
       "      <td>[0, 0, 0, 0, 0, 0, 0, 0, 0, 0, 0, 0, 0, 0, 0, ...</td>\n",
       "      <td>False Negative</td>\n",
       "      <td>79.4698</td>\n",
       "      <td>71.954646</td>\n",
       "      <td>NaN</td>\n",
       "      <td>NaN</td>\n",
       "      <td>NaN</td>\n",
       "      <td>NaN</td>\n",
       "    </tr>\n",
       "    <tr>\n",
       "      <th>24</th>\n",
       "      <td>PCM-0223419</td>\n",
       "      <td>O=C(CN1Cc2ccc(Cl)cc2[C@H](C(=O)Nc2cncc3ccccc23...</td>\n",
       "      <td>16.5</td>\n",
       "      <td>47.056688</td>\n",
       "      <td>NaN</td>\n",
       "      <td>&lt;rdkit.Chem.rdchem.Mol object at 0x7fa83ff47340&gt;</td>\n",
       "      <td></td>\n",
       "      <td>[0, 0, 0, 0, 0, 0, 0, 0, 0, 0, 0, 0, 0, 0, 0, ...</td>\n",
       "      <td>False Negative</td>\n",
       "      <td>54.2816</td>\n",
       "      <td>39.831777</td>\n",
       "      <td>NaN</td>\n",
       "      <td>NaN</td>\n",
       "      <td>NaN</td>\n",
       "      <td>NaN</td>\n",
       "    </tr>\n",
       "    <tr>\n",
       "      <th>25</th>\n",
       "      <td>NaN</td>\n",
       "      <td>CC(=O)Nc1ccc(N(C)C(=O)CN2Cc3ccc(Cl)cc3[C@H](C(...</td>\n",
       "      <td>NaN</td>\n",
       "      <td>80.900000</td>\n",
       "      <td>NaN</td>\n",
       "      <td>&lt;rdkit.Chem.rdchem.Mol object at 0x7fa83ff47a00&gt;</td>\n",
       "      <td></td>\n",
       "      <td>[0, 0, 0, 0, 0, 0, 0, 0, 0, 0, 0, 0, 0, 0, 0, ...</td>\n",
       "      <td>Enamine Amide</td>\n",
       "      <td>NaN</td>\n",
       "      <td>NaN</td>\n",
       "      <td>EN300-761439</td>\n",
       "      <td>CC(=O)Nc1ccc(N(C)C(=O)CN2Cc3ccc(Cl)cc3[C@H](C(...</td>\n",
       "      <td>68.5</td>\n",
       "      <td>93.3</td>\n",
       "    </tr>\n",
       "    <tr>\n",
       "      <th>26</th>\n",
       "      <td>NaN</td>\n",
       "      <td>COc1cccc(CNC(=O)CN2Cc3ccc(Cl)cc3[C@H](C(=O)Nc3...</td>\n",
       "      <td>NaN</td>\n",
       "      <td>86.450000</td>\n",
       "      <td>NaN</td>\n",
       "      <td>&lt;rdkit.Chem.rdchem.Mol object at 0x7fa83ff47040&gt;</td>\n",
       "      <td></td>\n",
       "      <td>[0, 0, 0, 0, 0, 0, 0, 0, 0, 0, 0, 0, 0, 0, 0, ...</td>\n",
       "      <td>Enamine Amide</td>\n",
       "      <td>NaN</td>\n",
       "      <td>NaN</td>\n",
       "      <td>EN300-16224</td>\n",
       "      <td>COc1cccc(CNC(=O)CN2Cc3ccc(Cl)cc3[C@H](C(=O)Nc3...</td>\n",
       "      <td>81.1</td>\n",
       "      <td>91.8</td>\n",
       "    </tr>\n",
       "    <tr>\n",
       "      <th>27</th>\n",
       "      <td>NaN</td>\n",
       "      <td>CCc1ccc(CNC(=O)CN2Cc3ccc(Cl)cc3[C@H](C(=O)Nc3c...</td>\n",
       "      <td>NaN</td>\n",
       "      <td>87.800000</td>\n",
       "      <td>NaN</td>\n",
       "      <td>&lt;rdkit.Chem.rdchem.Mol object at 0x7fa83ff47ac0&gt;</td>\n",
       "      <td></td>\n",
       "      <td>[0, 0, 0, 0, 0, 0, 0, 0, 0, 0, 0, 0, 0, 0, 0, ...</td>\n",
       "      <td>Enamine Amide</td>\n",
       "      <td>NaN</td>\n",
       "      <td>NaN</td>\n",
       "      <td>EN300-184079</td>\n",
       "      <td>CCc1ccc(CNC(=O)CN2Cc3ccc(Cl)cc3[C@H](C(=O)Nc3c...</td>\n",
       "      <td>86.2</td>\n",
       "      <td>89.4</td>\n",
       "    </tr>\n",
       "    <tr>\n",
       "      <th>28</th>\n",
       "      <td>NaN</td>\n",
       "      <td>Cc1ccc(CCNC(=O)CN2Cc3ccc(Cl)cc3[C@H](C(=O)Nc3c...</td>\n",
       "      <td>NaN</td>\n",
       "      <td>87.900000</td>\n",
       "      <td>NaN</td>\n",
       "      <td>&lt;rdkit.Chem.rdchem.Mol object at 0x7fa83ff479a0&gt;</td>\n",
       "      <td></td>\n",
       "      <td>[0, 0, 0, 0, 0, 0, 0, 0, 0, 0, 0, 0, 0, 0, 0, ...</td>\n",
       "      <td>Enamine Amide</td>\n",
       "      <td>NaN</td>\n",
       "      <td>NaN</td>\n",
       "      <td>EN300-146602</td>\n",
       "      <td>Cc1ccc(CCNC(=O)CN2Cc3ccc(Cl)cc3[C@H](C(=O)Nc3c...</td>\n",
       "      <td>87.1</td>\n",
       "      <td>88.7</td>\n",
       "    </tr>\n",
       "    <tr>\n",
       "      <th>29</th>\n",
       "      <td>NaN</td>\n",
       "      <td>CN1CCN(c2ccc(NC(=O)CN3Cc4ccc(Cl)cc4[C@H](C(=O)...</td>\n",
       "      <td>NaN</td>\n",
       "      <td>84.250000</td>\n",
       "      <td>NaN</td>\n",
       "      <td>&lt;rdkit.Chem.rdchem.Mol object at 0x7fa83ff47820&gt;</td>\n",
       "      <td></td>\n",
       "      <td>[0, 0, 0, 0, 0, 0, 0, 0, 0, 0, 0, 0, 0, 0, 1, ...</td>\n",
       "      <td>Enamine Amide</td>\n",
       "      <td>NaN</td>\n",
       "      <td>NaN</td>\n",
       "      <td>EN300-31965</td>\n",
       "      <td>CN1CCN(c2ccc(NC(=O)CN3Cc4ccc(Cl)cc4[C@H](C(=O)...</td>\n",
       "      <td>80.6</td>\n",
       "      <td>87.9</td>\n",
       "    </tr>\n",
       "    <tr>\n",
       "      <th>30</th>\n",
       "      <td>NaN</td>\n",
       "      <td>CCc1ccc(CCNC(=O)CN2Cc3ccc(Cl)cc3[C@H](C(=O)Nc3...</td>\n",
       "      <td>NaN</td>\n",
       "      <td>87.150000</td>\n",
       "      <td>NaN</td>\n",
       "      <td>&lt;rdkit.Chem.rdchem.Mol object at 0x7fa83ff47760&gt;</td>\n",
       "      <td></td>\n",
       "      <td>[0, 0, 0, 0, 0, 0, 0, 0, 0, 0, 0, 0, 0, 0, 0, ...</td>\n",
       "      <td>Enamine Amide</td>\n",
       "      <td>NaN</td>\n",
       "      <td>NaN</td>\n",
       "      <td>EN300-80226</td>\n",
       "      <td>CCc1ccc(CCNC(=O)CN2Cc3ccc(Cl)cc3[C@H](C(=O)Nc3...</td>\n",
       "      <td>86.5</td>\n",
       "      <td>87.8</td>\n",
       "    </tr>\n",
       "    <tr>\n",
       "      <th>31</th>\n",
       "      <td>NaN</td>\n",
       "      <td>O=C(CN1Cc2ccc(Cl)cc2[C@H](C(=O)Nc2cncc3ccccc23...</td>\n",
       "      <td>NaN</td>\n",
       "      <td>84.600000</td>\n",
       "      <td>NaN</td>\n",
       "      <td>&lt;rdkit.Chem.rdchem.Mol object at 0x7fa83ff46f20&gt;</td>\n",
       "      <td></td>\n",
       "      <td>[0, 0, 0, 0, 0, 0, 0, 0, 0, 0, 0, 0, 0, 0, 0, ...</td>\n",
       "      <td>Enamine Amide</td>\n",
       "      <td>NaN</td>\n",
       "      <td>NaN</td>\n",
       "      <td>EN300-16220</td>\n",
       "      <td>O=C(CN1Cc2ccc(Cl)cc2[C@H](C(=O)Nc2cncc3ccccc23...</td>\n",
       "      <td>82.6</td>\n",
       "      <td>86.6</td>\n",
       "    </tr>\n",
       "    <tr>\n",
       "      <th>32</th>\n",
       "      <td>NaN</td>\n",
       "      <td>COc1ccc(CNC(=O)CN2Cc3ccc(Cl)cc3[C@H](C(=O)Nc3c...</td>\n",
       "      <td>NaN</td>\n",
       "      <td>87.100000</td>\n",
       "      <td>NaN</td>\n",
       "      <td>&lt;rdkit.Chem.rdchem.Mol object at 0x7fa83ff47940&gt;</td>\n",
       "      <td></td>\n",
       "      <td>[0, 0, 0, 0, 0, 0, 0, 0, 0, 0, 0, 0, 0, 0, 0, ...</td>\n",
       "      <td>Enamine Amide</td>\n",
       "      <td>NaN</td>\n",
       "      <td>NaN</td>\n",
       "      <td>EN300-17919</td>\n",
       "      <td>COc1ccc(CNC(=O)CN2Cc3ccc(Cl)cc3[C@H](C(=O)Nc3c...</td>\n",
       "      <td>87.6</td>\n",
       "      <td>86.6</td>\n",
       "    </tr>\n",
       "    <tr>\n",
       "      <th>33</th>\n",
       "      <td>NaN</td>\n",
       "      <td>COc1ccc(CNC(=O)CN2Cc3ccc(Cl)cc3[C@H](C(=O)Nc3c...</td>\n",
       "      <td>NaN</td>\n",
       "      <td>85.150000</td>\n",
       "      <td>NaN</td>\n",
       "      <td>&lt;rdkit.Chem.rdchem.Mol object at 0x7fa83ff47160&gt;</td>\n",
       "      <td></td>\n",
       "      <td>[0, 0, 0, 0, 0, 0, 0, 0, 0, 0, 0, 0, 0, 0, 0, ...</td>\n",
       "      <td>Enamine Amide</td>\n",
       "      <td>NaN</td>\n",
       "      <td>NaN</td>\n",
       "      <td>EN300-17924</td>\n",
       "      <td>COc1ccc(CNC(=O)CN2Cc3ccc(Cl)cc3[C@H](C(=O)Nc3c...</td>\n",
       "      <td>83.8</td>\n",
       "      <td>86.5</td>\n",
       "    </tr>\n",
       "    <tr>\n",
       "      <th>34</th>\n",
       "      <td>NaN</td>\n",
       "      <td>COc1ccccc1CNC(=O)CN1Cc2ccc(Cl)cc2[C@H](C(=O)Nc...</td>\n",
       "      <td>NaN</td>\n",
       "      <td>83.700000</td>\n",
       "      <td>NaN</td>\n",
       "      <td>&lt;rdkit.Chem.rdchem.Mol object at 0x7fa83ff478e0&gt;</td>\n",
       "      <td></td>\n",
       "      <td>[0, 0, 0, 0, 0, 0, 0, 0, 0, 0, 0, 0, 0, 0, 0, ...</td>\n",
       "      <td>Enamine Amide</td>\n",
       "      <td>NaN</td>\n",
       "      <td>NaN</td>\n",
       "      <td>EN300-18379</td>\n",
       "      <td>COc1ccccc1CNC(=O)CN1Cc2ccc(Cl)cc2[C@H](C(=O)Nc...</td>\n",
       "      <td>81.2</td>\n",
       "      <td>86.2</td>\n",
       "    </tr>\n",
       "    <tr>\n",
       "      <th>35</th>\n",
       "      <td>NaN</td>\n",
       "      <td>CCN1CCN(c2ccc(NC(=O)CN3Cc4ccc(Cl)cc4[C@H](C(=O...</td>\n",
       "      <td>NaN</td>\n",
       "      <td>71.600000</td>\n",
       "      <td>NaN</td>\n",
       "      <td>&lt;rdkit.Chem.rdchem.Mol object at 0x7fa83ff47be0&gt;</td>\n",
       "      <td></td>\n",
       "      <td>[0, 0, 0, 0, 0, 0, 0, 0, 0, 0, 0, 0, 0, 0, 0, ...</td>\n",
       "      <td>Enamine Amide</td>\n",
       "      <td>NaN</td>\n",
       "      <td>NaN</td>\n",
       "      <td>EN300-231128</td>\n",
       "      <td>CCN1CCN(c2ccc(NC(=O)CN3Cc4ccc(Cl)cc4[C@H](C(=O...</td>\n",
       "      <td>57.5</td>\n",
       "      <td>85.7</td>\n",
       "    </tr>\n",
       "    <tr>\n",
       "      <th>36</th>\n",
       "      <td>NaN</td>\n",
       "      <td>Cc1ccc(CNC(=O)CN2Cc3ccc(Cl)cc3[C@H](C(=O)Nc3cn...</td>\n",
       "      <td>NaN</td>\n",
       "      <td>86.050000</td>\n",
       "      <td>NaN</td>\n",
       "      <td>&lt;rdkit.Chem.rdchem.Mol object at 0x7fa83ff47b80&gt;</td>\n",
       "      <td></td>\n",
       "      <td>[0, 0, 0, 0, 0, 0, 0, 0, 0, 0, 0, 0, 0, 0, 0, ...</td>\n",
       "      <td>Enamine Amide</td>\n",
       "      <td>NaN</td>\n",
       "      <td>NaN</td>\n",
       "      <td>EN300-16222</td>\n",
       "      <td>Cc1ccc(CNC(=O)CN2Cc3ccc(Cl)cc3[C@H](C(=O)Nc3cn...</td>\n",
       "      <td>86.7</td>\n",
       "      <td>85.4</td>\n",
       "    </tr>\n",
       "    <tr>\n",
       "      <th>37</th>\n",
       "      <td>NaN</td>\n",
       "      <td>O=C(CN1Cc2ccc(Cl)cc2[C@H](C(=O)Nc2cncc3ccccc23...</td>\n",
       "      <td>NaN</td>\n",
       "      <td>86.500000</td>\n",
       "      <td>NaN</td>\n",
       "      <td>&lt;rdkit.Chem.rdchem.Mol object at 0x7fa83ff47c40&gt;</td>\n",
       "      <td></td>\n",
       "      <td>[0, 0, 0, 0, 0, 0, 0, 0, 0, 0, 0, 0, 0, 0, 0, ...</td>\n",
       "      <td>Enamine Amide</td>\n",
       "      <td>NaN</td>\n",
       "      <td>NaN</td>\n",
       "      <td>EN300-16217</td>\n",
       "      <td>O=C(CN1Cc2ccc(Cl)cc2[C@H](C(=O)Nc2cncc3ccccc23...</td>\n",
       "      <td>88.4</td>\n",
       "      <td>84.6</td>\n",
       "    </tr>\n",
       "    <tr>\n",
       "      <th>38</th>\n",
       "      <td>NaN</td>\n",
       "      <td>O=C(CN1Cc2ccc(Cl)cc2[C@H](C(=O)Nc2cncc3ccccc23...</td>\n",
       "      <td>NaN</td>\n",
       "      <td>83.900000</td>\n",
       "      <td>NaN</td>\n",
       "      <td>&lt;rdkit.Chem.rdchem.Mol object at 0x7fa83ff47ca0&gt;</td>\n",
       "      <td></td>\n",
       "      <td>[0, 1, 0, 0, 0, 0, 0, 0, 0, 0, 0, 0, 0, 0, 0, ...</td>\n",
       "      <td>Enamine Amide</td>\n",
       "      <td>NaN</td>\n",
       "      <td>NaN</td>\n",
       "      <td>EN300-27148281</td>\n",
       "      <td>O=C(CN1Cc2ccc(Cl)cc2[C@H](C(=O)Nc2cncc3ccccc23...</td>\n",
       "      <td>83.5</td>\n",
       "      <td>84.3</td>\n",
       "    </tr>\n",
       "    <tr>\n",
       "      <th>39</th>\n",
       "      <td>NaN</td>\n",
       "      <td>CCOc1cccc(CNC(=O)CN2Cc3ccc(Cl)cc3[C@H](C(=O)Nc...</td>\n",
       "      <td>NaN</td>\n",
       "      <td>84.450000</td>\n",
       "      <td>NaN</td>\n",
       "      <td>&lt;rdkit.Chem.rdchem.Mol object at 0x7fa83ff47d00&gt;</td>\n",
       "      <td></td>\n",
       "      <td>[0, 0, 0, 0, 0, 0, 0, 0, 0, 0, 0, 0, 0, 0, 0, ...</td>\n",
       "      <td>Enamine Amide</td>\n",
       "      <td>NaN</td>\n",
       "      <td>NaN</td>\n",
       "      <td>EN300-41941</td>\n",
       "      <td>CCOc1cccc(CNC(=O)CN2Cc3ccc(Cl)cc3[C@H](C(=O)Nc...</td>\n",
       "      <td>84.6</td>\n",
       "      <td>84.3</td>\n",
       "    </tr>\n",
       "    <tr>\n",
       "      <th>40</th>\n",
       "      <td>NaN</td>\n",
       "      <td>CC(C)(NC(=O)CN1Cc2ccc(Cl)cc2[C@H](C(=O)Nc2cncc...</td>\n",
       "      <td>NaN</td>\n",
       "      <td>62.350000</td>\n",
       "      <td>NaN</td>\n",
       "      <td>&lt;rdkit.Chem.rdchem.Mol object at 0x7fa83ff47d60&gt;</td>\n",
       "      <td></td>\n",
       "      <td>[0, 0, 0, 0, 0, 0, 0, 0, 0, 0, 0, 0, 0, 0, 0, ...</td>\n",
       "      <td>Enamine Amide</td>\n",
       "      <td>NaN</td>\n",
       "      <td>NaN</td>\n",
       "      <td>EN300-56487</td>\n",
       "      <td>CC(C)(NC(=O)CN1Cc2ccc(Cl)cc2[C@H](C(=O)Nc2cncc...</td>\n",
       "      <td>41.2</td>\n",
       "      <td>83.5</td>\n",
       "    </tr>\n",
       "    <tr>\n",
       "      <th>41</th>\n",
       "      <td>NaN</td>\n",
       "      <td>CN(CCc1ccccc1)C(=O)CN1Cc2ccc(Cl)cc2[C@H](C(=O)...</td>\n",
       "      <td>NaN</td>\n",
       "      <td>59.250000</td>\n",
       "      <td>NaN</td>\n",
       "      <td>&lt;rdkit.Chem.rdchem.Mol object at 0x7fa83ff47dc0&gt;</td>\n",
       "      <td></td>\n",
       "      <td>[0, 0, 0, 0, 0, 0, 0, 0, 0, 0, 0, 0, 0, 0, 0, ...</td>\n",
       "      <td>Enamine Amide</td>\n",
       "      <td>NaN</td>\n",
       "      <td>NaN</td>\n",
       "      <td>EN300-43573</td>\n",
       "      <td>CN(CCc1ccccc1)C(=O)CN1Cc2ccc(Cl)cc2[C@H](C(=O)...</td>\n",
       "      <td>35.7</td>\n",
       "      <td>82.8</td>\n",
       "    </tr>\n",
       "    <tr>\n",
       "      <th>42</th>\n",
       "      <td>NaN</td>\n",
       "      <td>O=C(CN1Cc2ccc(Cl)cc2[C@H](C(=O)Nc2cncc3ccccc23...</td>\n",
       "      <td>NaN</td>\n",
       "      <td>83.450000</td>\n",
       "      <td>NaN</td>\n",
       "      <td>&lt;rdkit.Chem.rdchem.Mol object at 0x7fa83ff47e20&gt;</td>\n",
       "      <td></td>\n",
       "      <td>[0, 0, 0, 0, 0, 0, 0, 0, 0, 0, 0, 0, 0, 0, 0, ...</td>\n",
       "      <td>Enamine Amide</td>\n",
       "      <td>NaN</td>\n",
       "      <td>NaN</td>\n",
       "      <td>EN300-33064</td>\n",
       "      <td>O=C(CN1Cc2ccc(Cl)cc2[C@H](C(=O)Nc2cncc3ccccc23...</td>\n",
       "      <td>84.2</td>\n",
       "      <td>82.7</td>\n",
       "    </tr>\n",
       "    <tr>\n",
       "      <th>43</th>\n",
       "      <td>NaN</td>\n",
       "      <td>O=C(CN1Cc2ccc(Cl)cc2[C@H](C(=O)Nc2cncc3ccccc23...</td>\n",
       "      <td>NaN</td>\n",
       "      <td>84.650000</td>\n",
       "      <td>NaN</td>\n",
       "      <td>&lt;rdkit.Chem.rdchem.Mol object at 0x7fa83ff47e80&gt;</td>\n",
       "      <td></td>\n",
       "      <td>[0, 0, 0, 0, 0, 0, 0, 0, 0, 0, 0, 0, 0, 0, 0, ...</td>\n",
       "      <td>Enamine Amide</td>\n",
       "      <td>NaN</td>\n",
       "      <td>NaN</td>\n",
       "      <td>EN300-17861</td>\n",
       "      <td>O=C(CN1Cc2ccc(Cl)cc2[C@H](C(=O)Nc2cncc3ccccc23...</td>\n",
       "      <td>87.3</td>\n",
       "      <td>82.0</td>\n",
       "    </tr>\n",
       "    <tr>\n",
       "      <th>44</th>\n",
       "      <td>NaN</td>\n",
       "      <td>O=C(CN1Cc2ccc(Cl)cc2[C@H](C(=O)Nc2cncc3ccccc23...</td>\n",
       "      <td>NaN</td>\n",
       "      <td>83.400000</td>\n",
       "      <td>NaN</td>\n",
       "      <td>&lt;rdkit.Chem.rdchem.Mol object at 0x7fa83ff47ee0&gt;</td>\n",
       "      <td></td>\n",
       "      <td>[0, 0, 0, 0, 0, 0, 0, 0, 0, 0, 0, 0, 0, 0, 0, ...</td>\n",
       "      <td>Enamine Amide</td>\n",
       "      <td>NaN</td>\n",
       "      <td>NaN</td>\n",
       "      <td>EN300-741874</td>\n",
       "      <td>O=C(CN1Cc2ccc(Cl)cc2[C@H](C(=O)Nc2cncc3ccccc23...</td>\n",
       "      <td>85.0</td>\n",
       "      <td>81.8</td>\n",
       "    </tr>\n",
       "  </tbody>\n",
       "</table>\n",
       "</div>"
      ],
      "text/plain": [
       "   Molecule Name                                             SMILES  \\\n",
       "0    PCM-0223366  CCN1CCN(c2ccc(NC(=O)CN3Cc4ccc(Cl)cc4[C@H](C(=O...   \n",
       "1    PCM-0223638  CC(=O)Nc1ccc(NC(=O)CN2Cc3ccc(Cl)cc3[C@H](C(=O)...   \n",
       "2    PCM-0223648  O=C(CN1Cc2ccc(Cl)cc2[C@H](C(=O)Nc2cncc3ccccc23...   \n",
       "3    PCM-0223612  CN1CCN(c2ccc(NC(=O)CN3Cc4ccc(Cl)cc4[C@H](C(=O)...   \n",
       "4    PCM-0223642  O=C(CN1Cc2ccc(Cl)cc2[C@H](C(=O)Nc2cncc3ccccc23...   \n",
       "5    PCM-0223523  COc1cc(CNC(=O)CN2Cc3ccc(Cl)cc3[C@H](C(=O)Nc3cn...   \n",
       "6    PCM-0223525  O=C(CN1Cc2ccc(Cl)cc2[C@H](C(=O)Nc2cncc3ccccc23...   \n",
       "7    PCM-0223397  Cc1ccc2[nH]cc(CCNC(=O)CN3Cc4ccc(Cl)cc4[C@H](C(...   \n",
       "8    PCM-0223544  O=C(CN1Cc2ccc(Cl)cc2[C@H](C(=O)Nc2cncc3ccccc23...   \n",
       "9    PCM-0223452  O=C(CN1Cc2ccc(Cl)cc2[C@H](C(=O)Nc2cncc3ccccc23...   \n",
       "10   PCM-0223425  O=C(CN1Cc2ccc(Cl)cc2[C@H](C(=O)Nc2cncc3ccccc23...   \n",
       "11   PCM-0223561  O=C(CN1Cc2ccc(Cl)cc2[C@H](C(=O)Nc2cncc3ccccc23...   \n",
       "12   PCM-0223377  O=C(CN1Cc2ccc(Cl)cc2[C@H](C(=O)Nc2cncc3ccccc23...   \n",
       "13   PCM-0223364  O=C(CN1Cc2ccc(Cl)cc2[C@H](C(=O)Nc2cncc3ccccc23...   \n",
       "14   PCM-0223458  CCOc1ccccc1CNC(=O)CN1Cc2ccc(Cl)cc2[C@H](C(=O)N...   \n",
       "15   PCM-0223409  O=C(CN1Cc2ccc(Cl)cc2[C@H](C(=O)Nc2cncc3ccccc23...   \n",
       "16   PCM-0223392  O=C(CN1Cc2ccc(Cl)cc2[C@H](C(=O)Nc2cncc3ccccc23...   \n",
       "17   PCM-0223396  O=C(CN1Cc2ccc(Cl)cc2[C@H](C(=O)Nc2cncc3ccccc23...   \n",
       "18   PCM-0223551  O=C(CN1Cc2ccc(Cl)cc2[C@H](C(=O)Nc2cncc3ccccc23...   \n",
       "19   PCM-0223524  CCOc1ccc(CNC(=O)CN2Cc3ccc(Cl)cc3[C@H](C(=O)Nc3...   \n",
       "20   PCM-0223655  O=C(Nc1cncc2ccccc12)[C@@H]1CN(CC(=O)N(C2CCCCC2...   \n",
       "21   PCM-0223597  CN1CCN(c2ccccc2NC(=O)CN2Cc3ccc(Cl)cc3[C@H](C(=...   \n",
       "22   PCM-0223562  CC(C)(C)N(Cc1ccccc1)C(=O)CN1Cc2ccc(Cl)cc2[C@H]...   \n",
       "23   PCM-0223543  O=C(CN1Cc2ccc(Cl)cc2[C@H](C(=O)Nc2cncc3ccccc23...   \n",
       "24   PCM-0223419  O=C(CN1Cc2ccc(Cl)cc2[C@H](C(=O)Nc2cncc3ccccc23...   \n",
       "25           NaN  CC(=O)Nc1ccc(N(C)C(=O)CN2Cc3ccc(Cl)cc3[C@H](C(...   \n",
       "26           NaN  COc1cccc(CNC(=O)CN2Cc3ccc(Cl)cc3[C@H](C(=O)Nc3...   \n",
       "27           NaN  CCc1ccc(CNC(=O)CN2Cc3ccc(Cl)cc3[C@H](C(=O)Nc3c...   \n",
       "28           NaN  Cc1ccc(CCNC(=O)CN2Cc3ccc(Cl)cc3[C@H](C(=O)Nc3c...   \n",
       "29           NaN  CN1CCN(c2ccc(NC(=O)CN3Cc4ccc(Cl)cc4[C@H](C(=O)...   \n",
       "30           NaN  CCc1ccc(CCNC(=O)CN2Cc3ccc(Cl)cc3[C@H](C(=O)Nc3...   \n",
       "31           NaN  O=C(CN1Cc2ccc(Cl)cc2[C@H](C(=O)Nc2cncc3ccccc23...   \n",
       "32           NaN  COc1ccc(CNC(=O)CN2Cc3ccc(Cl)cc3[C@H](C(=O)Nc3c...   \n",
       "33           NaN  COc1ccc(CNC(=O)CN2Cc3ccc(Cl)cc3[C@H](C(=O)Nc3c...   \n",
       "34           NaN  COc1ccccc1CNC(=O)CN1Cc2ccc(Cl)cc2[C@H](C(=O)Nc...   \n",
       "35           NaN  CCN1CCN(c2ccc(NC(=O)CN3Cc4ccc(Cl)cc4[C@H](C(=O...   \n",
       "36           NaN  Cc1ccc(CNC(=O)CN2Cc3ccc(Cl)cc3[C@H](C(=O)Nc3cn...   \n",
       "37           NaN  O=C(CN1Cc2ccc(Cl)cc2[C@H](C(=O)Nc2cncc3ccccc23...   \n",
       "38           NaN  O=C(CN1Cc2ccc(Cl)cc2[C@H](C(=O)Nc2cncc3ccccc23...   \n",
       "39           NaN  CCOc1cccc(CNC(=O)CN2Cc3ccc(Cl)cc3[C@H](C(=O)Nc...   \n",
       "40           NaN  CC(C)(NC(=O)CN1Cc2ccc(Cl)cc2[C@H](C(=O)Nc2cncc...   \n",
       "41           NaN  CN(CCc1ccccc1)C(=O)CN1Cc2ccc(Cl)cc2[C@H](C(=O)...   \n",
       "42           NaN  O=C(CN1Cc2ccc(Cl)cc2[C@H](C(=O)Nc2cncc3ccccc23...   \n",
       "43           NaN  O=C(CN1Cc2ccc(Cl)cc2[C@H](C(=O)Nc2cncc3ccccc23...   \n",
       "44           NaN  O=C(CN1Cc2ccc(Cl)cc2[C@H](C(=O)Nc2cncc3ccccc23...   \n",
       "\n",
       "    Measured Inhibition (%)  Average Prediction (%)     FP  \\\n",
       "0                      97.4               56.900000   True   \n",
       "1                      95.2               52.600000   True   \n",
       "2                      92.0               77.300000  False   \n",
       "3                      91.6               35.800000   True   \n",
       "4                      91.4               51.800000   True   \n",
       "5                      90.5               76.700000  False   \n",
       "6                      90.5               83.400000  False   \n",
       "7                      90.1               53.900000   True   \n",
       "8                      90.1               36.700000   True   \n",
       "9                      88.3               85.600000  False   \n",
       "10                     88.3               74.700000  False   \n",
       "11                     87.6               72.400000  False   \n",
       "12                     87.3               70.100000   True   \n",
       "13                     86.7               20.200000   True   \n",
       "14                     86.2               74.200000  False   \n",
       "15                     85.4               76.500000  False   \n",
       "16                     85.0               68.700000   True   \n",
       "17                     84.8               24.000000   True   \n",
       "18                     84.7               70.300000  False   \n",
       "19                     84.2               83.100000  False   \n",
       "20                     20.7               53.815392    NaN   \n",
       "21                     24.5               59.425045    NaN   \n",
       "22                     15.5               52.986408    NaN   \n",
       "23                     33.8               75.712223    NaN   \n",
       "24                     16.5               47.056688    NaN   \n",
       "25                      NaN               80.900000    NaN   \n",
       "26                      NaN               86.450000    NaN   \n",
       "27                      NaN               87.800000    NaN   \n",
       "28                      NaN               87.900000    NaN   \n",
       "29                      NaN               84.250000    NaN   \n",
       "30                      NaN               87.150000    NaN   \n",
       "31                      NaN               84.600000    NaN   \n",
       "32                      NaN               87.100000    NaN   \n",
       "33                      NaN               85.150000    NaN   \n",
       "34                      NaN               83.700000    NaN   \n",
       "35                      NaN               71.600000    NaN   \n",
       "36                      NaN               86.050000    NaN   \n",
       "37                      NaN               86.500000    NaN   \n",
       "38                      NaN               83.900000    NaN   \n",
       "39                      NaN               84.450000    NaN   \n",
       "40                      NaN               62.350000    NaN   \n",
       "41                      NaN               59.250000    NaN   \n",
       "42                      NaN               83.450000    NaN   \n",
       "43                      NaN               84.650000    NaN   \n",
       "44                      NaN               83.400000    NaN   \n",
       "\n",
       "                                                 mol Error  \\\n",
       "0   <rdkit.Chem.rdchem.Mol object at 0x7fa83ff45de0>         \n",
       "1   <rdkit.Chem.rdchem.Mol object at 0x7fa83ff45f00>         \n",
       "2   <rdkit.Chem.rdchem.Mol object at 0x7fa83ff45f60>         \n",
       "3   <rdkit.Chem.rdchem.Mol object at 0x7fa83ff45fc0>         \n",
       "4   <rdkit.Chem.rdchem.Mol object at 0x7fa83ff46020>         \n",
       "5   <rdkit.Chem.rdchem.Mol object at 0x7fa83ff46080>         \n",
       "6   <rdkit.Chem.rdchem.Mol object at 0x7fa83ff460e0>         \n",
       "7   <rdkit.Chem.rdchem.Mol object at 0x7fa83ff46140>         \n",
       "8   <rdkit.Chem.rdchem.Mol object at 0x7fa83ff461a0>         \n",
       "9   <rdkit.Chem.rdchem.Mol object at 0x7fa83ff46200>         \n",
       "10  <rdkit.Chem.rdchem.Mol object at 0x7fa83ff46260>         \n",
       "11  <rdkit.Chem.rdchem.Mol object at 0x7fa83ff462c0>         \n",
       "12  <rdkit.Chem.rdchem.Mol object at 0x7fa83ff46320>         \n",
       "13  <rdkit.Chem.rdchem.Mol object at 0x7fa83ff46380>         \n",
       "14  <rdkit.Chem.rdchem.Mol object at 0x7fa83ff463e0>         \n",
       "15  <rdkit.Chem.rdchem.Mol object at 0x7fa83ff46440>         \n",
       "16  <rdkit.Chem.rdchem.Mol object at 0x7fa83ff464a0>         \n",
       "17  <rdkit.Chem.rdchem.Mol object at 0x7fa83ff46500>         \n",
       "18  <rdkit.Chem.rdchem.Mol object at 0x7fa83ff46560>         \n",
       "19  <rdkit.Chem.rdchem.Mol object at 0x7fa83ff465c0>         \n",
       "20  <rdkit.Chem.rdchem.Mol object at 0x7fa83ff468c0>         \n",
       "21  <rdkit.Chem.rdchem.Mol object at 0x7fa83ff470a0>         \n",
       "22  <rdkit.Chem.rdchem.Mol object at 0x7fa83ff47280>         \n",
       "23  <rdkit.Chem.rdchem.Mol object at 0x7fa83ff47400>         \n",
       "24  <rdkit.Chem.rdchem.Mol object at 0x7fa83ff47340>         \n",
       "25  <rdkit.Chem.rdchem.Mol object at 0x7fa83ff47a00>         \n",
       "26  <rdkit.Chem.rdchem.Mol object at 0x7fa83ff47040>         \n",
       "27  <rdkit.Chem.rdchem.Mol object at 0x7fa83ff47ac0>         \n",
       "28  <rdkit.Chem.rdchem.Mol object at 0x7fa83ff479a0>         \n",
       "29  <rdkit.Chem.rdchem.Mol object at 0x7fa83ff47820>         \n",
       "30  <rdkit.Chem.rdchem.Mol object at 0x7fa83ff47760>         \n",
       "31  <rdkit.Chem.rdchem.Mol object at 0x7fa83ff46f20>         \n",
       "32  <rdkit.Chem.rdchem.Mol object at 0x7fa83ff47940>         \n",
       "33  <rdkit.Chem.rdchem.Mol object at 0x7fa83ff47160>         \n",
       "34  <rdkit.Chem.rdchem.Mol object at 0x7fa83ff478e0>         \n",
       "35  <rdkit.Chem.rdchem.Mol object at 0x7fa83ff47be0>         \n",
       "36  <rdkit.Chem.rdchem.Mol object at 0x7fa83ff47b80>         \n",
       "37  <rdkit.Chem.rdchem.Mol object at 0x7fa83ff47c40>         \n",
       "38  <rdkit.Chem.rdchem.Mol object at 0x7fa83ff47ca0>         \n",
       "39  <rdkit.Chem.rdchem.Mol object at 0x7fa83ff47d00>         \n",
       "40  <rdkit.Chem.rdchem.Mol object at 0x7fa83ff47d60>         \n",
       "41  <rdkit.Chem.rdchem.Mol object at 0x7fa83ff47dc0>         \n",
       "42  <rdkit.Chem.rdchem.Mol object at 0x7fa83ff47e20>         \n",
       "43  <rdkit.Chem.rdchem.Mol object at 0x7fa83ff47e80>         \n",
       "44  <rdkit.Chem.rdchem.Mol object at 0x7fa83ff47ee0>         \n",
       "\n",
       "                                                  fps            Data  \\\n",
       "0   [0, 0, 0, 0, 0, 0, 0, 0, 0, 0, 0, 0, 0, 0, 0, ...          Top 20   \n",
       "1   [0, 0, 0, 0, 0, 0, 0, 0, 0, 0, 0, 0, 0, 0, 0, ...          Top 20   \n",
       "2   [0, 0, 0, 0, 0, 0, 0, 0, 0, 0, 0, 0, 0, 0, 0, ...          Top 20   \n",
       "3   [0, 0, 0, 0, 0, 0, 0, 0, 0, 0, 0, 0, 0, 0, 1, ...          Top 20   \n",
       "4   [0, 0, 0, 0, 0, 0, 0, 0, 0, 0, 0, 0, 0, 0, 0, ...          Top 20   \n",
       "5   [0, 0, 0, 0, 0, 0, 0, 0, 0, 0, 0, 0, 0, 0, 0, ...          Top 20   \n",
       "6   [0, 0, 0, 0, 0, 0, 0, 0, 0, 0, 0, 0, 0, 0, 0, ...          Top 20   \n",
       "7   [0, 0, 0, 0, 0, 0, 0, 0, 0, 0, 0, 0, 0, 0, 0, ...          Top 20   \n",
       "8   [0, 0, 0, 0, 0, 0, 0, 0, 0, 0, 0, 0, 0, 0, 0, ...          Top 20   \n",
       "9   [0, 0, 0, 0, 0, 0, 0, 0, 0, 0, 0, 0, 0, 0, 0, ...          Top 20   \n",
       "10  [0, 0, 0, 0, 0, 0, 0, 0, 0, 0, 0, 0, 0, 0, 0, ...          Top 20   \n",
       "11  [0, 0, 0, 0, 0, 0, 0, 0, 0, 0, 0, 0, 0, 0, 0, ...          Top 20   \n",
       "12  [0, 0, 0, 0, 0, 0, 0, 0, 0, 0, 0, 0, 0, 0, 0, ...          Top 20   \n",
       "13  [0, 0, 0, 0, 0, 0, 0, 0, 0, 0, 0, 0, 0, 0, 0, ...          Top 20   \n",
       "14  [0, 0, 0, 0, 0, 0, 0, 0, 0, 0, 0, 0, 0, 0, 0, ...          Top 20   \n",
       "15  [0, 0, 0, 0, 0, 0, 0, 0, 0, 0, 0, 0, 0, 0, 0, ...          Top 20   \n",
       "16  [0, 1, 0, 0, 0, 0, 0, 0, 0, 0, 0, 0, 0, 0, 0, ...          Top 20   \n",
       "17  [0, 0, 0, 0, 0, 0, 0, 0, 0, 0, 0, 0, 0, 0, 0, ...          Top 20   \n",
       "18  [0, 0, 0, 0, 0, 0, 0, 0, 0, 0, 0, 0, 0, 0, 0, ...          Top 20   \n",
       "19  [0, 0, 0, 0, 0, 0, 0, 0, 0, 0, 0, 0, 0, 0, 0, ...          Top 20   \n",
       "20  [0, 0, 1, 0, 0, 0, 0, 0, 0, 0, 0, 0, 0, 0, 0, ...  False Negative   \n",
       "21  [0, 0, 0, 0, 0, 0, 0, 0, 0, 0, 0, 0, 0, 0, 1, ...  False Negative   \n",
       "22  [0, 0, 0, 0, 0, 0, 0, 0, 0, 0, 0, 0, 0, 0, 0, ...  False Negative   \n",
       "23  [0, 0, 0, 0, 0, 0, 0, 0, 0, 0, 0, 0, 0, 0, 0, ...  False Negative   \n",
       "24  [0, 0, 0, 0, 0, 0, 0, 0, 0, 0, 0, 0, 0, 0, 0, ...  False Negative   \n",
       "25  [0, 0, 0, 0, 0, 0, 0, 0, 0, 0, 0, 0, 0, 0, 0, ...   Enamine Amide   \n",
       "26  [0, 0, 0, 0, 0, 0, 0, 0, 0, 0, 0, 0, 0, 0, 0, ...   Enamine Amide   \n",
       "27  [0, 0, 0, 0, 0, 0, 0, 0, 0, 0, 0, 0, 0, 0, 0, ...   Enamine Amide   \n",
       "28  [0, 0, 0, 0, 0, 0, 0, 0, 0, 0, 0, 0, 0, 0, 0, ...   Enamine Amide   \n",
       "29  [0, 0, 0, 0, 0, 0, 0, 0, 0, 0, 0, 0, 0, 0, 1, ...   Enamine Amide   \n",
       "30  [0, 0, 0, 0, 0, 0, 0, 0, 0, 0, 0, 0, 0, 0, 0, ...   Enamine Amide   \n",
       "31  [0, 0, 0, 0, 0, 0, 0, 0, 0, 0, 0, 0, 0, 0, 0, ...   Enamine Amide   \n",
       "32  [0, 0, 0, 0, 0, 0, 0, 0, 0, 0, 0, 0, 0, 0, 0, ...   Enamine Amide   \n",
       "33  [0, 0, 0, 0, 0, 0, 0, 0, 0, 0, 0, 0, 0, 0, 0, ...   Enamine Amide   \n",
       "34  [0, 0, 0, 0, 0, 0, 0, 0, 0, 0, 0, 0, 0, 0, 0, ...   Enamine Amide   \n",
       "35  [0, 0, 0, 0, 0, 0, 0, 0, 0, 0, 0, 0, 0, 0, 0, ...   Enamine Amide   \n",
       "36  [0, 0, 0, 0, 0, 0, 0, 0, 0, 0, 0, 0, 0, 0, 0, ...   Enamine Amide   \n",
       "37  [0, 0, 0, 0, 0, 0, 0, 0, 0, 0, 0, 0, 0, 0, 0, ...   Enamine Amide   \n",
       "38  [0, 1, 0, 0, 0, 0, 0, 0, 0, 0, 0, 0, 0, 0, 0, ...   Enamine Amide   \n",
       "39  [0, 0, 0, 0, 0, 0, 0, 0, 0, 0, 0, 0, 0, 0, 0, ...   Enamine Amide   \n",
       "40  [0, 0, 0, 0, 0, 0, 0, 0, 0, 0, 0, 0, 0, 0, 0, ...   Enamine Amide   \n",
       "41  [0, 0, 0, 0, 0, 0, 0, 0, 0, 0, 0, 0, 0, 0, 0, ...   Enamine Amide   \n",
       "42  [0, 0, 0, 0, 0, 0, 0, 0, 0, 0, 0, 0, 0, 0, 0, ...   Enamine Amide   \n",
       "43  [0, 0, 0, 0, 0, 0, 0, 0, 0, 0, 0, 0, 0, 0, 0, ...   Enamine Amide   \n",
       "44  [0, 0, 0, 0, 0, 0, 0, 0, 0, 0, 0, 0, 0, 0, 0, ...   Enamine Amide   \n",
       "\n",
       "    RF Predicted Inhibition (%)  GP Predicted Inhibition (%)              ID  \\\n",
       "0                           NaN                          NaN             NaN   \n",
       "1                           NaN                          NaN             NaN   \n",
       "2                           NaN                          NaN             NaN   \n",
       "3                           NaN                          NaN             NaN   \n",
       "4                           NaN                          NaN             NaN   \n",
       "5                           NaN                          NaN             NaN   \n",
       "6                           NaN                          NaN             NaN   \n",
       "7                           NaN                          NaN             NaN   \n",
       "8                           NaN                          NaN             NaN   \n",
       "9                           NaN                          NaN             NaN   \n",
       "10                          NaN                          NaN             NaN   \n",
       "11                          NaN                          NaN             NaN   \n",
       "12                          NaN                          NaN             NaN   \n",
       "13                          NaN                          NaN             NaN   \n",
       "14                          NaN                          NaN             NaN   \n",
       "15                          NaN                          NaN             NaN   \n",
       "16                          NaN                          NaN             NaN   \n",
       "17                          NaN                          NaN             NaN   \n",
       "18                          NaN                          NaN             NaN   \n",
       "19                          NaN                          NaN             NaN   \n",
       "20                      47.8474                    59.783384             NaN   \n",
       "21                      62.0320                    56.818089             NaN   \n",
       "22                      44.2642                    61.708616             NaN   \n",
       "23                      79.4698                    71.954646             NaN   \n",
       "24                      54.2816                    39.831777             NaN   \n",
       "25                          NaN                          NaN    EN300-761439   \n",
       "26                          NaN                          NaN     EN300-16224   \n",
       "27                          NaN                          NaN    EN300-184079   \n",
       "28                          NaN                          NaN    EN300-146602   \n",
       "29                          NaN                          NaN     EN300-31965   \n",
       "30                          NaN                          NaN     EN300-80226   \n",
       "31                          NaN                          NaN     EN300-16220   \n",
       "32                          NaN                          NaN     EN300-17919   \n",
       "33                          NaN                          NaN     EN300-17924   \n",
       "34                          NaN                          NaN     EN300-18379   \n",
       "35                          NaN                          NaN    EN300-231128   \n",
       "36                          NaN                          NaN     EN300-16222   \n",
       "37                          NaN                          NaN     EN300-16217   \n",
       "38                          NaN                          NaN  EN300-27148281   \n",
       "39                          NaN                          NaN     EN300-41941   \n",
       "40                          NaN                          NaN     EN300-56487   \n",
       "41                          NaN                          NaN     EN300-43573   \n",
       "42                          NaN                          NaN     EN300-33064   \n",
       "43                          NaN                          NaN     EN300-17861   \n",
       "44                          NaN                          NaN    EN300-741874   \n",
       "\n",
       "                                                amide  Random Forest  \\\n",
       "0                                                 NaN            NaN   \n",
       "1                                                 NaN            NaN   \n",
       "2                                                 NaN            NaN   \n",
       "3                                                 NaN            NaN   \n",
       "4                                                 NaN            NaN   \n",
       "5                                                 NaN            NaN   \n",
       "6                                                 NaN            NaN   \n",
       "7                                                 NaN            NaN   \n",
       "8                                                 NaN            NaN   \n",
       "9                                                 NaN            NaN   \n",
       "10                                                NaN            NaN   \n",
       "11                                                NaN            NaN   \n",
       "12                                                NaN            NaN   \n",
       "13                                                NaN            NaN   \n",
       "14                                                NaN            NaN   \n",
       "15                                                NaN            NaN   \n",
       "16                                                NaN            NaN   \n",
       "17                                                NaN            NaN   \n",
       "18                                                NaN            NaN   \n",
       "19                                                NaN            NaN   \n",
       "20                                                NaN            NaN   \n",
       "21                                                NaN            NaN   \n",
       "22                                                NaN            NaN   \n",
       "23                                                NaN            NaN   \n",
       "24                                                NaN            NaN   \n",
       "25  CC(=O)Nc1ccc(N(C)C(=O)CN2Cc3ccc(Cl)cc3[C@H](C(...           68.5   \n",
       "26  COc1cccc(CNC(=O)CN2Cc3ccc(Cl)cc3[C@H](C(=O)Nc3...           81.1   \n",
       "27  CCc1ccc(CNC(=O)CN2Cc3ccc(Cl)cc3[C@H](C(=O)Nc3c...           86.2   \n",
       "28  Cc1ccc(CCNC(=O)CN2Cc3ccc(Cl)cc3[C@H](C(=O)Nc3c...           87.1   \n",
       "29  CN1CCN(c2ccc(NC(=O)CN3Cc4ccc(Cl)cc4[C@H](C(=O)...           80.6   \n",
       "30  CCc1ccc(CCNC(=O)CN2Cc3ccc(Cl)cc3[C@H](C(=O)Nc3...           86.5   \n",
       "31  O=C(CN1Cc2ccc(Cl)cc2[C@H](C(=O)Nc2cncc3ccccc23...           82.6   \n",
       "32  COc1ccc(CNC(=O)CN2Cc3ccc(Cl)cc3[C@H](C(=O)Nc3c...           87.6   \n",
       "33  COc1ccc(CNC(=O)CN2Cc3ccc(Cl)cc3[C@H](C(=O)Nc3c...           83.8   \n",
       "34  COc1ccccc1CNC(=O)CN1Cc2ccc(Cl)cc2[C@H](C(=O)Nc...           81.2   \n",
       "35  CCN1CCN(c2ccc(NC(=O)CN3Cc4ccc(Cl)cc4[C@H](C(=O...           57.5   \n",
       "36  Cc1ccc(CNC(=O)CN2Cc3ccc(Cl)cc3[C@H](C(=O)Nc3cn...           86.7   \n",
       "37  O=C(CN1Cc2ccc(Cl)cc2[C@H](C(=O)Nc2cncc3ccccc23...           88.4   \n",
       "38  O=C(CN1Cc2ccc(Cl)cc2[C@H](C(=O)Nc2cncc3ccccc23...           83.5   \n",
       "39  CCOc1cccc(CNC(=O)CN2Cc3ccc(Cl)cc3[C@H](C(=O)Nc...           84.6   \n",
       "40  CC(C)(NC(=O)CN1Cc2ccc(Cl)cc2[C@H](C(=O)Nc2cncc...           41.2   \n",
       "41  CN(CCc1ccccc1)C(=O)CN1Cc2ccc(Cl)cc2[C@H](C(=O)...           35.7   \n",
       "42  O=C(CN1Cc2ccc(Cl)cc2[C@H](C(=O)Nc2cncc3ccccc23...           84.2   \n",
       "43  O=C(CN1Cc2ccc(Cl)cc2[C@H](C(=O)Nc2cncc3ccccc23...           87.3   \n",
       "44  O=C(CN1Cc2ccc(Cl)cc2[C@H](C(=O)Nc2cncc3ccccc23...           85.0   \n",
       "\n",
       "    Gaussian Process  \n",
       "0                NaN  \n",
       "1                NaN  \n",
       "2                NaN  \n",
       "3                NaN  \n",
       "4                NaN  \n",
       "5                NaN  \n",
       "6                NaN  \n",
       "7                NaN  \n",
       "8                NaN  \n",
       "9                NaN  \n",
       "10               NaN  \n",
       "11               NaN  \n",
       "12               NaN  \n",
       "13               NaN  \n",
       "14               NaN  \n",
       "15               NaN  \n",
       "16               NaN  \n",
       "17               NaN  \n",
       "18               NaN  \n",
       "19               NaN  \n",
       "20               NaN  \n",
       "21               NaN  \n",
       "22               NaN  \n",
       "23               NaN  \n",
       "24               NaN  \n",
       "25              93.3  \n",
       "26              91.8  \n",
       "27              89.4  \n",
       "28              88.7  \n",
       "29              87.9  \n",
       "30              87.8  \n",
       "31              86.6  \n",
       "32              86.6  \n",
       "33              86.5  \n",
       "34              86.2  \n",
       "35              85.7  \n",
       "36              85.4  \n",
       "37              84.6  \n",
       "38              84.3  \n",
       "39              84.3  \n",
       "40              83.5  \n",
       "41              82.8  \n",
       "42              82.7  \n",
       "43              82.0  \n",
       "44              81.8  "
      ]
     },
     "execution_count": 7,
     "metadata": {},
     "output_type": "execute_result"
    }
   ],
   "source": [
    "df_submitted"
   ]
  },
  {
   "cell_type": "markdown",
   "metadata": {},
   "source": [
    "04-09-2022 2nd batch from Nir"
   ]
  },
  {
   "cell_type": "code",
   "execution_count": 8,
   "metadata": {},
   "outputs": [
    {
     "name": "stderr",
     "output_type": "stream",
     "text": [
      "100%|██████████| 17/17 [00:00<00:00, 1226.93it/s]\n",
      "/var/folders/b1/zflg536s6rvg62mcvlc7dnnw0000gn/T/ipykernel_80984/3828196820.py:6: FutureWarning: The default value of regex will change from True to False in a future version.\n",
      "  df_cdd_2['SMILES'] = df_cdd_2[\"CXSMILES (CDD Compatible)\"].str.replace(\n",
      "100%|██████████| 25/25 [00:00<00:00, 1508.55it/s]\n",
      "/var/folders/b1/zflg536s6rvg62mcvlc7dnnw0000gn/T/ipykernel_80984/2553041838.py:8: FutureWarning: The default value of regex will change from True to False in a future version.\n",
      "  df_cdd_3['SMILES'] = df_cdd_3[\"CXSMILES (CDD Compatible)\"].str.replace(\n",
      "100%|██████████| 101/101 [00:00<00:00, 1603.71it/s]\n",
      "/var/folders/b1/zflg536s6rvg62mcvlc7dnnw0000gn/T/ipykernel_80984/3398988987.py:12: FutureWarning:\n",
      "\n",
      "Dropping invalid columns in DataFrameGroupBy.max is deprecated. In a future version, a TypeError will be raised. Before calling .max, select only columns which should be valid for the function.\n",
      "\n",
      "/var/folders/b1/zflg536s6rvg62mcvlc7dnnw0000gn/T/ipykernel_80984/3398988987.py:16: FutureWarning:\n",
      "\n",
      "Dropping invalid columns in DataFrameGroupBy.min is deprecated. In a future version, a TypeError will be raised. Before calling .min, select only columns which should be valid for the function.\n",
      "\n",
      "/var/folders/b1/zflg536s6rvg62mcvlc7dnnw0000gn/T/ipykernel_80984/3600576952.py:12: FutureWarning:\n",
      "\n",
      "Dropping invalid columns in DataFrameGroupBy.max is deprecated. In a future version, a TypeError will be raised. Before calling .max, select only columns which should be valid for the function.\n",
      "\n",
      "/var/folders/b1/zflg536s6rvg62mcvlc7dnnw0000gn/T/ipykernel_80984/3600576952.py:16: FutureWarning:\n",
      "\n",
      "Dropping invalid columns in DataFrameGroupBy.min is deprecated. In a future version, a TypeError will be raised. Before calling .min, select only columns which should be valid for the function.\n",
      "\n",
      "/var/folders/b1/zflg536s6rvg62mcvlc7dnnw0000gn/T/ipykernel_80984/719820816.py:2: FutureWarning:\n",
      "\n",
      "Dropping invalid columns in DataFrameGroupBy.max is deprecated. In a future version, a TypeError will be raised. Before calling .max, select only columns which should be valid for the function.\n",
      "\n",
      "/var/folders/b1/zflg536s6rvg62mcvlc7dnnw0000gn/T/ipykernel_80984/3179287815.py:2: FutureWarning:\n",
      "\n",
      "Dropping invalid columns in DataFrameGroupBy.min is deprecated. In a future version, a TypeError will be raised. Before calling .min, select only columns which should be valid for the function.\n",
      "\n",
      "/var/folders/b1/zflg536s6rvg62mcvlc7dnnw0000gn/T/ipykernel_80984/1307124944.py:12: FutureWarning:\n",
      "\n",
      "Dropping invalid columns in DataFrameGroupBy.max is deprecated. In a future version, a TypeError will be raised. Before calling .max, select only columns which should be valid for the function.\n",
      "\n",
      "/var/folders/b1/zflg536s6rvg62mcvlc7dnnw0000gn/T/ipykernel_80984/1307124944.py:16: FutureWarning:\n",
      "\n",
      "Dropping invalid columns in DataFrameGroupBy.min is deprecated. In a future version, a TypeError will be raised. Before calling .min, select only columns which should be valid for the function.\n",
      "\n",
      "/var/folders/b1/zflg536s6rvg62mcvlc7dnnw0000gn/T/ipykernel_80984/2776472350.py:12: FutureWarning:\n",
      "\n",
      "Dropping invalid columns in DataFrameGroupBy.max is deprecated. In a future version, a TypeError will be raised. Before calling .max, select only columns which should be valid for the function.\n",
      "\n",
      "/var/folders/b1/zflg536s6rvg62mcvlc7dnnw0000gn/T/ipykernel_80984/2776472350.py:17: FutureWarning:\n",
      "\n",
      "Dropping invalid columns in DataFrameGroupBy.min is deprecated. In a future version, a TypeError will be raised. Before calling .min, select only columns which should be valid for the function.\n",
      "\n",
      "/var/folders/b1/zflg536s6rvg62mcvlc7dnnw0000gn/T/ipykernel_80984/2989134470.py:12: FutureWarning:\n",
      "\n",
      "Dropping invalid columns in DataFrameGroupBy.max is deprecated. In a future version, a TypeError will be raised. Before calling .max, select only columns which should be valid for the function.\n",
      "\n",
      "/var/folders/b1/zflg536s6rvg62mcvlc7dnnw0000gn/T/ipykernel_80984/2989134470.py:17: FutureWarning:\n",
      "\n",
      "Dropping invalid columns in DataFrameGroupBy.min is deprecated. In a future version, a TypeError will be raised. Before calling .min, select only columns which should be valid for the function.\n",
      "\n",
      "/var/folders/b1/zflg536s6rvg62mcvlc7dnnw0000gn/T/ipykernel_80984/663296236.py:12: FutureWarning:\n",
      "\n",
      "Dropping invalid columns in DataFrameGroupBy.max is deprecated. In a future version, a TypeError will be raised. Before calling .max, select only columns which should be valid for the function.\n",
      "\n",
      "/var/folders/b1/zflg536s6rvg62mcvlc7dnnw0000gn/T/ipykernel_80984/663296236.py:17: FutureWarning:\n",
      "\n",
      "Dropping invalid columns in DataFrameGroupBy.min is deprecated. In a future version, a TypeError will be raised. Before calling .min, select only columns which should be valid for the function.\n",
      "\n",
      "/var/folders/b1/zflg536s6rvg62mcvlc7dnnw0000gn/T/ipykernel_80984/2344579944.py:12: FutureWarning:\n",
      "\n",
      "Dropping invalid columns in DataFrameGroupBy.max is deprecated. In a future version, a TypeError will be raised. Before calling .max, select only columns which should be valid for the function.\n",
      "\n",
      "/var/folders/b1/zflg536s6rvg62mcvlc7dnnw0000gn/T/ipykernel_80984/2344579944.py:17: FutureWarning:\n",
      "\n",
      "Dropping invalid columns in DataFrameGroupBy.min is deprecated. In a future version, a TypeError will be raised. Before calling .min, select only columns which should be valid for the function.\n",
      "\n",
      "/var/folders/b1/zflg536s6rvg62mcvlc7dnnw0000gn/T/ipykernel_80984/1358616932.py:12: FutureWarning:\n",
      "\n",
      "Dropping invalid columns in DataFrameGroupBy.max is deprecated. In a future version, a TypeError will be raised. Before calling .max, select only columns which should be valid for the function.\n",
      "\n",
      "/var/folders/b1/zflg536s6rvg62mcvlc7dnnw0000gn/T/ipykernel_80984/1358616932.py:17: FutureWarning:\n",
      "\n",
      "Dropping invalid columns in DataFrameGroupBy.min is deprecated. In a future version, a TypeError will be raised. Before calling .min, select only columns which should be valid for the function.\n",
      "\n",
      "/var/folders/b1/zflg536s6rvg62mcvlc7dnnw0000gn/T/ipykernel_80984/3011397304.py:12: FutureWarning:\n",
      "\n",
      "Dropping invalid columns in DataFrameGroupBy.max is deprecated. In a future version, a TypeError will be raised. Before calling .max, select only columns which should be valid for the function.\n",
      "\n",
      "/var/folders/b1/zflg536s6rvg62mcvlc7dnnw0000gn/T/ipykernel_80984/3011397304.py:17: FutureWarning:\n",
      "\n",
      "Dropping invalid columns in DataFrameGroupBy.min is deprecated. In a future version, a TypeError will be raised. Before calling .min, select only columns which should be valid for the function.\n",
      "\n",
      "/var/folders/b1/zflg536s6rvg62mcvlc7dnnw0000gn/T/ipykernel_80984/2067888972.py:12: FutureWarning:\n",
      "\n",
      "Dropping invalid columns in DataFrameGroupBy.max is deprecated. In a future version, a TypeError will be raised. Before calling .max, select only columns which should be valid for the function.\n",
      "\n",
      "/var/folders/b1/zflg536s6rvg62mcvlc7dnnw0000gn/T/ipykernel_80984/2067888972.py:17: FutureWarning:\n",
      "\n",
      "Dropping invalid columns in DataFrameGroupBy.min is deprecated. In a future version, a TypeError will be raised. Before calling .min, select only columns which should be valid for the function.\n",
      "\n",
      "/var/folders/b1/zflg536s6rvg62mcvlc7dnnw0000gn/T/ipykernel_80984/1697964706.py:12: FutureWarning:\n",
      "\n",
      "Dropping invalid columns in DataFrameGroupBy.max is deprecated. In a future version, a TypeError will be raised. Before calling .max, select only columns which should be valid for the function.\n",
      "\n",
      "/var/folders/b1/zflg536s6rvg62mcvlc7dnnw0000gn/T/ipykernel_80984/1697964706.py:17: FutureWarning:\n",
      "\n",
      "Dropping invalid columns in DataFrameGroupBy.min is deprecated. In a future version, a TypeError will be raised. Before calling .min, select only columns which should be valid for the function.\n",
      "\n"
     ]
    },
    {
     "data": {
      "text/plain": [
       "'CC1=CC=C(CCNC(=O)CN2C[C@H](C(=O)NC3=CN=CC4=CC=CC=C34)C3=CC(Cl)=CC=C3C2)C=C1'"
      ]
     },
     "execution_count": 8,
     "metadata": {},
     "output_type": "execute_result"
    }
   ],
   "source": [
    "df_cdd_2 = pd.read_excel(\n",
    "    '../data/measurements/CDD Excel Export - 2022-09-07 03h27m51s.xlsx')\n",
    "df_cdd_2['IC50'] = df_cdd_2['Protease_SARS_Cov2_Mpro_fluorescence_dose_response: IC50 (µM)'].astype(str).str.replace(\n",
    "    '< ', '')\n",
    "df_cdd_2['IC50'] = df_cdd_2['IC50'].astype(float)\n",
    "df_cdd_2['SMILES'] = df_cdd_2[\"CXSMILES (CDD Compatible)\"].str.replace(\n",
    "    ' .*', '')\n",
    "df_cdd_2.loc[0, 'SMILES']\n"
   ]
  },
  {
   "cell_type": "code",
   "execution_count": 9,
   "metadata": {},
   "outputs": [
    {
     "name": "stdout",
     "output_type": "stream",
     "text": [
      "ID=ASAP-0000219,IC50=0.050uM from Enamine Amide, Predicted inhibition = (GP = 87.9% , RF = 80.6%)\n",
      "ID=ASAP-0000221,IC50=0.050uM from Top 20, Predicted inhibition = (GP = nan% , RF = nan%)\n",
      "ID=ASAP-0000211,IC50=0.050uM from Enamine Amide, Predicted inhibition = (GP = 84.3% , RF = 83.5%)\n",
      "ID=ASAP-0000226,IC50=0.057uM from Enamine Amide, Predicted inhibition = (GP = 85.7% , RF = 57.5%)\n",
      "ID=ASAP-0000214,IC50=0.057uM from Top 20, Predicted inhibition = (GP = nan% , RF = nan%)\n",
      "ID=ASAP-0000225,IC50=0.057uM from Top 20, Predicted inhibition = (GP = nan% , RF = nan%)\n",
      "ID=ASAP-0000209,IC50=0.064uM from Top 20, Predicted inhibition = (GP = nan% , RF = nan%)\n",
      "ID=ASAP-0000205,IC50=0.069uM from Top 20, Predicted inhibition = (GP = nan% , RF = nan%)\n",
      "ID=ASAP-0000213,IC50=0.071uM from Top 20, Predicted inhibition = (GP = nan% , RF = nan%)\n",
      "ID=ASAP-0000218,IC50=0.075uM from Top 20, Predicted inhibition = (GP = nan% , RF = nan%)\n",
      "ID=ASAP-0000216,IC50=0.077uM from Enamine Amide, Predicted inhibition = (GP = 84.3% , RF = 84.6%)\n",
      "ID=ASAP-0000227,IC50=0.077uM from Enamine Amide, Predicted inhibition = (GP = 88.7% , RF = 87.1%)\n",
      "ID=ASAP-0000208,IC50=0.082uM from Top 20, Predicted inhibition = (GP = nan% , RF = nan%)\n",
      "ID=ASAP-0000222,IC50=0.083uM from Enamine Amide, Predicted inhibition = (GP = 91.8% , RF = 81.1%)\n",
      "ID=ASAP-0000220,IC50=0.083uM from Enamine Amide, Predicted inhibition = (GP = 86.5% , RF = 83.8%)\n",
      "ID=ASAP-0000206,IC50=0.093uM from Top 20, Predicted inhibition = (GP = nan% , RF = nan%)\n",
      "ID=ASAP-0000207,IC50=0.096uM from Enamine Amide, Predicted inhibition = (GP = 86.6% , RF = 87.6%)\n",
      "ID=ASAP-0000215,IC50=0.103uM from Enamine Amide, Predicted inhibition = (GP = 89.4% , RF = 86.2%)\n",
      "ID=ASAP-0000212,IC50=0.105uM from Top 20, Predicted inhibition = (GP = nan% , RF = nan%)\n",
      "ID=ASAP-0000223,IC50=0.107uM from Enamine Amide, Predicted inhibition = (GP = 86.2% , RF = 81.2%)\n",
      "ID=ASAP-0000224,IC50=0.108uM from Top 20, Predicted inhibition = (GP = nan% , RF = nan%)\n",
      "ID=ASAP-0000217,IC50=0.110uM from Enamine Amide, Predicted inhibition = (GP = 85.4% , RF = 86.7%)\n",
      "ID=ASAP-0000210,IC50=0.112uM from Top 20, Predicted inhibition = (GP = nan% , RF = nan%)\n",
      "ID=ASAP-0000204,IC50=0.178uM from False Negative, Predicted inhibition = (GP = nan% , RF = nan%)\n",
      "ID=ASAP-0000187,IC50=9.724uM from Top 20, Predicted inhibition = (GP = nan% , RF = nan%)\n"
     ]
    }
   ],
   "source": [
    "df_cdd_2 = df_cdd_2.sort_values(by='IC50', ascending=True).reset_index(drop=True)\n",
    "gen_fps(df_cdd_2)\n",
    "sim_mat = np.empty((len(df_cdd_2), len(df_submitted)))\n",
    "for i in tqdm(range(len(df_cdd_2['fps']))):\n",
    "    sim_mat[i] = np.array(\n",
    "        DataStructs.BulkTanimotoSimilarity(df_cdd_2.loc[i, 'fps'], df_submitted['fps'].values))\n",
    "\n",
    "    similarity = sim_mat[i]\n",
    "    # print(similarity)\n",
    "    if np.max(similarity) > 0.8:\n",
    "        j = np.argmax(similarity)\n",
    "        # print(\n",
    "        #     f\"{df_cdd_2.loc[i, 'SMILES']} is the same as {df_submitted.loc[np.argmax(similarity), 'SMILES']} with similarity {np.max(similarity)}\")\n",
    "        print(\n",
    "            f\"ID={df_cdd_2.loc[i, 'Molecule Name']},IC50={df_cdd_2.loc[i, 'IC50']:.3f}uM from {df_submitted.loc[j, 'Data']}, Predicted inhibition = (GP = {df_submitted.loc[j, 'Gaussian Process']:.1f}% , RF = {df_submitted.loc[j, 'Random Forest']:.1f}%)\")\n",
    "        df_cdd_2.loc[i, 'Data'] = df_submitted.loc[j, 'Data']\n"
   ]
  },
  {
   "cell_type": "code",
   "execution_count": 10,
   "metadata": {},
   "outputs": [
    {
     "name": "stdout",
     "output_type": "stream",
     "text": [
      "Number of molecules: 42\n"
     ]
    }
   ],
   "source": [
    "print(f'Number of molecules: {len(df_cdd)+len(df_cdd_2)}')"
   ]
  },
  {
   "cell_type": "markdown",
   "metadata": {},
   "source": [
    "2022-11-21 Full dose-response"
   ]
  },
  {
   "cell_type": "code",
   "execution_count": 11,
   "metadata": {},
   "outputs": [
    {
     "data": {
      "text/plain": [
       "'FC(F)(F)C1=CN=C(NC(=O)CN2C[C@H](C(=O)NC3=C4C=CC=CC4=CN=C3)C3=C(C2)C=CC(Cl)=C3)C=C1'"
      ]
     },
     "execution_count": 11,
     "metadata": {},
     "output_type": "execute_result"
    }
   ],
   "source": [
    "df_cdd_3 = pd.read_excel(\n",
    "    '../data/measurements/CDD Excel Export - 2022-11-15 21h48m35s.xlsx')\n",
    "df_cdd_3['IC50'] = df_cdd_3['Protease_SARS_Cov2_Mpro_fluorescence_dose_response: IC50 (µM)'].astype(str).str.replace(\n",
    "    '< ', '')\n",
    "df_cdd_3['IC50'] = df_cdd_3['IC50'].astype(str).str.replace(\n",
    "    '> ', '')\n",
    "df_cdd_3['IC50'] = df_cdd_3['IC50'].astype(float)\n",
    "df_cdd_3['SMILES'] = df_cdd_3[\"CXSMILES (CDD Compatible)\"].str.replace(\n",
    "    ' .*', '')\n",
    "df_cdd_3.loc[0, 'SMILES']\n"
   ]
  },
  {
   "cell_type": "code",
   "execution_count": 12,
   "metadata": {},
   "outputs": [
    {
     "name": "stdout",
     "output_type": "stream",
     "text": [
      "ID=ASAP-0000221,IC50=0.028uM from Top 20, Predicted inhibition = (GP = nan% , RF = nan%)\n",
      "ID=ASAP-0000219,IC50=0.034uM from Enamine Amide, Predicted inhibition = (GP = 87.9% , RF = 80.6%)\n",
      "ID=ASAP-0000164,IC50=0.034uM from Top 20, Predicted inhibition = (GP = nan% , RF = nan%)\n",
      "ID=ASAP-0000164,IC50=0.034uM from Top 20, Predicted inhibition = (GP = nan% , RF = nan%)\n",
      "ID=ASAP-0000226,IC50=0.037uM from Enamine Amide, Predicted inhibition = (GP = 85.7% , RF = 57.5%)\n",
      "ID=ASAP-0000169,IC50=0.043uM from Enamine Amide, Predicted inhibition = (GP = 82.0% , RF = 87.3%)\n",
      "ID=ASAP-0000155,IC50=0.045uM from Top 20, Predicted inhibition = (GP = nan% , RF = nan%)\n",
      "ID=ASAP-0000219,IC50=0.046uM from Enamine Amide, Predicted inhibition = (GP = 87.9% , RF = 80.6%)\n",
      "ID=ASAP-0000155,IC50=0.046uM from Top 20, Predicted inhibition = (GP = nan% , RF = nan%)\n",
      "ID=ASAP-0000226,IC50=0.046uM from Enamine Amide, Predicted inhibition = (GP = 85.7% , RF = 57.5%)\n",
      "ID=ASAP-0000219,IC50=0.050uM from Enamine Amide, Predicted inhibition = (GP = 87.9% , RF = 80.6%)\n",
      "ID=ASAP-0000211,IC50=0.050uM from Enamine Amide, Predicted inhibition = (GP = 84.3% , RF = 83.5%)\n",
      "ID=ASAP-0000221,IC50=0.050uM from Top 20, Predicted inhibition = (GP = nan% , RF = nan%)\n",
      "ID=ASAP-0000211,IC50=0.050uM from Enamine Amide, Predicted inhibition = (GP = 84.3% , RF = 83.5%)\n",
      "ID=ASAP-0000226,IC50=0.056uM from Enamine Amide, Predicted inhibition = (GP = 85.7% , RF = 57.5%)\n",
      "ID=ASAP-0000214,IC50=0.057uM from Top 20, Predicted inhibition = (GP = nan% , RF = nan%)\n",
      "ID=ASAP-0000225,IC50=0.057uM from Top 20, Predicted inhibition = (GP = nan% , RF = nan%)\n",
      "ID=ASAP-0000226,IC50=0.057uM from Enamine Amide, Predicted inhibition = (GP = 85.7% , RF = 57.5%)\n",
      "ID=ASAP-0000157,IC50=0.060uM from Top 20, Predicted inhibition = (GP = nan% , RF = nan%)\n",
      "ID=ASAP-0000157,IC50=0.062uM from Top 20, Predicted inhibition = (GP = nan% , RF = nan%)\n",
      "ID=ASAP-0000169,IC50=0.062uM from Enamine Amide, Predicted inhibition = (GP = 82.0% , RF = 87.3%)\n",
      "ID=ASAP-0000209,IC50=0.064uM from Top 20, Predicted inhibition = (GP = nan% , RF = nan%)\n",
      "ID=ASAP-0000214,IC50=0.067uM from Top 20, Predicted inhibition = (GP = nan% , RF = nan%)\n",
      "ID=ASAP-0000156,IC50=0.068uM from Top 20, Predicted inhibition = (GP = nan% , RF = nan%)\n",
      "ID=ASAP-0000162,IC50=0.068uM from Enamine Amide, Predicted inhibition = (GP = 84.6% , RF = 88.4%)\n",
      "ID=ASAP-0000156,IC50=0.068uM from Top 20, Predicted inhibition = (GP = nan% , RF = nan%)\n",
      "ID=ASAP-0000219,IC50=0.068uM from Enamine Amide, Predicted inhibition = (GP = 87.9% , RF = 80.6%)\n",
      "ID=ASAP-0000205,IC50=0.069uM from Top 20, Predicted inhibition = (GP = nan% , RF = nan%)\n",
      "ID=ASAP-0000159,IC50=0.069uM from Top 20, Predicted inhibition = (GP = nan% , RF = nan%)\n",
      "ID=ASAP-0000162,IC50=0.070uM from Enamine Amide, Predicted inhibition = (GP = 84.6% , RF = 88.4%)\n",
      "ID=ASAP-0000225,IC50=0.070uM from Top 20, Predicted inhibition = (GP = nan% , RF = nan%)\n",
      "ID=ASAP-0000168,IC50=0.071uM from Enamine Amide, Predicted inhibition = (GP = 82.7% , RF = 84.2%)\n",
      "ID=ASAP-0000213,IC50=0.071uM from Top 20, Predicted inhibition = (GP = nan% , RF = nan%)\n",
      "ID=ASAP-0000168,IC50=0.072uM from Enamine Amide, Predicted inhibition = (GP = 82.7% , RF = 84.2%)\n",
      "ID=ASAP-0000218,IC50=0.073uM from Top 20, Predicted inhibition = (GP = nan% , RF = nan%)\n",
      "ID=ASAP-0000167,IC50=0.073uM from Enamine Amide, Predicted inhibition = (GP = 81.8% , RF = 85.0%)\n",
      "ID=ASAP-0000218,IC50=0.075uM from Top 20, Predicted inhibition = (GP = nan% , RF = nan%)\n",
      "ID=ASAP-0000209,IC50=0.076uM from Top 20, Predicted inhibition = (GP = nan% , RF = nan%)\n",
      "ID=ASAP-0000227,IC50=0.076uM from Enamine Amide, Predicted inhibition = (GP = 88.7% , RF = 87.1%)\n",
      "ID=ASAP-0000161,IC50=0.077uM from Enamine Amide, Predicted inhibition = (GP = 86.6% , RF = 82.6%)\n",
      "ID=ASAP-0000227,IC50=0.077uM from Enamine Amide, Predicted inhibition = (GP = 88.7% , RF = 87.1%)\n",
      "ID=ASAP-0000216,IC50=0.077uM from Enamine Amide, Predicted inhibition = (GP = 84.3% , RF = 84.6%)\n",
      "ID=ASAP-0000161,IC50=0.077uM from Enamine Amide, Predicted inhibition = (GP = 86.6% , RF = 82.6%)\n",
      "ID=ASAP-0000204,IC50=0.078uM from False Negative, Predicted inhibition = (GP = nan% , RF = nan%)\n",
      "ID=ASAP-0000167,IC50=0.080uM from Enamine Amide, Predicted inhibition = (GP = 81.8% , RF = 85.0%)\n",
      "ID=ASAP-0000208,IC50=0.082uM from Top 20, Predicted inhibition = (GP = nan% , RF = nan%)\n",
      "ID=ASAP-0000204,IC50=0.083uM from False Negative, Predicted inhibition = (GP = nan% , RF = nan%)\n",
      "ID=ASAP-0000222,IC50=0.083uM from Enamine Amide, Predicted inhibition = (GP = 91.8% , RF = 81.1%)\n",
      "ID=ASAP-0000222,IC50=0.083uM from Enamine Amide, Predicted inhibition = (GP = 91.8% , RF = 81.1%)\n",
      "ID=ASAP-0000220,IC50=0.083uM from Enamine Amide, Predicted inhibition = (GP = 86.5% , RF = 83.8%)\n",
      "ID=ASAP-0000162,IC50=0.083uM from Enamine Amide, Predicted inhibition = (GP = 84.6% , RF = 88.4%)\n",
      "ID=ASAP-0000220,IC50=0.083uM from Enamine Amide, Predicted inhibition = (GP = 86.5% , RF = 83.8%)\n",
      "ID=ASAP-0000213,IC50=0.083uM from Top 20, Predicted inhibition = (GP = nan% , RF = nan%)\n",
      "ID=ASAP-0000205,IC50=0.086uM from Top 20, Predicted inhibition = (GP = nan% , RF = nan%)\n",
      "ID=ASAP-0000159,IC50=0.086uM from Top 20, Predicted inhibition = (GP = nan% , RF = nan%)\n",
      "ID=ASAP-0000158,IC50=0.087uM from Top 20, Predicted inhibition = (GP = nan% , RF = nan%)\n",
      "ID=ASAP-0000216,IC50=0.089uM from Enamine Amide, Predicted inhibition = (GP = 84.3% , RF = 84.6%)\n",
      "ID=ASAP-0000218,IC50=0.091uM from Top 20, Predicted inhibition = (GP = nan% , RF = nan%)\n",
      "ID=ASAP-0000206,IC50=0.093uM from Top 20, Predicted inhibition = (GP = nan% , RF = nan%)\n",
      "ID=ASAP-0000162,IC50=0.095uM from Enamine Amide, Predicted inhibition = (GP = 84.6% , RF = 88.4%)\n",
      "ID=ASAP-0000207,IC50=0.096uM from Enamine Amide, Predicted inhibition = (GP = 86.6% , RF = 87.6%)\n",
      "ID=ASAP-0000160,IC50=0.096uM from Top 20, Predicted inhibition = (GP = nan% , RF = nan%)\n",
      "ID=ASAP-0000208,IC50=0.097uM from Top 20, Predicted inhibition = (GP = nan% , RF = nan%)\n",
      "ID=ASAP-0000215,IC50=0.103uM from Enamine Amide, Predicted inhibition = (GP = 89.4% , RF = 86.2%)\n",
      "ID=ASAP-0000212,IC50=0.105uM from Top 20, Predicted inhibition = (GP = nan% , RF = nan%)\n",
      "ID=ASAP-0000223,IC50=0.107uM from Enamine Amide, Predicted inhibition = (GP = 86.2% , RF = 81.2%)\n",
      "ID=ASAP-0000224,IC50=0.108uM from Top 20, Predicted inhibition = (GP = nan% , RF = nan%)\n",
      "ID=ASAP-0000217,IC50=0.110uM from Enamine Amide, Predicted inhibition = (GP = 85.4% , RF = 86.7%)\n",
      "ID=ASAP-0000223,IC50=0.111uM from Enamine Amide, Predicted inhibition = (GP = 86.2% , RF = 81.2%)\n",
      "ID=ASAP-0000160,IC50=0.112uM from Top 20, Predicted inhibition = (GP = nan% , RF = nan%)\n",
      "ID=ASAP-0000210,IC50=0.112uM from Top 20, Predicted inhibition = (GP = nan% , RF = nan%)\n",
      "ID=ASAP-0000207,IC50=0.114uM from Enamine Amide, Predicted inhibition = (GP = 86.6% , RF = 87.6%)\n",
      "ID=ASAP-0000212,IC50=0.115uM from Top 20, Predicted inhibition = (GP = nan% , RF = nan%)\n",
      "ID=ASAP-0000215,IC50=0.116uM from Enamine Amide, Predicted inhibition = (GP = 89.4% , RF = 86.2%)\n",
      "ID=ASAP-0000206,IC50=0.117uM from Top 20, Predicted inhibition = (GP = nan% , RF = nan%)\n",
      "ID=ASAP-0000224,IC50=0.119uM from Top 20, Predicted inhibition = (GP = nan% , RF = nan%)\n",
      "ID=ASAP-0000217,IC50=0.124uM from Enamine Amide, Predicted inhibition = (GP = 85.4% , RF = 86.7%)\n",
      "ID=ASAP-0000210,IC50=0.125uM from Top 20, Predicted inhibition = (GP = nan% , RF = nan%)\n",
      "ID=ASAP-0000158,IC50=0.137uM from Top 20, Predicted inhibition = (GP = nan% , RF = nan%)\n",
      "ID=ASAP-0000163,IC50=0.167uM from Enamine Amide, Predicted inhibition = (GP = 83.5% , RF = 41.2%)\n",
      "ID=ASAP-0000204,IC50=0.178uM from False Negative, Predicted inhibition = (GP = nan% , RF = nan%)\n",
      "ID=ASAP-0000163,IC50=0.181uM from Enamine Amide, Predicted inhibition = (GP = 83.5% , RF = 41.2%)\n",
      "ID=ASAP-0000219,IC50=0.202uM from Enamine Amide, Predicted inhibition = (GP = 87.9% , RF = 80.6%)\n",
      "ID=ASAP-0000163,IC50=0.209uM from Enamine Amide, Predicted inhibition = (GP = 83.5% , RF = 41.2%)\n",
      "ID=ASAP-0000163,IC50=0.215uM from Enamine Amide, Predicted inhibition = (GP = 83.5% , RF = 41.2%)\n",
      "ID=ASAP-0000218,IC50=0.263uM from Top 20, Predicted inhibition = (GP = nan% , RF = nan%)\n",
      "ID=ASAP-0000362,IC50=0.407uM from Top 20, Predicted inhibition = (GP = nan% , RF = nan%)\n",
      "ID=ASAP-0000170,IC50=0.711uM from Enamine Amide, Predicted inhibition = (GP = 82.8% , RF = 35.7%)\n",
      "ID=ASAP-0000165,IC50=0.957uM from False Negative, Predicted inhibition = (GP = nan% , RF = nan%)\n",
      "ID=ASAP-0000170,IC50=0.973uM from Enamine Amide, Predicted inhibition = (GP = 82.8% , RF = 35.7%)\n",
      "ID=ASAP-0000165,IC50=1.007uM from False Negative, Predicted inhibition = (GP = nan% , RF = nan%)\n",
      "ID=ASAP-0000226,IC50=1.168uM from Enamine Amide, Predicted inhibition = (GP = 85.7% , RF = 57.5%)\n",
      "ID=ASAP-0000166,IC50=1.487uM from Enamine Amide, Predicted inhibition = (GP = 93.3% , RF = 68.5%)\n",
      "ID=ASAP-0000166,IC50=1.493uM from Enamine Amide, Predicted inhibition = (GP = 93.3% , RF = 68.5%)\n",
      "ID=ASAP-0000154,IC50=1.552uM from False Negative, Predicted inhibition = (GP = nan% , RF = nan%)\n",
      "ID=ASAP-0000218,IC50=1.568uM from Top 20, Predicted inhibition = (GP = nan% , RF = nan%)\n",
      "ID=ASAP-0000154,IC50=1.678uM from False Negative, Predicted inhibition = (GP = nan% , RF = nan%)\n",
      "ID=ASAP-0000204,IC50=7.946uM from False Negative, Predicted inhibition = (GP = nan% , RF = nan%)\n",
      "ID=ASAP-0000187,IC50=9.724uM from Top 20, Predicted inhibition = (GP = nan% , RF = nan%)\n",
      "ID=ASAP-0000204,IC50=9.990uM from False Negative, Predicted inhibition = (GP = nan% , RF = nan%)\n",
      "ID=ASAP-0000256,IC50=99.500uM from False Negative, Predicted inhibition = (GP = nan% , RF = nan%)\n"
     ]
    }
   ],
   "source": [
    "df_cdd_3 = df_cdd_3.sort_values(\n",
    "    by='IC50', ascending=True).reset_index(drop=True)\n",
    "gen_fps(df_cdd_3)\n",
    "sim_mat = np.empty((len(df_cdd_3), len(df_submitted)))\n",
    "for i in tqdm(range(len(df_cdd_3['fps']))):\n",
    "    sim_mat[i] = np.array(\n",
    "        DataStructs.BulkTanimotoSimilarity(df_cdd_3.loc[i, 'fps'], df_submitted['fps'].values))\n",
    "\n",
    "    similarity = sim_mat[i]\n",
    "    # print(similarity)\n",
    "    if np.max(similarity) > 0.8:\n",
    "        j = np.argmax(similarity)\n",
    "        # print(\n",
    "        #     f\"{df_cdd_2.loc[i, 'SMILES']} is the same as {df_submitted.loc[np.argmax(similarity), 'SMILES']} with similarity {np.max(similarity)}\")\n",
    "        print(\n",
    "            f\"ID={df_cdd_3.loc[i, 'Molecule Name']},IC50={df_cdd_3.loc[i, 'IC50']:.3f}uM from {df_submitted.loc[j, 'Data']}, Predicted inhibition = (GP = {df_submitted.loc[j, 'Gaussian Process']:.1f}% , RF = {df_submitted.loc[j, 'Random Forest']:.1f}%)\")\n",
    "        df_cdd_3.loc[i, 'Data'] = df_submitted.loc[j, 'Data']\n",
    "        df_cdd_3.loc[i, 'FP'] = df_submitted.loc[j, 'FP']\n"
   ]
  },
  {
   "cell_type": "code",
   "execution_count": 13,
   "metadata": {},
   "outputs": [
    {
     "data": {
      "text/html": [
       "<div>\n",
       "<style scoped>\n",
       "    .dataframe tbody tr th:only-of-type {\n",
       "        vertical-align: middle;\n",
       "    }\n",
       "\n",
       "    .dataframe tbody tr th {\n",
       "        vertical-align: top;\n",
       "    }\n",
       "\n",
       "    .dataframe thead th {\n",
       "        text-align: right;\n",
       "    }\n",
       "</style>\n",
       "<table border=\"1\" class=\"dataframe\">\n",
       "  <thead>\n",
       "    <tr style=\"text-align: right;\">\n",
       "      <th></th>\n",
       "      <th>Molecule Name</th>\n",
       "      <th>Structure</th>\n",
       "      <th>CXSMILES (CDD Compatible)</th>\n",
       "      <th>SMILES</th>\n",
       "      <th>Protease_SARS_Cov2_Mpro_fluorescence_dose_response: IC50 (µM)</th>\n",
       "      <th>Protease_SARS_Cov2_Mpro_fluorescence_dose_response: Dose-response Plot</th>\n",
       "      <th>IC50</th>\n",
       "      <th>mol</th>\n",
       "      <th>Error</th>\n",
       "      <th>fps</th>\n",
       "      <th>Data</th>\n",
       "      <th>CDD Number</th>\n",
       "      <th>FP</th>\n",
       "    </tr>\n",
       "  </thead>\n",
       "  <tbody>\n",
       "    <tr>\n",
       "      <th>3</th>\n",
       "      <td>ASAP-0000226</td>\n",
       "      <td></td>\n",
       "      <td>CCN1CCN(CC1)C1=CC=C(NC(=O)CN2C[C@H](C(=O)NC3=C...</td>\n",
       "      <td>CCN1CCN(CC1)C1=CC=C(NC(=O)CN2C[C@H](C(=O)NC3=C...</td>\n",
       "      <td>0.057</td>\n",
       "      <td></td>\n",
       "      <td>0.057</td>\n",
       "      <td>&lt;rdkit.Chem.rdchem.Mol object at 0x7fa83ffbd120&gt;</td>\n",
       "      <td></td>\n",
       "      <td>[0, 0, 0, 0, 0, 0, 0, 0, 0, 0, 0, 0, 0, 0, 0, ...</td>\n",
       "      <td>Enamine Amide</td>\n",
       "      <td>NaN</td>\n",
       "      <td>NaN</td>\n",
       "    </tr>\n",
       "    <tr>\n",
       "      <th>4</th>\n",
       "      <td>ASAP-0000226</td>\n",
       "      <td></td>\n",
       "      <td>CCN1CCN(CC1)C1=CC=C(NC(=O)CN2C[C@H](C(=O)NC3=C...</td>\n",
       "      <td>CCN1CCN(CC1)C1=CC=C(NC(=O)CN2C[C@H](C(=O)NC3=C...</td>\n",
       "      <td>0.037</td>\n",
       "      <td></td>\n",
       "      <td>0.037</td>\n",
       "      <td>&lt;rdkit.Chem.rdchem.Mol object at 0x7fa8401584c0&gt;</td>\n",
       "      <td></td>\n",
       "      <td>[0, 0, 0, 0, 0, 0, 0, 0, 0, 0, 0, 0, 0, 0, 0, ...</td>\n",
       "      <td>Enamine Amide</td>\n",
       "      <td>NaN</td>\n",
       "      <td>NaN</td>\n",
       "    </tr>\n",
       "    <tr>\n",
       "      <th>9</th>\n",
       "      <td>ASAP-0000226</td>\n",
       "      <td></td>\n",
       "      <td>CCN1CCN(CC1)C1=CC=C(NC(=O)CN2C[C@H](C(=O)NC3=C...</td>\n",
       "      <td>CCN1CCN(CC1)C1=CC=C(NC(=O)CN2C[C@H](C(=O)NC3=C...</td>\n",
       "      <td>&lt; 0.046</td>\n",
       "      <td></td>\n",
       "      <td>0.046</td>\n",
       "      <td>&lt;rdkit.Chem.rdchem.Mol object at 0x7fa8401590c0&gt;</td>\n",
       "      <td></td>\n",
       "      <td>[0, 0, 0, 0, 0, 0, 0, 0, 0, 0, 0, 0, 0, 0, 0, ...</td>\n",
       "      <td>Enamine Amide</td>\n",
       "      <td>NaN</td>\n",
       "      <td>NaN</td>\n",
       "    </tr>\n",
       "    <tr>\n",
       "      <th>14</th>\n",
       "      <td>ASAP-0000226</td>\n",
       "      <td></td>\n",
       "      <td>CCN1CCN(CC1)C1=CC=C(NC(=O)CN2C[C@H](C(=O)NC3=C...</td>\n",
       "      <td>CCN1CCN(CC1)C1=CC=C(NC(=O)CN2C[C@H](C(=O)NC3=C...</td>\n",
       "      <td>0.056</td>\n",
       "      <td></td>\n",
       "      <td>0.056</td>\n",
       "      <td>&lt;rdkit.Chem.rdchem.Mol object at 0x7fa8401589a0&gt;</td>\n",
       "      <td></td>\n",
       "      <td>[0, 0, 0, 0, 0, 0, 0, 0, 0, 0, 0, 0, 0, 0, 0, ...</td>\n",
       "      <td>Enamine Amide</td>\n",
       "      <td>NaN</td>\n",
       "      <td>NaN</td>\n",
       "    </tr>\n",
       "    <tr>\n",
       "      <th>17</th>\n",
       "      <td>ASAP-0000226</td>\n",
       "      <td></td>\n",
       "      <td>CCN1CCN(CC1)C1=CC=C(NC(=O)CN2C[C@H](C(=O)NC3=C...</td>\n",
       "      <td>CCN1CCN(CC1)C1=CC=C(NC(=O)CN2C[C@H](C(=O)NC3=C...</td>\n",
       "      <td>0.057</td>\n",
       "      <td></td>\n",
       "      <td>0.057</td>\n",
       "      <td>&lt;rdkit.Chem.rdchem.Mol object at 0x7fa840158ac0&gt;</td>\n",
       "      <td></td>\n",
       "      <td>[0, 0, 0, 0, 0, 0, 0, 0, 0, 0, 0, 0, 0, 0, 0, ...</td>\n",
       "      <td>Enamine Amide</td>\n",
       "      <td>NaN</td>\n",
       "      <td>NaN</td>\n",
       "    </tr>\n",
       "    <tr>\n",
       "      <th>91</th>\n",
       "      <td>ASAP-0000226</td>\n",
       "      <td></td>\n",
       "      <td>CCN1CCN(CC1)C1=CC=C(NC(=O)CN2C[C@H](C(=O)NC3=C...</td>\n",
       "      <td>CCN1CCN(CC1)C1=CC=C(NC(=O)CN2C[C@H](C(=O)NC3=C...</td>\n",
       "      <td>1.168</td>\n",
       "      <td></td>\n",
       "      <td>1.168</td>\n",
       "      <td>&lt;rdkit.Chem.rdchem.Mol object at 0x7fa84015aa40&gt;</td>\n",
       "      <td></td>\n",
       "      <td>[0, 0, 0, 0, 0, 0, 0, 0, 0, 0, 0, 0, 0, 0, 0, ...</td>\n",
       "      <td>Enamine Amide</td>\n",
       "      <td>NaN</td>\n",
       "      <td>NaN</td>\n",
       "    </tr>\n",
       "  </tbody>\n",
       "</table>\n",
       "</div>"
      ],
      "text/plain": [
       "   Molecule Name Structure                          CXSMILES (CDD Compatible)  \\\n",
       "3   ASAP-0000226            CCN1CCN(CC1)C1=CC=C(NC(=O)CN2C[C@H](C(=O)NC3=C...   \n",
       "4   ASAP-0000226            CCN1CCN(CC1)C1=CC=C(NC(=O)CN2C[C@H](C(=O)NC3=C...   \n",
       "9   ASAP-0000226            CCN1CCN(CC1)C1=CC=C(NC(=O)CN2C[C@H](C(=O)NC3=C...   \n",
       "14  ASAP-0000226            CCN1CCN(CC1)C1=CC=C(NC(=O)CN2C[C@H](C(=O)NC3=C...   \n",
       "17  ASAP-0000226            CCN1CCN(CC1)C1=CC=C(NC(=O)CN2C[C@H](C(=O)NC3=C...   \n",
       "91  ASAP-0000226            CCN1CCN(CC1)C1=CC=C(NC(=O)CN2C[C@H](C(=O)NC3=C...   \n",
       "\n",
       "                                               SMILES  \\\n",
       "3   CCN1CCN(CC1)C1=CC=C(NC(=O)CN2C[C@H](C(=O)NC3=C...   \n",
       "4   CCN1CCN(CC1)C1=CC=C(NC(=O)CN2C[C@H](C(=O)NC3=C...   \n",
       "9   CCN1CCN(CC1)C1=CC=C(NC(=O)CN2C[C@H](C(=O)NC3=C...   \n",
       "14  CCN1CCN(CC1)C1=CC=C(NC(=O)CN2C[C@H](C(=O)NC3=C...   \n",
       "17  CCN1CCN(CC1)C1=CC=C(NC(=O)CN2C[C@H](C(=O)NC3=C...   \n",
       "91  CCN1CCN(CC1)C1=CC=C(NC(=O)CN2C[C@H](C(=O)NC3=C...   \n",
       "\n",
       "   Protease_SARS_Cov2_Mpro_fluorescence_dose_response: IC50 (µM)  \\\n",
       "3                                               0.057              \n",
       "4                                               0.037              \n",
       "9                                             < 0.046              \n",
       "14                                              0.056              \n",
       "17                                              0.057              \n",
       "91                                              1.168              \n",
       "\n",
       "   Protease_SARS_Cov2_Mpro_fluorescence_dose_response: Dose-response Plot  \\\n",
       "3                                                                           \n",
       "4                                                                           \n",
       "9                                                                           \n",
       "14                                                                          \n",
       "17                                                                          \n",
       "91                                                                          \n",
       "\n",
       "     IC50                                               mol Error  \\\n",
       "3   0.057  <rdkit.Chem.rdchem.Mol object at 0x7fa83ffbd120>         \n",
       "4   0.037  <rdkit.Chem.rdchem.Mol object at 0x7fa8401584c0>         \n",
       "9   0.046  <rdkit.Chem.rdchem.Mol object at 0x7fa8401590c0>         \n",
       "14  0.056  <rdkit.Chem.rdchem.Mol object at 0x7fa8401589a0>         \n",
       "17  0.057  <rdkit.Chem.rdchem.Mol object at 0x7fa840158ac0>         \n",
       "91  1.168  <rdkit.Chem.rdchem.Mol object at 0x7fa84015aa40>         \n",
       "\n",
       "                                                  fps           Data  \\\n",
       "3   [0, 0, 0, 0, 0, 0, 0, 0, 0, 0, 0, 0, 0, 0, 0, ...  Enamine Amide   \n",
       "4   [0, 0, 0, 0, 0, 0, 0, 0, 0, 0, 0, 0, 0, 0, 0, ...  Enamine Amide   \n",
       "9   [0, 0, 0, 0, 0, 0, 0, 0, 0, 0, 0, 0, 0, 0, 0, ...  Enamine Amide   \n",
       "14  [0, 0, 0, 0, 0, 0, 0, 0, 0, 0, 0, 0, 0, 0, 0, ...  Enamine Amide   \n",
       "17  [0, 0, 0, 0, 0, 0, 0, 0, 0, 0, 0, 0, 0, 0, 0, ...  Enamine Amide   \n",
       "91  [0, 0, 0, 0, 0, 0, 0, 0, 0, 0, 0, 0, 0, 0, 0, ...  Enamine Amide   \n",
       "\n",
       "    CDD Number   FP  \n",
       "3          NaN  NaN  \n",
       "4          NaN  NaN  \n",
       "9          NaN  NaN  \n",
       "14         NaN  NaN  \n",
       "17         NaN  NaN  \n",
       "91         NaN  NaN  "
      ]
     },
     "execution_count": 13,
     "metadata": {},
     "output_type": "execute_result"
    }
   ],
   "source": [
    "df_cdd_all = pd.concat([df_cdd, df_cdd_2, df_cdd_3])\n",
    "df_cdd_all.query('`Molecule Name` == \"ASAP-0000226\"')"
   ]
  },
  {
   "cell_type": "code",
   "execution_count": 14,
   "metadata": {},
   "outputs": [],
   "source": [
    "df_cdd_all = pd.concat([df_cdd, df_cdd_2, df_cdd_3])\n",
    "# df_cdd_all = df_cdd_all[['Molecule Name',\n",
    "#                          'CXSMILES (CDD Compatible)', 'SMILES', 'IC50', 'Data']]\n"
   ]
  },
  {
   "cell_type": "code",
   "execution_count": 15,
   "metadata": {},
   "outputs": [
    {
     "data": {
      "text/html": [
       "\n",
       "        <iframe\n",
       "            width=\"100%\"\n",
       "            height=\"650\"\n",
       "            src=\"http://127.0.0.1:8011/\"\n",
       "            frameborder=\"0\"\n",
       "            allowfullscreen\n",
       "            \n",
       "        ></iframe>\n",
       "        "
      ],
      "text/plain": [
       "<IPython.lib.display.IFrame at 0x7fa8417eff10>"
      ]
     },
     "metadata": {},
     "output_type": "display_data"
    }
   ],
   "source": [
    "import plotly.express as px\n",
    "import molplotly\n",
    "\n",
    "fig = px.strip(df_cdd_all, x=\"IC50\", y='Data', color=\"Data\",\n",
    "               log_x=True, hover_name='Molecule Name')\n",
    "strip_app = molplotly.add_molecules(fig,\n",
    "                                    df_cdd_all,\n",
    "                                    smiles_col='SMILES',\n",
    "                                    color_col='Data',\n",
    "                                    title_col='Molecule Name',\n",
    "                                    svg_size=400,\n",
    "                                    width=300)\n",
    "# fig.show()\n",
    "strip_app.run_server(port=8011,mode='inline')"
   ]
  },
  {
   "cell_type": "code",
   "execution_count": 16,
   "metadata": {},
   "outputs": [
    {
     "data": {
      "text/html": [
       "<div>\n",
       "<style scoped>\n",
       "    .dataframe tbody tr th:only-of-type {\n",
       "        vertical-align: middle;\n",
       "    }\n",
       "\n",
       "    .dataframe tbody tr th {\n",
       "        vertical-align: top;\n",
       "    }\n",
       "\n",
       "    .dataframe thead th {\n",
       "        text-align: right;\n",
       "    }\n",
       "</style>\n",
       "<table border=\"1\" class=\"dataframe\">\n",
       "  <thead>\n",
       "    <tr style=\"text-align: right;\">\n",
       "      <th></th>\n",
       "      <th>CDD Number</th>\n",
       "      <th>IC50</th>\n",
       "    </tr>\n",
       "    <tr>\n",
       "      <th>Data</th>\n",
       "      <th></th>\n",
       "      <th></th>\n",
       "    </tr>\n",
       "  </thead>\n",
       "  <tbody>\n",
       "    <tr>\n",
       "      <th>Top 20</th>\n",
       "      <td>NaN</td>\n",
       "      <td>82.0</td>\n",
       "    </tr>\n",
       "    <tr>\n",
       "      <th>Enamine Amide</th>\n",
       "      <td>NaN</td>\n",
       "      <td>83.0</td>\n",
       "    </tr>\n",
       "    <tr>\n",
       "      <th>False Negative</th>\n",
       "      <td>NaN</td>\n",
       "      <td>1279.5</td>\n",
       "    </tr>\n",
       "  </tbody>\n",
       "</table>\n",
       "</div>"
      ],
      "text/plain": [
       "                CDD Number    IC50\n",
       "Data                              \n",
       "Top 20                 NaN    82.0\n",
       "Enamine Amide          NaN    83.0\n",
       "False Negative         NaN  1279.5"
      ]
     },
     "execution_count": 16,
     "metadata": {},
     "output_type": "execute_result"
    }
   ],
   "source": [
    "df_cdd_3.groupby('Data').median().sort_values('IC50')*1000\n"
   ]
  },
  {
   "cell_type": "code",
   "execution_count": 50,
   "metadata": {},
   "outputs": [
    {
     "data": {
      "text/html": [
       "<div>\n",
       "<style scoped>\n",
       "    .dataframe tbody tr th:only-of-type {\n",
       "        vertical-align: middle;\n",
       "    }\n",
       "\n",
       "    .dataframe tbody tr th {\n",
       "        vertical-align: top;\n",
       "    }\n",
       "\n",
       "    .dataframe thead th {\n",
       "        text-align: right;\n",
       "    }\n",
       "</style>\n",
       "<table border=\"1\" class=\"dataframe\">\n",
       "  <thead>\n",
       "    <tr style=\"text-align: right;\">\n",
       "      <th></th>\n",
       "      <th>CDD Number</th>\n",
       "      <th>IC50</th>\n",
       "    </tr>\n",
       "    <tr>\n",
       "      <th>Molecule Name</th>\n",
       "      <th></th>\n",
       "      <th></th>\n",
       "    </tr>\n",
       "  </thead>\n",
       "  <tbody>\n",
       "    <tr>\n",
       "      <th>ASAP-0000155</th>\n",
       "      <td>NaN</td>\n",
       "      <td>0.0455</td>\n",
       "    </tr>\n",
       "    <tr>\n",
       "      <th>ASAP-0000156</th>\n",
       "      <td>NaN</td>\n",
       "      <td>0.0680</td>\n",
       "    </tr>\n",
       "    <tr>\n",
       "      <th>ASAP-0000157</th>\n",
       "      <td>NaN</td>\n",
       "      <td>0.0610</td>\n",
       "    </tr>\n",
       "    <tr>\n",
       "      <th>ASAP-0000158</th>\n",
       "      <td>NaN</td>\n",
       "      <td>0.1120</td>\n",
       "    </tr>\n",
       "    <tr>\n",
       "      <th>ASAP-0000159</th>\n",
       "      <td>NaN</td>\n",
       "      <td>0.0775</td>\n",
       "    </tr>\n",
       "    <tr>\n",
       "      <th>ASAP-0000160</th>\n",
       "      <td>NaN</td>\n",
       "      <td>0.1040</td>\n",
       "    </tr>\n",
       "    <tr>\n",
       "      <th>ASAP-0000161</th>\n",
       "      <td>NaN</td>\n",
       "      <td>0.0770</td>\n",
       "    </tr>\n",
       "    <tr>\n",
       "      <th>ASAP-0000162</th>\n",
       "      <td>NaN</td>\n",
       "      <td>0.0790</td>\n",
       "    </tr>\n",
       "    <tr>\n",
       "      <th>ASAP-0000163</th>\n",
       "      <td>NaN</td>\n",
       "      <td>0.1930</td>\n",
       "    </tr>\n",
       "    <tr>\n",
       "      <th>ASAP-0000164</th>\n",
       "      <td>NaN</td>\n",
       "      <td>0.0340</td>\n",
       "    </tr>\n",
       "    <tr>\n",
       "      <th>ASAP-0000166</th>\n",
       "      <td>NaN</td>\n",
       "      <td>1.4900</td>\n",
       "    </tr>\n",
       "    <tr>\n",
       "      <th>ASAP-0000167</th>\n",
       "      <td>NaN</td>\n",
       "      <td>0.0765</td>\n",
       "    </tr>\n",
       "    <tr>\n",
       "      <th>ASAP-0000168</th>\n",
       "      <td>NaN</td>\n",
       "      <td>0.0715</td>\n",
       "    </tr>\n",
       "    <tr>\n",
       "      <th>ASAP-0000169</th>\n",
       "      <td>NaN</td>\n",
       "      <td>0.0525</td>\n",
       "    </tr>\n",
       "    <tr>\n",
       "      <th>ASAP-0000170</th>\n",
       "      <td>NaN</td>\n",
       "      <td>0.8420</td>\n",
       "    </tr>\n",
       "    <tr>\n",
       "      <th>ASAP-0000187</th>\n",
       "      <td>NaN</td>\n",
       "      <td>9.7240</td>\n",
       "    </tr>\n",
       "    <tr>\n",
       "      <th>ASAP-0000205</th>\n",
       "      <td>NaN</td>\n",
       "      <td>0.0775</td>\n",
       "    </tr>\n",
       "    <tr>\n",
       "      <th>ASAP-0000206</th>\n",
       "      <td>NaN</td>\n",
       "      <td>0.1050</td>\n",
       "    </tr>\n",
       "    <tr>\n",
       "      <th>ASAP-0000207</th>\n",
       "      <td>NaN</td>\n",
       "      <td>0.1050</td>\n",
       "    </tr>\n",
       "    <tr>\n",
       "      <th>ASAP-0000208</th>\n",
       "      <td>NaN</td>\n",
       "      <td>0.0895</td>\n",
       "    </tr>\n",
       "    <tr>\n",
       "      <th>ASAP-0000209</th>\n",
       "      <td>NaN</td>\n",
       "      <td>0.0700</td>\n",
       "    </tr>\n",
       "    <tr>\n",
       "      <th>ASAP-0000210</th>\n",
       "      <td>NaN</td>\n",
       "      <td>0.1185</td>\n",
       "    </tr>\n",
       "    <tr>\n",
       "      <th>ASAP-0000211</th>\n",
       "      <td>NaN</td>\n",
       "      <td>0.0500</td>\n",
       "    </tr>\n",
       "    <tr>\n",
       "      <th>ASAP-0000212</th>\n",
       "      <td>NaN</td>\n",
       "      <td>0.1100</td>\n",
       "    </tr>\n",
       "    <tr>\n",
       "      <th>ASAP-0000213</th>\n",
       "      <td>NaN</td>\n",
       "      <td>0.0770</td>\n",
       "    </tr>\n",
       "    <tr>\n",
       "      <th>ASAP-0000214</th>\n",
       "      <td>NaN</td>\n",
       "      <td>0.0620</td>\n",
       "    </tr>\n",
       "    <tr>\n",
       "      <th>ASAP-0000215</th>\n",
       "      <td>NaN</td>\n",
       "      <td>0.1095</td>\n",
       "    </tr>\n",
       "    <tr>\n",
       "      <th>ASAP-0000216</th>\n",
       "      <td>NaN</td>\n",
       "      <td>0.0830</td>\n",
       "    </tr>\n",
       "    <tr>\n",
       "      <th>ASAP-0000217</th>\n",
       "      <td>NaN</td>\n",
       "      <td>0.1170</td>\n",
       "    </tr>\n",
       "    <tr>\n",
       "      <th>ASAP-0000218</th>\n",
       "      <td>NaN</td>\n",
       "      <td>0.4140</td>\n",
       "    </tr>\n",
       "    <tr>\n",
       "      <th>ASAP-0000219</th>\n",
       "      <td>NaN</td>\n",
       "      <td>0.0800</td>\n",
       "    </tr>\n",
       "    <tr>\n",
       "      <th>ASAP-0000220</th>\n",
       "      <td>NaN</td>\n",
       "      <td>0.0830</td>\n",
       "    </tr>\n",
       "    <tr>\n",
       "      <th>ASAP-0000221</th>\n",
       "      <td>NaN</td>\n",
       "      <td>0.0390</td>\n",
       "    </tr>\n",
       "    <tr>\n",
       "      <th>ASAP-0000222</th>\n",
       "      <td>NaN</td>\n",
       "      <td>0.0830</td>\n",
       "    </tr>\n",
       "    <tr>\n",
       "      <th>ASAP-0000223</th>\n",
       "      <td>NaN</td>\n",
       "      <td>0.1090</td>\n",
       "    </tr>\n",
       "    <tr>\n",
       "      <th>ASAP-0000224</th>\n",
       "      <td>NaN</td>\n",
       "      <td>0.1135</td>\n",
       "    </tr>\n",
       "    <tr>\n",
       "      <th>ASAP-0000225</th>\n",
       "      <td>NaN</td>\n",
       "      <td>0.0635</td>\n",
       "    </tr>\n",
       "    <tr>\n",
       "      <th>ASAP-0000226</th>\n",
       "      <td>NaN</td>\n",
       "      <td>0.2728</td>\n",
       "    </tr>\n",
       "    <tr>\n",
       "      <th>ASAP-0000227</th>\n",
       "      <td>NaN</td>\n",
       "      <td>0.0765</td>\n",
       "    </tr>\n",
       "    <tr>\n",
       "      <th>ASAP-0000362</th>\n",
       "      <td>NaN</td>\n",
       "      <td>0.4070</td>\n",
       "    </tr>\n",
       "  </tbody>\n",
       "</table>\n",
       "</div>"
      ],
      "text/plain": [
       "               CDD Number    IC50\n",
       "Molecule Name                    \n",
       "ASAP-0000155          NaN  0.0455\n",
       "ASAP-0000156          NaN  0.0680\n",
       "ASAP-0000157          NaN  0.0610\n",
       "ASAP-0000158          NaN  0.1120\n",
       "ASAP-0000159          NaN  0.0775\n",
       "ASAP-0000160          NaN  0.1040\n",
       "ASAP-0000161          NaN  0.0770\n",
       "ASAP-0000162          NaN  0.0790\n",
       "ASAP-0000163          NaN  0.1930\n",
       "ASAP-0000164          NaN  0.0340\n",
       "ASAP-0000166          NaN  1.4900\n",
       "ASAP-0000167          NaN  0.0765\n",
       "ASAP-0000168          NaN  0.0715\n",
       "ASAP-0000169          NaN  0.0525\n",
       "ASAP-0000170          NaN  0.8420\n",
       "ASAP-0000187          NaN  9.7240\n",
       "ASAP-0000205          NaN  0.0775\n",
       "ASAP-0000206          NaN  0.1050\n",
       "ASAP-0000207          NaN  0.1050\n",
       "ASAP-0000208          NaN  0.0895\n",
       "ASAP-0000209          NaN  0.0700\n",
       "ASAP-0000210          NaN  0.1185\n",
       "ASAP-0000211          NaN  0.0500\n",
       "ASAP-0000212          NaN  0.1100\n",
       "ASAP-0000213          NaN  0.0770\n",
       "ASAP-0000214          NaN  0.0620\n",
       "ASAP-0000215          NaN  0.1095\n",
       "ASAP-0000216          NaN  0.0830\n",
       "ASAP-0000217          NaN  0.1170\n",
       "ASAP-0000218          NaN  0.4140\n",
       "ASAP-0000219          NaN  0.0800\n",
       "ASAP-0000220          NaN  0.0830\n",
       "ASAP-0000221          NaN  0.0390\n",
       "ASAP-0000222          NaN  0.0830\n",
       "ASAP-0000223          NaN  0.1090\n",
       "ASAP-0000224          NaN  0.1135\n",
       "ASAP-0000225          NaN  0.0635\n",
       "ASAP-0000226          NaN  0.2728\n",
       "ASAP-0000227          NaN  0.0765\n",
       "ASAP-0000362          NaN  0.4070"
      ]
     },
     "execution_count": 50,
     "metadata": {},
     "output_type": "execute_result"
    }
   ],
   "source": [
    "df_cdd_3.query('Data != \"False Negative\"').groupby(\n",
    "    'Molecule Name').mean()\n"
   ]
  },
  {
   "cell_type": "code",
   "execution_count": 61,
   "metadata": {},
   "outputs": [
    {
     "data": {
      "application/vnd.plotly.v1+json": {
       "config": {
        "plotlyServerURL": "https://plot.ly"
       },
       "data": [
        {
         "hovertemplate": "<b>%{hovertext}</b><br><br>=%{y}<br> Mean IC50 (nM)=%{x}<extra></extra>",
         "hovertext": [
          "ASAP-0000155",
          "ASAP-0000156",
          "ASAP-0000157",
          "ASAP-0000158",
          "ASAP-0000159",
          "ASAP-0000160",
          "ASAP-0000164",
          "ASAP-0000187",
          "ASAP-0000205",
          "ASAP-0000206",
          "ASAP-0000208",
          "ASAP-0000209",
          "ASAP-0000210",
          "ASAP-0000212",
          "ASAP-0000213",
          "ASAP-0000214",
          "ASAP-0000218",
          "ASAP-0000221",
          "ASAP-0000224",
          "ASAP-0000225",
          "ASAP-0000362"
         ],
         "legendgroup": "Top 20 Crude Compounds",
         "marker": {
          "color": "#1F77B4",
          "symbol": "circle"
         },
         "mode": "markers",
         "name": "Top 20 Crude Compounds",
         "orientation": "h",
         "showlegend": true,
         "type": "scatter",
         "x": [
          45.5,
          68,
          61,
          112,
          77.5,
          104,
          34,
          9724,
          77.5,
          105,
          89.5,
          70,
          118.5,
          110,
          77,
          62,
          414,
          39,
          113.5,
          63.5,
          407
         ],
         "xaxis": "x",
         "y": [
          "Top 20 Crude Compounds",
          "Top 20 Crude Compounds",
          "Top 20 Crude Compounds",
          "Top 20 Crude Compounds",
          "Top 20 Crude Compounds",
          "Top 20 Crude Compounds",
          "Top 20 Crude Compounds",
          "Top 20 Crude Compounds",
          "Top 20 Crude Compounds",
          "Top 20 Crude Compounds",
          "Top 20 Crude Compounds",
          "Top 20 Crude Compounds",
          "Top 20 Crude Compounds",
          "Top 20 Crude Compounds",
          "Top 20 Crude Compounds",
          "Top 20 Crude Compounds",
          "Top 20 Crude Compounds",
          "Top 20 Crude Compounds",
          "Top 20 Crude Compounds",
          "Top 20 Crude Compounds",
          "Top 20 Crude Compounds"
         ],
         "yaxis": "y"
        },
        {
         "hovertemplate": "<b>%{hovertext}</b><br><br>=%{y}<br> Mean IC50 (nM)=%{x}<extra></extra>",
         "hovertext": [
          "ASAP-0000161",
          "ASAP-0000162",
          "ASAP-0000163",
          "ASAP-0000166",
          "ASAP-0000167",
          "ASAP-0000168",
          "ASAP-0000169",
          "ASAP-0000170",
          "ASAP-0000207",
          "ASAP-0000211",
          "ASAP-0000215",
          "ASAP-0000216",
          "ASAP-0000217",
          "ASAP-0000219",
          "ASAP-0000220",
          "ASAP-0000222",
          "ASAP-0000223",
          "ASAP-0000226",
          "ASAP-0000227"
         ],
         "legendgroup": "Top 20 ML Compounds",
         "marker": {
          "color": "#FF7F0E",
          "symbol": "circle"
         },
         "mode": "markers",
         "name": "Top 20 ML Compounds",
         "orientation": "h",
         "showlegend": true,
         "type": "scatter",
         "x": [
          77,
          79,
          193,
          1490,
          76.5,
          71.5,
          52.5,
          842,
          105,
          50,
          109.5,
          83,
          117,
          80,
          83,
          83,
          109,
          272.8,
          76.5
         ],
         "xaxis": "x",
         "y": [
          "Top 20 ML Compounds",
          "Top 20 ML Compounds",
          "Top 20 ML Compounds",
          "Top 20 ML Compounds",
          "Top 20 ML Compounds",
          "Top 20 ML Compounds",
          "Top 20 ML Compounds",
          "Top 20 ML Compounds",
          "Top 20 ML Compounds",
          "Top 20 ML Compounds",
          "Top 20 ML Compounds",
          "Top 20 ML Compounds",
          "Top 20 ML Compounds",
          "Top 20 ML Compounds",
          "Top 20 ML Compounds",
          "Top 20 ML Compounds",
          "Top 20 ML Compounds",
          "Top 20 ML Compounds",
          "Top 20 ML Compounds"
         ],
         "yaxis": "y"
        }
       ],
       "layout": {
        "legend": {
         "title": {
          "text": ""
         },
         "tracegroupgap": 0
        },
        "showlegend": false,
        "template": {
         "data": {
          "bar": [
           {
            "error_x": {
             "color": "rgb(36,36,36)"
            },
            "error_y": {
             "color": "rgb(36,36,36)"
            },
            "marker": {
             "line": {
              "color": "white",
              "width": 0.5
             },
             "pattern": {
              "fillmode": "overlay",
              "size": 10,
              "solidity": 0.2
             }
            },
            "type": "bar"
           }
          ],
          "barpolar": [
           {
            "marker": {
             "line": {
              "color": "white",
              "width": 0.5
             },
             "pattern": {
              "fillmode": "overlay",
              "size": 10,
              "solidity": 0.2
             }
            },
            "type": "barpolar"
           }
          ],
          "carpet": [
           {
            "aaxis": {
             "endlinecolor": "rgb(36,36,36)",
             "gridcolor": "white",
             "linecolor": "white",
             "minorgridcolor": "white",
             "startlinecolor": "rgb(36,36,36)"
            },
            "baxis": {
             "endlinecolor": "rgb(36,36,36)",
             "gridcolor": "white",
             "linecolor": "white",
             "minorgridcolor": "white",
             "startlinecolor": "rgb(36,36,36)"
            },
            "type": "carpet"
           }
          ],
          "choropleth": [
           {
            "colorbar": {
             "outlinewidth": 1,
             "tickcolor": "rgb(36,36,36)",
             "ticks": "outside"
            },
            "type": "choropleth"
           }
          ],
          "contour": [
           {
            "colorbar": {
             "outlinewidth": 1,
             "tickcolor": "rgb(36,36,36)",
             "ticks": "outside"
            },
            "colorscale": [
             [
              0,
              "#440154"
             ],
             [
              0.1111111111111111,
              "#482878"
             ],
             [
              0.2222222222222222,
              "#3e4989"
             ],
             [
              0.3333333333333333,
              "#31688e"
             ],
             [
              0.4444444444444444,
              "#26828e"
             ],
             [
              0.5555555555555556,
              "#1f9e89"
             ],
             [
              0.6666666666666666,
              "#35b779"
             ],
             [
              0.7777777777777778,
              "#6ece58"
             ],
             [
              0.8888888888888888,
              "#b5de2b"
             ],
             [
              1,
              "#fde725"
             ]
            ],
            "type": "contour"
           }
          ],
          "contourcarpet": [
           {
            "colorbar": {
             "outlinewidth": 1,
             "tickcolor": "rgb(36,36,36)",
             "ticks": "outside"
            },
            "type": "contourcarpet"
           }
          ],
          "heatmap": [
           {
            "colorbar": {
             "outlinewidth": 1,
             "tickcolor": "rgb(36,36,36)",
             "ticks": "outside"
            },
            "colorscale": [
             [
              0,
              "#440154"
             ],
             [
              0.1111111111111111,
              "#482878"
             ],
             [
              0.2222222222222222,
              "#3e4989"
             ],
             [
              0.3333333333333333,
              "#31688e"
             ],
             [
              0.4444444444444444,
              "#26828e"
             ],
             [
              0.5555555555555556,
              "#1f9e89"
             ],
             [
              0.6666666666666666,
              "#35b779"
             ],
             [
              0.7777777777777778,
              "#6ece58"
             ],
             [
              0.8888888888888888,
              "#b5de2b"
             ],
             [
              1,
              "#fde725"
             ]
            ],
            "type": "heatmap"
           }
          ],
          "heatmapgl": [
           {
            "colorbar": {
             "outlinewidth": 1,
             "tickcolor": "rgb(36,36,36)",
             "ticks": "outside"
            },
            "colorscale": [
             [
              0,
              "#440154"
             ],
             [
              0.1111111111111111,
              "#482878"
             ],
             [
              0.2222222222222222,
              "#3e4989"
             ],
             [
              0.3333333333333333,
              "#31688e"
             ],
             [
              0.4444444444444444,
              "#26828e"
             ],
             [
              0.5555555555555556,
              "#1f9e89"
             ],
             [
              0.6666666666666666,
              "#35b779"
             ],
             [
              0.7777777777777778,
              "#6ece58"
             ],
             [
              0.8888888888888888,
              "#b5de2b"
             ],
             [
              1,
              "#fde725"
             ]
            ],
            "type": "heatmapgl"
           }
          ],
          "histogram": [
           {
            "marker": {
             "line": {
              "color": "white",
              "width": 0.6
             }
            },
            "type": "histogram"
           }
          ],
          "histogram2d": [
           {
            "colorbar": {
             "outlinewidth": 1,
             "tickcolor": "rgb(36,36,36)",
             "ticks": "outside"
            },
            "colorscale": [
             [
              0,
              "#440154"
             ],
             [
              0.1111111111111111,
              "#482878"
             ],
             [
              0.2222222222222222,
              "#3e4989"
             ],
             [
              0.3333333333333333,
              "#31688e"
             ],
             [
              0.4444444444444444,
              "#26828e"
             ],
             [
              0.5555555555555556,
              "#1f9e89"
             ],
             [
              0.6666666666666666,
              "#35b779"
             ],
             [
              0.7777777777777778,
              "#6ece58"
             ],
             [
              0.8888888888888888,
              "#b5de2b"
             ],
             [
              1,
              "#fde725"
             ]
            ],
            "type": "histogram2d"
           }
          ],
          "histogram2dcontour": [
           {
            "colorbar": {
             "outlinewidth": 1,
             "tickcolor": "rgb(36,36,36)",
             "ticks": "outside"
            },
            "colorscale": [
             [
              0,
              "#440154"
             ],
             [
              0.1111111111111111,
              "#482878"
             ],
             [
              0.2222222222222222,
              "#3e4989"
             ],
             [
              0.3333333333333333,
              "#31688e"
             ],
             [
              0.4444444444444444,
              "#26828e"
             ],
             [
              0.5555555555555556,
              "#1f9e89"
             ],
             [
              0.6666666666666666,
              "#35b779"
             ],
             [
              0.7777777777777778,
              "#6ece58"
             ],
             [
              0.8888888888888888,
              "#b5de2b"
             ],
             [
              1,
              "#fde725"
             ]
            ],
            "type": "histogram2dcontour"
           }
          ],
          "mesh3d": [
           {
            "colorbar": {
             "outlinewidth": 1,
             "tickcolor": "rgb(36,36,36)",
             "ticks": "outside"
            },
            "type": "mesh3d"
           }
          ],
          "parcoords": [
           {
            "line": {
             "colorbar": {
              "outlinewidth": 1,
              "tickcolor": "rgb(36,36,36)",
              "ticks": "outside"
             }
            },
            "type": "parcoords"
           }
          ],
          "pie": [
           {
            "automargin": true,
            "type": "pie"
           }
          ],
          "scatter": [
           {
            "marker": {
             "colorbar": {
              "outlinewidth": 1,
              "tickcolor": "rgb(36,36,36)",
              "ticks": "outside"
             }
            },
            "type": "scatter"
           }
          ],
          "scatter3d": [
           {
            "line": {
             "colorbar": {
              "outlinewidth": 1,
              "tickcolor": "rgb(36,36,36)",
              "ticks": "outside"
             }
            },
            "marker": {
             "colorbar": {
              "outlinewidth": 1,
              "tickcolor": "rgb(36,36,36)",
              "ticks": "outside"
             }
            },
            "type": "scatter3d"
           }
          ],
          "scattercarpet": [
           {
            "marker": {
             "colorbar": {
              "outlinewidth": 1,
              "tickcolor": "rgb(36,36,36)",
              "ticks": "outside"
             }
            },
            "type": "scattercarpet"
           }
          ],
          "scattergeo": [
           {
            "marker": {
             "colorbar": {
              "outlinewidth": 1,
              "tickcolor": "rgb(36,36,36)",
              "ticks": "outside"
             }
            },
            "type": "scattergeo"
           }
          ],
          "scattergl": [
           {
            "marker": {
             "colorbar": {
              "outlinewidth": 1,
              "tickcolor": "rgb(36,36,36)",
              "ticks": "outside"
             }
            },
            "type": "scattergl"
           }
          ],
          "scattermapbox": [
           {
            "marker": {
             "colorbar": {
              "outlinewidth": 1,
              "tickcolor": "rgb(36,36,36)",
              "ticks": "outside"
             }
            },
            "type": "scattermapbox"
           }
          ],
          "scatterpolar": [
           {
            "marker": {
             "colorbar": {
              "outlinewidth": 1,
              "tickcolor": "rgb(36,36,36)",
              "ticks": "outside"
             }
            },
            "type": "scatterpolar"
           }
          ],
          "scatterpolargl": [
           {
            "marker": {
             "colorbar": {
              "outlinewidth": 1,
              "tickcolor": "rgb(36,36,36)",
              "ticks": "outside"
             }
            },
            "type": "scatterpolargl"
           }
          ],
          "scatterternary": [
           {
            "marker": {
             "colorbar": {
              "outlinewidth": 1,
              "tickcolor": "rgb(36,36,36)",
              "ticks": "outside"
             }
            },
            "type": "scatterternary"
           }
          ],
          "surface": [
           {
            "colorbar": {
             "outlinewidth": 1,
             "tickcolor": "rgb(36,36,36)",
             "ticks": "outside"
            },
            "colorscale": [
             [
              0,
              "#440154"
             ],
             [
              0.1111111111111111,
              "#482878"
             ],
             [
              0.2222222222222222,
              "#3e4989"
             ],
             [
              0.3333333333333333,
              "#31688e"
             ],
             [
              0.4444444444444444,
              "#26828e"
             ],
             [
              0.5555555555555556,
              "#1f9e89"
             ],
             [
              0.6666666666666666,
              "#35b779"
             ],
             [
              0.7777777777777778,
              "#6ece58"
             ],
             [
              0.8888888888888888,
              "#b5de2b"
             ],
             [
              1,
              "#fde725"
             ]
            ],
            "type": "surface"
           }
          ],
          "table": [
           {
            "cells": {
             "fill": {
              "color": "rgb(237,237,237)"
             },
             "line": {
              "color": "white"
             }
            },
            "header": {
             "fill": {
              "color": "rgb(217,217,217)"
             },
             "line": {
              "color": "white"
             }
            },
            "type": "table"
           }
          ]
         },
         "layout": {
          "annotationdefaults": {
           "arrowhead": 0,
           "arrowwidth": 1
          },
          "autotypenumbers": "strict",
          "coloraxis": {
           "colorbar": {
            "outlinewidth": 1,
            "tickcolor": "rgb(36,36,36)",
            "ticks": "outside"
           }
          },
          "colorscale": {
           "diverging": [
            [
             0,
             "rgb(103,0,31)"
            ],
            [
             0.1,
             "rgb(178,24,43)"
            ],
            [
             0.2,
             "rgb(214,96,77)"
            ],
            [
             0.3,
             "rgb(244,165,130)"
            ],
            [
             0.4,
             "rgb(253,219,199)"
            ],
            [
             0.5,
             "rgb(247,247,247)"
            ],
            [
             0.6,
             "rgb(209,229,240)"
            ],
            [
             0.7,
             "rgb(146,197,222)"
            ],
            [
             0.8,
             "rgb(67,147,195)"
            ],
            [
             0.9,
             "rgb(33,102,172)"
            ],
            [
             1,
             "rgb(5,48,97)"
            ]
           ],
           "sequential": [
            [
             0,
             "#440154"
            ],
            [
             0.1111111111111111,
             "#482878"
            ],
            [
             0.2222222222222222,
             "#3e4989"
            ],
            [
             0.3333333333333333,
             "#31688e"
            ],
            [
             0.4444444444444444,
             "#26828e"
            ],
            [
             0.5555555555555556,
             "#1f9e89"
            ],
            [
             0.6666666666666666,
             "#35b779"
            ],
            [
             0.7777777777777778,
             "#6ece58"
            ],
            [
             0.8888888888888888,
             "#b5de2b"
            ],
            [
             1,
             "#fde725"
            ]
           ],
           "sequentialminus": [
            [
             0,
             "#440154"
            ],
            [
             0.1111111111111111,
             "#482878"
            ],
            [
             0.2222222222222222,
             "#3e4989"
            ],
            [
             0.3333333333333333,
             "#31688e"
            ],
            [
             0.4444444444444444,
             "#26828e"
            ],
            [
             0.5555555555555556,
             "#1f9e89"
            ],
            [
             0.6666666666666666,
             "#35b779"
            ],
            [
             0.7777777777777778,
             "#6ece58"
            ],
            [
             0.8888888888888888,
             "#b5de2b"
            ],
            [
             1,
             "#fde725"
            ]
           ]
          },
          "colorway": [
           "#1F77B4",
           "#FF7F0E",
           "#2CA02C",
           "#D62728",
           "#9467BD",
           "#8C564B",
           "#E377C2",
           "#7F7F7F",
           "#BCBD22",
           "#17BECF"
          ],
          "font": {
           "color": "rgb(36,36,36)"
          },
          "geo": {
           "bgcolor": "white",
           "lakecolor": "white",
           "landcolor": "white",
           "showlakes": true,
           "showland": true,
           "subunitcolor": "white"
          },
          "hoverlabel": {
           "align": "left"
          },
          "hovermode": "closest",
          "mapbox": {
           "style": "light"
          },
          "paper_bgcolor": "white",
          "plot_bgcolor": "white",
          "polar": {
           "angularaxis": {
            "gridcolor": "rgb(232,232,232)",
            "linecolor": "rgb(36,36,36)",
            "showgrid": false,
            "showline": true,
            "ticks": "outside"
           },
           "bgcolor": "white",
           "radialaxis": {
            "gridcolor": "rgb(232,232,232)",
            "linecolor": "rgb(36,36,36)",
            "showgrid": false,
            "showline": true,
            "ticks": "outside"
           }
          },
          "scene": {
           "xaxis": {
            "backgroundcolor": "white",
            "gridcolor": "rgb(232,232,232)",
            "gridwidth": 2,
            "linecolor": "rgb(36,36,36)",
            "showbackground": true,
            "showgrid": false,
            "showline": true,
            "ticks": "outside",
            "zeroline": false,
            "zerolinecolor": "rgb(36,36,36)"
           },
           "yaxis": {
            "backgroundcolor": "white",
            "gridcolor": "rgb(232,232,232)",
            "gridwidth": 2,
            "linecolor": "rgb(36,36,36)",
            "showbackground": true,
            "showgrid": false,
            "showline": true,
            "ticks": "outside",
            "zeroline": false,
            "zerolinecolor": "rgb(36,36,36)"
           },
           "zaxis": {
            "backgroundcolor": "white",
            "gridcolor": "rgb(232,232,232)",
            "gridwidth": 2,
            "linecolor": "rgb(36,36,36)",
            "showbackground": true,
            "showgrid": false,
            "showline": true,
            "ticks": "outside",
            "zeroline": false,
            "zerolinecolor": "rgb(36,36,36)"
           }
          },
          "shapedefaults": {
           "fillcolor": "black",
           "line": {
            "width": 0
           },
           "opacity": 0.3
          },
          "ternary": {
           "aaxis": {
            "gridcolor": "rgb(232,232,232)",
            "linecolor": "rgb(36,36,36)",
            "showgrid": false,
            "showline": true,
            "ticks": "outside"
           },
           "baxis": {
            "gridcolor": "rgb(232,232,232)",
            "linecolor": "rgb(36,36,36)",
            "showgrid": false,
            "showline": true,
            "ticks": "outside"
           },
           "bgcolor": "white",
           "caxis": {
            "gridcolor": "rgb(232,232,232)",
            "linecolor": "rgb(36,36,36)",
            "showgrid": false,
            "showline": true,
            "ticks": "outside"
           }
          },
          "title": {
           "x": 0.05
          },
          "xaxis": {
           "automargin": true,
           "gridcolor": "rgb(232,232,232)",
           "linecolor": "rgb(36,36,36)",
           "showgrid": false,
           "showline": true,
           "ticks": "outside",
           "title": {
            "standoff": 15
           },
           "zeroline": false,
           "zerolinecolor": "rgb(36,36,36)"
          },
          "yaxis": {
           "automargin": true,
           "gridcolor": "rgb(232,232,232)",
           "linecolor": "rgb(36,36,36)",
           "showgrid": false,
           "showline": true,
           "ticks": "outside",
           "title": {
            "standoff": 15
           },
           "zeroline": false,
           "zerolinecolor": "rgb(36,36,36)"
          }
         }
        },
        "title": {
         "text": "Distribution of Bioactivity for Purified Compounds"
        },
        "width": 1000,
        "xaxis": {
         "anchor": "y",
         "domain": [
          0,
          1
         ],
         "showgrid": true,
         "title": {
          "text": " Mean IC50 (nM)"
         },
         "type": "log"
        },
        "yaxis": {
         "anchor": "x",
         "categoryarray": [
          "Top 20 ML Compounds",
          "Top 20 Crude Compounds"
         ],
         "categoryorder": "array",
         "domain": [
          0,
          1
         ],
         "title": {
          "text": ""
         }
        }
       }
      }
     },
     "metadata": {},
     "output_type": "display_data"
    }
   ],
   "source": [
    "import time\n",
    "\n",
    "df_ic50 = df_cdd_3.query('Data != \"False Negative\"').groupby('Molecule Name').mean()*1000\n",
    "df_ic50['SMILES'] = df_cdd_3.groupby('Molecule Name')['SMILES'].first()\n",
    "df_ic50['Data'] = df_cdd_3.groupby('Molecule Name')['Data'].first()\n",
    "\n",
    "# set index as column\n",
    "df_ic50 = df_ic50.reset_index(level=0)\n",
    "df_ic50 = df_ic50.round(1)\n",
    "\n",
    "df_max = df_cdd_3.query('Data != \"False Negative\"').groupby(\n",
    "    'Molecule Name').max()*1000\n",
    "df_max.rename(columns={'IC50': 'IC50_max'}, inplace=True)\n",
    "df_max = df_max.reset_index(level=0)\n",
    "\n",
    "df_min = df_cdd_3.query('Data != \"False Negative\"').groupby(\n",
    "    'Molecule Name').min()*1000\n",
    "df_min.rename(columns={'IC50': 'IC50_min'}, inplace=True)\n",
    "df_min = df_min.reset_index(level=0)\n",
    "\n",
    "# set index as column\n",
    "# df_std = df_std.round(1)\n",
    "\n",
    "df_ic50['max_error'] = df_max['IC50_max'] - df_ic50['IC50']\n",
    "df_ic50['min_error'] = df_ic50['IC50'] - df_min['IC50_min']\n",
    "newnames = {'Top 20': 'Top 20 Crude Compounds',\n",
    "            'Enamine Amide': 'Top 20 ML Compounds',}\n",
    "df_ic50\n",
    "df_ic50.Data = df_ic50.Data.map(newnames)\n",
    "fig = px.scatter(df_ic50, \n",
    "               x=\"IC50\",\n",
    "            #    error_x=\"max_error\",\n",
    "            #    error_x_minus=\"min_error\",\n",
    "               y='Data',\n",
    "               color=\"Data\",\n",
    "               log_x=True, \n",
    "               labels = {'IC50':' Mean IC50 (nM)',\n",
    "                         'Data': ''},\n",
    "               title='Distribution of Bioactivity for Purified Compounds',\n",
    "            #    category_orders={\"Data\": [\n",
    "            #        \"Top 20\", \"Enamine Amide\", \"False Negative\"]},\n",
    "               hover_name='Molecule Name',\n",
    "               template='simple_white',\n",
    "               width=1000)\n",
    "fig.update_xaxes(showgrid=True)\n",
    "fig.update_layout(showlegend=False)\n",
    "fig.write_image('strip_plot.pdf')\n",
    "time.sleep(2)\n",
    "fig.write_image('strip_plot.pdf')\n",
    "fig.show()\n"
   ]
  },
  {
   "cell_type": "code",
   "execution_count": 18,
   "metadata": {},
   "outputs": [
    {
     "data": {
      "text/html": [
       "\n",
       "        <iframe\n",
       "            width=\"1000\"\n",
       "            height=\"650\"\n",
       "            src=\"http://127.0.0.1:8011/\"\n",
       "            frameborder=\"0\"\n",
       "            allowfullscreen\n",
       "            \n",
       "        ></iframe>\n",
       "        "
      ],
      "text/plain": [
       "<IPython.lib.display.IFrame at 0x7fa840107490>"
      ]
     },
     "metadata": {},
     "output_type": "display_data"
    }
   ],
   "source": [
    "strip_app = molplotly.add_molecules(fig,\n",
    "                                    df_ic50,\n",
    "                                    smiles_col='SMILES',\n",
    "                                    color_col='Data',\n",
    "                                    title_col='Molecule Name',\n",
    "                                    svg_size=400,\n",
    "                                    width=300)\n",
    "strip_app.run_server(port=8011,mode='inline', width=1000)"
   ]
  },
  {
   "cell_type": "code",
   "execution_count": 19,
   "metadata": {},
   "outputs": [
    {
     "data": {
      "text/plain": [
       "21"
      ]
     },
     "execution_count": 19,
     "metadata": {},
     "output_type": "execute_result"
    }
   ],
   "source": [
    "len(df_cdd_3.query('Data == \"Top 20\"')['Molecule Name'].unique())"
   ]
  },
  {
   "cell_type": "code",
   "execution_count": 20,
   "metadata": {},
   "outputs": [
    {
     "data": {
      "text/plain": [
       "19"
      ]
     },
     "execution_count": 20,
     "metadata": {},
     "output_type": "execute_result"
    }
   ],
   "source": [
    "len(df_cdd_3.query('Data == \"Enamine Amide\"')['Molecule Name'].unique())"
   ]
  },
  {
   "cell_type": "code",
   "execution_count": 21,
   "metadata": {},
   "outputs": [
    {
     "data": {
      "text/plain": [
       "4"
      ]
     },
     "execution_count": 21,
     "metadata": {},
     "output_type": "execute_result"
    }
   ],
   "source": [
    "len(df_cdd_all.query('Data == \"False Negative\"')['Molecule Name'].unique())\n"
   ]
  }
 ],
 "metadata": {
  "kernelspec": {
   "display_name": "Python 3.10.0 ('noisy_amide')",
   "language": "python",
   "name": "python3"
  },
  "language_info": {
   "codemirror_mode": {
    "name": "ipython",
    "version": 3
   },
   "file_extension": ".py",
   "mimetype": "text/x-python",
   "name": "python",
   "nbconvert_exporter": "python",
   "pygments_lexer": "ipython3",
   "version": "3.10.0"
  },
  "orig_nbformat": 4,
  "vscode": {
   "interpreter": {
    "hash": "b42c6d3c02a83a6d9abf245c57d771096a6e46f51733ba3bb0b5555987c52882"
   }
  }
 },
 "nbformat": 4,
 "nbformat_minor": 2
}
